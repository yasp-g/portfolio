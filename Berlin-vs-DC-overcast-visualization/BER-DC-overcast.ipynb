{
  "cells": [
    {
      "cell_type": "markdown",
      "metadata": {
        "id": "view-in-github",
        "colab_type": "text"
      },
      "source": [
        "<a href=\"https://colab.research.google.com/github/yasp-g/portfolio/blob/main/Berlin-vs-DC-overcast-visualization/BER-DC-overcast.ipynb\" target=\"_parent\"><img src=\"https://colab.research.google.com/assets/colab-badge.svg\" alt=\"Open In Colab\"/></a>"
      ]
    },
    {
      "cell_type": "markdown",
      "metadata": {
        "id": "LcxHF7F_ATv-"
      },
      "source": [
        "# Becoming an Independent Data Scientist"
      ]
    },
    {
      "cell_type": "markdown",
      "metadata": {
        "id": "GBvEogI7BH5J"
      },
      "source": [
        "## 1. Region and Domain\n",
        "\n",
        "The region and domain of interest for the project are: **Berlin, Germany** and **weather or climatological events**."
      ]
    },
    {
      "cell_type": "markdown",
      "metadata": {
        "id": "8ko4r3kzBgdV"
      },
      "source": [
        "## 2. Research Question\n",
        "\n",
        "How do overcast rates in Berlin, Germany compare to rates in Washington, D.C., United States?"
      ]
    },
    {
      "cell_type": "markdown",
      "metadata": {
        "id": "taHSMBpbBwit"
      },
      "source": [
        "## 3. Data Sources\n",
        "\n",
        "### Germany data:\n",
        "\n",
        "\n",
        "- Climatological data found using Deutsche Wetterdienst's (German Weather Service) [Climate Data Center](https://www.dwd.de/DE/klimaumwelt/cdc/cdc_node.html).\n",
        "\n",
        "  - Berlin Alexanderplatz sun (from 2015 to present):\n",
        "https://opendata.dwd.de/climate_environment/CDC/observations_germany/climate_urban/hourly/sun/recent/\n",
        "\n",
        "- Historical sunrise and sunset time data found using [sunrise.maplogs.com](https://sunrise.maplogs.com/)\n",
        "\n",
        "\n",
        "### Washington, DC data:\n",
        "\n",
        "- Climatological data found using [Visual Crossing's Weather Data database](https://www.visualcrossing.com/weather-data).\n",
        "\n",
        "- Historical sunrise and sunset time data found using National Oceanic and Atmospheric Administration's [Local Climatological Data tool](https://www.ncdc.noaa.gov/cdo-web/datatools/lcd).\n",
        "\n",
        "\n",
        "\n"
      ]
    },
    {
      "cell_type": "markdown",
      "metadata": {
        "id": "oLyoqAAcB4X-"
      },
      "source": [
        "## 4. Image\n",
        "\n",
        "![Berlin vs Washington, D.C. Average Overcast (2016-2021)](https://drive.google.com/uc?export=view&id=1DMtNE2d81c1JBWyDEB2dVZ8ACpEKph_M)\n"
      ]
    },
    {
      "cell_type": "markdown",
      "metadata": {
        "id": "am8E6AreB6Ud"
      },
      "source": [
        "## 5. Discussion\n",
        "\n",
        "The goal of this project was to compare overcast rates between Berlin, Germany, and Washington, D.C., United States. The visualization has two subplots, one comparing overcast percentages and one comparing average daily minutes of sunshine. Both subplots show data that is averaged by month, and the data for both cities is from 2016-2021. The data for Berlin was found in the Deutsche Wetterdienst's (German Weather Service’s) Climate Data Center. The DWD’s CDC has an “Open Data” remote directory, where extensive climatological data is made available to the public for free. Berlin’s relevant data was found in the form of “sunshine duration”, the minutes of sunshine recording during a given one-hour time period. Washington, D.C.’s data was queried and loaded using Visual Crossing’s Weather Data database. Visual Crossing maintains an extensive database of weather data from across the globe. Washington, D.C.’s relevant data was provided in the form of “cloud cover”, the amount of sky that is covered by clouds in a given one-hour time period, expressed as a percentage. Sunrise and Sunset times were also needed and were found using [sunrise.maplogs.com](https://sunrise.maplogs.com/) (Berlin) and the National Oceanic and Atmospheric Administration's [Local Climatological Data tool](https://www.ncdc.noaa.gov/cdo-web/datatools/lcd) (D.C.).\n",
        "\n",
        "The figure shows that Berlin experiences significantly more overcast than D.C. throughout the year, especially during the winter months. Only in April does Berlin have clearer skies than D.C. Berlin’s cloud cover percentage varies much more than D.C.’s, with a maximum value of 91.8% (December) and a minimum value of 61.3% (April). Comparatively, D.C.’s cloud cover percentage is quite consistent, ranging between a maximum of 70.5% (February) to a minimum of 58.6% (July). Similarly, D.C. averages more minutes of sunshine throughout the year, but surprisingly, Berlin averages more sunshine for three straight months between April and June. Both cities have similar maximum values (approx. 350 min.) but Berlin’s minimum is much lower than D.C.s (approx. 50 min., approx 175 min.)."
      ]
    },
    {
      "cell_type": "markdown",
      "metadata": {
        "id": "Xsxtnoa3WuMr"
      },
      "source": [
        "# Method"
      ]
    },
    {
      "cell_type": "markdown",
      "metadata": {
        "id": "e2HiL4WrW9KE"
      },
      "source": [
        "## Notebook Setup\n",
        "\n",
        "### Mount google drive"
      ]
    },
    {
      "cell_type": "code",
      "execution_count": null,
      "metadata": {
        "id": "pYcEcC4sRmK3",
        "colab": {
          "base_uri": "https://localhost:8080/"
        },
        "outputId": "52773735-cec2-4ee9-9d98-00ab00c416a1"
      },
      "outputs": [
        {
          "output_type": "stream",
          "name": "stdout",
          "text": [
            "Drive already mounted at /content/drive; to attempt to forcibly remount, call drive.mount(\"/content/drive\", force_remount=True).\n"
          ]
        }
      ],
      "source": [
        "from google.colab import drive\n",
        "drive.mount('/content/drive')"
      ]
    },
    {
      "cell_type": "markdown",
      "metadata": {
        "id": "zHg1tMOCXKm_"
      },
      "source": [
        "### Download and import necessary libraries"
      ]
    },
    {
      "cell_type": "code",
      "execution_count": null,
      "metadata": {
        "id": "9FY-Z3RA5Y8S"
      },
      "outputs": [],
      "source": [
        "%%capture\n",
        "!pip install remotezip"
      ]
    },
    {
      "cell_type": "code",
      "execution_count": null,
      "metadata": {
        "id": "eNiwaS1OrpQJ"
      },
      "outputs": [],
      "source": [
        "import pandas as pd\n",
        "import numpy as np\n",
        "import datetime\n",
        "from remotezip import RemoteZip\n",
        "from itertools import groupby as iter_groupby\n",
        "from operator import itemgetter\n",
        "\n",
        "# %matplotlib notebook\n",
        "import matplotlib.pyplot as plt\n",
        "from matplotlib.collections import LineCollection\n",
        "import seaborn as sns\n",
        "sns.set_theme(style='darkgrid')"
      ]
    },
    {
      "cell_type": "markdown",
      "metadata": {
        "id": "56-AaiYlXPkX"
      },
      "source": [
        "## Load data"
      ]
    },
    {
      "cell_type": "markdown",
      "metadata": {
        "id": "iFRKBd2xXTr8"
      },
      "source": [
        "### Berlin Data\n",
        "\n",
        "The Berlin data was found from Germany's Deutsche Wetterdienst [Climate Data Center](https://www.dwd.de/DE/klimaumwelt/cdc/cdc_node.html). The CDC offers open access to a wide range of weather data all across Germany. One of the available weather stations is station ID 0399, in Berlin Alexanderplatz. This data is available in a remote directory, from which, sunshine duration (minutes) during each hour as far back as November 20th, 2015 is loaded below.\n",
        "\n",
        "This data will be loaded as `df_ber`.\n",
        "\n",
        "Sunrise and sunset data will also be needed. This was found on https://sunrise.maplogs.com.\n",
        "\n",
        "This data will be loaded as `df_BERriseset`.\n"
      ]
    },
    {
      "cell_type": "code",
      "execution_count": null,
      "metadata": {
        "id": "WunmBCKF4Mfb"
      },
      "outputs": [],
      "source": [
        "# define url of zipfile\n",
        "zip_name = \"https://opendata.dwd.de/climate_environment/CDC/observations_germany/climate_urban/hourly/sun/recent/stundenwerte_sun_399_akt.zip\"\n",
        "\n",
        "# use RemoteZip to unpack and load .txt datafile from remote directory\n",
        "with RemoteZip(zip_name) as ziploc:\n",
        "    for zip_info in ziploc.infolist():\n",
        "        # print(zip_info.filename)\n",
        "        pass\n",
        "    ziploc.extract('produkt_sun_399_akt.txt')"
      ]
    },
    {
      "cell_type": "code",
      "execution_count": null,
      "metadata": {
        "id": "pG36nogtsCUg"
      },
      "outputs": [],
      "source": [
        "# read data from file\n",
        "df_ber = pd.read_csv('produkt_sun_399_akt.txt', sep=';')\n",
        "\n",
        "# strip whitespace from columns and drop 'eor' column\n",
        "df_ber.rename(columns=lambda x: x.strip(), inplace=True)\n",
        "df_ber.drop('eor', axis=1, inplace=True)\n",
        "# df_ber.info()"
      ]
    },
    {
      "cell_type": "code",
      "execution_count": null,
      "metadata": {
        "id": "F-KCjWEmNGia"
      },
      "outputs": [],
      "source": [
        "# load data for df_BERriseset\n",
        "df_BERriseset = pd.read_csv('/content/drive/MyDrive/Colab Notebooks/Coursera Courses/Applied Data Science with Python Specialization - U Michigan/2. Applied Plotting, Charting & Data Representation in Python/Assignments/Assignment 4/Data/Berlin data/Sunshine/Sunrise&set_maplogsdotcom.csv')\n",
        "# df_BERriseset"
      ]
    },
    {
      "cell_type": "markdown",
      "metadata": {
        "id": "8P95jwRBcnY0"
      },
      "source": [
        "### DC Data\n",
        "\n",
        "DC climatological data was found using Visual Crossing's [Weather Data database](https://www.visualcrossing.com/weather-data). From this database, climatological data near Washington, DC for the years 2015 to 2021 was queired and loaded below. In this queiered data is \"cloudcover\" as a percent, for every hour of every day. Information on the exact weather station location is not provided.\n",
        "\n",
        "This data will be loaded as `df_dc`.\n",
        "\n",
        "Because cloudcover accounts for clouds during the night, sunrise and sunset data will also be needed. This was found using the National Oceanic and Atmospheric Administration's [Local Climatological Data tool](https://www.ncdc.noaa.gov/cdo-web/datatools/lcd). This data was recorded by the weather station at Washington Reagan National Airport.\n",
        "\n",
        "This data will be loaded as `df_DCriseset`."
      ]
    },
    {
      "cell_type": "code",
      "execution_count": null,
      "metadata": {
        "id": "PqTtY_hvf5aB"
      },
      "outputs": [],
      "source": [
        "# define file path and names\n",
        "drive_path = '/content/drive/MyDrive/Colab Notebooks/Coursera Courses/Applied Data Science with Python Specialization - U Michigan/2. Applied Plotting, Charting & Data Representation in Python/Assignments/Assignment 4/Data/DC data/'\n",
        "dc1_file = 'washington_dc climatological 2015 to 2017.csv'\n",
        "dc2_file = 'washington_dc climatological 2018 to 2021.csv'\n",
        "\n",
        "# read files\n",
        "df_dc1 = pd.read_csv(drive_path + dc1_file)\n",
        "df_dc2 = pd.read_csv(drive_path + dc2_file)\n"
      ]
    },
    {
      "cell_type": "code",
      "execution_count": null,
      "metadata": {
        "id": "zcxMz5g7WQI6"
      },
      "outputs": [],
      "source": [
        "df_dc = pd.concat([df_dc1, df_dc2], ignore_index=True)\n",
        "# df_dc.info()"
      ]
    },
    {
      "cell_type": "code",
      "execution_count": null,
      "metadata": {
        "id": "wgjte4L1N6qP",
        "colab": {
          "base_uri": "https://localhost:8080/"
        },
        "outputId": "399fa36f-650a-415d-8cb1-a817acf280ef"
      },
      "outputs": [
        {
          "output_type": "stream",
          "name": "stderr",
          "text": [
            "/usr/local/lib/python3.8/dist-packages/IPython/core/interactiveshell.py:3326: DtypeWarning: Columns (35,36,42,43,44,50,52,74,76,77,90) have mixed types.Specify dtype option on import or set low_memory=False.\n",
            "  exec(code_obj, self.user_global_ns, self.user_ns)\n"
          ]
        }
      ],
      "source": [
        "# load data for df_DCriseset\n",
        "dc3_file = 'NOAA LCD washington daily data.csv'\n",
        "df_DCriseset = pd.read_csv(drive_path + dc3_file)"
      ]
    },
    {
      "cell_type": "markdown",
      "metadata": {
        "id": "ilNPleHKfPnT"
      },
      "source": [
        "### Filter dataframe columns and rename"
      ]
    },
    {
      "cell_type": "code",
      "execution_count": null,
      "metadata": {
        "id": "A-f6GwkmejoU"
      },
      "outputs": [],
      "source": [
        "df_ber = df_ber[['MESS_DATUM', 'SONNENSCHEINDAUER']]\n",
        "df_ber = df_ber.rename(columns={'MESS_DATUM': 'datetime', 'SONNENSCHEINDAUER': 'sunduration'})\n",
        "\n",
        "df_dc = df_dc[['datetime', 'cloudcover']]\n",
        "\n",
        "df_BERriseset = df_BERriseset.rename(columns={'Date': 'datetime', 'Sunrise': 'sunrise_BER', 'Sunset': 'sunset_BER', 'Daylength': 'daylength_BER'})\n",
        "\n",
        "df_DCriseset = df_DCriseset[['DATE', 'Sunrise', 'Sunset']].dropna().reset_index(drop=True)\n",
        "df_DCriseset = df_DCriseset.rename(columns={'DATE': 'datetime', 'Sunrise': 'sunrise_DC', 'Sunset': 'sunset_DC'})"
      ]
    },
    {
      "cell_type": "code",
      "execution_count": null,
      "metadata": {
        "id": "-cHMW2y4fB8R"
      },
      "outputs": [],
      "source": [
        "# df_ber, df_dc"
      ]
    },
    {
      "cell_type": "markdown",
      "metadata": {
        "id": "Nn4U2Bt1gR09"
      },
      "source": [
        "## Data Cleaning\n",
        "\n",
        "`df_ber` and `df_dc` are different lengths, and neither has length equal to the number of hours in the intended range (begining of 2016 to end of 2021) which is 52560."
      ]
    },
    {
      "cell_type": "markdown",
      "metadata": {
        "id": "_dOhRrB2hhkR"
      },
      "source": [
        "### Standardize datetime columns"
      ]
    },
    {
      "cell_type": "code",
      "execution_count": null,
      "metadata": {
        "id": "cySIW9_Rhgo3"
      },
      "outputs": [],
      "source": [
        "df_ber['datetime'] = pd.to_datetime(df_ber['datetime'], format='%Y%m%d%H')\n",
        "df_ber.sort_values('datetime', inplace=True)\n",
        "\n",
        "df_dc['datetime'] = pd.to_datetime(df_dc['datetime'])\n",
        "df_dc.sort_values('datetime', inplace=True)\n",
        "\n",
        "df_BERriseset['datetime'] = pd.to_datetime(df_BERriseset['datetime'])\n",
        "\n",
        "df_DCriseset['datetime'] = df_DCriseset['datetime'].str.split('T').str[0]\n",
        "df_DCriseset['datetime'] = pd.to_datetime(df_DCriseset['datetime'])"
      ]
    },
    {
      "cell_type": "markdown",
      "metadata": {
        "id": "Bxq6qdjdlSzg"
      },
      "source": [
        "### Filter date range and add year, month, day, hour columns"
      ]
    },
    {
      "cell_type": "code",
      "execution_count": null,
      "metadata": {
        "id": "5rdPVFCClV7Z",
        "colab": {
          "base_uri": "https://localhost:8080/"
        },
        "outputId": "1ca68aa0-e5c7-43fb-b2e6-4a8a716ead68"
      },
      "outputs": [
        {
          "output_type": "execute_result",
          "data": {
            "text/plain": [
              "(50269, 52608, 2192, 2192)"
            ]
          },
          "metadata": {},
          "execution_count": 13
        }
      ],
      "source": [
        "startdate = pd.to_datetime('1/1/2016')\n",
        "enddate = pd.to_datetime('1/1/2022')\n",
        "\n",
        "df_ber = df_ber[(df_ber['datetime'] >= startdate) & (df_ber['datetime'] < enddate)].reset_index(drop=True)\n",
        "df_dc = df_dc[(df_dc['datetime'] >= startdate) & (df_dc['datetime'] < enddate)].reset_index(drop=True)\n",
        "\n",
        "len(df_ber), len(df_dc), len(df_BERriseset), len(df_DCriseset)"
      ]
    },
    {
      "cell_type": "markdown",
      "metadata": {
        "id": "4empgnKM3gqN"
      },
      "source": [
        "### Remove Febuary 29th from data"
      ]
    },
    {
      "cell_type": "code",
      "execution_count": null,
      "metadata": {
        "id": "zLaay_bk443Y",
        "colab": {
          "base_uri": "https://localhost:8080/"
        },
        "outputId": "8697415c-5c4a-4862-909f-b1220478b189"
      },
      "outputs": [
        {
          "output_type": "execute_result",
          "data": {
            "text/plain": [
              "(50221, 52560, 2190, 2190)"
            ]
          },
          "metadata": {},
          "execution_count": 14
        }
      ],
      "source": [
        "df_ber = df_ber.drop(df_ber[(df_ber['datetime'].dt.month == 2) &\n",
        "                   (df_ber['datetime'].dt.day == 29)].index).reset_index(drop=True)\n",
        "df_dc = df_dc.drop(df_dc[(df_dc['datetime'].dt.month == 2) &\n",
        "                 (df_dc['datetime'].dt.day == 29)].index).reset_index(drop=True)\n",
        "df_BERriseset = df_BERriseset.drop(df_BERriseset[(df_BERriseset['datetime'].dt.month == 2) &\n",
        "                        (df_BERriseset['datetime'].dt.day == 29)].index).reset_index(drop=True)\n",
        "df_DCriseset = df_DCriseset.drop(df_DCriseset[(df_DCriseset['datetime'].dt.month == 2) &\n",
        "                       (df_DCriseset['datetime'].dt.day == 29)].index).reset_index(drop=True)\n",
        "\n",
        "len(df_ber), len(df_dc), len(df_BERriseset), len(df_DCriseset)"
      ]
    },
    {
      "cell_type": "markdown",
      "metadata": {
        "id": "Ai4ryKBmIs3m"
      },
      "source": [
        "### Duplicate rows found in `dc_df`\n",
        "\n",
        "During the following \"Dealing with missing rows\" section, `dc_df` was found to have dupplicate datetime instances. This needs to be fixed first."
      ]
    },
    {
      "cell_type": "code",
      "execution_count": null,
      "metadata": {
        "id": "I_lU3kqVIJCo",
        "colab": {
          "base_uri": "https://localhost:8080/"
        },
        "outputId": "45235cc1-b478-405e-cde1-409f38b40d6f"
      },
      "outputs": [
        {
          "output_type": "stream",
          "name": "stdout",
          "text": [
            "2019-11-03 01:00:00    2\n",
            "2020-11-01 01:00:00    2\n",
            "2016-11-06 01:00:00    2\n",
            "2018-11-04 01:00:00    2\n",
            "2017-11-05 01:00:00    2\n",
            "2021-11-07 01:00:00    2\n",
            "Name: datetime, dtype: int64\n"
          ]
        }
      ],
      "source": [
        "# find 'datetime' values with more than one occurance\n",
        "dc_datevc = df_dc['datetime'].value_counts()\n",
        "print(dc_datevc[dc_datevc > 1])"
      ]
    },
    {
      "cell_type": "code",
      "execution_count": null,
      "metadata": {
        "id": "TePuScalITZ4",
        "colab": {
          "base_uri": "https://localhost:8080/"
        },
        "outputId": "fda659fb-03b7-4920-d5a7-aa29156ef993"
      },
      "outputs": [
        {
          "output_type": "stream",
          "name": "stdout",
          "text": [
            "                 datetime  cloudcover\n",
            "33624 2019-11-03 01:00:00         0.0\n",
            "33625 2019-11-03 01:00:00         0.0\n",
            "                 datetime  cloudcover\n",
            "24888 2018-11-04 01:00:00         0.0\n",
            "24889 2018-11-04 01:00:00         0.0\n",
            "                datetime  cloudcover\n",
            "7416 2016-11-06 01:00:00         0.0\n",
            "7417 2016-11-06 01:00:00         0.0\n",
            "                 datetime  cloudcover\n",
            "24888 2018-11-04 01:00:00         0.0\n",
            "24889 2018-11-04 01:00:00         0.0\n",
            "                 datetime  cloudcover\n",
            "16152 2017-11-05 01:00:00       100.0\n",
            "16153 2017-11-05 01:00:00       100.0\n",
            "                 datetime  cloudcover\n",
            "51240 2021-11-07 01:00:00        79.3\n",
            "51241 2021-11-07 01:00:00        90.1\n"
          ]
        }
      ],
      "source": [
        "print(df_dc[df_dc['datetime'] == '2019-11-03 01:00:00'])\n",
        "print(df_dc[df_dc['datetime'] == '2018-11-04 01:00:00'])\n",
        "print(df_dc[df_dc['datetime'] == '2016-11-06 01:00:00'])\n",
        "print(df_dc[df_dc['datetime'] == '2018-11-04 01:00:00'])\n",
        "print(df_dc[df_dc['datetime'] == '2017-11-05 01:00:00'])\n",
        "print(df_dc[df_dc['datetime'] == '2021-11-07 01:00:00'])"
      ]
    },
    {
      "cell_type": "markdown",
      "metadata": {
        "id": "F9cjbYL1JJRN"
      },
      "source": [
        "It was already confirmed that each year had the appropriate number of values... (there are 8760 hours in a year).\n",
        "\n",
        "Shown here:"
      ]
    },
    {
      "cell_type": "code",
      "execution_count": null,
      "metadata": {
        "id": "61t2KCSMIsTN",
        "colab": {
          "base_uri": "https://localhost:8080/"
        },
        "outputId": "74e61236-189d-4744-d9fc-8923cc27f7ee"
      },
      "outputs": [
        {
          "output_type": "stream",
          "name": "stdout",
          "text": [
            "year 2016 has 8760 hours.\n",
            "year 2017 has 8760 hours.\n",
            "year 2018 has 8760 hours.\n",
            "year 2019 has 8760 hours.\n",
            "year 2020 has 8760 hours.\n",
            "year 2021 has 8760 hours.\n"
          ]
        }
      ],
      "source": [
        "for year in range(2016, 2022):\n",
        "  print(f\"year {year} has {len(df_dc[df_dc['datetime'].dt.year == year])} hours.\")"
      ]
    },
    {
      "cell_type": "markdown",
      "metadata": {
        "id": "dU5BMP-R8KqM"
      },
      "source": [
        "So, each year has the appropriate number of hour timestamps, yet every year has a duplicate timestamp in November.\n",
        "\n",
        "After some investigation, each year was found to be missing one timestamp in March:"
      ]
    },
    {
      "cell_type": "code",
      "execution_count": null,
      "metadata": {
        "id": "kfQnDbObNP35",
        "colab": {
          "base_uri": "https://localhost:8080/"
        },
        "outputId": "9591591d-b123-4f03-b472-cc4f0b0f90b5"
      },
      "outputs": [
        {
          "output_type": "execute_result",
          "data": {
            "text/plain": [
              "DatetimeIndex(['2016-03-13 02:00:00', '2017-03-12 02:00:00',\n",
              "               '2018-03-11 02:00:00', '2019-03-10 02:00:00',\n",
              "               '2020-03-08 02:00:00', '2021-03-14 02:00:00'],\n",
              "              dtype='datetime64[ns]', freq=None)"
            ]
          },
          "metadata": {},
          "execution_count": 18
        }
      ],
      "source": [
        "# create a date range with all hours in the target range\n",
        "daterange = pd.date_range(start='2016-01-01', end='2022-01-01', freq='H', closed='left')\n",
        "\n",
        "# remove leap days\n",
        "leap=[]\n",
        "for stamp in daterange:\n",
        "    if stamp.month==2 and stamp.day ==29:\n",
        "        leap.append(stamp)\n",
        "daterange = daterange.drop(leap)\n",
        "\n",
        "# this will show if any hours are missing\n",
        "daterange.difference(df_dc['datetime'])"
      ]
    },
    {
      "cell_type": "markdown",
      "metadata": {
        "id": "ZCzYDqgaChDq"
      },
      "source": [
        "At this point, the proper step would be to contact the data provider (Visual Crossing) to gain some context as to what may be causing this issue and determine a path forward together.\n",
        "\n",
        "For the sake of this project, it will be interpreted that all time stamps between the missing timestamp in March and the duplicate timestamp in November are one hour \"late\". All timestamps in this range will be shifted forwards one hour (only the first instance of a duplicated timestamp will be shifted)."
      ]
    },
    {
      "cell_type": "markdown",
      "metadata": {
        "id": "7CTdkYvADV3m"
      },
      "source": [
        "#### Shifting offset timestamps"
      ]
    },
    {
      "cell_type": "code",
      "execution_count": null,
      "metadata": {
        "id": "r2v1E9L9J3DS"
      },
      "outputs": [],
      "source": [
        "miss_times = daterange.difference(df_dc['datetime']).sort_values()\n",
        "dc_datevc = df_dc['datetime'].value_counts()\n",
        "dup_times = dc_datevc[dc_datevc > 1].index.sort_values()\n",
        "\n",
        "# iterate over zip of missing and duplicate times and shift timestamps inbetween by 1 hour\n",
        "for i in zip(miss_times, dup_times):\n",
        "  df_dc.datetime = df_dc.datetime.map(lambda x: x - pd.Timedelta(1, 'h') if\n",
        "                                      (i[0] < x) & (x < i[1]) else x)\n",
        "\n",
        "# shift the first occurance of each duplicate timestamp forward one hour\n",
        "for duplicate in dup_times:\n",
        "  if dup_times.empty:\n",
        "    break\n",
        "  index = df_dc.index[df_dc['datetime'] == duplicate][0]\n",
        "  df_dc.loc[index, 'datetime'] -=  pd.Timedelta(1, 'h')"
      ]
    },
    {
      "cell_type": "code",
      "execution_count": null,
      "metadata": {
        "id": "u6zZEeTXStr5",
        "colab": {
          "base_uri": "https://localhost:8080/"
        },
        "outputId": "348e79a2-f98e-48a3-b197-e407c548dd8b"
      },
      "outputs": [
        {
          "output_type": "execute_result",
          "data": {
            "text/plain": [
              "DatetimeIndex([], dtype='datetime64[ns]', freq=None)"
            ]
          },
          "metadata": {},
          "execution_count": 20
        }
      ],
      "source": [
        "# confirm there are now no missing timestamps\n",
        "daterange.difference(df_dc['datetime']).sort_values()"
      ]
    },
    {
      "cell_type": "code",
      "execution_count": null,
      "metadata": {
        "id": "g-Ss7yOcU5Ra",
        "colab": {
          "base_uri": "https://localhost:8080/"
        },
        "outputId": "0864c2ba-4edc-49de-e865-389ec60adebf"
      },
      "outputs": [
        {
          "output_type": "execute_result",
          "data": {
            "text/plain": [
              "2016-01-01 00:00:00    1\n",
              "2020-01-01 05:00:00    1\n",
              "2019-12-31 19:00:00    1\n",
              "2019-12-31 20:00:00    1\n",
              "2019-12-31 21:00:00    1\n",
              "                      ..\n",
              "2018-01-01 01:00:00    1\n",
              "2018-01-01 02:00:00    1\n",
              "2018-01-01 03:00:00    1\n",
              "2018-01-01 04:00:00    1\n",
              "2021-12-31 23:00:00    1\n",
              "Name: datetime, Length: 52560, dtype: int64"
            ]
          },
          "metadata": {},
          "execution_count": 21
        }
      ],
      "source": [
        "# confirm all 'datetime' values only occur once\n",
        "df_dc['datetime'].value_counts()"
      ]
    },
    {
      "cell_type": "markdown",
      "metadata": {
        "id": "TkRSoIE-8lpt"
      },
      "source": [
        "### Dealing with missing rows in `df_ber` and creating `df`\n",
        "\n",
        "`df_ber` only has 50221 rows. To make investigating this a little easier, the datetime series with all hours in the target date range created earlier will be used as the foundation of a dataframe into which, both `df_ber` and `df_dc` will be left merged. This dataframe will be called `df`."
      ]
    },
    {
      "cell_type": "code",
      "execution_count": null,
      "metadata": {
        "id": "YiEm804m02rA"
      },
      "outputs": [],
      "source": [
        "df = pd.DataFrame(daterange, columns=['datetime'])\n",
        "df = pd.merge(df, df_ber[['datetime', 'sunduration']], how='left', on='datetime')\n",
        "df = pd.merge(df, df_dc[['datetime', 'cloudcover']], how='left', on='datetime')\n",
        "df = df.rename(columns={'sunduration': 'sunduration_BER', 'cloudcover': 'cloudcover_DC'})"
      ]
    },
    {
      "cell_type": "code",
      "execution_count": null,
      "metadata": {
        "id": "__sDzcjFzIXe",
        "colab": {
          "base_uri": "https://localhost:8080/",
          "height": 424
        },
        "outputId": "c2894982-00df-4456-a136-ed180cb089e0"
      },
      "outputs": [
        {
          "output_type": "execute_result",
          "data": {
            "text/plain": [
              "                 datetime  sunduration_BER  cloudcover_DC\n",
              "0     2016-01-01 00:00:00              0.0           99.8\n",
              "1     2016-01-01 01:00:00              0.0          100.0\n",
              "2     2016-01-01 02:00:00              0.0           88.9\n",
              "3     2016-01-01 03:00:00              0.0           79.3\n",
              "4     2016-01-01 04:00:00              0.0           79.3\n",
              "...                   ...              ...            ...\n",
              "52555 2021-12-31 19:00:00              0.0           81.7\n",
              "52556 2021-12-31 20:00:00              0.0           98.3\n",
              "52557 2021-12-31 21:00:00              0.0           99.6\n",
              "52558 2021-12-31 22:00:00              0.0           99.6\n",
              "52559 2021-12-31 23:00:00              0.0           99.6\n",
              "\n",
              "[52560 rows x 3 columns]"
            ],
            "text/html": [
              "\n",
              "  <div id=\"df-01a288ea-5e50-4352-a0d8-0660dd23efad\">\n",
              "    <div class=\"colab-df-container\">\n",
              "      <div>\n",
              "<style scoped>\n",
              "    .dataframe tbody tr th:only-of-type {\n",
              "        vertical-align: middle;\n",
              "    }\n",
              "\n",
              "    .dataframe tbody tr th {\n",
              "        vertical-align: top;\n",
              "    }\n",
              "\n",
              "    .dataframe thead th {\n",
              "        text-align: right;\n",
              "    }\n",
              "</style>\n",
              "<table border=\"1\" class=\"dataframe\">\n",
              "  <thead>\n",
              "    <tr style=\"text-align: right;\">\n",
              "      <th></th>\n",
              "      <th>datetime</th>\n",
              "      <th>sunduration_BER</th>\n",
              "      <th>cloudcover_DC</th>\n",
              "    </tr>\n",
              "  </thead>\n",
              "  <tbody>\n",
              "    <tr>\n",
              "      <th>0</th>\n",
              "      <td>2016-01-01 00:00:00</td>\n",
              "      <td>0.0</td>\n",
              "      <td>99.8</td>\n",
              "    </tr>\n",
              "    <tr>\n",
              "      <th>1</th>\n",
              "      <td>2016-01-01 01:00:00</td>\n",
              "      <td>0.0</td>\n",
              "      <td>100.0</td>\n",
              "    </tr>\n",
              "    <tr>\n",
              "      <th>2</th>\n",
              "      <td>2016-01-01 02:00:00</td>\n",
              "      <td>0.0</td>\n",
              "      <td>88.9</td>\n",
              "    </tr>\n",
              "    <tr>\n",
              "      <th>3</th>\n",
              "      <td>2016-01-01 03:00:00</td>\n",
              "      <td>0.0</td>\n",
              "      <td>79.3</td>\n",
              "    </tr>\n",
              "    <tr>\n",
              "      <th>4</th>\n",
              "      <td>2016-01-01 04:00:00</td>\n",
              "      <td>0.0</td>\n",
              "      <td>79.3</td>\n",
              "    </tr>\n",
              "    <tr>\n",
              "      <th>...</th>\n",
              "      <td>...</td>\n",
              "      <td>...</td>\n",
              "      <td>...</td>\n",
              "    </tr>\n",
              "    <tr>\n",
              "      <th>52555</th>\n",
              "      <td>2021-12-31 19:00:00</td>\n",
              "      <td>0.0</td>\n",
              "      <td>81.7</td>\n",
              "    </tr>\n",
              "    <tr>\n",
              "      <th>52556</th>\n",
              "      <td>2021-12-31 20:00:00</td>\n",
              "      <td>0.0</td>\n",
              "      <td>98.3</td>\n",
              "    </tr>\n",
              "    <tr>\n",
              "      <th>52557</th>\n",
              "      <td>2021-12-31 21:00:00</td>\n",
              "      <td>0.0</td>\n",
              "      <td>99.6</td>\n",
              "    </tr>\n",
              "    <tr>\n",
              "      <th>52558</th>\n",
              "      <td>2021-12-31 22:00:00</td>\n",
              "      <td>0.0</td>\n",
              "      <td>99.6</td>\n",
              "    </tr>\n",
              "    <tr>\n",
              "      <th>52559</th>\n",
              "      <td>2021-12-31 23:00:00</td>\n",
              "      <td>0.0</td>\n",
              "      <td>99.6</td>\n",
              "    </tr>\n",
              "  </tbody>\n",
              "</table>\n",
              "<p>52560 rows × 3 columns</p>\n",
              "</div>\n",
              "      <button class=\"colab-df-convert\" onclick=\"convertToInteractive('df-01a288ea-5e50-4352-a0d8-0660dd23efad')\"\n",
              "              title=\"Convert this dataframe to an interactive table.\"\n",
              "              style=\"display:none;\">\n",
              "        \n",
              "  <svg xmlns=\"http://www.w3.org/2000/svg\" height=\"24px\"viewBox=\"0 0 24 24\"\n",
              "       width=\"24px\">\n",
              "    <path d=\"M0 0h24v24H0V0z\" fill=\"none\"/>\n",
              "    <path d=\"M18.56 5.44l.94 2.06.94-2.06 2.06-.94-2.06-.94-.94-2.06-.94 2.06-2.06.94zm-11 1L8.5 8.5l.94-2.06 2.06-.94-2.06-.94L8.5 2.5l-.94 2.06-2.06.94zm10 10l.94 2.06.94-2.06 2.06-.94-2.06-.94-.94-2.06-.94 2.06-2.06.94z\"/><path d=\"M17.41 7.96l-1.37-1.37c-.4-.4-.92-.59-1.43-.59-.52 0-1.04.2-1.43.59L10.3 9.45l-7.72 7.72c-.78.78-.78 2.05 0 2.83L4 21.41c.39.39.9.59 1.41.59.51 0 1.02-.2 1.41-.59l7.78-7.78 2.81-2.81c.8-.78.8-2.07 0-2.86zM5.41 20L4 18.59l7.72-7.72 1.47 1.35L5.41 20z\"/>\n",
              "  </svg>\n",
              "      </button>\n",
              "      \n",
              "  <style>\n",
              "    .colab-df-container {\n",
              "      display:flex;\n",
              "      flex-wrap:wrap;\n",
              "      gap: 12px;\n",
              "    }\n",
              "\n",
              "    .colab-df-convert {\n",
              "      background-color: #E8F0FE;\n",
              "      border: none;\n",
              "      border-radius: 50%;\n",
              "      cursor: pointer;\n",
              "      display: none;\n",
              "      fill: #1967D2;\n",
              "      height: 32px;\n",
              "      padding: 0 0 0 0;\n",
              "      width: 32px;\n",
              "    }\n",
              "\n",
              "    .colab-df-convert:hover {\n",
              "      background-color: #E2EBFA;\n",
              "      box-shadow: 0px 1px 2px rgba(60, 64, 67, 0.3), 0px 1px 3px 1px rgba(60, 64, 67, 0.15);\n",
              "      fill: #174EA6;\n",
              "    }\n",
              "\n",
              "    [theme=dark] .colab-df-convert {\n",
              "      background-color: #3B4455;\n",
              "      fill: #D2E3FC;\n",
              "    }\n",
              "\n",
              "    [theme=dark] .colab-df-convert:hover {\n",
              "      background-color: #434B5C;\n",
              "      box-shadow: 0px 1px 3px 1px rgba(0, 0, 0, 0.15);\n",
              "      filter: drop-shadow(0px 1px 2px rgba(0, 0, 0, 0.3));\n",
              "      fill: #FFFFFF;\n",
              "    }\n",
              "  </style>\n",
              "\n",
              "      <script>\n",
              "        const buttonEl =\n",
              "          document.querySelector('#df-01a288ea-5e50-4352-a0d8-0660dd23efad button.colab-df-convert');\n",
              "        buttonEl.style.display =\n",
              "          google.colab.kernel.accessAllowed ? 'block' : 'none';\n",
              "\n",
              "        async function convertToInteractive(key) {\n",
              "          const element = document.querySelector('#df-01a288ea-5e50-4352-a0d8-0660dd23efad');\n",
              "          const dataTable =\n",
              "            await google.colab.kernel.invokeFunction('convertToInteractive',\n",
              "                                                     [key], {});\n",
              "          if (!dataTable) return;\n",
              "\n",
              "          const docLinkHtml = 'Like what you see? Visit the ' +\n",
              "            '<a target=\"_blank\" href=https://colab.research.google.com/notebooks/data_table.ipynb>data table notebook</a>'\n",
              "            + ' to learn more about interactive tables.';\n",
              "          element.innerHTML = '';\n",
              "          dataTable['output_type'] = 'display_data';\n",
              "          await google.colab.output.renderOutput(dataTable, element);\n",
              "          const docLink = document.createElement('div');\n",
              "          docLink.innerHTML = docLinkHtml;\n",
              "          element.appendChild(docLink);\n",
              "        }\n",
              "      </script>\n",
              "    </div>\n",
              "  </div>\n",
              "  "
            ]
          },
          "metadata": {},
          "execution_count": 23
        }
      ],
      "source": [
        "df"
      ]
    },
    {
      "cell_type": "markdown",
      "metadata": {
        "id": "IRKFAwSI_Jlr"
      },
      "source": [
        "`df_ber` is missing 2339 `sunduration` values, and most of the missing data is in the form of consecutive missing hours. For example, starting on May 25th, 2020, more than an entire month straight is missing (923 consecutive hours)."
      ]
    },
    {
      "cell_type": "code",
      "execution_count": null,
      "metadata": {
        "id": "_y4y8klZFM_h",
        "colab": {
          "base_uri": "https://localhost:8080/"
        },
        "outputId": "e160e9e2-e35c-4e01-ad53-405b40de6541"
      },
      "outputs": [
        {
          "output_type": "stream",
          "name": "stdout",
          "text": [
            "2339\n"
          ]
        }
      ],
      "source": [
        "no_sun_ind = df[df['sunduration_BER'].isnull()].index\n",
        "print(len(no_sun_ind))"
      ]
    },
    {
      "cell_type": "code",
      "execution_count": null,
      "metadata": {
        "id": "4gCKzwG4Fepy",
        "colab": {
          "base_uri": "https://localhost:8080/"
        },
        "outputId": "e2cb501f-5d62-4112-c567-3202ec8c124f"
      },
      "outputs": [
        {
          "output_type": "stream",
          "name": "stdout",
          "text": [
            "(1, [2577])\n",
            "(23, [3017, 3018, 3019, 3020, 3021, 3022, 3023, 3024, 3025, 3026, 3027, 3028, 3029, 3030, 3031, 3032, 3033, 3034, 3035, 3036, 3037, 3038, 3039])\n",
            "(1, [3401])\n",
            "(1, [3648])\n",
            "(2, [3712, 3713])\n",
            "(1, [3790])\n",
            "(2, [4169, 4170])\n",
            "(4, [4191, 4192, 4193, 4194])\n",
            "(1, [4215])\n",
            "(14, [4303, 4304, 4305, 4306, 4307, 4308, 4309, 4310, 4311, 4312, 4313, 4314, 4315, 4316])\n"
          ]
        }
      ],
      "source": [
        "# create a list of tuples of: (number of consecutive missing values, their indices)\n",
        "no_sun_segments = []\n",
        "\n",
        "# iterate over a itertools.groupby object (which returns consecutive integers from no_sun_ind)\n",
        "for key, group in iter_groupby(enumerate(no_sun_ind), lambda x : x[0] - x[1]):\n",
        "  # put values from each \"group\" into a list called series\n",
        "  series = list(map(itemgetter(1), group))\n",
        "  # put len(series) and series in a tuple and append to no_sun_segments\n",
        "  no_sun_segments.append((len(series), series))\n",
        "\n",
        "print(*no_sun_segments[:10], sep='\\n')"
      ]
    },
    {
      "cell_type": "markdown",
      "metadata": {
        "id": "0829a8-qHzpO"
      },
      "source": [
        "The goal of this project is to compare monthy averages between Berlin and Washington, DC. So it's not absolutely necesary to fill these large segments of missing data, if it's even possible. As shown below, all months have atleast 80% of total possible data available over the 6 year timeperiod.\n",
        "\n",
        "Smaller segments of missing data (1 or 2 consecutive hours) will be replaced by averaging the preceding and following readings. This accounts for 5.86% of the missing data."
      ]
    },
    {
      "cell_type": "code",
      "execution_count": null,
      "metadata": {
        "id": "NOARVSvv47Oc",
        "colab": {
          "base_uri": "https://localhost:8080/"
        },
        "outputId": "b70d7d9a-0376-480a-abc9-dd03d61a8a03"
      },
      "outputs": [
        {
          "output_type": "stream",
          "name": "stdout",
          "text": [
            "month: 1\n",
            "Num of values: 4460\n",
            "% of data available: 99.9\n",
            "\n",
            "month: 2\n",
            "Num of values: 3864\n",
            "% of data available: 95.8\n",
            "\n",
            "month: 3\n",
            "Num of values: 4453\n",
            "% of data available: 99.8\n",
            "\n",
            "month: 4\n",
            "Num of values: 4223\n",
            "% of data available: 97.8\n",
            "\n",
            "month: 5\n",
            "Num of values: 4147\n",
            "% of data available: 92.9\n",
            "\n",
            "month: 6\n",
            "Num of values: 3456\n",
            "% of data available: 80.0\n",
            "\n",
            "month: 7\n",
            "Num of values: 4183\n",
            "% of data available: 93.7\n",
            "\n",
            "month: 8\n",
            "Num of values: 4187\n",
            "% of data available: 93.8\n",
            "\n",
            "month: 9\n",
            "Num of values: 4273\n",
            "% of data available: 98.9\n",
            "\n",
            "month: 10\n",
            "Num of values: 4268\n",
            "% of data available: 95.6\n",
            "\n",
            "month: 11\n",
            "Num of values: 4304\n",
            "% of data available: 99.6\n",
            "\n",
            "month: 12\n",
            "Num of values: 4403\n",
            "% of data available: 98.6\n",
            "\n"
          ]
        }
      ],
      "source": [
        "month_hours = {1: 4464, 2: 4032, 3: 4464, 4: 4320, 5: 4464, 6: 4320, 7: 4464, 8: 4464, 9: 4320, 10: 4464, 11: 4320, 12:4464}\n",
        "\n",
        "for month in range(1, 13):\n",
        "  print(\"month:\", month)\n",
        "  vals_count = len(df[df['datetime'].dt.month == month].dropna())\n",
        "  print(f\"Num of values: {vals_count}\")\n",
        "  print(f\"% of data available: {round((vals_count / month_hours[month] * 100), 1)}\")\n",
        "  print(\"\")"
      ]
    },
    {
      "cell_type": "code",
      "execution_count": null,
      "metadata": {
        "id": "ORrcGMjznFAs",
        "colab": {
          "base_uri": "https://localhost:8080/"
        },
        "outputId": "20c6ddf7-704f-45b8-ea40-ef81a11f50d3"
      },
      "outputs": [
        {
          "output_type": "stream",
          "name": "stdout",
          "text": [
            "Total rows from single or double missing segments: 137\n",
            "Percent of missing rows made up of single or double segments: 5.86\n"
          ]
        }
      ],
      "source": [
        "# find how many missing values are in a consecutive series less than 3\n",
        "ones_and_twos_count = 0\n",
        "for segment in no_sun_segments:\n",
        "  if segment[0] < 3:\n",
        "    ones_and_twos_count += segment[0]\n",
        "\n",
        "print(\"Total rows from single or double missing segments:\", ones_and_twos_count)\n",
        "print(\"Percent of missing rows made up of single or double segments:\",\n",
        "      round((ones_and_twos_count / len(no_sun_ind) * 100), 2))"
      ]
    },
    {
      "cell_type": "markdown",
      "metadata": {
        "id": "6kVcjSCLZTBx"
      },
      "source": [
        "#### Filling single and double missing segments in `sunduration`\n",
        "\n",
        "Occurances of just one or two consecutive missing readings will be filled with the average of the preceading and following readings."
      ]
    },
    {
      "cell_type": "code",
      "execution_count": null,
      "metadata": {
        "id": "952rpmeVaGjN"
      },
      "outputs": [],
      "source": [
        "for segment in no_sun_segments:\n",
        "  if segment[0] == 1:\n",
        "    preceding = df.loc[segment[1][0] - 1, 'sunduration_BER']\n",
        "    following = df.loc[segment[1][0] + 1, 'sunduration_BER']\n",
        "    df.loc[segment[1], 'sunduration_BER'] = (preceding + following) * 0.5\n",
        "  elif segment[0] == 2:\n",
        "    preceding = df.loc[segment[1][0] - 1, 'sunduration_BER']\n",
        "    following = df.loc[segment[1][1] + 1, 'sunduration_BER']\n",
        "    df.loc[segment[1][0], 'sunduration_BER'] = (preceding + following) * 0.5\n",
        "    df.loc[segment[1][1], 'sunduration_BER'] = (preceding + following) * 0.5"
      ]
    },
    {
      "cell_type": "markdown",
      "source": [
        "### Setting `df['datetime']` as `df.index`\n",
        "\n",
        "This will make using the `pd.groupby()` method easier during the **Data Analysis** section below.\n",
        "\n"
      ],
      "metadata": {
        "id": "H1JR-hWG8R_g"
      }
    },
    {
      "cell_type": "code",
      "source": [
        "df.set_index('datetime', inplace=True)\n",
        "# df"
      ],
      "metadata": {
        "id": "ShY0dXlY8pEu"
      },
      "execution_count": null,
      "outputs": []
    },
    {
      "cell_type": "markdown",
      "metadata": {
        "id": "exhMeTGNV-Ct"
      },
      "source": [
        "### Prepping `df_DCriseset` and `df_BERriseset` and creating `df_riseset`\n",
        "\n",
        "These two dataframes need to be standardized in order to be used. After doing so they will be combined into one dataframe, `df_riseset`"
      ]
    },
    {
      "cell_type": "code",
      "execution_count": null,
      "metadata": {
        "id": "fpBkSkaGW-Sz",
        "colab": {
          "base_uri": "https://localhost:8080/"
        },
        "outputId": "db8c93fe-2999-4f5c-c495-d293fec49d69"
      },
      "outputs": [
        {
          "output_type": "execute_result",
          "data": {
            "text/plain": [
              "(    datetime sunrise_BER  sunset_BER daylength_BER\n",
              " 0 2016-01-01  8:16:40 AM  4:02:43 PM     7h 46m 3s\n",
              " 1 2016-01-02  8:16:31 AM  4:03:49 PM    7h 47m 18s\n",
              " 2 2016-01-03  8:16:18 AM  4:04:57 PM    7h 48m 39s\n",
              " 3 2016-01-04  8:16:01 AM  4:06:08 PM     7h 50m 7s\n",
              " 4 2016-01-05  8:15:41 AM  4:07:22 PM    7h 51m 41s,\n",
              "     datetime  sunrise_DC  sunset_DC\n",
              " 0 2016-01-01       727.0     1657.0\n",
              " 1 2016-01-02       727.0     1658.0\n",
              " 2 2016-01-03       727.0     1659.0\n",
              " 3 2016-01-04       727.0     1700.0\n",
              " 4 2016-01-05       727.0     1700.0)"
            ]
          },
          "metadata": {},
          "execution_count": 30
        }
      ],
      "source": [
        "df_BERriseset.head(), df_DCriseset.head()"
      ]
    },
    {
      "cell_type": "code",
      "execution_count": null,
      "metadata": {
        "id": "JNO-Vh7jdqht"
      },
      "outputs": [],
      "source": [
        "df_BERriseset['sunrise_BER'] = pd.to_datetime(df_BERriseset['sunrise_BER'], format='%I:%M:%S %p').dt.time\n",
        "df_BERriseset['sunset_BER'] = pd.to_datetime(df_BERriseset['sunset_BER'], format='%I:%M:%S %p').dt.time\n",
        "\n",
        "df_DCriseset['sunrise_DC'] = pd.to_datetime(df_DCriseset['sunrise_DC'], format='%H%M').dt.time\n",
        "df_DCriseset['sunset_DC'] = pd.to_datetime(df_DCriseset['sunset_DC'], format='%H%M').dt.time"
      ]
    },
    {
      "cell_type": "code",
      "execution_count": null,
      "metadata": {
        "id": "e724SZfRuHqO",
        "colab": {
          "base_uri": "https://localhost:8080/",
          "height": 424
        },
        "outputId": "0f0120b1-6433-4db9-ed25-abab3b0836b7"
      },
      "outputs": [
        {
          "output_type": "execute_result",
          "data": {
            "text/plain": [
              "       datetime sunrise_BER sunset_BER daylength_BER sunrise_DC sunset_DC\n",
              "0    2016-01-01    08:16:40   16:02:43     7h 46m 3s   07:27:00  16:57:00\n",
              "1    2016-01-02    08:16:31   16:03:49    7h 47m 18s   07:27:00  16:58:00\n",
              "2    2016-01-03    08:16:18   16:04:57    7h 48m 39s   07:27:00  16:59:00\n",
              "3    2016-01-04    08:16:01   16:06:08     7h 50m 7s   07:27:00  17:00:00\n",
              "4    2016-01-05    08:15:41   16:07:22    7h 51m 41s   07:27:00  17:00:00\n",
              "...         ...         ...        ...           ...        ...       ...\n",
              "2185 2021-12-27    08:16:59   15:58:30    7h 41m 31s   07:25:00  16:53:00\n",
              "2186 2021-12-28    08:17:05   15:59:22    7h 42m 17s   07:26:00  16:54:00\n",
              "2187 2021-12-29    08:17:08   16:00:17     7h 43m 9s   07:26:00  16:54:00\n",
              "2188 2021-12-30    08:17:07   16:01:16     7h 44m 9s   07:26:00  16:55:00\n",
              "2189 2021-12-31    08:17:02   16:02:17    7h 45m 15s   07:26:00  16:56:00\n",
              "\n",
              "[2190 rows x 6 columns]"
            ],
            "text/html": [
              "\n",
              "  <div id=\"df-8fc73c43-8845-4001-9a6f-c60dd34d27af\">\n",
              "    <div class=\"colab-df-container\">\n",
              "      <div>\n",
              "<style scoped>\n",
              "    .dataframe tbody tr th:only-of-type {\n",
              "        vertical-align: middle;\n",
              "    }\n",
              "\n",
              "    .dataframe tbody tr th {\n",
              "        vertical-align: top;\n",
              "    }\n",
              "\n",
              "    .dataframe thead th {\n",
              "        text-align: right;\n",
              "    }\n",
              "</style>\n",
              "<table border=\"1\" class=\"dataframe\">\n",
              "  <thead>\n",
              "    <tr style=\"text-align: right;\">\n",
              "      <th></th>\n",
              "      <th>datetime</th>\n",
              "      <th>sunrise_BER</th>\n",
              "      <th>sunset_BER</th>\n",
              "      <th>daylength_BER</th>\n",
              "      <th>sunrise_DC</th>\n",
              "      <th>sunset_DC</th>\n",
              "    </tr>\n",
              "  </thead>\n",
              "  <tbody>\n",
              "    <tr>\n",
              "      <th>0</th>\n",
              "      <td>2016-01-01</td>\n",
              "      <td>08:16:40</td>\n",
              "      <td>16:02:43</td>\n",
              "      <td>7h 46m 3s</td>\n",
              "      <td>07:27:00</td>\n",
              "      <td>16:57:00</td>\n",
              "    </tr>\n",
              "    <tr>\n",
              "      <th>1</th>\n",
              "      <td>2016-01-02</td>\n",
              "      <td>08:16:31</td>\n",
              "      <td>16:03:49</td>\n",
              "      <td>7h 47m 18s</td>\n",
              "      <td>07:27:00</td>\n",
              "      <td>16:58:00</td>\n",
              "    </tr>\n",
              "    <tr>\n",
              "      <th>2</th>\n",
              "      <td>2016-01-03</td>\n",
              "      <td>08:16:18</td>\n",
              "      <td>16:04:57</td>\n",
              "      <td>7h 48m 39s</td>\n",
              "      <td>07:27:00</td>\n",
              "      <td>16:59:00</td>\n",
              "    </tr>\n",
              "    <tr>\n",
              "      <th>3</th>\n",
              "      <td>2016-01-04</td>\n",
              "      <td>08:16:01</td>\n",
              "      <td>16:06:08</td>\n",
              "      <td>7h 50m 7s</td>\n",
              "      <td>07:27:00</td>\n",
              "      <td>17:00:00</td>\n",
              "    </tr>\n",
              "    <tr>\n",
              "      <th>4</th>\n",
              "      <td>2016-01-05</td>\n",
              "      <td>08:15:41</td>\n",
              "      <td>16:07:22</td>\n",
              "      <td>7h 51m 41s</td>\n",
              "      <td>07:27:00</td>\n",
              "      <td>17:00:00</td>\n",
              "    </tr>\n",
              "    <tr>\n",
              "      <th>...</th>\n",
              "      <td>...</td>\n",
              "      <td>...</td>\n",
              "      <td>...</td>\n",
              "      <td>...</td>\n",
              "      <td>...</td>\n",
              "      <td>...</td>\n",
              "    </tr>\n",
              "    <tr>\n",
              "      <th>2185</th>\n",
              "      <td>2021-12-27</td>\n",
              "      <td>08:16:59</td>\n",
              "      <td>15:58:30</td>\n",
              "      <td>7h 41m 31s</td>\n",
              "      <td>07:25:00</td>\n",
              "      <td>16:53:00</td>\n",
              "    </tr>\n",
              "    <tr>\n",
              "      <th>2186</th>\n",
              "      <td>2021-12-28</td>\n",
              "      <td>08:17:05</td>\n",
              "      <td>15:59:22</td>\n",
              "      <td>7h 42m 17s</td>\n",
              "      <td>07:26:00</td>\n",
              "      <td>16:54:00</td>\n",
              "    </tr>\n",
              "    <tr>\n",
              "      <th>2187</th>\n",
              "      <td>2021-12-29</td>\n",
              "      <td>08:17:08</td>\n",
              "      <td>16:00:17</td>\n",
              "      <td>7h 43m 9s</td>\n",
              "      <td>07:26:00</td>\n",
              "      <td>16:54:00</td>\n",
              "    </tr>\n",
              "    <tr>\n",
              "      <th>2188</th>\n",
              "      <td>2021-12-30</td>\n",
              "      <td>08:17:07</td>\n",
              "      <td>16:01:16</td>\n",
              "      <td>7h 44m 9s</td>\n",
              "      <td>07:26:00</td>\n",
              "      <td>16:55:00</td>\n",
              "    </tr>\n",
              "    <tr>\n",
              "      <th>2189</th>\n",
              "      <td>2021-12-31</td>\n",
              "      <td>08:17:02</td>\n",
              "      <td>16:02:17</td>\n",
              "      <td>7h 45m 15s</td>\n",
              "      <td>07:26:00</td>\n",
              "      <td>16:56:00</td>\n",
              "    </tr>\n",
              "  </tbody>\n",
              "</table>\n",
              "<p>2190 rows × 6 columns</p>\n",
              "</div>\n",
              "      <button class=\"colab-df-convert\" onclick=\"convertToInteractive('df-8fc73c43-8845-4001-9a6f-c60dd34d27af')\"\n",
              "              title=\"Convert this dataframe to an interactive table.\"\n",
              "              style=\"display:none;\">\n",
              "        \n",
              "  <svg xmlns=\"http://www.w3.org/2000/svg\" height=\"24px\"viewBox=\"0 0 24 24\"\n",
              "       width=\"24px\">\n",
              "    <path d=\"M0 0h24v24H0V0z\" fill=\"none\"/>\n",
              "    <path d=\"M18.56 5.44l.94 2.06.94-2.06 2.06-.94-2.06-.94-.94-2.06-.94 2.06-2.06.94zm-11 1L8.5 8.5l.94-2.06 2.06-.94-2.06-.94L8.5 2.5l-.94 2.06-2.06.94zm10 10l.94 2.06.94-2.06 2.06-.94-2.06-.94-.94-2.06-.94 2.06-2.06.94z\"/><path d=\"M17.41 7.96l-1.37-1.37c-.4-.4-.92-.59-1.43-.59-.52 0-1.04.2-1.43.59L10.3 9.45l-7.72 7.72c-.78.78-.78 2.05 0 2.83L4 21.41c.39.39.9.59 1.41.59.51 0 1.02-.2 1.41-.59l7.78-7.78 2.81-2.81c.8-.78.8-2.07 0-2.86zM5.41 20L4 18.59l7.72-7.72 1.47 1.35L5.41 20z\"/>\n",
              "  </svg>\n",
              "      </button>\n",
              "      \n",
              "  <style>\n",
              "    .colab-df-container {\n",
              "      display:flex;\n",
              "      flex-wrap:wrap;\n",
              "      gap: 12px;\n",
              "    }\n",
              "\n",
              "    .colab-df-convert {\n",
              "      background-color: #E8F0FE;\n",
              "      border: none;\n",
              "      border-radius: 50%;\n",
              "      cursor: pointer;\n",
              "      display: none;\n",
              "      fill: #1967D2;\n",
              "      height: 32px;\n",
              "      padding: 0 0 0 0;\n",
              "      width: 32px;\n",
              "    }\n",
              "\n",
              "    .colab-df-convert:hover {\n",
              "      background-color: #E2EBFA;\n",
              "      box-shadow: 0px 1px 2px rgba(60, 64, 67, 0.3), 0px 1px 3px 1px rgba(60, 64, 67, 0.15);\n",
              "      fill: #174EA6;\n",
              "    }\n",
              "\n",
              "    [theme=dark] .colab-df-convert {\n",
              "      background-color: #3B4455;\n",
              "      fill: #D2E3FC;\n",
              "    }\n",
              "\n",
              "    [theme=dark] .colab-df-convert:hover {\n",
              "      background-color: #434B5C;\n",
              "      box-shadow: 0px 1px 3px 1px rgba(0, 0, 0, 0.15);\n",
              "      filter: drop-shadow(0px 1px 2px rgba(0, 0, 0, 0.3));\n",
              "      fill: #FFFFFF;\n",
              "    }\n",
              "  </style>\n",
              "\n",
              "      <script>\n",
              "        const buttonEl =\n",
              "          document.querySelector('#df-8fc73c43-8845-4001-9a6f-c60dd34d27af button.colab-df-convert');\n",
              "        buttonEl.style.display =\n",
              "          google.colab.kernel.accessAllowed ? 'block' : 'none';\n",
              "\n",
              "        async function convertToInteractive(key) {\n",
              "          const element = document.querySelector('#df-8fc73c43-8845-4001-9a6f-c60dd34d27af');\n",
              "          const dataTable =\n",
              "            await google.colab.kernel.invokeFunction('convertToInteractive',\n",
              "                                                     [key], {});\n",
              "          if (!dataTable) return;\n",
              "\n",
              "          const docLinkHtml = 'Like what you see? Visit the ' +\n",
              "            '<a target=\"_blank\" href=https://colab.research.google.com/notebooks/data_table.ipynb>data table notebook</a>'\n",
              "            + ' to learn more about interactive tables.';\n",
              "          element.innerHTML = '';\n",
              "          dataTable['output_type'] = 'display_data';\n",
              "          await google.colab.output.renderOutput(dataTable, element);\n",
              "          const docLink = document.createElement('div');\n",
              "          docLink.innerHTML = docLinkHtml;\n",
              "          element.appendChild(docLink);\n",
              "        }\n",
              "      </script>\n",
              "    </div>\n",
              "  </div>\n",
              "  "
            ]
          },
          "metadata": {},
          "execution_count": 32
        }
      ],
      "source": [
        "df_riseset = pd.merge(df_BERriseset, df_DCriseset, how='inner', on='datetime')\n",
        "df_riseset"
      ]
    },
    {
      "cell_type": "markdown",
      "metadata": {
        "id": "ksFLqOrZorpu"
      },
      "source": [
        "### Creating `sunup_BER` and `sunup_DC` columns\n",
        "The goal of this project is to compare overcast between the two cities, therefore, the sunrise and sunset times of each day will need to be taken into account. To do this binary `sunup_BER` and `sunup_DC` coulmns will be created and added to `df`, denoting if the sun was in the sky for any amount of time during the `datetime` hour.\n",
        "\n",
        "Presently, `cloudcover_DC` has values for all hours of the day, as it only accounts for clouds, and not whether the clouds are blocking possible sunshine. Adding `sunup_DC` will make it possible to compare `cloudcover_DC` to `sunduration_BER`, as it will allow `df` to be filtered for when the sun is up or down. `sunup_DC` will also be needed later during the **Data Analysis** section of the notebook when preparing data for the visualization."
      ]
    },
    {
      "cell_type": "code",
      "execution_count": null,
      "metadata": {
        "id": "Oh53kIG9JZ84"
      },
      "outputs": [],
      "source": [
        "def sun_up_check(row):\n",
        "  \"\"\"\n",
        "  returns a tuple indicating if the sun is up (1) or down (0) in Berlin and DC\n",
        "  \"\"\"\n",
        "  sunrise_BER = df_riseset.loc[df_riseset['datetime'] == str(row.name.date()), 'sunrise_BER'].values[0]\n",
        "  sunset_BER = df_riseset.loc[df_riseset['datetime'] == str(row.name.date()), 'sunset_BER'].values[0]\n",
        "  sunrise_DC = df_riseset.loc[df_riseset['datetime'] == str(row.name.date()), 'sunrise_DC'].values[0]\n",
        "  sunset_DC = df_riseset.loc[df_riseset['datetime'] == str(row.name.date()), 'sunset_DC'].values[0]\n",
        "\n",
        "  sunup_BER = 0\n",
        "  sunup_DC = 0\n",
        "  if (sunrise_BER.hour <= row.name.hour) and (sunset_BER.hour >= row.name.hour):\n",
        "      sunup_BER = 1\n",
        "  if (sunrise_DC.hour <= row.name.hour) and (sunset_DC.hour >= row.name.hour):\n",
        "      sunup_DC = 1\n",
        "  return sunup_BER, sunup_DC"
      ]
    },
    {
      "cell_type": "code",
      "execution_count": null,
      "metadata": {
        "id": "a8YgAffdHnzu"
      },
      "outputs": [],
      "source": [
        "df[['sunup_BER', 'sunup_DC']] = df.apply(sun_up_check, axis=1, result_type='expand')\n",
        "# df"
      ]
    },
    {
      "cell_type": "markdown",
      "metadata": {
        "id": "YbSz7-MBsedF"
      },
      "source": [
        "## Data Analysis\n",
        "\n",
        "The data in `df` isn't ready to be compared yet, as `sunduration_BER` represents minutes of sunshine during each hour and `cloudcover_DC` represents a percentage of overcast for each hour. To prepare the data for visual comparison, a `sunduration` and `cloudcover` column will be created for both cities.\n",
        "\n",
        "`cloudcover_BER` will be created by dividing `sunduration_BER` values by the minutes during the hour where the sun was up. This will be an approximation of the percentage of sunshine in an hour. Note that during the house where the rose and set, this factor will not be 60.\n",
        "\n",
        "`sunduratino_DC` will be calculated from `cloudcover_DC` using the opposite transformation: multiplying the percentages by minutes in the hour where the sun was up. This will be an approximation of the minutes during each hour that the sun was shining.\n",
        "\n",
        "Values will not be rounded.\n",
        "\n",
        "Equations:\n",
        "\n",
        "$$Cloud\\ Cover\\ \\% = 100 -(\\frac{sun\\ duration}{time\\ sun\\ up}) * 100$$\n",
        "\n",
        "$$Sun\\ Duration = time\\ sun\\ up *(\\frac{100 - cloud\\ cover\\ \\%}{100})$$"
      ]
    },
    {
      "cell_type": "markdown",
      "source": [],
      "metadata": {
        "id": "otbrbmdA6CVY"
      }
    },
    {
      "cell_type": "code",
      "execution_count": null,
      "metadata": {
        "id": "xCAODU_EbxlZ"
      },
      "outputs": [],
      "source": [
        "def sundur_to_cloudcover(row):\n",
        "  \"\"\"\n",
        "  calculate cloud cover percent from sun duration.\n",
        "  \"\"\"\n",
        "  if not row['sunup_BER']:\n",
        "    return None\n",
        "  if row['sunduration_BER'] == None:\n",
        "    return None\n",
        "  sunrise = df_riseset.loc[df_riseset['datetime'] == str(row.name.date()), 'sunrise_BER'].values[0]\n",
        "  if row.name.hour == sunrise.hour:\n",
        "    time_sunup = 60.0 - (sunrise.minute + (sunrise.second / 60))\n",
        "    if time_sunup < row['sunduration_BER']:\n",
        "      time_sunup = row['sunduration_BER']\n",
        "    return  100 - ((row['sunduration_BER'] / time_sunup) * 100)\n",
        "  sunset_BER = df_riseset.loc[df_riseset['datetime'] == str(row.name.date()), 'sunset_BER'].values[0]\n",
        "  if row.name.hour == sunset_BER.hour:\n",
        "      time_sunup = sunset_BER.minute + (sunset_BER.second / 60)\n",
        "      if time_sunup < row['sunduration_BER']:\n",
        "        time_sunup = row['sunduration_BER']\n",
        "      return 100 - ((row['sunduration_BER']  / time_sunup) * 100)\n",
        "  return 100 - (row['sunduration_BER'] / 60.0 * 100)\n",
        "\n",
        "def cloudcover_to_sundur(row):\n",
        "  \"\"\"\n",
        "  calculate sun duration from cloud cover percent.\n",
        "  \"\"\"\n",
        "  if not row['sunup_DC']:\n",
        "    return 0\n",
        "  sunrise = df_riseset.loc[df_riseset['datetime'] == str(row.name.date()), 'sunrise_DC'].values[0]\n",
        "  if row.name.hour == sunrise.hour:\n",
        "    time_sunup = 60.0 - sunrise.minute\n",
        "    return time_sunup * ((100 - row['cloudcover_DC']) / 100)\n",
        "  sunset_DC = df_riseset.loc[df_riseset['datetime'] == str(row.name.date()), 'sunset_DC'].values[0]\n",
        "  if row.name.hour == sunset_DC.hour:\n",
        "      time_sunup = sunset_DC.minute\n",
        "      return time_sunup * ((100 - row['cloudcover_DC']) / 100)\n",
        "  return 60 * ((100 - row['cloudcover_DC']) / 100)\n",
        "\n",
        "def transform_sundur_cloudcov(row):\n",
        "  \"\"\"\n",
        "  returns sundur_to_cloudcover(row) and cloudcover_to_sundur(row)\n",
        "  \"\"\"\n",
        "  return sundur_to_cloudcover(row), cloudcover_to_sundur(row)\n"
      ]
    },
    {
      "cell_type": "code",
      "source": [
        "df[['cloudcover_BER', 'sunduration_DC']] = df.apply(transform_sundur_cloudcov, axis=1, result_type='expand')\n",
        "df = df[['sunup_BER', 'sunduration_BER', 'cloudcover_BER', 'sunup_DC', 'sunduration_DC',  'cloudcover_DC']]"
      ],
      "metadata": {
        "id": "bL2oUXp1XllI"
      },
      "execution_count": null,
      "outputs": []
    },
    {
      "cell_type": "code",
      "source": [
        "df"
      ],
      "metadata": {
        "id": "pQDzI98oLNMO",
        "colab": {
          "base_uri": "https://localhost:8080/",
          "height": 866
        },
        "outputId": "5e852db9-5f86-4618-cd54-292f604dff9d"
      },
      "execution_count": null,
      "outputs": [
        {
          "output_type": "execute_result",
          "data": {
            "text/plain": [
              "                     sunup_BER  sunduration_BER  cloudcover_BER  sunup_DC  \\\n",
              "datetime                                                                    \n",
              "2016-01-01 00:00:00          0              0.0             NaN         0   \n",
              "2016-01-01 01:00:00          0              0.0             NaN         0   \n",
              "2016-01-01 02:00:00          0              0.0             NaN         0   \n",
              "2016-01-01 03:00:00          0              0.0             NaN         0   \n",
              "2016-01-01 04:00:00          0              0.0             NaN         0   \n",
              "...                        ...              ...             ...       ...   \n",
              "2021-12-31 19:00:00          0              0.0             NaN         0   \n",
              "2021-12-31 20:00:00          0              0.0             NaN         0   \n",
              "2021-12-31 21:00:00          0              0.0             NaN         0   \n",
              "2021-12-31 22:00:00          0              0.0             NaN         0   \n",
              "2021-12-31 23:00:00          0              0.0             NaN         0   \n",
              "\n",
              "                     sunduration_DC  cloudcover_DC  \n",
              "datetime                                            \n",
              "2016-01-01 00:00:00             0.0           99.8  \n",
              "2016-01-01 01:00:00             0.0          100.0  \n",
              "2016-01-01 02:00:00             0.0           88.9  \n",
              "2016-01-01 03:00:00             0.0           79.3  \n",
              "2016-01-01 04:00:00             0.0           79.3  \n",
              "...                             ...            ...  \n",
              "2021-12-31 19:00:00             0.0           81.7  \n",
              "2021-12-31 20:00:00             0.0           98.3  \n",
              "2021-12-31 21:00:00             0.0           99.6  \n",
              "2021-12-31 22:00:00             0.0           99.6  \n",
              "2021-12-31 23:00:00             0.0           99.6  \n",
              "\n",
              "[52560 rows x 6 columns]"
            ],
            "text/html": [
              "\n",
              "  <div id=\"df-3602856d-042d-4ad4-8991-29206478e5ae\">\n",
              "    <div class=\"colab-df-container\">\n",
              "      <div>\n",
              "<style scoped>\n",
              "    .dataframe tbody tr th:only-of-type {\n",
              "        vertical-align: middle;\n",
              "    }\n",
              "\n",
              "    .dataframe tbody tr th {\n",
              "        vertical-align: top;\n",
              "    }\n",
              "\n",
              "    .dataframe thead th {\n",
              "        text-align: right;\n",
              "    }\n",
              "</style>\n",
              "<table border=\"1\" class=\"dataframe\">\n",
              "  <thead>\n",
              "    <tr style=\"text-align: right;\">\n",
              "      <th></th>\n",
              "      <th>sunup_BER</th>\n",
              "      <th>sunduration_BER</th>\n",
              "      <th>cloudcover_BER</th>\n",
              "      <th>sunup_DC</th>\n",
              "      <th>sunduration_DC</th>\n",
              "      <th>cloudcover_DC</th>\n",
              "    </tr>\n",
              "    <tr>\n",
              "      <th>datetime</th>\n",
              "      <th></th>\n",
              "      <th></th>\n",
              "      <th></th>\n",
              "      <th></th>\n",
              "      <th></th>\n",
              "      <th></th>\n",
              "    </tr>\n",
              "  </thead>\n",
              "  <tbody>\n",
              "    <tr>\n",
              "      <th>2016-01-01 00:00:00</th>\n",
              "      <td>0</td>\n",
              "      <td>0.0</td>\n",
              "      <td>NaN</td>\n",
              "      <td>0</td>\n",
              "      <td>0.0</td>\n",
              "      <td>99.8</td>\n",
              "    </tr>\n",
              "    <tr>\n",
              "      <th>2016-01-01 01:00:00</th>\n",
              "      <td>0</td>\n",
              "      <td>0.0</td>\n",
              "      <td>NaN</td>\n",
              "      <td>0</td>\n",
              "      <td>0.0</td>\n",
              "      <td>100.0</td>\n",
              "    </tr>\n",
              "    <tr>\n",
              "      <th>2016-01-01 02:00:00</th>\n",
              "      <td>0</td>\n",
              "      <td>0.0</td>\n",
              "      <td>NaN</td>\n",
              "      <td>0</td>\n",
              "      <td>0.0</td>\n",
              "      <td>88.9</td>\n",
              "    </tr>\n",
              "    <tr>\n",
              "      <th>2016-01-01 03:00:00</th>\n",
              "      <td>0</td>\n",
              "      <td>0.0</td>\n",
              "      <td>NaN</td>\n",
              "      <td>0</td>\n",
              "      <td>0.0</td>\n",
              "      <td>79.3</td>\n",
              "    </tr>\n",
              "    <tr>\n",
              "      <th>2016-01-01 04:00:00</th>\n",
              "      <td>0</td>\n",
              "      <td>0.0</td>\n",
              "      <td>NaN</td>\n",
              "      <td>0</td>\n",
              "      <td>0.0</td>\n",
              "      <td>79.3</td>\n",
              "    </tr>\n",
              "    <tr>\n",
              "      <th>...</th>\n",
              "      <td>...</td>\n",
              "      <td>...</td>\n",
              "      <td>...</td>\n",
              "      <td>...</td>\n",
              "      <td>...</td>\n",
              "      <td>...</td>\n",
              "    </tr>\n",
              "    <tr>\n",
              "      <th>2021-12-31 19:00:00</th>\n",
              "      <td>0</td>\n",
              "      <td>0.0</td>\n",
              "      <td>NaN</td>\n",
              "      <td>0</td>\n",
              "      <td>0.0</td>\n",
              "      <td>81.7</td>\n",
              "    </tr>\n",
              "    <tr>\n",
              "      <th>2021-12-31 20:00:00</th>\n",
              "      <td>0</td>\n",
              "      <td>0.0</td>\n",
              "      <td>NaN</td>\n",
              "      <td>0</td>\n",
              "      <td>0.0</td>\n",
              "      <td>98.3</td>\n",
              "    </tr>\n",
              "    <tr>\n",
              "      <th>2021-12-31 21:00:00</th>\n",
              "      <td>0</td>\n",
              "      <td>0.0</td>\n",
              "      <td>NaN</td>\n",
              "      <td>0</td>\n",
              "      <td>0.0</td>\n",
              "      <td>99.6</td>\n",
              "    </tr>\n",
              "    <tr>\n",
              "      <th>2021-12-31 22:00:00</th>\n",
              "      <td>0</td>\n",
              "      <td>0.0</td>\n",
              "      <td>NaN</td>\n",
              "      <td>0</td>\n",
              "      <td>0.0</td>\n",
              "      <td>99.6</td>\n",
              "    </tr>\n",
              "    <tr>\n",
              "      <th>2021-12-31 23:00:00</th>\n",
              "      <td>0</td>\n",
              "      <td>0.0</td>\n",
              "      <td>NaN</td>\n",
              "      <td>0</td>\n",
              "      <td>0.0</td>\n",
              "      <td>99.6</td>\n",
              "    </tr>\n",
              "  </tbody>\n",
              "</table>\n",
              "<p>52560 rows × 6 columns</p>\n",
              "</div>\n",
              "      <button class=\"colab-df-convert\" onclick=\"convertToInteractive('df-3602856d-042d-4ad4-8991-29206478e5ae')\"\n",
              "              title=\"Convert this dataframe to an interactive table.\"\n",
              "              style=\"display:none;\">\n",
              "        \n",
              "  <svg xmlns=\"http://www.w3.org/2000/svg\" height=\"24px\"viewBox=\"0 0 24 24\"\n",
              "       width=\"24px\">\n",
              "    <path d=\"M0 0h24v24H0V0z\" fill=\"none\"/>\n",
              "    <path d=\"M18.56 5.44l.94 2.06.94-2.06 2.06-.94-2.06-.94-.94-2.06-.94 2.06-2.06.94zm-11 1L8.5 8.5l.94-2.06 2.06-.94-2.06-.94L8.5 2.5l-.94 2.06-2.06.94zm10 10l.94 2.06.94-2.06 2.06-.94-2.06-.94-.94-2.06-.94 2.06-2.06.94z\"/><path d=\"M17.41 7.96l-1.37-1.37c-.4-.4-.92-.59-1.43-.59-.52 0-1.04.2-1.43.59L10.3 9.45l-7.72 7.72c-.78.78-.78 2.05 0 2.83L4 21.41c.39.39.9.59 1.41.59.51 0 1.02-.2 1.41-.59l7.78-7.78 2.81-2.81c.8-.78.8-2.07 0-2.86zM5.41 20L4 18.59l7.72-7.72 1.47 1.35L5.41 20z\"/>\n",
              "  </svg>\n",
              "      </button>\n",
              "      \n",
              "  <style>\n",
              "    .colab-df-container {\n",
              "      display:flex;\n",
              "      flex-wrap:wrap;\n",
              "      gap: 12px;\n",
              "    }\n",
              "\n",
              "    .colab-df-convert {\n",
              "      background-color: #E8F0FE;\n",
              "      border: none;\n",
              "      border-radius: 50%;\n",
              "      cursor: pointer;\n",
              "      display: none;\n",
              "      fill: #1967D2;\n",
              "      height: 32px;\n",
              "      padding: 0 0 0 0;\n",
              "      width: 32px;\n",
              "    }\n",
              "\n",
              "    .colab-df-convert:hover {\n",
              "      background-color: #E2EBFA;\n",
              "      box-shadow: 0px 1px 2px rgba(60, 64, 67, 0.3), 0px 1px 3px 1px rgba(60, 64, 67, 0.15);\n",
              "      fill: #174EA6;\n",
              "    }\n",
              "\n",
              "    [theme=dark] .colab-df-convert {\n",
              "      background-color: #3B4455;\n",
              "      fill: #D2E3FC;\n",
              "    }\n",
              "\n",
              "    [theme=dark] .colab-df-convert:hover {\n",
              "      background-color: #434B5C;\n",
              "      box-shadow: 0px 1px 3px 1px rgba(0, 0, 0, 0.15);\n",
              "      filter: drop-shadow(0px 1px 2px rgba(0, 0, 0, 0.3));\n",
              "      fill: #FFFFFF;\n",
              "    }\n",
              "  </style>\n",
              "\n",
              "      <script>\n",
              "        const buttonEl =\n",
              "          document.querySelector('#df-3602856d-042d-4ad4-8991-29206478e5ae button.colab-df-convert');\n",
              "        buttonEl.style.display =\n",
              "          google.colab.kernel.accessAllowed ? 'block' : 'none';\n",
              "\n",
              "        async function convertToInteractive(key) {\n",
              "          const element = document.querySelector('#df-3602856d-042d-4ad4-8991-29206478e5ae');\n",
              "          const dataTable =\n",
              "            await google.colab.kernel.invokeFunction('convertToInteractive',\n",
              "                                                     [key], {});\n",
              "          if (!dataTable) return;\n",
              "\n",
              "          const docLinkHtml = 'Like what you see? Visit the ' +\n",
              "            '<a target=\"_blank\" href=https://colab.research.google.com/notebooks/data_table.ipynb>data table notebook</a>'\n",
              "            + ' to learn more about interactive tables.';\n",
              "          element.innerHTML = '';\n",
              "          dataTable['output_type'] = 'display_data';\n",
              "          await google.colab.output.renderOutput(dataTable, element);\n",
              "          const docLink = document.createElement('div');\n",
              "          docLink.innerHTML = docLinkHtml;\n",
              "          element.appendChild(docLink);\n",
              "        }\n",
              "      </script>\n",
              "    </div>\n",
              "  </div>\n",
              "  "
            ]
          },
          "metadata": {},
          "execution_count": 37
        }
      ]
    },
    {
      "cell_type": "markdown",
      "source": [
        "### Gather data needed for visualization\n",
        "- average cloud cover by month\n",
        "  - `clouds_month_BER` and `clouds_month_DC`\n",
        "- average total minutes of sunshine (per day) by month\n",
        "  - `sundur_month_BER` and `sundur_month_DC`"
      ],
      "metadata": {
        "id": "y7b-gWnO4nBF"
      }
    },
    {
      "cell_type": "markdown",
      "source": [
        "### Average cloud cover by month"
      ],
      "metadata": {
        "id": "N-YmQCi9IHqG"
      }
    },
    {
      "cell_type": "code",
      "execution_count": null,
      "metadata": {
        "id": "d3m_M-GD5SYt"
      },
      "outputs": [],
      "source": [
        "clouds_BER = df[['cloudcover_BER']][df['sunup_BER'] == 1]\n",
        "clouds_month_BER = clouds_BER.groupby(clouds_BER.index.month).agg({'cloudcover_BER': np.nanmean})\n",
        "clouds_month_BER.index.names = ['month']\n",
        "\n",
        "clouds_DC = df[['cloudcover_DC']][df['sunup_DC'] == 1]\n",
        "clouds_month_DC = clouds_DC.groupby(clouds_DC.index.month).agg({'cloudcover_DC': np.nanmean})\n",
        "clouds_month_DC.index.names = ['month']\n",
        "\n",
        "# print(clouds_month_BER)\n",
        "# print(clouds_month_DC)"
      ]
    },
    {
      "cell_type": "markdown",
      "source": [
        "### Average total minutes of sunshine per day, by month"
      ],
      "metadata": {
        "id": "MqvcUGFPIQWI"
      }
    },
    {
      "cell_type": "code",
      "source": [
        "# first, sundur_month_DC, because its a little more straightforward\n",
        "sundur_DC = df[['sunduration_DC']][df['sunup_DC'] == 1]\n",
        "sundur_day_DC = sundur_DC.groupby([sundur_DC.index.year,\n",
        "                                   sundur_DC.index.month,\n",
        "                                   sundur_DC.index.day]).agg({'sunduration_DC': np.nansum})\n",
        "sundur_day_DC.index.names = ['year', 'month', 'day']\n",
        "sundur_month_DC = sundur_day_DC.groupby(level=['month']).agg({'sunduration_DC': np.nanmean})"
      ],
      "metadata": {
        "id": "nbIzOR7vHvF3"
      },
      "execution_count": null,
      "outputs": []
    },
    {
      "cell_type": "markdown",
      "source": [
        "Because there are missing observations (nan) in `df['sunduration_BER']`, calculating average total minutes of sunshine per day is a little harder than it was with DC. To find sum total sun duration in a given day of the year, nans first need to be dealt with, otherwise they will be treated as 0s in the summation, which is not accurate.\n",
        "\n",
        "To work around this, the first step will be to group by month, day and hour, and find the aggregate `np.nanmean`. Doing this will find the average sun duration during every single hour, in one year. As long as each hour has at least one reading, there will be no nans left. After this, total sun duration of each day will be summed, and then the average total duration of each month will be calculated."
      ],
      "metadata": {
        "id": "owwXZkHkIlW6"
      }
    },
    {
      "cell_type": "code",
      "source": [
        "# group by month, day, hour and aggregeate by np.nanmean\n",
        "sundur_hour_avg_BER = df[['sunduration_BER']][df['sunup_BER'] == 1]\n",
        "sundur_hour_avg_BER = sundur_hour_avg_BER.groupby([sundur_hour_avg_BER.index.month,\n",
        "                                              sundur_hour_avg_BER.index.day,\n",
        "                                              sundur_hour_avg_BER.index.hour]).agg({'sunduration_BER': np.nanmean})\n",
        "sundur_hour_avg_BER.index.names = ['month', 'day', 'hour']"
      ],
      "metadata": {
        "id": "ue5JhKhe2mbY"
      },
      "execution_count": null,
      "outputs": []
    },
    {
      "cell_type": "code",
      "source": [
        "# confirm that no nans are present after averaging each hour across all years\n",
        "sundur_hour_avg_BER[sundur_hour_avg_BER['sunduration_BER'].isna()]"
      ],
      "metadata": {
        "colab": {
          "base_uri": "https://localhost:8080/",
          "height": 81
        },
        "id": "lV5C16nB39ZD",
        "outputId": "7d1abf3e-6a1d-4b5c-9331-01881c1202d6"
      },
      "execution_count": null,
      "outputs": [
        {
          "output_type": "execute_result",
          "data": {
            "text/plain": [
              "Empty DataFrame\n",
              "Columns: [sunduration_BER]\n",
              "Index: []"
            ],
            "text/html": [
              "\n",
              "  <div id=\"df-143ca073-663d-4f1f-acf0-c48dc3feb852\">\n",
              "    <div class=\"colab-df-container\">\n",
              "      <div>\n",
              "<style scoped>\n",
              "    .dataframe tbody tr th:only-of-type {\n",
              "        vertical-align: middle;\n",
              "    }\n",
              "\n",
              "    .dataframe tbody tr th {\n",
              "        vertical-align: top;\n",
              "    }\n",
              "\n",
              "    .dataframe thead th {\n",
              "        text-align: right;\n",
              "    }\n",
              "</style>\n",
              "<table border=\"1\" class=\"dataframe\">\n",
              "  <thead>\n",
              "    <tr style=\"text-align: right;\">\n",
              "      <th></th>\n",
              "      <th></th>\n",
              "      <th></th>\n",
              "      <th>sunduration_BER</th>\n",
              "    </tr>\n",
              "    <tr>\n",
              "      <th>month</th>\n",
              "      <th>day</th>\n",
              "      <th>hour</th>\n",
              "      <th></th>\n",
              "    </tr>\n",
              "  </thead>\n",
              "  <tbody>\n",
              "  </tbody>\n",
              "</table>\n",
              "</div>\n",
              "      <button class=\"colab-df-convert\" onclick=\"convertToInteractive('df-143ca073-663d-4f1f-acf0-c48dc3feb852')\"\n",
              "              title=\"Convert this dataframe to an interactive table.\"\n",
              "              style=\"display:none;\">\n",
              "        \n",
              "  <svg xmlns=\"http://www.w3.org/2000/svg\" height=\"24px\"viewBox=\"0 0 24 24\"\n",
              "       width=\"24px\">\n",
              "    <path d=\"M0 0h24v24H0V0z\" fill=\"none\"/>\n",
              "    <path d=\"M18.56 5.44l.94 2.06.94-2.06 2.06-.94-2.06-.94-.94-2.06-.94 2.06-2.06.94zm-11 1L8.5 8.5l.94-2.06 2.06-.94-2.06-.94L8.5 2.5l-.94 2.06-2.06.94zm10 10l.94 2.06.94-2.06 2.06-.94-2.06-.94-.94-2.06-.94 2.06-2.06.94z\"/><path d=\"M17.41 7.96l-1.37-1.37c-.4-.4-.92-.59-1.43-.59-.52 0-1.04.2-1.43.59L10.3 9.45l-7.72 7.72c-.78.78-.78 2.05 0 2.83L4 21.41c.39.39.9.59 1.41.59.51 0 1.02-.2 1.41-.59l7.78-7.78 2.81-2.81c.8-.78.8-2.07 0-2.86zM5.41 20L4 18.59l7.72-7.72 1.47 1.35L5.41 20z\"/>\n",
              "  </svg>\n",
              "      </button>\n",
              "      \n",
              "  <style>\n",
              "    .colab-df-container {\n",
              "      display:flex;\n",
              "      flex-wrap:wrap;\n",
              "      gap: 12px;\n",
              "    }\n",
              "\n",
              "    .colab-df-convert {\n",
              "      background-color: #E8F0FE;\n",
              "      border: none;\n",
              "      border-radius: 50%;\n",
              "      cursor: pointer;\n",
              "      display: none;\n",
              "      fill: #1967D2;\n",
              "      height: 32px;\n",
              "      padding: 0 0 0 0;\n",
              "      width: 32px;\n",
              "    }\n",
              "\n",
              "    .colab-df-convert:hover {\n",
              "      background-color: #E2EBFA;\n",
              "      box-shadow: 0px 1px 2px rgba(60, 64, 67, 0.3), 0px 1px 3px 1px rgba(60, 64, 67, 0.15);\n",
              "      fill: #174EA6;\n",
              "    }\n",
              "\n",
              "    [theme=dark] .colab-df-convert {\n",
              "      background-color: #3B4455;\n",
              "      fill: #D2E3FC;\n",
              "    }\n",
              "\n",
              "    [theme=dark] .colab-df-convert:hover {\n",
              "      background-color: #434B5C;\n",
              "      box-shadow: 0px 1px 3px 1px rgba(0, 0, 0, 0.15);\n",
              "      filter: drop-shadow(0px 1px 2px rgba(0, 0, 0, 0.3));\n",
              "      fill: #FFFFFF;\n",
              "    }\n",
              "  </style>\n",
              "\n",
              "      <script>\n",
              "        const buttonEl =\n",
              "          document.querySelector('#df-143ca073-663d-4f1f-acf0-c48dc3feb852 button.colab-df-convert');\n",
              "        buttonEl.style.display =\n",
              "          google.colab.kernel.accessAllowed ? 'block' : 'none';\n",
              "\n",
              "        async function convertToInteractive(key) {\n",
              "          const element = document.querySelector('#df-143ca073-663d-4f1f-acf0-c48dc3feb852');\n",
              "          const dataTable =\n",
              "            await google.colab.kernel.invokeFunction('convertToInteractive',\n",
              "                                                     [key], {});\n",
              "          if (!dataTable) return;\n",
              "\n",
              "          const docLinkHtml = 'Like what you see? Visit the ' +\n",
              "            '<a target=\"_blank\" href=https://colab.research.google.com/notebooks/data_table.ipynb>data table notebook</a>'\n",
              "            + ' to learn more about interactive tables.';\n",
              "          element.innerHTML = '';\n",
              "          dataTable['output_type'] = 'display_data';\n",
              "          await google.colab.output.renderOutput(dataTable, element);\n",
              "          const docLink = document.createElement('div');\n",
              "          docLink.innerHTML = docLinkHtml;\n",
              "          element.appendChild(docLink);\n",
              "        }\n",
              "      </script>\n",
              "    </div>\n",
              "  </div>\n",
              "  "
            ]
          },
          "metadata": {},
          "execution_count": 41
        }
      ]
    },
    {
      "cell_type": "code",
      "source": [
        "# sum the sunduration for each day\n",
        "sundur_day_BER = sundur_hour_avg_BER.groupby(level=['month', 'day']).agg({'sunduration_BER': np.nansum})\n",
        "sundur_month_BER = sundur_day_BER.groupby(level=['month']).agg({'sunduration_BER': np.nanmean})\n"
      ],
      "metadata": {
        "id": "-GMrQVWb5LUQ"
      },
      "execution_count": null,
      "outputs": []
    },
    {
      "cell_type": "code",
      "source": [
        "# print(sundur_month_BER)\n",
        "# print(sundur_month_DC)"
      ],
      "metadata": {
        "id": "bX1-I69SR3VW"
      },
      "execution_count": null,
      "outputs": []
    },
    {
      "cell_type": "markdown",
      "source": [
        "## Visualizing"
      ],
      "metadata": {
        "id": "o0f2Hpx1ubuE"
      }
    },
    {
      "cell_type": "markdown",
      "source": [
        "### Berlin vs Washington, D.C. Average Percent Cloud Cover"
      ],
      "metadata": {
        "id": "FnDoeKSblkjy"
      }
    },
    {
      "cell_type": "code",
      "source": [
        "fig, ax = plt.subplots(figsize=(9, 4))\n",
        "\n",
        "x_pos = list(range(1, 13))\n",
        "months = [\"Jan\", \"Feb\", \"Mar\", \"Apr\", \"May\", \"June\", \"July\", \"Aug\", \"Sept\", \"Oct\", \"Nov\", \"Dec\"]\n",
        "ax.set_xticks(x_pos)\n",
        "ax.set_xticklabels(months)\n",
        "\n",
        "sns.lineplot(data=clouds_month_BER, x=x_pos, y='cloudcover_BER', ax=ax, label='Berlin')\n",
        "sns.lineplot(data=clouds_month_DC, x=x_pos, y='cloudcover_DC', ax=ax, label='DC')\n",
        "\n",
        "ax.legend(loc='upper center')\n",
        "ax.set_ylabel(\"% Cloud Cover\")\n",
        "plt.title(\"Berlin vs Washington, D.C. Average Percent Cloud Cover (2016-2021)\")\n",
        "\n",
        "plt.savefig('Berlin vs Washington, D.C. Average Percent Cloud Cover (2016-2021).png')"
      ],
      "metadata": {
        "id": "RXBi4I0SvXFu",
        "colab": {
          "base_uri": "https://localhost:8080/",
          "height": 284
        },
        "outputId": "95682055-1c91-49fe-abd9-36c35b177187"
      },
      "execution_count": null,
      "outputs": [
        {
          "output_type": "display_data",
          "data": {
            "text/plain": [
              "<Figure size 648x288 with 1 Axes>"
            ],
            "image/png": "[encoded data removed]"
          },
          "metadata": {}
        }
      ]
    },
    {
      "cell_type": "markdown",
      "source": [
        "### Berlin vs Washington, D.C. Average Daily Sunshine"
      ],
      "metadata": {
        "id": "lJ3EcaVZloKQ"
      }
    },
    {
      "cell_type": "code",
      "source": [
        "fig0, ax0 = plt.subplots(figsize=(9, 4))\n",
        "\n",
        "x_pos = list(range(1, 13))\n",
        "months = [\"Jan\", \"Feb\", \"Mar\", \"Apr\", \"May\", \"June\", \"July\", \"Aug\", \"Sept\", \"Oct\", \"Nov\", \"Dec\"]\n",
        "ax0.set_xticks(x_pos)\n",
        "ax0.set_xticklabels(months)\n",
        "\n",
        "sns.lineplot(data=sundur_month_BER, x=x_pos, y='sunduration_BER', ax=ax0, label='Berlin')\n",
        "sns.lineplot(data=sundur_month_DC, x=x_pos, y='sunduration_DC', ax=ax0, label='DC')\n",
        "\n",
        "ax0.legend(loc='lower center')\n",
        "ax0.set_ylabel(\"Daily Minutes of Sunshine\")\n",
        "plt.title(\"Berlin vs Washington, D.C. Average Daily Sunshine (2016-2021)\")\n",
        "\n",
        "plt.savefig('Berlin vs Washington, D.C. Average Daily Sunshine (2016-2021).png')"
      ],
      "metadata": {
        "colab": {
          "base_uri": "https://localhost:8080/",
          "height": 284
        },
        "id": "oaqfMkZkZqxq",
        "outputId": "6c8371bc-0a07-48bd-9ee6-f4fe19cfd18e"
      },
      "execution_count": null,
      "outputs": [
        {
          "output_type": "display_data",
          "data": {
            "text/plain": [
              "<Figure size 648x288 with 1 Axes>"
            ],
            "image/png": "[encoded data removed]"
          },
          "metadata": {}
        }
      ]
    },
    {
      "cell_type": "markdown",
      "source": [
        "### Berlin vs Washington, D.C. Average Overcast"
      ],
      "metadata": {
        "id": "uUbL28Q3lqem"
      }
    },
    {
      "cell_type": "code",
      "source": [
        "fig1, (ax1, ax2) = plt.subplots(2, figsize=(10, 8))\n",
        "\n",
        "x_pos = list(range(1, 13))\n",
        "months = [\"Jan\", \"Feb\", \"Mar\", \"Apr\", \"May\", \"June\", \"July\", \"Aug\", \"Sept\", \"Oct\", \"Nov\", \"Dec\"]\n",
        "ax1.set_xticks(x_pos)\n",
        "ax1.set_xticklabels(months)\n",
        "ax2.set_xticks(x_pos)\n",
        "ax2.set_xticklabels([])\n",
        "\n",
        "sns.lineplot(data=clouds_month_BER, x=x_pos, y='cloudcover_BER', ax=ax1, label='Berlin', legend=False)\n",
        "sns.lineplot(data=clouds_month_DC, x=x_pos, y='cloudcover_DC', ax=ax1, label='DC', legend=False)\n",
        "\n",
        "sns.lineplot(data=sundur_month_BER, x=x_pos, y='sunduration_BER', ax=ax2, label='Berlin', legend=False)\n",
        "sns.lineplot(data=sundur_month_DC, x=x_pos, y='sunduration_DC', ax=ax2, label='DC', legend=False)\n",
        "\n",
        "ax1.set_title(\"Berlin vs Washington, D.C. Average Overcast (2016-2021)\")\n",
        "ax1.set_ylabel(\"% Cloud Cover\")\n",
        "ax2.set_ylabel(\"Daily Minutes of Sunshine\")\n",
        "\n",
        "ax1.legend(loc='upper center')\n",
        "plt.tight_layout()\n",
        "\n",
        "plt.savefig('Berlin vs Washington, D.C. Average Overcast (2016-2021).png')"
      ],
      "metadata": {
        "colab": {
          "base_uri": "https://localhost:8080/",
          "height": 581
        },
        "id": "JH3VZgwIaKmZ",
        "outputId": "d6178b80-d0be-4470-ec11-38a2d2b2cb6e"
      },
      "execution_count": null,
      "outputs": [
        {
          "output_type": "display_data",
          "data": {
            "text/plain": [
              "<Figure size 720x576 with 2 Axes>"
            ],
            "image/png": "[encoded data removed]"
          },
          "metadata": {}
        }
      ]
    },
    {
      "cell_type": "markdown",
      "source": [
        "### Total yearly sunlight comparison\n",
        "This visualization was generated mostly as a sanity check, after seeing Berlin outshines DC in April, May and June."
      ],
      "metadata": {
        "id": "JUmbDUK3SMTu"
      }
    },
    {
      "cell_type": "code",
      "source": [
        "# dc_suntime = df_riseset['sunset_BER'] - df_riseset['sunrise_BER']\n",
        "# dc_suntime\n",
        "\n",
        "# pd.to_timedelta(df_riseset['sunset_BER'])\n",
        "# (df.fr-df.to).astype('timedelta64[h]')"
      ],
      "metadata": {
        "id": "GZPGyuHYSP62"
      },
      "execution_count": null,
      "outputs": []
    },
    {
      "cell_type": "code",
      "source": [
        "from datetime import datetime as dt\n",
        "from datetime import date"
      ],
      "metadata": {
        "id": "HsD5xoy-aH0H"
      },
      "execution_count": null,
      "outputs": []
    },
    {
      "cell_type": "code",
      "source": [
        "df_riseset1 = df_riseset.copy()\n",
        "df_riseset1['delta_BER'] = df_riseset.apply(lambda x: dt.combine(date.today(), x['sunset_BER']) - dt.combine(date.today(), x['sunrise_BER']), axis=1)\n",
        "df_riseset1['delta_DC'] = df_riseset.apply(lambda x: dt.combine(date.today(), x['sunset_DC']) - dt.combine(date.today(), x['sunrise_DC']), axis=1)\n",
        "df_riseset1.set_index('datetime', inplace=True)\n",
        "# df_riseset1"
      ],
      "metadata": {
        "id": "hHSACnvkWUKB"
      },
      "execution_count": null,
      "outputs": []
    },
    {
      "cell_type": "code",
      "source": [
        "day_len_BER = df_riseset1['delta_BER'].groupby(df_riseset1.index.month).agg(np.nanmean)\n",
        "# day_len_BER"
      ],
      "metadata": {
        "id": "llzzAGQ_dFR9"
      },
      "execution_count": null,
      "outputs": []
    },
    {
      "cell_type": "code",
      "source": [
        "day_len_DC = df_riseset1['delta_DC'].groupby(df_riseset1.index.month).agg(np.nanmean)"
      ],
      "metadata": {
        "id": "nh8OqnGikNL-"
      },
      "execution_count": null,
      "outputs": []
    },
    {
      "cell_type": "code",
      "source": [
        "fig10, ax10 = plt.subplots(figsize=(8,6))\n",
        "\n",
        "ax10.set_xticks(x_pos)\n",
        "ax10.set_xticklabels(months)\n",
        "\n",
        "ax10.plot(x_pos, day_len_BER.dt.seconds / 3600, label='Berlin')\n",
        "ax10.plot(x_pos, day_len_DC.dt.seconds / 3600, label=\"DC\")\n",
        "\n",
        "plt.legend()"
      ],
      "metadata": {
        "colab": {
          "base_uri": "https://localhost:8080/",
          "height": 395
        },
        "id": "67skIt0MkY2G",
        "outputId": "84e78076-018c-40d9-aae2-d88b73368850"
      },
      "execution_count": null,
      "outputs": [
        {
          "output_type": "execute_result",
          "data": {
            "text/plain": [
              "<matplotlib.legend.Legend at 0x7f8a54795f70>"
            ]
          },
          "metadata": {},
          "execution_count": 52
        },
        {
          "output_type": "display_data",
          "data": {
            "text/plain": [
              "<Figure size 576x432 with 1 Axes>"
            ],
            "image/png": "[encoded data removed]"
          },
          "metadata": {}
        }
      ]
    },
    {
      "cell_type": "markdown",
      "source": [
        "### Redo of main figure, but data is not reduced to monthly averages\n",
        "Generated out of curiosity. The figure is quite noisy so it's hard to distil any insights from it. The average-by-month method will be prioritized."
      ],
      "metadata": {
        "id": "CVnVOapW1mbG"
      }
    },
    {
      "cell_type": "code",
      "source": [
        "clouds_day_BER = clouds_BER.groupby([clouds_BER.index.month, clouds_BER.index.day]).agg({'cloudcover_BER': np.nanmean})\n",
        "clouds_day_BER.index.names = ['month', 'day']\n",
        "\n",
        "clouds_DC = df[['cloudcover_DC']][df['sunup_DC'] == 1]\n",
        "clouds_day_DC = clouds_DC.groupby([clouds_DC.index.month, clouds_DC.index.day]).agg({'cloudcover_DC': np.nanmean})\n",
        "clouds_day_DC.index.names = ['month', 'day']\n",
        "# print(clouds_day_BER), print(clouds_day_DC)"
      ],
      "metadata": {
        "id": "01SEebHC1u4J"
      },
      "execution_count": null,
      "outputs": []
    },
    {
      "cell_type": "code",
      "source": [
        "# first, sundur_month_DC, because its a little more straightforward\n",
        "sundur_day_DC1 = df[['sunduration_DC']][df['sunup_DC'] == 1]\n",
        "sundur_day_DC1 = sundur_day_DC1.groupby([sundur_day_DC1.index.year,\n",
        "                                   sundur_day_DC1.index.month,\n",
        "                                   sundur_day_DC1.index.day]).agg({'sunduration_DC': np.nansum})\n",
        "sundur_day_DC1.index.names = ['year', 'month', 'day']\n",
        "sundur_day_DC1 = sundur_day_DC.groupby(level=['month', 'day']).agg({'sunduration_DC': np.nanmean})\n",
        "# sundur_day_DC1"
      ],
      "metadata": {
        "id": "nRM1FHQRowaE"
      },
      "execution_count": null,
      "outputs": []
    },
    {
      "cell_type": "code",
      "source": [
        "# group by month, day, hour and aggregeate by np.nanmean\n",
        "sundur_hour_avg_BER1 = df[['sunduration_BER']][df['sunup_BER'] == 1]\n",
        "sundur_hour_avg_BER1 = sundur_hour_avg_BER1.groupby([sundur_hour_avg_BER1.index.month,\n",
        "                                              sundur_hour_avg_BER1.index.day,\n",
        "                                              sundur_hour_avg_BER1.index.hour]).agg({'sunduration_BER': np.nanmean})\n",
        "sundur_hour_avg_BER1.index.names = ['month', 'day', 'hour']\n",
        "# sundur_hour_avg_BER1"
      ],
      "metadata": {
        "id": "gpP-l3bDpEfv"
      },
      "execution_count": null,
      "outputs": []
    },
    {
      "cell_type": "code",
      "source": [
        "# confirm that no nans are present after averaging each hour across all years\n",
        "sundur_hour_avg_BER1[sundur_hour_avg_BER1['sunduration_BER'].isna()]"
      ],
      "metadata": {
        "colab": {
          "base_uri": "https://localhost:8080/",
          "height": 81
        },
        "outputId": "ac10d72a-6289-4722-ebe7-214f2cd90723",
        "id": "11Q-jMjKpEfv"
      },
      "execution_count": null,
      "outputs": [
        {
          "output_type": "execute_result",
          "data": {
            "text/plain": [
              "Empty DataFrame\n",
              "Columns: [sunduration_BER]\n",
              "Index: []"
            ],
            "text/html": [
              "\n",
              "  <div id=\"df-b1c60d84-0d77-47fa-a835-74485f8374ca\">\n",
              "    <div class=\"colab-df-container\">\n",
              "      <div>\n",
              "<style scoped>\n",
              "    .dataframe tbody tr th:only-of-type {\n",
              "        vertical-align: middle;\n",
              "    }\n",
              "\n",
              "    .dataframe tbody tr th {\n",
              "        vertical-align: top;\n",
              "    }\n",
              "\n",
              "    .dataframe thead th {\n",
              "        text-align: right;\n",
              "    }\n",
              "</style>\n",
              "<table border=\"1\" class=\"dataframe\">\n",
              "  <thead>\n",
              "    <tr style=\"text-align: right;\">\n",
              "      <th></th>\n",
              "      <th></th>\n",
              "      <th></th>\n",
              "      <th>sunduration_BER</th>\n",
              "    </tr>\n",
              "    <tr>\n",
              "      <th>month</th>\n",
              "      <th>day</th>\n",
              "      <th>hour</th>\n",
              "      <th></th>\n",
              "    </tr>\n",
              "  </thead>\n",
              "  <tbody>\n",
              "  </tbody>\n",
              "</table>\n",
              "</div>\n",
              "      <button class=\"colab-df-convert\" onclick=\"convertToInteractive('df-b1c60d84-0d77-47fa-a835-74485f8374ca')\"\n",
              "              title=\"Convert this dataframe to an interactive table.\"\n",
              "              style=\"display:none;\">\n",
              "        \n",
              "  <svg xmlns=\"http://www.w3.org/2000/svg\" height=\"24px\"viewBox=\"0 0 24 24\"\n",
              "       width=\"24px\">\n",
              "    <path d=\"M0 0h24v24H0V0z\" fill=\"none\"/>\n",
              "    <path d=\"M18.56 5.44l.94 2.06.94-2.06 2.06-.94-2.06-.94-.94-2.06-.94 2.06-2.06.94zm-11 1L8.5 8.5l.94-2.06 2.06-.94-2.06-.94L8.5 2.5l-.94 2.06-2.06.94zm10 10l.94 2.06.94-2.06 2.06-.94-2.06-.94-.94-2.06-.94 2.06-2.06.94z\"/><path d=\"M17.41 7.96l-1.37-1.37c-.4-.4-.92-.59-1.43-.59-.52 0-1.04.2-1.43.59L10.3 9.45l-7.72 7.72c-.78.78-.78 2.05 0 2.83L4 21.41c.39.39.9.59 1.41.59.51 0 1.02-.2 1.41-.59l7.78-7.78 2.81-2.81c.8-.78.8-2.07 0-2.86zM5.41 20L4 18.59l7.72-7.72 1.47 1.35L5.41 20z\"/>\n",
              "  </svg>\n",
              "      </button>\n",
              "      \n",
              "  <style>\n",
              "    .colab-df-container {\n",
              "      display:flex;\n",
              "      flex-wrap:wrap;\n",
              "      gap: 12px;\n",
              "    }\n",
              "\n",
              "    .colab-df-convert {\n",
              "      background-color: #E8F0FE;\n",
              "      border: none;\n",
              "      border-radius: 50%;\n",
              "      cursor: pointer;\n",
              "      display: none;\n",
              "      fill: #1967D2;\n",
              "      height: 32px;\n",
              "      padding: 0 0 0 0;\n",
              "      width: 32px;\n",
              "    }\n",
              "\n",
              "    .colab-df-convert:hover {\n",
              "      background-color: #E2EBFA;\n",
              "      box-shadow: 0px 1px 2px rgba(60, 64, 67, 0.3), 0px 1px 3px 1px rgba(60, 64, 67, 0.15);\n",
              "      fill: #174EA6;\n",
              "    }\n",
              "\n",
              "    [theme=dark] .colab-df-convert {\n",
              "      background-color: #3B4455;\n",
              "      fill: #D2E3FC;\n",
              "    }\n",
              "\n",
              "    [theme=dark] .colab-df-convert:hover {\n",
              "      background-color: #434B5C;\n",
              "      box-shadow: 0px 1px 3px 1px rgba(0, 0, 0, 0.15);\n",
              "      filter: drop-shadow(0px 1px 2px rgba(0, 0, 0, 0.3));\n",
              "      fill: #FFFFFF;\n",
              "    }\n",
              "  </style>\n",
              "\n",
              "      <script>\n",
              "        const buttonEl =\n",
              "          document.querySelector('#df-b1c60d84-0d77-47fa-a835-74485f8374ca button.colab-df-convert');\n",
              "        buttonEl.style.display =\n",
              "          google.colab.kernel.accessAllowed ? 'block' : 'none';\n",
              "\n",
              "        async function convertToInteractive(key) {\n",
              "          const element = document.querySelector('#df-b1c60d84-0d77-47fa-a835-74485f8374ca');\n",
              "          const dataTable =\n",
              "            await google.colab.kernel.invokeFunction('convertToInteractive',\n",
              "                                                     [key], {});\n",
              "          if (!dataTable) return;\n",
              "\n",
              "          const docLinkHtml = 'Like what you see? Visit the ' +\n",
              "            '<a target=\"_blank\" href=https://colab.research.google.com/notebooks/data_table.ipynb>data table notebook</a>'\n",
              "            + ' to learn more about interactive tables.';\n",
              "          element.innerHTML = '';\n",
              "          dataTable['output_type'] = 'display_data';\n",
              "          await google.colab.output.renderOutput(dataTable, element);\n",
              "          const docLink = document.createElement('div');\n",
              "          docLink.innerHTML = docLinkHtml;\n",
              "          element.appendChild(docLink);\n",
              "        }\n",
              "      </script>\n",
              "    </div>\n",
              "  </div>\n",
              "  "
            ]
          },
          "metadata": {},
          "execution_count": 56
        }
      ]
    },
    {
      "cell_type": "code",
      "source": [
        "# sum the sunduration for each day\n",
        "sundur_day_BER1 = sundur_hour_avg_BER.groupby(level=['month', 'day']).agg({'sunduration_BER': np.nansum})\n",
        "# sundur_day_BER1\n"
      ],
      "metadata": {
        "id": "4l1RP6cQpEfw"
      },
      "execution_count": null,
      "outputs": []
    },
    {
      "cell_type": "code",
      "source": [
        "fig2, (ax3, ax4) = plt.subplots(2, figsize=(10, 8))\n",
        "\n",
        "x_pos = range(1, 366)\n",
        "x_tick_pos = [0, 31, 59, 90, 120, 151, 181, 212, 243, 273, 304, 334, 365]\n",
        "months = [\"Jan\", \"Feb\", \"Mar\", \"Apr\", \"May\", \"June\", \"July\", \"Aug\", \"Sept\", \"Oct\", \"Nov\", \"Dec\", \"\"]\n",
        "ax3.set_xticks(x_tick_pos)\n",
        "ax3.set_xticklabels(months)\n",
        "ax4.set_xticks(x_tick_pos)\n",
        "ax4.set_xticklabels([])\n",
        "\n",
        "sns.lineplot(data=clouds_day_BER, x=x_pos, y='cloudcover_BER', ax=ax3, label='Berlin')\n",
        "sns.lineplot(data=clouds_day_DC, x=x_pos, y='cloudcover_DC', ax=ax3, label='DC')\n",
        "\n",
        "sns.lineplot(data=sundur_day_BER1, x=x_pos, y='sunduration_BER', ax=ax4, label='Berlin', legend=False)\n",
        "sns.lineplot(data=sundur_day_DC1, x=x_pos, y='sunduration_DC', ax=ax4, label='DC', legend=False)\n",
        "\n",
        "ax3.set_title(\"Berlin vs Washington, D.C. Average Overcast (2016-2021)\")\n",
        "ax3.set_ylabel(\"% Cloud Cover\")\n",
        "ax4.set_ylabel(\"Daily Minutes of Sunshine\")\n",
        "\n",
        "ax3.legend(loc='upper center')\n",
        "plt.tight_layout()\n",
        "\n",
        "# plt.savefig('Berlin vs Washington, D.C. Average Percent Cloud Cover (2016-2021).png')"
      ],
      "metadata": {
        "colab": {
          "base_uri": "https://localhost:8080/",
          "height": 581
        },
        "id": "6OvLxnmd2dSP",
        "outputId": "f5dfb0eb-b223-406b-cca3-e693ed3dacf3"
      },
      "execution_count": null,
      "outputs": [
        {
          "output_type": "display_data",
          "data": {
            "text/plain": [
              "<Figure size 720x576 with 2 Axes>"
            ],
            "image/png": "[encoded data removed]"
          },
          "metadata": {}
        }
      ]
    }
  ],
  "metadata": {
    "colab": {
      "provenance": [],
      "toc_visible": true,
      "collapsed_sections": [
        "Xsxtnoa3WuMr",
        "e2HiL4WrW9KE"
      ],
      "include_colab_link": true
    },
    "kernelspec": {
      "display_name": "Python 3",
      "language": "python",
      "name": "python3"
    },
    "language_info": {
      "codemirror_mode": {
        "name": "ipython",
        "version": 3
      },
      "file_extension": ".py",
      "mimetype": "text/x-python",
      "name": "python",
      "nbconvert_exporter": "python",
      "pygments_lexer": "ipython3",
      "version": "3.5.2"
    }
  },
  "nbformat": 4,
  "nbformat_minor": 0
}