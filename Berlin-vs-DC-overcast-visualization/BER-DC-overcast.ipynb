{
  "cells": [
    {
      "cell_type": "markdown",
      "metadata": {
        "id": "view-in-github",
        "colab_type": "text"
      },
      "source": [
        "<a href=\"https://colab.research.google.com/github/yasp-g/portfolio/blob/main/Berlin-vs-DC-overcast-visualization/BER-DC-overcast.ipynb\" target=\"_parent\"><img src=\"https://colab.research.google.com/assets/colab-badge.svg\" alt=\"Open In Colab\"/></a>"
      ]
    },
    {
      "cell_type": "markdown",
      "metadata": {
        "id": "LcxHF7F_ATv-"
      },
      "source": [
        "# Becoming an Independent Data Scientist"
      ]
    },
    {
      "cell_type": "markdown",
      "metadata": {
        "id": "GBvEogI7BH5J"
      },
      "source": [
        "## Region and Domain\n",
        "\n",
        "The region and domain of interest for the project are: **South Lyon, Michigan, United States** and **religious events or traditions**."
      ]
    },
    {
      "cell_type": "markdown",
      "metadata": {
        "id": "8ko4r3kzBgdV"
      },
      "source": [
        "## Research Question\n",
        "\n",
        "How does the "
      ]
    },
    {
      "cell_type": "code",
      "execution_count": null,
      "metadata": {
        "id": "w2UIK3VLC1hJ"
      },
      "outputs": [],
      "source": []
    },
    {
      "cell_type": "markdown",
      "metadata": {
        "id": "taHSMBpbBwit"
      },
      "source": [
        "## Data Sources\n",
        "\n",
        "### Germany data:\n",
        "#### main Page:\n",
        "https://www.dwd.de/DE/klimaumwelt/cdc/cdc_node.html\n",
        "\n",
        "#### Berlin Alexanderplatz sun (from 2015 to present):\n",
        "https://opendata.dwd.de/climate_environment/CDC/observations_germany/climate_urban/hourly/sun/recent/\n",
        "\n",
        "#### Berlin Alexanderplatz sun (from 2015 to present):\n",
        "https://opendata.dwd.de/climate_environment/CDC/observations_germany/climate_urban/hourly/air_temperature/recent/\n",
        "\n",
        "### Washington, DC data:\n",
        "#### Main page:\n",
        "https://www.ncei.noaa.gov/cdo-web/datasets#LCD\n",
        "\n",
        "\n",
        "#### Search page:\n",
        "https://www.ncei.noaa.gov/cdo-web/datatools/lcd\n",
        "\n",
        "\n"
      ]
    },
    {
      "cell_type": "markdown",
      "metadata": {
        "id": "IHrTv9Fyf6Zf"
      },
      "source": [
        "### Sketchy link US climatology data with average sunshine\n",
        "https://www2.census.gov/library/publications/2010/compendia/statab/130ed/tables/11s0394.xls"
      ]
    },
    {
      "cell_type": "markdown",
      "metadata": {
        "id": "oLyoqAAcB4X-"
      },
      "source": [
        "## Image"
      ]
    },
    {
      "cell_type": "markdown",
      "metadata": {
        "id": "am8E6AreB6Ud"
      },
      "source": [
        "## Discussion"
      ]
    },
    {
      "cell_type": "markdown",
      "metadata": {
        "id": "Xsxtnoa3WuMr"
      },
      "source": [
        "# Method"
      ]
    },
    {
      "cell_type": "markdown",
      "metadata": {
        "id": "e2HiL4WrW9KE"
      },
      "source": [
        "## Notebook Setup\n",
        "\n",
        "### Mount google drive"
      ]
    },
    {
      "cell_type": "code",
      "execution_count": 1,
      "metadata": {
        "id": "pYcEcC4sRmK3",
        "colab": {
          "base_uri": "https://localhost:8080/"
        },
        "outputId": "40b525d2-01b6-423d-df77-8c72fc57473e"
      },
      "outputs": [
        {
          "output_type": "stream",
          "name": "stdout",
          "text": [
            "Mounted at /content/drive\n"
          ]
        }
      ],
      "source": [
        "from google.colab import drive\n",
        "drive.mount('/content/drive')"
      ]
    },
    {
      "cell_type": "markdown",
      "metadata": {
        "id": "zHg1tMOCXKm_"
      },
      "source": [
        "### Download and import necessary libraries"
      ]
    },
    {
      "cell_type": "code",
      "execution_count": 2,
      "metadata": {
        "id": "9FY-Z3RA5Y8S"
      },
      "outputs": [],
      "source": [
        "%%capture\n",
        "!pip install remotezip"
      ]
    },
    {
      "cell_type": "code",
      "execution_count": 3,
      "metadata": {
        "id": "eNiwaS1OrpQJ"
      },
      "outputs": [],
      "source": [
        "import pandas as pd\n",
        "import numpy as np\n",
        "import datetime \n",
        "from remotezip import RemoteZip\n",
        "from itertools import groupby\n",
        "from operator import itemgetter\n",
        "\n",
        "import matplotlib.pyplot as plt"
      ]
    },
    {
      "cell_type": "markdown",
      "metadata": {
        "id": "56-AaiYlXPkX"
      },
      "source": [
        "## Load data"
      ]
    },
    {
      "cell_type": "markdown",
      "metadata": {
        "id": "iFRKBd2xXTr8"
      },
      "source": [
        "### Berlin Data\n",
        "\n",
        "The Berlin data was found from Germany's Deutsche Wetterdienst [Climate Data Center](https://www.dwd.de/DE/klimaumwelt/cdc/cdc_node.html). The CDC offers open access to a wide range of weather data all across Germany. One of the available weather stations is station ID 0399, in Berlin Alexanderplatz. This data is available in a remote directory, from which, sunshine duration (minutes) during each hour as far back as November 20th, 2015 is loaded below.\n",
        "\n",
        "This data will be loaded as `df_ber`.\n",
        "\n",
        "Sunrise and sunset data will also be needed. This was found on https://sunrise.maplogs.com.\n",
        "\n",
        "This data will be loaded as `df_BERriseset`.\n"
      ]
    },
    {
      "cell_type": "code",
      "execution_count": 4,
      "metadata": {
        "id": "WunmBCKF4Mfb"
      },
      "outputs": [],
      "source": [
        "# define url of zipfile\n",
        "zip_name = \"https://opendata.dwd.de/climate_environment/CDC/observations_germany/climate_urban/hourly/sun/recent/stundenwerte_sun_399_akt.zip\"\n",
        "\n",
        "# use REmoteZip to unpack and load .txt datafile from remote directory\n",
        "with RemoteZip(zip_name) as ziploc:\n",
        "    for zip_info in ziploc.infolist():\n",
        "        # print(zip_info.filename)\n",
        "        pass\n",
        "    ziploc.extract('produkt_sun_399_akt.txt')"
      ]
    },
    {
      "cell_type": "code",
      "execution_count": 5,
      "metadata": {
        "id": "pG36nogtsCUg"
      },
      "outputs": [],
      "source": [
        "# read data from file\n",
        "df_ber = pd.read_csv('produkt_sun_399_akt.txt', sep=';')\n",
        "\n",
        "# strip whitespace from columns and drop 'eor' column\n",
        "df_ber.rename(columns=lambda x: x.strip(), inplace=True)\n",
        "df_ber.drop('eor', axis=1, inplace=True)\n",
        "# df_ber.info()"
      ]
    },
    {
      "cell_type": "code",
      "execution_count": 6,
      "metadata": {
        "id": "F-KCjWEmNGia"
      },
      "outputs": [],
      "source": [
        "# load data for df_BERriseset\n",
        "df_BERriseset = pd.read_csv('/content/drive/MyDrive/Colab Notebooks/Coursera Courses/Applied Data Science with Python Specialization - U Michigan/2. Applied Plotting, Charting & Data Representation in Python/Assignments/Assignment 4/Data/Berlin data/Sunshine/Sunrise&set_maplogsdotcom.csv')\n",
        "# df_BERriseset"
      ]
    },
    {
      "cell_type": "markdown",
      "metadata": {
        "id": "8P95jwRBcnY0"
      },
      "source": [
        "### DC Data\n",
        "\n",
        "DC climatological data was found using Visual Crossing's [Weather Data database](https://www.visualcrossing.com/weather-data). From this database, climatological data near Washington, DC for the years 2015 to 2021 was queired and loaded below. In this queiered data is \"cloudcover\" as a percent, for every hour of every day. Information on the exact weather station location is not provided.\n",
        "\n",
        "This data will be loaded as `df_dc`.\n",
        "\n",
        "Because cloudcover accounts for clouds during the night, sunrise and sunset data will also be needed. This was found using the National Oceanic and Atmospheric Administration's [Local Climatological Data tool](https://www.ncdc.noaa.gov/cdo-web/datatools/lcd). This data was recorded by the weather station at Washington Reagan National Airport.\n",
        "\n",
        "This data will be loaded as `df_DCriseset`."
      ]
    },
    {
      "cell_type": "code",
      "execution_count": 7,
      "metadata": {
        "id": "PqTtY_hvf5aB"
      },
      "outputs": [],
      "source": [
        "# define file path and names\n",
        "drive_path = '/content/drive/MyDrive/Colab Notebooks/Coursera Courses/Applied Data Science with Python Specialization - U Michigan/2. Applied Plotting, Charting & Data Representation in Python/Assignments/Assignment 4/Data/DC data/'\n",
        "dc1_file = 'washington_dc climatological 2015 to 2017.csv'\n",
        "dc2_file = 'washington_dc climatological 2018 to 2021.csv'\n",
        "\n",
        "# read files\n",
        "df_dc1 = pd.read_csv(drive_path + dc1_file)\n",
        "df_dc2 = pd.read_csv(drive_path + dc2_file)\n"
      ]
    },
    {
      "cell_type": "code",
      "execution_count": 8,
      "metadata": {
        "id": "zcxMz5g7WQI6"
      },
      "outputs": [],
      "source": [
        "# concatenate the two dc dataframes\n",
        "df_dc = pd.concat([df_dc1, df_dc2], ignore_index=True)\n",
        "# df_dc.info()"
      ]
    },
    {
      "cell_type": "code",
      "execution_count": 9,
      "metadata": {
        "id": "wgjte4L1N6qP",
        "colab": {
          "base_uri": "https://localhost:8080/"
        },
        "outputId": "d5e3c339-9707-4fb3-e15a-4b28f5103f88"
      },
      "outputs": [
        {
          "output_type": "stream",
          "name": "stderr",
          "text": [
            "/usr/local/lib/python3.8/dist-packages/IPython/core/interactiveshell.py:3326: DtypeWarning: Columns (35,36,42,43,44,50,52,74,76,77,90) have mixed types.Specify dtype option on import or set low_memory=False.\n",
            "  exec(code_obj, self.user_global_ns, self.user_ns)\n"
          ]
        }
      ],
      "source": [
        "# load data for df_DCriseset\n",
        "dc3_file = 'NOAA LCD washington daily data.csv'\n",
        "df_DCriseset = pd.read_csv(drive_path + dc3_file)"
      ]
    },
    {
      "cell_type": "markdown",
      "metadata": {
        "id": "ilNPleHKfPnT"
      },
      "source": [
        "### Filter dataframe columns and rename"
      ]
    },
    {
      "cell_type": "code",
      "execution_count": 10,
      "metadata": {
        "id": "A-f6GwkmejoU"
      },
      "outputs": [],
      "source": [
        "df_ber = df_ber[['MESS_DATUM', 'SONNENSCHEINDAUER']]\n",
        "df_ber = df_ber.rename(columns={'MESS_DATUM': 'datetime', 'SONNENSCHEINDAUER': 'sunduration'})\n",
        "df_dc = df_dc[['datetime', 'cloudcover']]\n",
        "\n",
        "df_BERriseset = df_BERriseset.rename(columns={'Date': 'datetime', 'Sunrise': 'sunrise_BER', 'Sunset': 'sunset_BER', 'Daylength': 'daylength_BER'})\n",
        "df_DCriseset = df_DCriseset[['DATE', 'Sunrise', 'Sunset']].dropna().reset_index(drop=True)\n",
        "df_DCriseset = df_DCriseset.rename(columns={'DATE': 'datetime', 'Sunrise': 'sunrise_DC', 'Sunset': 'sunset_DC'})"
      ]
    },
    {
      "cell_type": "code",
      "execution_count": 11,
      "metadata": {
        "id": "-cHMW2y4fB8R"
      },
      "outputs": [],
      "source": [
        "# df_ber, df_dc"
      ]
    },
    {
      "cell_type": "markdown",
      "metadata": {
        "id": "Nn4U2Bt1gR09"
      },
      "source": [
        "## Data Cleaning\n",
        "\n",
        "The dataframes are different lengths, and neither length equals the number of hours in the intended range (begining of 2016 to end of 2021) which is 52560."
      ]
    },
    {
      "cell_type": "markdown",
      "metadata": {
        "id": "_dOhRrB2hhkR"
      },
      "source": [
        "### Standardize datetime columns"
      ]
    },
    {
      "cell_type": "code",
      "execution_count": 12,
      "metadata": {
        "id": "cySIW9_Rhgo3"
      },
      "outputs": [],
      "source": [
        "# convert to datetime and sort df by datetime\n",
        "df_ber['datetime'] = pd.to_datetime(df_ber['datetime'], format='%Y%m%d%H')\n",
        "df_ber.sort_values('datetime', inplace=True)\n",
        "# df_ber['datetime'].head(30)"
      ]
    },
    {
      "cell_type": "code",
      "execution_count": 13,
      "metadata": {
        "id": "9bGCk-A3kbXW"
      },
      "outputs": [],
      "source": [
        "# convert to datetime and sort df by datetime\n",
        "df_dc['datetime'] = pd.to_datetime(df_dc['datetime'])\n",
        "df_dc.sort_values('datetime', inplace=True)"
      ]
    },
    {
      "cell_type": "code",
      "execution_count": 14,
      "metadata": {
        "id": "GvWoqWA-PBP6"
      },
      "outputs": [],
      "source": [
        "# convert to datetime\n",
        "df_BERriseset['datetime'] = pd.to_datetime(df_BERriseset['datetime'])"
      ]
    },
    {
      "cell_type": "code",
      "execution_count": 15,
      "metadata": {
        "id": "0o8k5aliO4nc"
      },
      "outputs": [],
      "source": [
        "# remove the time information and keep date information\n",
        "df_DCriseset['datetime'] = df_DCriseset['datetime'].str.split('T').str[0]\n",
        "# convert to datetime\n",
        "df_DCriseset['datetime'] = pd.to_datetime(df_DCriseset['datetime'])"
      ]
    },
    {
      "cell_type": "markdown",
      "metadata": {
        "id": "Bxq6qdjdlSzg"
      },
      "source": [
        "### Filter date range and add year, month, day, hour columns"
      ]
    },
    {
      "cell_type": "code",
      "execution_count": 16,
      "metadata": {
        "id": "5rdPVFCClV7Z",
        "colab": {
          "base_uri": "https://localhost:8080/"
        },
        "outputId": "98fc2163-29e5-4141-ae6b-113e823f2156"
      },
      "outputs": [
        {
          "output_type": "execute_result",
          "data": {
            "text/plain": [
              "(50269, 52608, 2192, 2192)"
            ]
          },
          "metadata": {},
          "execution_count": 16
        }
      ],
      "source": [
        "startdate = pd.to_datetime('1/1/2016')\n",
        "enddate = pd.to_datetime('1/1/2022')\n",
        "df_ber = df_ber[(df_ber['datetime'] >= startdate) & (df_ber['datetime'] < enddate)].reset_index(drop=True)\n",
        "# df_ber['year'] = df_ber['datetime'].dt.year\n",
        "# df_ber['month'] = df_ber['datetime'].dt.month\n",
        "# df_ber['day'] = df_ber['datetime'].dt.day\n",
        "# df_ber['hour'] = df_ber['datetime'].dt.hour\n",
        "# df_ber\n",
        "\n",
        "df_dc = df_dc[(df_dc['datetime'] >= startdate) & (df_dc['datetime'] < enddate)].reset_index(drop=True)\n",
        "# df_dc['year'] = df_dc['datetime'].dt.year\n",
        "# df_dc['month'] = df_dc['datetime'].dt.month\n",
        "# df_dc['day'] = df_dc['datetime'].dt.day\n",
        "# df_dc['hour'] = df_dc['datetime'].dt.hour\n",
        "# df_dc\n",
        "\n",
        "# df_DCriseset['year'] = df_DCriseset['datetime'].dt.year\n",
        "# df_DCriseset['month'] = df_DCriseset['datetime'].dt.month\n",
        "# df_DCriseset['day'] = df_DCriseset['datetime'].dt.day\n",
        "# df_DCriseset\n",
        "\n",
        "len(df_ber), len(df_dc), len(df_BERriseset), len(df_DCriseset)"
      ]
    },
    {
      "cell_type": "markdown",
      "metadata": {
        "id": "4empgnKM3gqN"
      },
      "source": [
        "### Remove Febuary 29th from data"
      ]
    },
    {
      "cell_type": "code",
      "execution_count": 17,
      "metadata": {
        "id": "zLaay_bk443Y",
        "colab": {
          "base_uri": "https://localhost:8080/"
        },
        "outputId": "a40534d7-eac4-43fc-fdcb-dc0169a6700f"
      },
      "outputs": [
        {
          "output_type": "execute_result",
          "data": {
            "text/plain": [
              "(50221, 52560, 2190, 2190)"
            ]
          },
          "metadata": {},
          "execution_count": 17
        }
      ],
      "source": [
        "df_ber = df_ber.drop(df_ber[(df_ber['datetime'].dt.month == 2) & \n",
        "                   (df_ber['datetime'].dt.day == 29)].index).reset_index(drop=True)\n",
        "df_dc = df_dc.drop(df_dc[(df_dc['datetime'].dt.month == 2) & \n",
        "                 (df_dc['datetime'].dt.day == 29)].index).reset_index(drop=True)\n",
        "df_BERriseset = df_BERriseset.drop(df_BERriseset[(df_BERriseset['datetime'].dt.month == 2) & \n",
        "                        (df_BERriseset['datetime'].dt.day == 29)].index).reset_index(drop=True)\n",
        "df_DCriseset = df_DCriseset.drop(df_DCriseset[(df_DCriseset['datetime'].dt.month == 2) & \n",
        "                       (df_DCriseset['datetime'].dt.day == 29)].index).reset_index(drop=True)\n",
        "\n",
        "len(df_ber), len(df_dc), len(df_BERriseset), len(df_DCriseset)"
      ]
    },
    {
      "cell_type": "code",
      "execution_count": 18,
      "metadata": {
        "id": "aYP4pRig3mEB"
      },
      "outputs": [],
      "source": [
        "# old method for removing lead day data:\n",
        "\n",
        "# df_ber = df_ber[~((df_ber['month'] == 2) & (df_ber['day'] == 29))].reset_index(drop=True)\n",
        "# df_dc = df_dc[~((df_dc['month'] == 2) & (df_dc['day'] == 29))].reset_index(drop=True)\n",
        "# df_DCriseset = df_DCriseset[~((df_DCriseset['month'] == 2) & (df_DCriseset['day'] == 29))].reset_index(drop=True)\n",
        "# len(df_ber), len(df_dc), len(df_DCriseset)"
      ]
    },
    {
      "cell_type": "markdown",
      "metadata": {
        "id": "Ai4ryKBmIs3m"
      },
      "source": [
        "### Duplicate Rows found in `dc_df`\n",
        "\n",
        "During the following \"Dealing with missing rows\" section, `dc_df` was found to have dupplicate datetime instances. This needs to be fixed first."
      ]
    },
    {
      "cell_type": "code",
      "execution_count": 19,
      "metadata": {
        "id": "I_lU3kqVIJCo",
        "colab": {
          "base_uri": "https://localhost:8080/"
        },
        "outputId": "22c32807-f49b-47c5-bf46-a99872d0ef86"
      },
      "outputs": [
        {
          "output_type": "stream",
          "name": "stdout",
          "text": [
            "2019-11-03 01:00:00    2\n",
            "2020-11-01 01:00:00    2\n",
            "2016-11-06 01:00:00    2\n",
            "2018-11-04 01:00:00    2\n",
            "2017-11-05 01:00:00    2\n",
            "2021-11-07 01:00:00    2\n",
            "Name: datetime, dtype: int64\n"
          ]
        }
      ],
      "source": [
        "dc_datevc = df_dc['datetime'].value_counts()\n",
        "print(dc_datevc[dc_datevc > 1])"
      ]
    },
    {
      "cell_type": "code",
      "execution_count": 20,
      "metadata": {
        "id": "TePuScalITZ4",
        "colab": {
          "base_uri": "https://localhost:8080/"
        },
        "outputId": "2fd74bbf-b4d5-42ab-d1ca-5d38f151a59e"
      },
      "outputs": [
        {
          "output_type": "stream",
          "name": "stdout",
          "text": [
            "                 datetime  cloudcover\n",
            "33624 2019-11-03 01:00:00         0.0\n",
            "33625 2019-11-03 01:00:00         0.0\n",
            "                 datetime  cloudcover\n",
            "24888 2018-11-04 01:00:00         0.0\n",
            "24889 2018-11-04 01:00:00         0.0\n",
            "                datetime  cloudcover\n",
            "7416 2016-11-06 01:00:00         0.0\n",
            "7417 2016-11-06 01:00:00         0.0\n",
            "                 datetime  cloudcover\n",
            "24888 2018-11-04 01:00:00         0.0\n",
            "24889 2018-11-04 01:00:00         0.0\n",
            "                 datetime  cloudcover\n",
            "16152 2017-11-05 01:00:00       100.0\n",
            "16153 2017-11-05 01:00:00       100.0\n",
            "                 datetime  cloudcover\n",
            "51240 2021-11-07 01:00:00        79.3\n",
            "51241 2021-11-07 01:00:00        90.1\n"
          ]
        }
      ],
      "source": [
        "print(df_dc[df_dc['datetime'] == '2019-11-03 01:00:00'])\n",
        "print(df_dc[df_dc['datetime'] == '2018-11-04 01:00:00'])\n",
        "print(df_dc[df_dc['datetime'] == '2016-11-06 01:00:00'])\n",
        "print(df_dc[df_dc['datetime'] == '2018-11-04 01:00:00'])\n",
        "print(df_dc[df_dc['datetime'] == '2017-11-05 01:00:00'])\n",
        "print(df_dc[df_dc['datetime'] == '2021-11-07 01:00:00'])"
      ]
    },
    {
      "cell_type": "markdown",
      "metadata": {
        "id": "F9cjbYL1JJRN"
      },
      "source": [
        "During an earlier check, it was confirmed that each year had the appropriate number of values... (there are 8760 hours in a year)\n",
        "\n",
        "Shown again:"
      ]
    },
    {
      "cell_type": "code",
      "execution_count": 21,
      "metadata": {
        "id": "61t2KCSMIsTN",
        "colab": {
          "base_uri": "https://localhost:8080/"
        },
        "outputId": "2dccd9a2-20a9-4976-8fa8-52197ad67c2a"
      },
      "outputs": [
        {
          "output_type": "stream",
          "name": "stdout",
          "text": [
            "year: 2016\n",
            "rows: 8760\n",
            "year: 2017\n",
            "rows: 8760\n",
            "year: 2018\n",
            "rows: 8760\n",
            "year: 2019\n",
            "rows: 8760\n",
            "year: 2020\n",
            "rows: 8760\n",
            "year: 2021\n",
            "rows: 8760\n"
          ]
        }
      ],
      "source": [
        "for year in range(2016, 2022):\n",
        "  print(\"year:\", year)\n",
        "  print(\"rows:\", len(df_dc[df_dc['datetime'].dt.year == year]))\n"
      ]
    },
    {
      "cell_type": "markdown",
      "metadata": {
        "id": "dU5BMP-R8KqM"
      },
      "source": [
        "So, each year has the appropriate number of timestamps, yet every year has a duplicate time stamp in November.\n",
        "\n",
        "After some investigation, each year was found to be missing a timestamp in march:"
      ]
    },
    {
      "cell_type": "code",
      "execution_count": 22,
      "metadata": {
        "id": "kfQnDbObNP35",
        "colab": {
          "base_uri": "https://localhost:8080/"
        },
        "outputId": "01009a8f-2244-4737-c7c3-e86e7fbd662d"
      },
      "outputs": [
        {
          "output_type": "execute_result",
          "data": {
            "text/plain": [
              "DatetimeIndex(['2016-03-13 02:00:00', '2017-03-12 02:00:00',\n",
              "               '2018-03-11 02:00:00', '2019-03-10 02:00:00',\n",
              "               '2020-03-08 02:00:00', '2021-03-14 02:00:00'],\n",
              "              dtype='datetime64[ns]', freq=None)"
            ]
          },
          "metadata": {},
          "execution_count": 22
        }
      ],
      "source": [
        "# create a date range with all hours in the target range and lead days removed\n",
        "daterange = pd.date_range(start='2016-01-01', end='2022-01-01', freq='H', closed='left')\n",
        "leap=[]\n",
        "for stamp in daterange:\n",
        "    if stamp.month==2 and stamp.day ==29:\n",
        "        leap.append(stamp)\n",
        "daterange = daterange.drop(leap)\n",
        "\n",
        "# check the difference between the date range and df_dc range\n",
        "# this will show any missing values\n",
        "daterange.difference(df_dc['datetime'])"
      ]
    },
    {
      "cell_type": "code",
      "execution_count": 23,
      "metadata": {
        "id": "ooy1hBG0LEPt"
      },
      "outputs": [],
      "source": [
        "# df_dc[(df_dc['year'] == 2016) & (df_dc['month'] == 3)]\n",
        "\n",
        "# df_dc[(df_dc['year'] == 2016) & (df_dc['month'] == 11)]"
      ]
    },
    {
      "cell_type": "markdown",
      "metadata": {
        "id": "ZCzYDqgaChDq"
      },
      "source": [
        "At this point, the proper step would be to contact the data provider to gain some context as to what may be causing this issue and determine a path forward together. \n",
        "\n",
        "For the sake of this project, it will be interpreted that all time stamps between the missing timestamp in March and the duplicate timestamp in November are one hour \"late\". All timestamps in this range will be shifted forwards one hour (only the first instance of a duplicated timestamp will be shifted)."
      ]
    },
    {
      "cell_type": "markdown",
      "metadata": {
        "id": "7CTdkYvADV3m"
      },
      "source": [
        "#### Shifting offset timestamps"
      ]
    },
    {
      "cell_type": "code",
      "execution_count": 24,
      "metadata": {
        "id": "r2v1E9L9J3DS"
      },
      "outputs": [],
      "source": [
        "# get missing times from march and duplicate times from november in lists\n",
        "miss_times = daterange.difference(df_dc['datetime']).sort_values()\n",
        "dc_datevc = df_dc['datetime'].value_counts()\n",
        "dup_times = dc_datevc[dc_datevc > 1].index.sort_values()\n",
        "\n",
        "# iterate over zip of missing and duplicate times and shift timestamps inbetween by 1 hour\n",
        "for year in zip(miss_times, dup_times):\n",
        "  # print(f'Missing March hour: {year[0]}')\n",
        "  # print(f'Duplicate Nov hour: {year[1]}')\n",
        "  df_dc.datetime = df_dc.datetime.map(lambda x: x - pd.Timedelta(1, 'h') if \n",
        "                                      (year[0] < x) & (x < year[1]) else x)\n",
        "# print('')\n",
        "\n",
        "# shift the first occurance of each duplicate timestamp forward one hour\n",
        "for duplicate in dup_times:\n",
        "  if dup_times.empty:\n",
        "    break\n",
        "  # print(df_dc[df_dc['datetime'] == duplicate])\n",
        "  index = df_dc.index[df_dc['datetime'] == duplicate][0]\n",
        "  # print(f\"Index: {index}\")\n",
        "  # print(f\"Value before: {df_dc['datetime'].iloc[index]}\")\n",
        "  df_dc.loc[index, 'datetime'] -=  pd.Timedelta(1, 'h')\n",
        "  # print(f\"Value after: {df_dc['datetime'].iloc[index]}\")"
      ]
    },
    {
      "cell_type": "code",
      "execution_count": 25,
      "metadata": {
        "id": "u6zZEeTXStr5",
        "colab": {
          "base_uri": "https://localhost:8080/"
        },
        "outputId": "c548d300-a3d1-4f24-a269-3c11ffb830c0"
      },
      "outputs": [
        {
          "output_type": "execute_result",
          "data": {
            "text/plain": [
              "DatetimeIndex([], dtype='datetime64[ns]', freq=None)"
            ]
          },
          "metadata": {},
          "execution_count": 25
        }
      ],
      "source": [
        "daterange.difference(df_dc['datetime']).sort_values()"
      ]
    },
    {
      "cell_type": "code",
      "execution_count": 26,
      "metadata": {
        "id": "g-Ss7yOcU5Ra",
        "colab": {
          "base_uri": "https://localhost:8080/"
        },
        "outputId": "e0fe482f-444a-4407-c204-b56bcb036d9e"
      },
      "outputs": [
        {
          "output_type": "execute_result",
          "data": {
            "text/plain": [
              "2016-01-01 00:00:00    1\n",
              "2020-01-01 05:00:00    1\n",
              "2019-12-31 19:00:00    1\n",
              "2019-12-31 20:00:00    1\n",
              "2019-12-31 21:00:00    1\n",
              "                      ..\n",
              "2018-01-01 01:00:00    1\n",
              "2018-01-01 02:00:00    1\n",
              "2018-01-01 03:00:00    1\n",
              "2018-01-01 04:00:00    1\n",
              "2021-12-31 23:00:00    1\n",
              "Name: datetime, Length: 52560, dtype: int64"
            ]
          },
          "metadata": {},
          "execution_count": 26
        }
      ],
      "source": [
        "df_dc['datetime'].value_counts()"
      ]
    },
    {
      "cell_type": "markdown",
      "metadata": {
        "id": "TkRSoIE-8lpt"
      },
      "source": [
        "### Dealing with missing rows in `df_ber` and creating `df`\n",
        "\n",
        "`df_ber` only has 50221 rows. To make investigating this a little easier, the datetime series with all hours in the target date range created earlier will be used as the foundation of a dataframe into which, both `df_ber` and `df_dc` will be left merged. This dataframe will be called `df`."
      ]
    },
    {
      "cell_type": "code",
      "execution_count": 27,
      "metadata": {
        "id": "YiEm804m02rA"
      },
      "outputs": [],
      "source": [
        "df = pd.DataFrame(daterange, columns=['datetime'])\n",
        "df = pd.merge(df, df_ber[['datetime', 'sunduration']], how='left', on='datetime')\n",
        "df = pd.merge(df, df_dc[['datetime', 'cloudcover']], how='left', on='datetime')\n",
        "df = df.rename(columns={'sunduration': 'sunduration_BER', 'cloudcover': 'cloudcover_DC'})\n",
        "# df"
      ]
    },
    {
      "cell_type": "code",
      "execution_count": 28,
      "metadata": {
        "id": "__sDzcjFzIXe",
        "colab": {
          "base_uri": "https://localhost:8080/",
          "height": 424
        },
        "outputId": "081ed882-1ece-4203-9183-fc18b61c5272"
      },
      "outputs": [
        {
          "output_type": "execute_result",
          "data": {
            "text/plain": [
              "                 datetime  sunduration_BER  cloudcover_DC\n",
              "0     2016-01-01 00:00:00              0.0           99.8\n",
              "1     2016-01-01 01:00:00              0.0          100.0\n",
              "2     2016-01-01 02:00:00              0.0           88.9\n",
              "3     2016-01-01 03:00:00              0.0           79.3\n",
              "4     2016-01-01 04:00:00              0.0           79.3\n",
              "...                   ...              ...            ...\n",
              "52555 2021-12-31 19:00:00              0.0           81.7\n",
              "52556 2021-12-31 20:00:00              0.0           98.3\n",
              "52557 2021-12-31 21:00:00              0.0           99.6\n",
              "52558 2021-12-31 22:00:00              0.0           99.6\n",
              "52559 2021-12-31 23:00:00              0.0           99.6\n",
              "\n",
              "[52560 rows x 3 columns]"
            ],
            "text/html": [
              "\n",
              "  <div id=\"df-36bad0c9-5da4-4ca3-8be7-6e6c96debc37\">\n",
              "    <div class=\"colab-df-container\">\n",
              "      <div>\n",
              "<style scoped>\n",
              "    .dataframe tbody tr th:only-of-type {\n",
              "        vertical-align: middle;\n",
              "    }\n",
              "\n",
              "    .dataframe tbody tr th {\n",
              "        vertical-align: top;\n",
              "    }\n",
              "\n",
              "    .dataframe thead th {\n",
              "        text-align: right;\n",
              "    }\n",
              "</style>\n",
              "<table border=\"1\" class=\"dataframe\">\n",
              "  <thead>\n",
              "    <tr style=\"text-align: right;\">\n",
              "      <th></th>\n",
              "      <th>datetime</th>\n",
              "      <th>sunduration_BER</th>\n",
              "      <th>cloudcover_DC</th>\n",
              "    </tr>\n",
              "  </thead>\n",
              "  <tbody>\n",
              "    <tr>\n",
              "      <th>0</th>\n",
              "      <td>2016-01-01 00:00:00</td>\n",
              "      <td>0.0</td>\n",
              "      <td>99.8</td>\n",
              "    </tr>\n",
              "    <tr>\n",
              "      <th>1</th>\n",
              "      <td>2016-01-01 01:00:00</td>\n",
              "      <td>0.0</td>\n",
              "      <td>100.0</td>\n",
              "    </tr>\n",
              "    <tr>\n",
              "      <th>2</th>\n",
              "      <td>2016-01-01 02:00:00</td>\n",
              "      <td>0.0</td>\n",
              "      <td>88.9</td>\n",
              "    </tr>\n",
              "    <tr>\n",
              "      <th>3</th>\n",
              "      <td>2016-01-01 03:00:00</td>\n",
              "      <td>0.0</td>\n",
              "      <td>79.3</td>\n",
              "    </tr>\n",
              "    <tr>\n",
              "      <th>4</th>\n",
              "      <td>2016-01-01 04:00:00</td>\n",
              "      <td>0.0</td>\n",
              "      <td>79.3</td>\n",
              "    </tr>\n",
              "    <tr>\n",
              "      <th>...</th>\n",
              "      <td>...</td>\n",
              "      <td>...</td>\n",
              "      <td>...</td>\n",
              "    </tr>\n",
              "    <tr>\n",
              "      <th>52555</th>\n",
              "      <td>2021-12-31 19:00:00</td>\n",
              "      <td>0.0</td>\n",
              "      <td>81.7</td>\n",
              "    </tr>\n",
              "    <tr>\n",
              "      <th>52556</th>\n",
              "      <td>2021-12-31 20:00:00</td>\n",
              "      <td>0.0</td>\n",
              "      <td>98.3</td>\n",
              "    </tr>\n",
              "    <tr>\n",
              "      <th>52557</th>\n",
              "      <td>2021-12-31 21:00:00</td>\n",
              "      <td>0.0</td>\n",
              "      <td>99.6</td>\n",
              "    </tr>\n",
              "    <tr>\n",
              "      <th>52558</th>\n",
              "      <td>2021-12-31 22:00:00</td>\n",
              "      <td>0.0</td>\n",
              "      <td>99.6</td>\n",
              "    </tr>\n",
              "    <tr>\n",
              "      <th>52559</th>\n",
              "      <td>2021-12-31 23:00:00</td>\n",
              "      <td>0.0</td>\n",
              "      <td>99.6</td>\n",
              "    </tr>\n",
              "  </tbody>\n",
              "</table>\n",
              "<p>52560 rows × 3 columns</p>\n",
              "</div>\n",
              "      <button class=\"colab-df-convert\" onclick=\"convertToInteractive('df-36bad0c9-5da4-4ca3-8be7-6e6c96debc37')\"\n",
              "              title=\"Convert this dataframe to an interactive table.\"\n",
              "              style=\"display:none;\">\n",
              "        \n",
              "  <svg xmlns=\"http://www.w3.org/2000/svg\" height=\"24px\"viewBox=\"0 0 24 24\"\n",
              "       width=\"24px\">\n",
              "    <path d=\"M0 0h24v24H0V0z\" fill=\"none\"/>\n",
              "    <path d=\"M18.56 5.44l.94 2.06.94-2.06 2.06-.94-2.06-.94-.94-2.06-.94 2.06-2.06.94zm-11 1L8.5 8.5l.94-2.06 2.06-.94-2.06-.94L8.5 2.5l-.94 2.06-2.06.94zm10 10l.94 2.06.94-2.06 2.06-.94-2.06-.94-.94-2.06-.94 2.06-2.06.94z\"/><path d=\"M17.41 7.96l-1.37-1.37c-.4-.4-.92-.59-1.43-.59-.52 0-1.04.2-1.43.59L10.3 9.45l-7.72 7.72c-.78.78-.78 2.05 0 2.83L4 21.41c.39.39.9.59 1.41.59.51 0 1.02-.2 1.41-.59l7.78-7.78 2.81-2.81c.8-.78.8-2.07 0-2.86zM5.41 20L4 18.59l7.72-7.72 1.47 1.35L5.41 20z\"/>\n",
              "  </svg>\n",
              "      </button>\n",
              "      \n",
              "  <style>\n",
              "    .colab-df-container {\n",
              "      display:flex;\n",
              "      flex-wrap:wrap;\n",
              "      gap: 12px;\n",
              "    }\n",
              "\n",
              "    .colab-df-convert {\n",
              "      background-color: #E8F0FE;\n",
              "      border: none;\n",
              "      border-radius: 50%;\n",
              "      cursor: pointer;\n",
              "      display: none;\n",
              "      fill: #1967D2;\n",
              "      height: 32px;\n",
              "      padding: 0 0 0 0;\n",
              "      width: 32px;\n",
              "    }\n",
              "\n",
              "    .colab-df-convert:hover {\n",
              "      background-color: #E2EBFA;\n",
              "      box-shadow: 0px 1px 2px rgba(60, 64, 67, 0.3), 0px 1px 3px 1px rgba(60, 64, 67, 0.15);\n",
              "      fill: #174EA6;\n",
              "    }\n",
              "\n",
              "    [theme=dark] .colab-df-convert {\n",
              "      background-color: #3B4455;\n",
              "      fill: #D2E3FC;\n",
              "    }\n",
              "\n",
              "    [theme=dark] .colab-df-convert:hover {\n",
              "      background-color: #434B5C;\n",
              "      box-shadow: 0px 1px 3px 1px rgba(0, 0, 0, 0.15);\n",
              "      filter: drop-shadow(0px 1px 2px rgba(0, 0, 0, 0.3));\n",
              "      fill: #FFFFFF;\n",
              "    }\n",
              "  </style>\n",
              "\n",
              "      <script>\n",
              "        const buttonEl =\n",
              "          document.querySelector('#df-36bad0c9-5da4-4ca3-8be7-6e6c96debc37 button.colab-df-convert');\n",
              "        buttonEl.style.display =\n",
              "          google.colab.kernel.accessAllowed ? 'block' : 'none';\n",
              "\n",
              "        async function convertToInteractive(key) {\n",
              "          const element = document.querySelector('#df-36bad0c9-5da4-4ca3-8be7-6e6c96debc37');\n",
              "          const dataTable =\n",
              "            await google.colab.kernel.invokeFunction('convertToInteractive',\n",
              "                                                     [key], {});\n",
              "          if (!dataTable) return;\n",
              "\n",
              "          const docLinkHtml = 'Like what you see? Visit the ' +\n",
              "            '<a target=\"_blank\" href=https://colab.research.google.com/notebooks/data_table.ipynb>data table notebook</a>'\n",
              "            + ' to learn more about interactive tables.';\n",
              "          element.innerHTML = '';\n",
              "          dataTable['output_type'] = 'display_data';\n",
              "          await google.colab.output.renderOutput(dataTable, element);\n",
              "          const docLink = document.createElement('div');\n",
              "          docLink.innerHTML = docLinkHtml;\n",
              "          element.appendChild(docLink);\n",
              "        }\n",
              "      </script>\n",
              "    </div>\n",
              "  </div>\n",
              "  "
            ]
          },
          "metadata": {},
          "execution_count": 28
        }
      ],
      "source": [
        "df"
      ]
    },
    {
      "cell_type": "markdown",
      "metadata": {
        "id": "IRKFAwSI_Jlr"
      },
      "source": [
        "Most of the missing data is in the form of consecutive missing hours. For example, starting on May 25th, 2020, more than an entire month straight is missing (923 consecutive hours). "
      ]
    },
    {
      "cell_type": "code",
      "execution_count": 29,
      "metadata": {
        "id": "_y4y8klZFM_h",
        "colab": {
          "base_uri": "https://localhost:8080/"
        },
        "outputId": "79f621dd-2cad-486f-cb6e-0390ab2b7f32"
      },
      "outputs": [
        {
          "output_type": "stream",
          "name": "stdout",
          "text": [
            "2339\n"
          ]
        }
      ],
      "source": [
        "# get the rows where sunduration is nan\n",
        "no_sun_ind = df[df.isnull().any(axis=1)].index\n",
        "print(len(no_sun_ind))"
      ]
    },
    {
      "cell_type": "code",
      "execution_count": 30,
      "metadata": {
        "id": "4gCKzwG4Fepy",
        "colab": {
          "base_uri": "https://localhost:8080/"
        },
        "outputId": "defd878d-15a3-4571-a72d-fb17f3486e0f"
      },
      "outputs": [
        {
          "output_type": "stream",
          "name": "stdout",
          "text": [
            "(1, [2577])\n",
            "(23, [3017, 3018, 3019, 3020, 3021, 3022, 3023, 3024, 3025, 3026, 3027, 3028, 3029, 3030, 3031, 3032, 3033, 3034, 3035, 3036, 3037, 3038, 3039])\n",
            "(1, [3401])\n",
            "(1, [3648])\n",
            "(2, [3712, 3713])\n",
            "(1, [3790])\n",
            "(2, [4169, 4170])\n",
            "(4, [4191, 4192, 4193, 4194])\n",
            "(1, [4215])\n",
            "(14, [4303, 4304, 4305, 4306, 4307, 4308, 4309, 4310, 4311, 4312, 4313, 4314, 4315, 4316])\n"
          ]
        }
      ],
      "source": [
        "# create a series of tuples\n",
        "no_sun_segments = []\n",
        "for k, g in groupby(enumerate(no_sun_ind), lambda ix : ix[0] - ix[1]):\n",
        "  # print(\"Values:\")\n",
        "  series = list(map(itemgetter(1), g))\n",
        "  # print(series)\n",
        "  # print(f\"Number of values: {len(list(map(itemgetter(1), g)))}\")\n",
        "  no_sun_segments.append((len(series), series))\n",
        "\n",
        "print(*no_sun_segments[:10], sep='\\n')"
      ]
    },
    {
      "cell_type": "markdown",
      "metadata": {
        "id": "0829a8-qHzpO"
      },
      "source": [
        "The goal of this project is to compare monthy averages between Berlin and Washington, DC. So it's not very necesary to fill these large segments of missing data. As shown below, all months have atleast 80% of total possible data available. \n",
        "\n",
        "Smaller segments of missing data (1 or 2 consecutive hours) will be replaced by averaging the preceding and following readings. This accounts for 5.86% of the missing data."
      ]
    },
    {
      "cell_type": "code",
      "execution_count": 31,
      "metadata": {
        "id": "NOARVSvv47Oc",
        "colab": {
          "base_uri": "https://localhost:8080/"
        },
        "outputId": "7a2a00f7-8c1b-4b98-bc59-036ed1c4d355"
      },
      "outputs": [
        {
          "output_type": "stream",
          "name": "stdout",
          "text": [
            "month: 1\n",
            "Num of values: 4460\n",
            "% of data available: 99.9\n",
            "\n",
            "month: 2\n",
            "Num of values: 3864\n",
            "% of data available: 95.8\n",
            "\n",
            "month: 3\n",
            "Num of values: 4453\n",
            "% of data available: 99.8\n",
            "\n",
            "month: 4\n",
            "Num of values: 4223\n",
            "% of data available: 97.8\n",
            "\n",
            "month: 5\n",
            "Num of values: 4147\n",
            "% of data available: 92.9\n",
            "\n",
            "month: 6\n",
            "Num of values: 3456\n",
            "% of data available: 80.0\n",
            "\n",
            "month: 7\n",
            "Num of values: 4183\n",
            "% of data available: 93.7\n",
            "\n",
            "month: 8\n",
            "Num of values: 4187\n",
            "% of data available: 93.8\n",
            "\n",
            "month: 9\n",
            "Num of values: 4273\n",
            "% of data available: 98.9\n",
            "\n",
            "month: 10\n",
            "Num of values: 4268\n",
            "% of data available: 95.6\n",
            "\n",
            "month: 11\n",
            "Num of values: 4304\n",
            "% of data available: 99.6\n",
            "\n",
            "month: 12\n",
            "Num of values: 4403\n",
            "% of data available: 98.6\n",
            "\n"
          ]
        }
      ],
      "source": [
        "# dict of months with their total hours as values\n",
        "month_hours = {1: 4464, 2: 4032, 3: 4464, 4: 4320, 5: 4464, 6: 4320, 7: 4464, 8: 4464, 9: 4320, 10: 4464, 11: 4320, 12:4464}\n",
        "\n",
        "for month in range(1, 13):\n",
        "  print(\"month:\", month)\n",
        "  vals_count = len(df[df['datetime'].dt.month == month].dropna())\n",
        "  print(\"Num of values:\", vals_count)\n",
        "  print(\"% of data available:\", round((vals_count / month_hours[month] * 100), 1))\n",
        "  print(\"\")"
      ]
    },
    {
      "cell_type": "code",
      "execution_count": 32,
      "metadata": {
        "id": "ORrcGMjznFAs",
        "colab": {
          "base_uri": "https://localhost:8080/"
        },
        "outputId": "7143c291-6d25-4603-8313-5c52c1837b20"
      },
      "outputs": [
        {
          "output_type": "stream",
          "name": "stdout",
          "text": [
            "Total rows from single or double missing segments: 137\n",
            "Percent of missing rows made up of single or double segments: 5.86\n"
          ]
        }
      ],
      "source": [
        "ones_and_twos_count = 0\n",
        "for segment in no_sun_segments:\n",
        "  if segment[0] == 1:\n",
        "    ones_and_twos_count += 1\n",
        "  elif segment[0] == 2:\n",
        "    ones_and_twos_count += 2\n",
        "print(\"Total rows from single or double missing segments:\", ones_and_twos_count)\n",
        "print(\"Percent of missing rows made up of single or double segments:\", \n",
        "      round((ones_and_twos_count / len(no_sun_ind) * 100), 2))"
      ]
    },
    {
      "cell_type": "markdown",
      "metadata": {
        "id": "6kVcjSCLZTBx"
      },
      "source": [
        "#### Filling single and double missing segments in `sunduration`\n",
        "\n",
        "Occurances of just one or two consecutive missing readings will be filled with the average of the preceading and following readings."
      ]
    },
    {
      "cell_type": "code",
      "execution_count": 33,
      "metadata": {
        "id": "952rpmeVaGjN"
      },
      "outputs": [],
      "source": [
        "for segment in no_sun_segments:\n",
        "  if segment[0] == 1:\n",
        "    preceding = df.loc[segment[1][0] - 1, 'sunduration_BER']\n",
        "    following = df.loc[segment[1][0] + 1, 'sunduration_BER']\n",
        "    df.loc[segment[1], 'sunduration_BER'] = (preceding + following) * 0.5\n",
        "  elif segment[0] == 2:\n",
        "    preceding = df.loc[segment[1][0] - 1, 'sunduration_BER']\n",
        "    following = df.loc[segment[1][1] + 1, 'sunduration_BER']\n",
        "    df.loc[segment[1][0], 'sunduration_BER'] = (preceding + following) * 0.5\n",
        "    df.loc[segment[1][1], 'sunduration_BER'] = (preceding + following) * 0.5"
      ]
    },
    {
      "cell_type": "markdown",
      "source": [
        "### Setting `df['datetime']` as `df.index` \n",
        "\n",
        "This will make using the `pd.groupby()` method easier during the **Data Analysis** section below.\n",
        "\n"
      ],
      "metadata": {
        "id": "H1JR-hWG8R_g"
      }
    },
    {
      "cell_type": "code",
      "source": [
        "df.set_index('datetime', inplace=True)\n",
        "df"
      ],
      "metadata": {
        "id": "ShY0dXlY8pEu",
        "colab": {
          "base_uri": "https://localhost:8080/",
          "height": 455
        },
        "outputId": "1f56f69d-634f-429f-b17d-e886ed7161d4"
      },
      "execution_count": 34,
      "outputs": [
        {
          "output_type": "execute_result",
          "data": {
            "text/plain": [
              "                     sunduration_BER  cloudcover_DC\n",
              "datetime                                           \n",
              "2016-01-01 00:00:00              0.0           99.8\n",
              "2016-01-01 01:00:00              0.0          100.0\n",
              "2016-01-01 02:00:00              0.0           88.9\n",
              "2016-01-01 03:00:00              0.0           79.3\n",
              "2016-01-01 04:00:00              0.0           79.3\n",
              "...                              ...            ...\n",
              "2021-12-31 19:00:00              0.0           81.7\n",
              "2021-12-31 20:00:00              0.0           98.3\n",
              "2021-12-31 21:00:00              0.0           99.6\n",
              "2021-12-31 22:00:00              0.0           99.6\n",
              "2021-12-31 23:00:00              0.0           99.6\n",
              "\n",
              "[52560 rows x 2 columns]"
            ],
            "text/html": [
              "\n",
              "  <div id=\"df-eefb41e5-f175-40bf-a189-aa8035069df5\">\n",
              "    <div class=\"colab-df-container\">\n",
              "      <div>\n",
              "<style scoped>\n",
              "    .dataframe tbody tr th:only-of-type {\n",
              "        vertical-align: middle;\n",
              "    }\n",
              "\n",
              "    .dataframe tbody tr th {\n",
              "        vertical-align: top;\n",
              "    }\n",
              "\n",
              "    .dataframe thead th {\n",
              "        text-align: right;\n",
              "    }\n",
              "</style>\n",
              "<table border=\"1\" class=\"dataframe\">\n",
              "  <thead>\n",
              "    <tr style=\"text-align: right;\">\n",
              "      <th></th>\n",
              "      <th>sunduration_BER</th>\n",
              "      <th>cloudcover_DC</th>\n",
              "    </tr>\n",
              "    <tr>\n",
              "      <th>datetime</th>\n",
              "      <th></th>\n",
              "      <th></th>\n",
              "    </tr>\n",
              "  </thead>\n",
              "  <tbody>\n",
              "    <tr>\n",
              "      <th>2016-01-01 00:00:00</th>\n",
              "      <td>0.0</td>\n",
              "      <td>99.8</td>\n",
              "    </tr>\n",
              "    <tr>\n",
              "      <th>2016-01-01 01:00:00</th>\n",
              "      <td>0.0</td>\n",
              "      <td>100.0</td>\n",
              "    </tr>\n",
              "    <tr>\n",
              "      <th>2016-01-01 02:00:00</th>\n",
              "      <td>0.0</td>\n",
              "      <td>88.9</td>\n",
              "    </tr>\n",
              "    <tr>\n",
              "      <th>2016-01-01 03:00:00</th>\n",
              "      <td>0.0</td>\n",
              "      <td>79.3</td>\n",
              "    </tr>\n",
              "    <tr>\n",
              "      <th>2016-01-01 04:00:00</th>\n",
              "      <td>0.0</td>\n",
              "      <td>79.3</td>\n",
              "    </tr>\n",
              "    <tr>\n",
              "      <th>...</th>\n",
              "      <td>...</td>\n",
              "      <td>...</td>\n",
              "    </tr>\n",
              "    <tr>\n",
              "      <th>2021-12-31 19:00:00</th>\n",
              "      <td>0.0</td>\n",
              "      <td>81.7</td>\n",
              "    </tr>\n",
              "    <tr>\n",
              "      <th>2021-12-31 20:00:00</th>\n",
              "      <td>0.0</td>\n",
              "      <td>98.3</td>\n",
              "    </tr>\n",
              "    <tr>\n",
              "      <th>2021-12-31 21:00:00</th>\n",
              "      <td>0.0</td>\n",
              "      <td>99.6</td>\n",
              "    </tr>\n",
              "    <tr>\n",
              "      <th>2021-12-31 22:00:00</th>\n",
              "      <td>0.0</td>\n",
              "      <td>99.6</td>\n",
              "    </tr>\n",
              "    <tr>\n",
              "      <th>2021-12-31 23:00:00</th>\n",
              "      <td>0.0</td>\n",
              "      <td>99.6</td>\n",
              "    </tr>\n",
              "  </tbody>\n",
              "</table>\n",
              "<p>52560 rows × 2 columns</p>\n",
              "</div>\n",
              "      <button class=\"colab-df-convert\" onclick=\"convertToInteractive('df-eefb41e5-f175-40bf-a189-aa8035069df5')\"\n",
              "              title=\"Convert this dataframe to an interactive table.\"\n",
              "              style=\"display:none;\">\n",
              "        \n",
              "  <svg xmlns=\"http://www.w3.org/2000/svg\" height=\"24px\"viewBox=\"0 0 24 24\"\n",
              "       width=\"24px\">\n",
              "    <path d=\"M0 0h24v24H0V0z\" fill=\"none\"/>\n",
              "    <path d=\"M18.56 5.44l.94 2.06.94-2.06 2.06-.94-2.06-.94-.94-2.06-.94 2.06-2.06.94zm-11 1L8.5 8.5l.94-2.06 2.06-.94-2.06-.94L8.5 2.5l-.94 2.06-2.06.94zm10 10l.94 2.06.94-2.06 2.06-.94-2.06-.94-.94-2.06-.94 2.06-2.06.94z\"/><path d=\"M17.41 7.96l-1.37-1.37c-.4-.4-.92-.59-1.43-.59-.52 0-1.04.2-1.43.59L10.3 9.45l-7.72 7.72c-.78.78-.78 2.05 0 2.83L4 21.41c.39.39.9.59 1.41.59.51 0 1.02-.2 1.41-.59l7.78-7.78 2.81-2.81c.8-.78.8-2.07 0-2.86zM5.41 20L4 18.59l7.72-7.72 1.47 1.35L5.41 20z\"/>\n",
              "  </svg>\n",
              "      </button>\n",
              "      \n",
              "  <style>\n",
              "    .colab-df-container {\n",
              "      display:flex;\n",
              "      flex-wrap:wrap;\n",
              "      gap: 12px;\n",
              "    }\n",
              "\n",
              "    .colab-df-convert {\n",
              "      background-color: #E8F0FE;\n",
              "      border: none;\n",
              "      border-radius: 50%;\n",
              "      cursor: pointer;\n",
              "      display: none;\n",
              "      fill: #1967D2;\n",
              "      height: 32px;\n",
              "      padding: 0 0 0 0;\n",
              "      width: 32px;\n",
              "    }\n",
              "\n",
              "    .colab-df-convert:hover {\n",
              "      background-color: #E2EBFA;\n",
              "      box-shadow: 0px 1px 2px rgba(60, 64, 67, 0.3), 0px 1px 3px 1px rgba(60, 64, 67, 0.15);\n",
              "      fill: #174EA6;\n",
              "    }\n",
              "\n",
              "    [theme=dark] .colab-df-convert {\n",
              "      background-color: #3B4455;\n",
              "      fill: #D2E3FC;\n",
              "    }\n",
              "\n",
              "    [theme=dark] .colab-df-convert:hover {\n",
              "      background-color: #434B5C;\n",
              "      box-shadow: 0px 1px 3px 1px rgba(0, 0, 0, 0.15);\n",
              "      filter: drop-shadow(0px 1px 2px rgba(0, 0, 0, 0.3));\n",
              "      fill: #FFFFFF;\n",
              "    }\n",
              "  </style>\n",
              "\n",
              "      <script>\n",
              "        const buttonEl =\n",
              "          document.querySelector('#df-eefb41e5-f175-40bf-a189-aa8035069df5 button.colab-df-convert');\n",
              "        buttonEl.style.display =\n",
              "          google.colab.kernel.accessAllowed ? 'block' : 'none';\n",
              "\n",
              "        async function convertToInteractive(key) {\n",
              "          const element = document.querySelector('#df-eefb41e5-f175-40bf-a189-aa8035069df5');\n",
              "          const dataTable =\n",
              "            await google.colab.kernel.invokeFunction('convertToInteractive',\n",
              "                                                     [key], {});\n",
              "          if (!dataTable) return;\n",
              "\n",
              "          const docLinkHtml = 'Like what you see? Visit the ' +\n",
              "            '<a target=\"_blank\" href=https://colab.research.google.com/notebooks/data_table.ipynb>data table notebook</a>'\n",
              "            + ' to learn more about interactive tables.';\n",
              "          element.innerHTML = '';\n",
              "          dataTable['output_type'] = 'display_data';\n",
              "          await google.colab.output.renderOutput(dataTable, element);\n",
              "          const docLink = document.createElement('div');\n",
              "          docLink.innerHTML = docLinkHtml;\n",
              "          element.appendChild(docLink);\n",
              "        }\n",
              "      </script>\n",
              "    </div>\n",
              "  </div>\n",
              "  "
            ]
          },
          "metadata": {},
          "execution_count": 34
        }
      ]
    },
    {
      "cell_type": "markdown",
      "metadata": {
        "id": "exhMeTGNV-Ct"
      },
      "source": [
        "### Prepping `df_DCriseset` and `df_BERriseset` and creating `df_riseset`\n",
        "\n",
        "These two dataframes need to be standardized in order to be used. After doing so they will be combined into one dataframe, `df_riseset`"
      ]
    },
    {
      "cell_type": "code",
      "execution_count": 35,
      "metadata": {
        "id": "fpBkSkaGW-Sz",
        "colab": {
          "base_uri": "https://localhost:8080/"
        },
        "outputId": "2c390919-75ee-4bcd-ecc5-24fb35c7a83a"
      },
      "outputs": [
        {
          "output_type": "execute_result",
          "data": {
            "text/plain": [
              "(    datetime sunrise_BER  sunset_BER daylength_BER\n",
              " 0 2016-01-01  8:16:40 AM  4:02:43 PM     7h 46m 3s\n",
              " 1 2016-01-02  8:16:31 AM  4:03:49 PM    7h 47m 18s\n",
              " 2 2016-01-03  8:16:18 AM  4:04:57 PM    7h 48m 39s\n",
              " 3 2016-01-04  8:16:01 AM  4:06:08 PM     7h 50m 7s\n",
              " 4 2016-01-05  8:15:41 AM  4:07:22 PM    7h 51m 41s,\n",
              "     datetime  sunrise_DC  sunset_DC\n",
              " 0 2016-01-01       727.0     1657.0\n",
              " 1 2016-01-02       727.0     1658.0\n",
              " 2 2016-01-03       727.0     1659.0\n",
              " 3 2016-01-04       727.0     1700.0\n",
              " 4 2016-01-05       727.0     1700.0)"
            ]
          },
          "metadata": {},
          "execution_count": 35
        }
      ],
      "source": [
        "df_BERriseset.head(), df_DCriseset.head()"
      ]
    },
    {
      "cell_type": "code",
      "execution_count": 36,
      "metadata": {
        "id": "JNO-Vh7jdqht"
      },
      "outputs": [],
      "source": [
        "df_BERriseset['sunrise_BER'] = pd.to_datetime(df_BERriseset['sunrise_BER'], format='%I:%M:%S %p').dt.time\n",
        "df_BERriseset['sunset_BER'] = pd.to_datetime(df_BERriseset['sunset_BER'], format='%I:%M:%S %p').dt.time\n",
        "\n",
        "df_DCriseset['sunrise_DC'] = pd.to_datetime(df_DCriseset['sunrise_DC'], format='%H%M').dt.time\n",
        "df_DCriseset['sunset_DC'] = pd.to_datetime(df_DCriseset['sunset_DC'], format='%H%M').dt.time"
      ]
    },
    {
      "cell_type": "code",
      "execution_count": 37,
      "metadata": {
        "id": "e724SZfRuHqO",
        "colab": {
          "base_uri": "https://localhost:8080/",
          "height": 424
        },
        "outputId": "0ea8d084-7062-4795-b11c-00af61ed56a2"
      },
      "outputs": [
        {
          "output_type": "execute_result",
          "data": {
            "text/plain": [
              "       datetime sunrise_BER sunset_BER daylength_BER sunrise_DC sunset_DC\n",
              "0    2016-01-01    08:16:40   16:02:43     7h 46m 3s   07:27:00  16:57:00\n",
              "1    2016-01-02    08:16:31   16:03:49    7h 47m 18s   07:27:00  16:58:00\n",
              "2    2016-01-03    08:16:18   16:04:57    7h 48m 39s   07:27:00  16:59:00\n",
              "3    2016-01-04    08:16:01   16:06:08     7h 50m 7s   07:27:00  17:00:00\n",
              "4    2016-01-05    08:15:41   16:07:22    7h 51m 41s   07:27:00  17:00:00\n",
              "...         ...         ...        ...           ...        ...       ...\n",
              "2185 2021-12-27    08:16:59   15:58:30    7h 41m 31s   07:25:00  16:53:00\n",
              "2186 2021-12-28    08:17:05   15:59:22    7h 42m 17s   07:26:00  16:54:00\n",
              "2187 2021-12-29    08:17:08   16:00:17     7h 43m 9s   07:26:00  16:54:00\n",
              "2188 2021-12-30    08:17:07   16:01:16     7h 44m 9s   07:26:00  16:55:00\n",
              "2189 2021-12-31    08:17:02   16:02:17    7h 45m 15s   07:26:00  16:56:00\n",
              "\n",
              "[2190 rows x 6 columns]"
            ],
            "text/html": [
              "\n",
              "  <div id=\"df-bbf33c8f-717a-4ceb-a77f-b489712197d4\">\n",
              "    <div class=\"colab-df-container\">\n",
              "      <div>\n",
              "<style scoped>\n",
              "    .dataframe tbody tr th:only-of-type {\n",
              "        vertical-align: middle;\n",
              "    }\n",
              "\n",
              "    .dataframe tbody tr th {\n",
              "        vertical-align: top;\n",
              "    }\n",
              "\n",
              "    .dataframe thead th {\n",
              "        text-align: right;\n",
              "    }\n",
              "</style>\n",
              "<table border=\"1\" class=\"dataframe\">\n",
              "  <thead>\n",
              "    <tr style=\"text-align: right;\">\n",
              "      <th></th>\n",
              "      <th>datetime</th>\n",
              "      <th>sunrise_BER</th>\n",
              "      <th>sunset_BER</th>\n",
              "      <th>daylength_BER</th>\n",
              "      <th>sunrise_DC</th>\n",
              "      <th>sunset_DC</th>\n",
              "    </tr>\n",
              "  </thead>\n",
              "  <tbody>\n",
              "    <tr>\n",
              "      <th>0</th>\n",
              "      <td>2016-01-01</td>\n",
              "      <td>08:16:40</td>\n",
              "      <td>16:02:43</td>\n",
              "      <td>7h 46m 3s</td>\n",
              "      <td>07:27:00</td>\n",
              "      <td>16:57:00</td>\n",
              "    </tr>\n",
              "    <tr>\n",
              "      <th>1</th>\n",
              "      <td>2016-01-02</td>\n",
              "      <td>08:16:31</td>\n",
              "      <td>16:03:49</td>\n",
              "      <td>7h 47m 18s</td>\n",
              "      <td>07:27:00</td>\n",
              "      <td>16:58:00</td>\n",
              "    </tr>\n",
              "    <tr>\n",
              "      <th>2</th>\n",
              "      <td>2016-01-03</td>\n",
              "      <td>08:16:18</td>\n",
              "      <td>16:04:57</td>\n",
              "      <td>7h 48m 39s</td>\n",
              "      <td>07:27:00</td>\n",
              "      <td>16:59:00</td>\n",
              "    </tr>\n",
              "    <tr>\n",
              "      <th>3</th>\n",
              "      <td>2016-01-04</td>\n",
              "      <td>08:16:01</td>\n",
              "      <td>16:06:08</td>\n",
              "      <td>7h 50m 7s</td>\n",
              "      <td>07:27:00</td>\n",
              "      <td>17:00:00</td>\n",
              "    </tr>\n",
              "    <tr>\n",
              "      <th>4</th>\n",
              "      <td>2016-01-05</td>\n",
              "      <td>08:15:41</td>\n",
              "      <td>16:07:22</td>\n",
              "      <td>7h 51m 41s</td>\n",
              "      <td>07:27:00</td>\n",
              "      <td>17:00:00</td>\n",
              "    </tr>\n",
              "    <tr>\n",
              "      <th>...</th>\n",
              "      <td>...</td>\n",
              "      <td>...</td>\n",
              "      <td>...</td>\n",
              "      <td>...</td>\n",
              "      <td>...</td>\n",
              "      <td>...</td>\n",
              "    </tr>\n",
              "    <tr>\n",
              "      <th>2185</th>\n",
              "      <td>2021-12-27</td>\n",
              "      <td>08:16:59</td>\n",
              "      <td>15:58:30</td>\n",
              "      <td>7h 41m 31s</td>\n",
              "      <td>07:25:00</td>\n",
              "      <td>16:53:00</td>\n",
              "    </tr>\n",
              "    <tr>\n",
              "      <th>2186</th>\n",
              "      <td>2021-12-28</td>\n",
              "      <td>08:17:05</td>\n",
              "      <td>15:59:22</td>\n",
              "      <td>7h 42m 17s</td>\n",
              "      <td>07:26:00</td>\n",
              "      <td>16:54:00</td>\n",
              "    </tr>\n",
              "    <tr>\n",
              "      <th>2187</th>\n",
              "      <td>2021-12-29</td>\n",
              "      <td>08:17:08</td>\n",
              "      <td>16:00:17</td>\n",
              "      <td>7h 43m 9s</td>\n",
              "      <td>07:26:00</td>\n",
              "      <td>16:54:00</td>\n",
              "    </tr>\n",
              "    <tr>\n",
              "      <th>2188</th>\n",
              "      <td>2021-12-30</td>\n",
              "      <td>08:17:07</td>\n",
              "      <td>16:01:16</td>\n",
              "      <td>7h 44m 9s</td>\n",
              "      <td>07:26:00</td>\n",
              "      <td>16:55:00</td>\n",
              "    </tr>\n",
              "    <tr>\n",
              "      <th>2189</th>\n",
              "      <td>2021-12-31</td>\n",
              "      <td>08:17:02</td>\n",
              "      <td>16:02:17</td>\n",
              "      <td>7h 45m 15s</td>\n",
              "      <td>07:26:00</td>\n",
              "      <td>16:56:00</td>\n",
              "    </tr>\n",
              "  </tbody>\n",
              "</table>\n",
              "<p>2190 rows × 6 columns</p>\n",
              "</div>\n",
              "      <button class=\"colab-df-convert\" onclick=\"convertToInteractive('df-bbf33c8f-717a-4ceb-a77f-b489712197d4')\"\n",
              "              title=\"Convert this dataframe to an interactive table.\"\n",
              "              style=\"display:none;\">\n",
              "        \n",
              "  <svg xmlns=\"http://www.w3.org/2000/svg\" height=\"24px\"viewBox=\"0 0 24 24\"\n",
              "       width=\"24px\">\n",
              "    <path d=\"M0 0h24v24H0V0z\" fill=\"none\"/>\n",
              "    <path d=\"M18.56 5.44l.94 2.06.94-2.06 2.06-.94-2.06-.94-.94-2.06-.94 2.06-2.06.94zm-11 1L8.5 8.5l.94-2.06 2.06-.94-2.06-.94L8.5 2.5l-.94 2.06-2.06.94zm10 10l.94 2.06.94-2.06 2.06-.94-2.06-.94-.94-2.06-.94 2.06-2.06.94z\"/><path d=\"M17.41 7.96l-1.37-1.37c-.4-.4-.92-.59-1.43-.59-.52 0-1.04.2-1.43.59L10.3 9.45l-7.72 7.72c-.78.78-.78 2.05 0 2.83L4 21.41c.39.39.9.59 1.41.59.51 0 1.02-.2 1.41-.59l7.78-7.78 2.81-2.81c.8-.78.8-2.07 0-2.86zM5.41 20L4 18.59l7.72-7.72 1.47 1.35L5.41 20z\"/>\n",
              "  </svg>\n",
              "      </button>\n",
              "      \n",
              "  <style>\n",
              "    .colab-df-container {\n",
              "      display:flex;\n",
              "      flex-wrap:wrap;\n",
              "      gap: 12px;\n",
              "    }\n",
              "\n",
              "    .colab-df-convert {\n",
              "      background-color: #E8F0FE;\n",
              "      border: none;\n",
              "      border-radius: 50%;\n",
              "      cursor: pointer;\n",
              "      display: none;\n",
              "      fill: #1967D2;\n",
              "      height: 32px;\n",
              "      padding: 0 0 0 0;\n",
              "      width: 32px;\n",
              "    }\n",
              "\n",
              "    .colab-df-convert:hover {\n",
              "      background-color: #E2EBFA;\n",
              "      box-shadow: 0px 1px 2px rgba(60, 64, 67, 0.3), 0px 1px 3px 1px rgba(60, 64, 67, 0.15);\n",
              "      fill: #174EA6;\n",
              "    }\n",
              "\n",
              "    [theme=dark] .colab-df-convert {\n",
              "      background-color: #3B4455;\n",
              "      fill: #D2E3FC;\n",
              "    }\n",
              "\n",
              "    [theme=dark] .colab-df-convert:hover {\n",
              "      background-color: #434B5C;\n",
              "      box-shadow: 0px 1px 3px 1px rgba(0, 0, 0, 0.15);\n",
              "      filter: drop-shadow(0px 1px 2px rgba(0, 0, 0, 0.3));\n",
              "      fill: #FFFFFF;\n",
              "    }\n",
              "  </style>\n",
              "\n",
              "      <script>\n",
              "        const buttonEl =\n",
              "          document.querySelector('#df-bbf33c8f-717a-4ceb-a77f-b489712197d4 button.colab-df-convert');\n",
              "        buttonEl.style.display =\n",
              "          google.colab.kernel.accessAllowed ? 'block' : 'none';\n",
              "\n",
              "        async function convertToInteractive(key) {\n",
              "          const element = document.querySelector('#df-bbf33c8f-717a-4ceb-a77f-b489712197d4');\n",
              "          const dataTable =\n",
              "            await google.colab.kernel.invokeFunction('convertToInteractive',\n",
              "                                                     [key], {});\n",
              "          if (!dataTable) return;\n",
              "\n",
              "          const docLinkHtml = 'Like what you see? Visit the ' +\n",
              "            '<a target=\"_blank\" href=https://colab.research.google.com/notebooks/data_table.ipynb>data table notebook</a>'\n",
              "            + ' to learn more about interactive tables.';\n",
              "          element.innerHTML = '';\n",
              "          dataTable['output_type'] = 'display_data';\n",
              "          await google.colab.output.renderOutput(dataTable, element);\n",
              "          const docLink = document.createElement('div');\n",
              "          docLink.innerHTML = docLinkHtml;\n",
              "          element.appendChild(docLink);\n",
              "        }\n",
              "      </script>\n",
              "    </div>\n",
              "  </div>\n",
              "  "
            ]
          },
          "metadata": {},
          "execution_count": 37
        }
      ],
      "source": [
        "df_riseset = pd.merge(df_BERriseset, df_DCriseset, how='inner', on='datetime')\n",
        "df_riseset"
      ]
    },
    {
      "cell_type": "markdown",
      "metadata": {
        "id": "ksFLqOrZorpu"
      },
      "source": [
        "### Creating `sunup_BER` and `sunup_DC`\n",
        "The goal of this project is to compare overcast between the two cities, therefore, the sunrise and sunset times of each day will need to be taken into account. To do this binary `sunup_BER` and `sunup_DC` coulmns will be created and added to `df`, denoting if the sun was in the sky for any amount of time during the `datetime` hour.\n",
        "\n",
        "Presently, `cloudcover_DC` has values for all hours of the day, as it only accounts for clouds, and not whether the clouds are blocking possible sunshine. Adding `sunup_DC` will make it possible to compare `cloudcover_DC` to `sunduration_BER`, as it will allow `df` to be filtered for when the sun is up or down. `sunup_DC` will also be needed later during the **Data Analysis** section of the notebook when preparing data for the visualization.\n",
        "\n",
        "\n",
        "## DELETE:\n",
        "\n",
        "The following changes will be made:\n",
        "\n",
        "-  sunrise and sunset data will be use to set `cloudcover` to 0 when the sun is down\n",
        "- during hours where the sun rose and set, `cloudcover_dc` will be multiplied by ratio of minutes that the sun was up to the total minutes in an hour\n",
        "  - for example:\n",
        "    - on 2016-01-01, the sun rose at 7:27 and set at 16:57 in DC\n",
        "    - during 2016-01-01 07:00:00, `cloudcover_DC` is 96.6% and during 2016-01-01 16:00:00 it is 89.1%\n",
        "    - these 96.6% and 89.1% `cloudcover_dc` values will become 53.13% and 84.645%\n",
        "  - this "
      ]
    },
    {
      "cell_type": "code",
      "execution_count": 38,
      "metadata": {
        "id": "Oh53kIG9JZ84"
      },
      "outputs": [],
      "source": [
        "def sun_up_check(row):\n",
        "  sunrise_BER = df_riseset.loc[df_riseset['datetime'] == str(row.name.date()), 'sunrise_BER'].values[0]\n",
        "  sunset_BER = df_riseset.loc[df_riseset['datetime'] == str(row.name.date()), 'sunset_BER'].values[0]\n",
        "  sunrise_DC = df_riseset.loc[df_riseset['datetime'] == str(row.name.date()), 'sunrise_DC'].values[0]\n",
        "  sunset_DC = df_riseset.loc[df_riseset['datetime'] == str(row.name.date()), 'sunset_DC'].values[0]\n",
        "\n",
        "  sunup_BER = 0\n",
        "  sunup_DC = 0\n",
        "  \n",
        "  if (sunrise_BER.hour <= row.name.hour) and (sunset_BER.hour >= row.name.hour):\n",
        "      sunup_BER = 1\n",
        "  if (sunrise_DC.hour <= row.name.hour) and (sunset_DC.hour >= row.name.hour):\n",
        "      sunup_DC = 1\n",
        "      \n",
        "  return sunup_BER, sunup_DC\n",
        "\n",
        "\n",
        "# for i in range(0,24):\n",
        "#   print(sun_up_check(df.loc[i]))"
      ]
    },
    {
      "cell_type": "code",
      "execution_count": 39,
      "metadata": {
        "id": "a8YgAffdHnzu",
        "colab": {
          "base_uri": "https://localhost:8080/",
          "height": 455
        },
        "outputId": "0a9f0386-9db7-4911-879a-f666a4e3247a"
      },
      "outputs": [
        {
          "output_type": "execute_result",
          "data": {
            "text/plain": [
              "                     sunduration_BER  cloudcover_DC  sunup_BER  sunup_DC\n",
              "datetime                                                                \n",
              "2016-01-01 00:00:00              0.0           99.8          0         0\n",
              "2016-01-01 01:00:00              0.0          100.0          0         0\n",
              "2016-01-01 02:00:00              0.0           88.9          0         0\n",
              "2016-01-01 03:00:00              0.0           79.3          0         0\n",
              "2016-01-01 04:00:00              0.0           79.3          0         0\n",
              "...                              ...            ...        ...       ...\n",
              "2021-12-31 19:00:00              0.0           81.7          0         0\n",
              "2021-12-31 20:00:00              0.0           98.3          0         0\n",
              "2021-12-31 21:00:00              0.0           99.6          0         0\n",
              "2021-12-31 22:00:00              0.0           99.6          0         0\n",
              "2021-12-31 23:00:00              0.0           99.6          0         0\n",
              "\n",
              "[52560 rows x 4 columns]"
            ],
            "text/html": [
              "\n",
              "  <div id=\"df-d7d5ace3-3967-4f0b-8a51-536350fb2190\">\n",
              "    <div class=\"colab-df-container\">\n",
              "      <div>\n",
              "<style scoped>\n",
              "    .dataframe tbody tr th:only-of-type {\n",
              "        vertical-align: middle;\n",
              "    }\n",
              "\n",
              "    .dataframe tbody tr th {\n",
              "        vertical-align: top;\n",
              "    }\n",
              "\n",
              "    .dataframe thead th {\n",
              "        text-align: right;\n",
              "    }\n",
              "</style>\n",
              "<table border=\"1\" class=\"dataframe\">\n",
              "  <thead>\n",
              "    <tr style=\"text-align: right;\">\n",
              "      <th></th>\n",
              "      <th>sunduration_BER</th>\n",
              "      <th>cloudcover_DC</th>\n",
              "      <th>sunup_BER</th>\n",
              "      <th>sunup_DC</th>\n",
              "    </tr>\n",
              "    <tr>\n",
              "      <th>datetime</th>\n",
              "      <th></th>\n",
              "      <th></th>\n",
              "      <th></th>\n",
              "      <th></th>\n",
              "    </tr>\n",
              "  </thead>\n",
              "  <tbody>\n",
              "    <tr>\n",
              "      <th>2016-01-01 00:00:00</th>\n",
              "      <td>0.0</td>\n",
              "      <td>99.8</td>\n",
              "      <td>0</td>\n",
              "      <td>0</td>\n",
              "    </tr>\n",
              "    <tr>\n",
              "      <th>2016-01-01 01:00:00</th>\n",
              "      <td>0.0</td>\n",
              "      <td>100.0</td>\n",
              "      <td>0</td>\n",
              "      <td>0</td>\n",
              "    </tr>\n",
              "    <tr>\n",
              "      <th>2016-01-01 02:00:00</th>\n",
              "      <td>0.0</td>\n",
              "      <td>88.9</td>\n",
              "      <td>0</td>\n",
              "      <td>0</td>\n",
              "    </tr>\n",
              "    <tr>\n",
              "      <th>2016-01-01 03:00:00</th>\n",
              "      <td>0.0</td>\n",
              "      <td>79.3</td>\n",
              "      <td>0</td>\n",
              "      <td>0</td>\n",
              "    </tr>\n",
              "    <tr>\n",
              "      <th>2016-01-01 04:00:00</th>\n",
              "      <td>0.0</td>\n",
              "      <td>79.3</td>\n",
              "      <td>0</td>\n",
              "      <td>0</td>\n",
              "    </tr>\n",
              "    <tr>\n",
              "      <th>...</th>\n",
              "      <td>...</td>\n",
              "      <td>...</td>\n",
              "      <td>...</td>\n",
              "      <td>...</td>\n",
              "    </tr>\n",
              "    <tr>\n",
              "      <th>2021-12-31 19:00:00</th>\n",
              "      <td>0.0</td>\n",
              "      <td>81.7</td>\n",
              "      <td>0</td>\n",
              "      <td>0</td>\n",
              "    </tr>\n",
              "    <tr>\n",
              "      <th>2021-12-31 20:00:00</th>\n",
              "      <td>0.0</td>\n",
              "      <td>98.3</td>\n",
              "      <td>0</td>\n",
              "      <td>0</td>\n",
              "    </tr>\n",
              "    <tr>\n",
              "      <th>2021-12-31 21:00:00</th>\n",
              "      <td>0.0</td>\n",
              "      <td>99.6</td>\n",
              "      <td>0</td>\n",
              "      <td>0</td>\n",
              "    </tr>\n",
              "    <tr>\n",
              "      <th>2021-12-31 22:00:00</th>\n",
              "      <td>0.0</td>\n",
              "      <td>99.6</td>\n",
              "      <td>0</td>\n",
              "      <td>0</td>\n",
              "    </tr>\n",
              "    <tr>\n",
              "      <th>2021-12-31 23:00:00</th>\n",
              "      <td>0.0</td>\n",
              "      <td>99.6</td>\n",
              "      <td>0</td>\n",
              "      <td>0</td>\n",
              "    </tr>\n",
              "  </tbody>\n",
              "</table>\n",
              "<p>52560 rows × 4 columns</p>\n",
              "</div>\n",
              "      <button class=\"colab-df-convert\" onclick=\"convertToInteractive('df-d7d5ace3-3967-4f0b-8a51-536350fb2190')\"\n",
              "              title=\"Convert this dataframe to an interactive table.\"\n",
              "              style=\"display:none;\">\n",
              "        \n",
              "  <svg xmlns=\"http://www.w3.org/2000/svg\" height=\"24px\"viewBox=\"0 0 24 24\"\n",
              "       width=\"24px\">\n",
              "    <path d=\"M0 0h24v24H0V0z\" fill=\"none\"/>\n",
              "    <path d=\"M18.56 5.44l.94 2.06.94-2.06 2.06-.94-2.06-.94-.94-2.06-.94 2.06-2.06.94zm-11 1L8.5 8.5l.94-2.06 2.06-.94-2.06-.94L8.5 2.5l-.94 2.06-2.06.94zm10 10l.94 2.06.94-2.06 2.06-.94-2.06-.94-.94-2.06-.94 2.06-2.06.94z\"/><path d=\"M17.41 7.96l-1.37-1.37c-.4-.4-.92-.59-1.43-.59-.52 0-1.04.2-1.43.59L10.3 9.45l-7.72 7.72c-.78.78-.78 2.05 0 2.83L4 21.41c.39.39.9.59 1.41.59.51 0 1.02-.2 1.41-.59l7.78-7.78 2.81-2.81c.8-.78.8-2.07 0-2.86zM5.41 20L4 18.59l7.72-7.72 1.47 1.35L5.41 20z\"/>\n",
              "  </svg>\n",
              "      </button>\n",
              "      \n",
              "  <style>\n",
              "    .colab-df-container {\n",
              "      display:flex;\n",
              "      flex-wrap:wrap;\n",
              "      gap: 12px;\n",
              "    }\n",
              "\n",
              "    .colab-df-convert {\n",
              "      background-color: #E8F0FE;\n",
              "      border: none;\n",
              "      border-radius: 50%;\n",
              "      cursor: pointer;\n",
              "      display: none;\n",
              "      fill: #1967D2;\n",
              "      height: 32px;\n",
              "      padding: 0 0 0 0;\n",
              "      width: 32px;\n",
              "    }\n",
              "\n",
              "    .colab-df-convert:hover {\n",
              "      background-color: #E2EBFA;\n",
              "      box-shadow: 0px 1px 2px rgba(60, 64, 67, 0.3), 0px 1px 3px 1px rgba(60, 64, 67, 0.15);\n",
              "      fill: #174EA6;\n",
              "    }\n",
              "\n",
              "    [theme=dark] .colab-df-convert {\n",
              "      background-color: #3B4455;\n",
              "      fill: #D2E3FC;\n",
              "    }\n",
              "\n",
              "    [theme=dark] .colab-df-convert:hover {\n",
              "      background-color: #434B5C;\n",
              "      box-shadow: 0px 1px 3px 1px rgba(0, 0, 0, 0.15);\n",
              "      filter: drop-shadow(0px 1px 2px rgba(0, 0, 0, 0.3));\n",
              "      fill: #FFFFFF;\n",
              "    }\n",
              "  </style>\n",
              "\n",
              "      <script>\n",
              "        const buttonEl =\n",
              "          document.querySelector('#df-d7d5ace3-3967-4f0b-8a51-536350fb2190 button.colab-df-convert');\n",
              "        buttonEl.style.display =\n",
              "          google.colab.kernel.accessAllowed ? 'block' : 'none';\n",
              "\n",
              "        async function convertToInteractive(key) {\n",
              "          const element = document.querySelector('#df-d7d5ace3-3967-4f0b-8a51-536350fb2190');\n",
              "          const dataTable =\n",
              "            await google.colab.kernel.invokeFunction('convertToInteractive',\n",
              "                                                     [key], {});\n",
              "          if (!dataTable) return;\n",
              "\n",
              "          const docLinkHtml = 'Like what you see? Visit the ' +\n",
              "            '<a target=\"_blank\" href=https://colab.research.google.com/notebooks/data_table.ipynb>data table notebook</a>'\n",
              "            + ' to learn more about interactive tables.';\n",
              "          element.innerHTML = '';\n",
              "          dataTable['output_type'] = 'display_data';\n",
              "          await google.colab.output.renderOutput(dataTable, element);\n",
              "          const docLink = document.createElement('div');\n",
              "          docLink.innerHTML = docLinkHtml;\n",
              "          element.appendChild(docLink);\n",
              "        }\n",
              "      </script>\n",
              "    </div>\n",
              "  </div>\n",
              "  "
            ]
          },
          "metadata": {},
          "execution_count": 39
        }
      ],
      "source": [
        "df[['sunup_BER', 'sunup_DC']] = df.apply(sun_up_check, axis=1, result_type='expand')\n",
        "df"
      ]
    },
    {
      "cell_type": "markdown",
      "metadata": {
        "id": "YbSz7-MBsedF"
      },
      "source": [
        "## Data Analysis\n",
        "\n",
        "The data in `df` isn't ready to be compared yet, as `sunduration_BER` represents minutes of sunshine during each hour and `cloudcover_DC` represents a percentage of overcast for each hour. To prepare the data for visual comparison, a `sunduration` and `cloudcover` column will be created for both cities. \n",
        "\n",
        "`cloudcover_BER` will be created by dividing `sunduration_BER` values by the minutes during the hour where the sun was up. This will be an approximation of the percentage of sunshine in an hour. Note that during the house where the rose and set, this factor will not be 60.\n",
        "\n",
        "`sunduratino_DC` will be calculated from `cloudcover_DC` using the opposite transformation: multiplying the percentages by minutes in the hour where the sun was up. This will be an approximation of the minutes during each hour that the sun was shining.\n",
        "\n",
        "Values will not be rounded."
      ]
    },
    {
      "cell_type": "code",
      "execution_count": 96,
      "metadata": {
        "id": "xCAODU_EbxlZ"
      },
      "outputs": [],
      "source": [
        "def sundur_to_cloudcover(row):\n",
        "  if not row['sunup_BER']:\n",
        "    return None\n",
        "\n",
        "  sunrise_BER = df_riseset.loc[df_riseset['datetime'] == str(row.name.date()), 'sunrise_BER'].values[0]\n",
        "  sunset_BER = df_riseset.loc[df_riseset['datetime'] == str(row.name.date()), 'sunset_BER'].values[0]\n",
        "\n",
        "  if row.name.hour == sunrise_BER.hour:\n",
        "    min_sun = 60.0 - sunrise_BER.minute + sunrise_BER.second\n",
        "    return  100 - row['sunduration_BER'] / min_sun * 100\n",
        "  elif row.name.hour == sunset_BER.hour:\n",
        "      min_sun = sunset_BER.minute + sunset_BER.second\n",
        "      return 100 - row['sunduration_BER']  / min_sun * 100\n",
        "  return 100 - row['sunduration_BER'] / 60.0 * 100\n",
        "\n",
        "def cloudcover_to_sundur(row):\n",
        "  if not row['sunup_DC']:\n",
        "    return 0\n",
        "\n",
        "  sunrise_DC = df_riseset.loc[df_riseset['datetime'] == str(row.name.date()), 'sunrise_DC'].values[0]\n",
        "  sunset_DC = df_riseset.loc[df_riseset['datetime'] == str(row.name.date()), 'sunset_DC'].values[0]\n",
        "\n",
        "  if row.name.hour == sunrise_DC.hour:\n",
        "    min_sun = 60.0 - sunrise_DC.minute\n",
        "    return row['cloudcover_DC'] * min_sun / 100\n",
        "  elif row.name.hour == sunset_DC.hour:\n",
        "      min_sun = sunset_DC.minute\n",
        "      return row['cloudcover_DC'] * min_sun / 100\n",
        "  else:\n",
        "    return row['cloudcover_DC'] * 60.0 / 100\n",
        "    \n",
        "def transform_sundur_cloudcov2(row):\n",
        "  return sundur_to_cloudcover(row), cloudcover_to_sundur(row)\n",
        "\n",
        "\n",
        "def OLD_transform_sundur_cloudcov(row):\n",
        "  sunrise_BER = df_riseset.loc[df_riseset['datetime'] == str(row.name.date()), 'sunrise_BER'].values[0]\n",
        "  sunset_BER = df_riseset.loc[df_riseset['datetime'] == str(row.name.date()), 'sunset_BER'].values[0]\n",
        "  sunrise_DC = df_riseset.loc[df_riseset['datetime'] == str(row.name.date()), 'sunrise_DC'].values[0]\n",
        "  sunset_DC = df_riseset.loc[df_riseset['datetime'] == str(row.name.date()), 'sunset_DC'].values[0]\n",
        "\n",
        "  cloudcover_BER = 0\n",
        "  sunduration_DC = 0\n",
        "\n",
        "  if row['sunup_BER']:\n",
        "    if row.name.hour == sunrise_BER.hour:\n",
        "      min_sun = 60.0 - sunrise_BER.minute + sunrise_BER.second\n",
        "      cloudcover_BER =  100 - row['sunduration_BER'] / min_sun * 100\n",
        "    elif row.name.hour == sunset_BER.hour:\n",
        "        min_sun = sunset_BER.minute + sunset_BER.second\n",
        "        cloudcover_BER = 100 - row['sunduration_BER']  / min_sun * 100  \n",
        "    else:\n",
        "      cloudcover_BER = 100 - row['sunduration_BER'] / 60.0 * 100\n",
        "  else:\n",
        "    cloudcover_BER = None\n",
        "    \n",
        "  if row['sunup_DC']:\n",
        "    if row.name.hour == sunrise_DC.hour:\n",
        "      min_sun = 60.0 - sunrise_DC.minute\n",
        "      sunduration_DC = row['cloudcover_DC'] * min_sun / 100\n",
        "    elif row.name.hour == sunset_DC.hour:\n",
        "        min_sun = sunset_DC.minute\n",
        "        sunduration_DC = row['cloudcover_DC'] * min_sun / 100\n",
        "    else:\n",
        "      sunduration_DC = row['cloudcover_DC'] * 60.0 / 100\n",
        "  else:\n",
        "    sunduration_DC = 0\n",
        "\n",
        "  return cloudcover_BER, sunduration_DC"
      ]
    },
    {
      "cell_type": "code",
      "source": [
        "%%time\n",
        "# apply the transform function defined above\n",
        "df[['cloudcover_BER', 'sunduration_DC']] = df.apply(transform_sundur_cloudcov, axis=1, result_type='expand')\n",
        "# reorder the columns so cities are together and observation type is in same order\n",
        "df = df[['sunup_BER', 'sunduration_BER', 'cloudcover_BER', 'sunup_DC', 'sunduration_DC',  'cloudcover_DC']]"
      ],
      "metadata": {
        "colab": {
          "base_uri": "https://localhost:8080/"
        },
        "id": "bL2oUXp1XllI",
        "outputId": "4ceb796b-96e0-4780-8688-d3d464beaa67"
      },
      "execution_count": 107,
      "outputs": [
        {
          "output_type": "stream",
          "name": "stdout",
          "text": [
            "CPU times: user 1min 2s, sys: 114 ms, total: 1min 2s\n",
            "Wall time: 1min 2s\n"
          ]
        }
      ]
    },
    {
      "cell_type": "code",
      "execution_count": 108,
      "metadata": {
        "id": "VuZvTmIRlK0I",
        "colab": {
          "base_uri": "https://localhost:8080/"
        },
        "outputId": "b35985c2-efa5-4f74-8ada-bfaf0b69c905"
      },
      "outputs": [
        {
          "output_type": "stream",
          "name": "stdout",
          "text": [
            "CPU times: user 36.6 s, sys: 74.3 ms, total: 36.7 s\n",
            "Wall time: 36.7 s\n"
          ]
        }
      ],
      "source": [
        "%%time\n",
        "# apply the transform function defined above\n",
        "df[['cloudcover_BER', 'sunduration_DC']] = df.apply(transform_sundur_cloudcov2, axis=1, result_type='expand')\n",
        "# reorder the columns so cities are together and observation type is in same order\n",
        "df = df[['sunup_BER', 'sunduration_BER', 'cloudcover_BER', 'sunup_DC', 'sunduration_DC',  'cloudcover_DC']]"
      ]
    },
    {
      "cell_type": "code",
      "source": [
        "df"
      ],
      "metadata": {
        "id": "pQDzI98oLNMO",
        "colab": {
          "base_uri": "https://localhost:8080/",
          "height": 673
        },
        "outputId": "99e3de10-c2a0-4a5a-bd61-ee905bf660c1"
      },
      "execution_count": 109,
      "outputs": [
        {
          "output_type": "execute_result",
          "data": {
            "text/plain": [
              "                     sunup_BER  sunduration_BER  cloudcover_BER  sunup_DC  \\\n",
              "datetime                                                                    \n",
              "2016-01-01 00:00:00          0              0.0             NaN         0   \n",
              "2016-01-01 01:00:00          0              0.0             NaN         0   \n",
              "2016-01-01 02:00:00          0              0.0             NaN         0   \n",
              "2016-01-01 03:00:00          0              0.0             NaN         0   \n",
              "2016-01-01 04:00:00          0              0.0             NaN         0   \n",
              "...                        ...              ...             ...       ...   \n",
              "2021-12-31 19:00:00          0              0.0             NaN         0   \n",
              "2021-12-31 20:00:00          0              0.0             NaN         0   \n",
              "2021-12-31 21:00:00          0              0.0             NaN         0   \n",
              "2021-12-31 22:00:00          0              0.0             NaN         0   \n",
              "2021-12-31 23:00:00          0              0.0             NaN         0   \n",
              "\n",
              "                     sunduration_DC  cloudcover_DC  \n",
              "datetime                                            \n",
              "2016-01-01 00:00:00             0.0           99.8  \n",
              "2016-01-01 01:00:00             0.0          100.0  \n",
              "2016-01-01 02:00:00             0.0           88.9  \n",
              "2016-01-01 03:00:00             0.0           79.3  \n",
              "2016-01-01 04:00:00             0.0           79.3  \n",
              "...                             ...            ...  \n",
              "2021-12-31 19:00:00             0.0           81.7  \n",
              "2021-12-31 20:00:00             0.0           98.3  \n",
              "2021-12-31 21:00:00             0.0           99.6  \n",
              "2021-12-31 22:00:00             0.0           99.6  \n",
              "2021-12-31 23:00:00             0.0           99.6  \n",
              "\n",
              "[52560 rows x 6 columns]"
            ],
            "text/html": [
              "\n",
              "  <div id=\"df-f95b3d86-43e9-42d1-8bc6-c6bafe747b5a\">\n",
              "    <div class=\"colab-df-container\">\n",
              "      <div>\n",
              "<style scoped>\n",
              "    .dataframe tbody tr th:only-of-type {\n",
              "        vertical-align: middle;\n",
              "    }\n",
              "\n",
              "    .dataframe tbody tr th {\n",
              "        vertical-align: top;\n",
              "    }\n",
              "\n",
              "    .dataframe thead th {\n",
              "        text-align: right;\n",
              "    }\n",
              "</style>\n",
              "<table border=\"1\" class=\"dataframe\">\n",
              "  <thead>\n",
              "    <tr style=\"text-align: right;\">\n",
              "      <th></th>\n",
              "      <th>sunup_BER</th>\n",
              "      <th>sunduration_BER</th>\n",
              "      <th>cloudcover_BER</th>\n",
              "      <th>sunup_DC</th>\n",
              "      <th>sunduration_DC</th>\n",
              "      <th>cloudcover_DC</th>\n",
              "    </tr>\n",
              "    <tr>\n",
              "      <th>datetime</th>\n",
              "      <th></th>\n",
              "      <th></th>\n",
              "      <th></th>\n",
              "      <th></th>\n",
              "      <th></th>\n",
              "      <th></th>\n",
              "    </tr>\n",
              "  </thead>\n",
              "  <tbody>\n",
              "    <tr>\n",
              "      <th>2016-01-01 00:00:00</th>\n",
              "      <td>0</td>\n",
              "      <td>0.0</td>\n",
              "      <td>NaN</td>\n",
              "      <td>0</td>\n",
              "      <td>0.0</td>\n",
              "      <td>99.8</td>\n",
              "    </tr>\n",
              "    <tr>\n",
              "      <th>2016-01-01 01:00:00</th>\n",
              "      <td>0</td>\n",
              "      <td>0.0</td>\n",
              "      <td>NaN</td>\n",
              "      <td>0</td>\n",
              "      <td>0.0</td>\n",
              "      <td>100.0</td>\n",
              "    </tr>\n",
              "    <tr>\n",
              "      <th>2016-01-01 02:00:00</th>\n",
              "      <td>0</td>\n",
              "      <td>0.0</td>\n",
              "      <td>NaN</td>\n",
              "      <td>0</td>\n",
              "      <td>0.0</td>\n",
              "      <td>88.9</td>\n",
              "    </tr>\n",
              "    <tr>\n",
              "      <th>2016-01-01 03:00:00</th>\n",
              "      <td>0</td>\n",
              "      <td>0.0</td>\n",
              "      <td>NaN</td>\n",
              "      <td>0</td>\n",
              "      <td>0.0</td>\n",
              "      <td>79.3</td>\n",
              "    </tr>\n",
              "    <tr>\n",
              "      <th>2016-01-01 04:00:00</th>\n",
              "      <td>0</td>\n",
              "      <td>0.0</td>\n",
              "      <td>NaN</td>\n",
              "      <td>0</td>\n",
              "      <td>0.0</td>\n",
              "      <td>79.3</td>\n",
              "    </tr>\n",
              "    <tr>\n",
              "      <th>...</th>\n",
              "      <td>...</td>\n",
              "      <td>...</td>\n",
              "      <td>...</td>\n",
              "      <td>...</td>\n",
              "      <td>...</td>\n",
              "      <td>...</td>\n",
              "    </tr>\n",
              "    <tr>\n",
              "      <th>2021-12-31 19:00:00</th>\n",
              "      <td>0</td>\n",
              "      <td>0.0</td>\n",
              "      <td>NaN</td>\n",
              "      <td>0</td>\n",
              "      <td>0.0</td>\n",
              "      <td>81.7</td>\n",
              "    </tr>\n",
              "    <tr>\n",
              "      <th>2021-12-31 20:00:00</th>\n",
              "      <td>0</td>\n",
              "      <td>0.0</td>\n",
              "      <td>NaN</td>\n",
              "      <td>0</td>\n",
              "      <td>0.0</td>\n",
              "      <td>98.3</td>\n",
              "    </tr>\n",
              "    <tr>\n",
              "      <th>2021-12-31 21:00:00</th>\n",
              "      <td>0</td>\n",
              "      <td>0.0</td>\n",
              "      <td>NaN</td>\n",
              "      <td>0</td>\n",
              "      <td>0.0</td>\n",
              "      <td>99.6</td>\n",
              "    </tr>\n",
              "    <tr>\n",
              "      <th>2021-12-31 22:00:00</th>\n",
              "      <td>0</td>\n",
              "      <td>0.0</td>\n",
              "      <td>NaN</td>\n",
              "      <td>0</td>\n",
              "      <td>0.0</td>\n",
              "      <td>99.6</td>\n",
              "    </tr>\n",
              "    <tr>\n",
              "      <th>2021-12-31 23:00:00</th>\n",
              "      <td>0</td>\n",
              "      <td>0.0</td>\n",
              "      <td>NaN</td>\n",
              "      <td>0</td>\n",
              "      <td>0.0</td>\n",
              "      <td>99.6</td>\n",
              "    </tr>\n",
              "  </tbody>\n",
              "</table>\n",
              "<p>52560 rows × 6 columns</p>\n",
              "</div>\n",
              "      <button class=\"colab-df-convert\" onclick=\"convertToInteractive('df-f95b3d86-43e9-42d1-8bc6-c6bafe747b5a')\"\n",
              "              title=\"Convert this dataframe to an interactive table.\"\n",
              "              style=\"display:none;\">\n",
              "        \n",
              "  <svg xmlns=\"http://www.w3.org/2000/svg\" height=\"24px\"viewBox=\"0 0 24 24\"\n",
              "       width=\"24px\">\n",
              "    <path d=\"M0 0h24v24H0V0z\" fill=\"none\"/>\n",
              "    <path d=\"M18.56 5.44l.94 2.06.94-2.06 2.06-.94-2.06-.94-.94-2.06-.94 2.06-2.06.94zm-11 1L8.5 8.5l.94-2.06 2.06-.94-2.06-.94L8.5 2.5l-.94 2.06-2.06.94zm10 10l.94 2.06.94-2.06 2.06-.94-2.06-.94-.94-2.06-.94 2.06-2.06.94z\"/><path d=\"M17.41 7.96l-1.37-1.37c-.4-.4-.92-.59-1.43-.59-.52 0-1.04.2-1.43.59L10.3 9.45l-7.72 7.72c-.78.78-.78 2.05 0 2.83L4 21.41c.39.39.9.59 1.41.59.51 0 1.02-.2 1.41-.59l7.78-7.78 2.81-2.81c.8-.78.8-2.07 0-2.86zM5.41 20L4 18.59l7.72-7.72 1.47 1.35L5.41 20z\"/>\n",
              "  </svg>\n",
              "      </button>\n",
              "      \n",
              "  <style>\n",
              "    .colab-df-container {\n",
              "      display:flex;\n",
              "      flex-wrap:wrap;\n",
              "      gap: 12px;\n",
              "    }\n",
              "\n",
              "    .colab-df-convert {\n",
              "      background-color: #E8F0FE;\n",
              "      border: none;\n",
              "      border-radius: 50%;\n",
              "      cursor: pointer;\n",
              "      display: none;\n",
              "      fill: #1967D2;\n",
              "      height: 32px;\n",
              "      padding: 0 0 0 0;\n",
              "      width: 32px;\n",
              "    }\n",
              "\n",
              "    .colab-df-convert:hover {\n",
              "      background-color: #E2EBFA;\n",
              "      box-shadow: 0px 1px 2px rgba(60, 64, 67, 0.3), 0px 1px 3px 1px rgba(60, 64, 67, 0.15);\n",
              "      fill: #174EA6;\n",
              "    }\n",
              "\n",
              "    [theme=dark] .colab-df-convert {\n",
              "      background-color: #3B4455;\n",
              "      fill: #D2E3FC;\n",
              "    }\n",
              "\n",
              "    [theme=dark] .colab-df-convert:hover {\n",
              "      background-color: #434B5C;\n",
              "      box-shadow: 0px 1px 3px 1px rgba(0, 0, 0, 0.15);\n",
              "      filter: drop-shadow(0px 1px 2px rgba(0, 0, 0, 0.3));\n",
              "      fill: #FFFFFF;\n",
              "    }\n",
              "  </style>\n",
              "\n",
              "      <script>\n",
              "        const buttonEl =\n",
              "          document.querySelector('#df-f95b3d86-43e9-42d1-8bc6-c6bafe747b5a button.colab-df-convert');\n",
              "        buttonEl.style.display =\n",
              "          google.colab.kernel.accessAllowed ? 'block' : 'none';\n",
              "\n",
              "        async function convertToInteractive(key) {\n",
              "          const element = document.querySelector('#df-f95b3d86-43e9-42d1-8bc6-c6bafe747b5a');\n",
              "          const dataTable =\n",
              "            await google.colab.kernel.invokeFunction('convertToInteractive',\n",
              "                                                     [key], {});\n",
              "          if (!dataTable) return;\n",
              "\n",
              "          const docLinkHtml = 'Like what you see? Visit the ' +\n",
              "            '<a target=\"_blank\" href=https://colab.research.google.com/notebooks/data_table.ipynb>data table notebook</a>'\n",
              "            + ' to learn more about interactive tables.';\n",
              "          element.innerHTML = '';\n",
              "          dataTable['output_type'] = 'display_data';\n",
              "          await google.colab.output.renderOutput(dataTable, element);\n",
              "          const docLink = document.createElement('div');\n",
              "          docLink.innerHTML = docLinkHtml;\n",
              "          element.appendChild(docLink);\n",
              "        }\n",
              "      </script>\n",
              "    </div>\n",
              "  </div>\n",
              "  "
            ]
          },
          "metadata": {},
          "execution_count": 109
        },
        {
          "output_type": "stream",
          "name": "stdout",
          "text": [
            "Warning: total number of rows (52560) exceeds max_rows (20000). Limiting to first (20000) rows.\n"
          ]
        }
      ]
    },
    {
      "cell_type": "markdown",
      "source": [
        "### Gather data needed for isualization\n",
        "- average cloud cover by month\n",
        "  - `clouds_month_BER` and `clouds_month_DC`\n",
        "- average total minutes of sunshine (in a day) by month\n",
        "  - `sundur_month_BER` and `sundur_month_DC`"
      ],
      "metadata": {
        "id": "y7b-gWnO4nBF"
      }
    },
    {
      "cell_type": "code",
      "execution_count": 43,
      "metadata": {
        "id": "d3m_M-GD5SYt",
        "colab": {
          "base_uri": "https://localhost:8080/"
        },
        "outputId": "fc3ecb5d-52da-45ee-c553-8d37c78eb10b"
      },
      "outputs": [
        {
          "output_type": "stream",
          "name": "stdout",
          "text": [
            "       cloudcover_BER\n",
            "month                \n",
            "1           90.882637\n",
            "2           78.391219\n",
            "3           76.531243\n",
            "4           61.884438\n",
            "5           70.419359\n",
            "6           68.448331\n",
            "7           72.656937\n",
            "8           69.988697\n",
            "9           70.652112\n",
            "10          83.738057\n",
            "11          90.229341\n",
            "12          91.946135\n",
            "       cloudcover_DC\n",
            "month               \n",
            "1          66.343984\n",
            "2          70.540373\n",
            "3          63.651969\n",
            "4          65.141435\n",
            "5          68.949416\n",
            "6          63.374653\n",
            "7          58.595392\n",
            "8          60.801553\n",
            "9          63.209301\n",
            "10         63.433961\n",
            "11         58.977817\n",
            "12         69.214032\n"
          ]
        }
      ],
      "source": [
        "clouds_BER = df[['cloudcover_BER']][df['sunup_BER'] == 1]\n",
        "clouds_month_BER = clouds_BER.groupby(clouds_BER.index.month).agg({'cloudcover_BER': np.mean})\n",
        "clouds_month_BER.index.names = ['month']\n",
        "print(clouds_month_BER)\n",
        "clouds_DC = df[['cloudcover_DC']][df['sunup_DC'] == 1]\n",
        "clouds_month_DC = clouds_DC.groupby(clouds_DC.index.month).agg({'cloudcover_DC': np.mean})\n",
        "clouds_month_DC.index.names = ['month']\n",
        "print(clouds_month_DC)"
      ]
    },
    {
      "cell_type": "code",
      "source": [
        "sundur_BER = df[['sunduration_BER']][df['sunup_BER'] == 1]\n",
        "sundur_day_BER = sundur_BER.groupby([sundur_BER.index.year, sundur_BER.index.month, sundur_BER.index.day]).agg({'sunduration_BER': np.sum})\n",
        "sundur_day_BER.index.names = ['year', 'month', 'day']\n",
        "sundur_month_BER = sundur_day_BER.groupby(level=['month']).agg({'sunduration_BER': np.mean})\n",
        "print(sundur_month_BER)\n",
        "sundur_DC = df[['sunduration_DC']][df['sunup_DC'] == 1]\n",
        "sundur_day_DC = sundur_DC.groupby([sundur_DC.index.year, sundur_DC.index.month, sundur_DC.index.day]).agg({'sunduration_DC': np.sum})\n",
        "sundur_day_DC.index.names = ['year', 'month', 'day']\n",
        "sundur_month_DC = sundur_day_DC.groupby(level=['month']).agg({'sunduration_DC': np.mean})\n",
        "print(sundur_month_DC)"
      ],
      "metadata": {
        "id": "nbIzOR7vHvF3",
        "colab": {
          "base_uri": "https://localhost:8080/"
        },
        "outputId": "9a4d54fe-112f-4160-b74d-70530a64825c"
      },
      "execution_count": 44,
      "outputs": [
        {
          "output_type": "stream",
          "name": "stdout",
          "text": [
            "       sunduration_BER\n",
            "month                 \n",
            "1            50.704301\n",
            "2           135.523810\n",
            "3           182.970430\n",
            "4           335.891667\n",
            "5           274.768817\n",
            "6           272.080556\n",
            "7           265.317204\n",
            "8           261.260753\n",
            "9           236.766667\n",
            "10          106.284946\n",
            "11           57.388889\n",
            "12           38.632432\n",
            "       sunduration_DC\n",
            "month                \n",
            "1          391.051323\n",
            "2          455.265940\n",
            "3          458.373581\n",
            "4          518.932672\n",
            "5          592.161215\n",
            "6          565.076478\n",
            "7          513.794048\n",
            "8          497.725081\n",
            "9          473.047794\n",
            "10         424.563247\n",
            "11         356.687806\n",
            "12         394.278473\n"
          ]
        }
      ]
    },
    {
      "cell_type": "code",
      "source": [
        "# define a figure and axes abject\n",
        "fig, ax = plt.subplots()\n",
        "\n",
        "# plt.xlim([-1,4])\n",
        "\n",
        "# define list from 1 to 12\n",
        "x_pos = list(range(1, 13))\n",
        "# define list of month names\n",
        "months = [\"Jan\", \"Feb\", \"Mar\", \"Apr\", \"May\", \"June\", \"July\", \"Aug\", \"Sept\", \"Oct\", \"Nov\", \"Dec\"]\n",
        "# define x_ticks and assign the month names as labels\n",
        "ax.set_xticks(x_pos)\n",
        "ax.set_xticklabels(months)\n",
        "\n",
        "plt.plot(x_pos, clouds_month_BER, label='Berlin')\n",
        "plt.plot(x_pos, clouds_month_DC, label='DC')\n",
        "\n",
        "plt.legend()"
      ],
      "metadata": {
        "id": "n5EYlIylylfQ",
        "colab": {
          "base_uri": "https://localhost:8080/",
          "height": 283
        },
        "outputId": "210770b7-2e62-402e-bccc-3db9cc94cdda"
      },
      "execution_count": 45,
      "outputs": [
        {
          "output_type": "execute_result",
          "data": {
            "text/plain": [
              "<matplotlib.legend.Legend at 0x7fecafd93c10>"
            ]
          },
          "metadata": {},
          "execution_count": 45
        },
        {
          "output_type": "display_data",
          "data": {
            "text/plain": [
              "<Figure size 432x288 with 1 Axes>"
            ],
            "image/png": "[encoded data removed]"
          },
          "metadata": {
            "needs_background": "light"
          }
        }
      ]
    },
    {
      "cell_type": "code",
      "source": [
        "# define a figure and axes abject\n",
        "fig1, ax1 = plt.subplots()\n",
        "\n",
        "# plt.xlim([-1,4])\n",
        "\n",
        "# define list from 1 to 12\n",
        "x_pos = list(range(1, 13))\n",
        "# define list of month names\n",
        "months = [\"Jan\", \"Feb\", \"Mar\", \"Apr\", \"May\", \"June\", \"July\", \"Aug\", \"Sept\", \"Oct\", \"Nov\", \"Dec\"]\n",
        "# define x_ticks and assign the month names as labels\n",
        "ax1.set_xticks(x_pos)\n",
        "ax1.set_xticklabels(months)\n",
        "\n",
        "plt.plot(x_pos, sundur_month_BER, label='Berlin')\n",
        "plt.plot(x_pos, sundur_month_DC, label='DC')\n",
        "\n",
        "plt.legend()"
      ],
      "metadata": {
        "id": "OvMmvXQf1NJE",
        "colab": {
          "base_uri": "https://localhost:8080/",
          "height": 283
        },
        "outputId": "c54e2052-0a3e-4d37-abf5-002002aab851"
      },
      "execution_count": 46,
      "outputs": [
        {
          "output_type": "execute_result",
          "data": {
            "text/plain": [
              "<matplotlib.legend.Legend at 0x7fecb0064370>"
            ]
          },
          "metadata": {},
          "execution_count": 46
        },
        {
          "output_type": "display_data",
          "data": {
            "text/plain": [
              "<Figure size 432x288 with 1 Axes>"
            ],
            "image/png": "[encoded data removed]"
          },
          "metadata": {
            "needs_background": "light"
          }
        }
      ]
    },
    {
      "cell_type": "markdown",
      "source": [
        "# Experimenting:::"
      ],
      "metadata": {
        "id": "FQfThpqZ7SzU"
      }
    },
    {
      "cell_type": "code",
      "source": [
        "sun_percent_BER = 100 - clouds_month_BER\n",
        "# sun_percent_BER = sun_percent_BER / sun_percent_BER.max()\n",
        "sun_percent_DC =  100 - clouds_month_DC \n",
        "# sun_percent_DC = sun_percent_DC / sun_percent_DC.max()\n",
        "\n",
        "sundur_percent_BER = sundur_month_BER / sundur_month_BER.max() * 100\n",
        "sundur_percent_DC = sundur_month_DC / sundur_month_DC.max() * 100"
      ],
      "metadata": {
        "id": "rOMAi-23tjaU"
      },
      "execution_count": 68,
      "outputs": []
    },
    {
      "cell_type": "code",
      "source": [
        "sun_percent_BER"
      ],
      "metadata": {
        "colab": {
          "base_uri": "https://localhost:8080/",
          "height": 457
        },
        "id": "ZBOWJyIHvc1Z",
        "outputId": "ef0b78c0-8c26-41d3-b9c7-c7fb81fe9e5b"
      },
      "execution_count": 61,
      "outputs": [
        {
          "output_type": "execute_result",
          "data": {
            "text/plain": [
              "       cloudcover_BER\n",
              "month                \n",
              "1            9.117363\n",
              "2           21.608781\n",
              "3           23.468757\n",
              "4           38.115562\n",
              "5           29.580641\n",
              "6           31.551669\n",
              "7           27.343063\n",
              "8           30.011303\n",
              "9           29.347888\n",
              "10          16.261943\n",
              "11           9.770659\n",
              "12           8.053865"
            ],
            "text/html": [
              "\n",
              "  <div id=\"df-dc6a800b-99cc-4d52-a53e-e5bd74665cc4\">\n",
              "    <div class=\"colab-df-container\">\n",
              "      <div>\n",
              "<style scoped>\n",
              "    .dataframe tbody tr th:only-of-type {\n",
              "        vertical-align: middle;\n",
              "    }\n",
              "\n",
              "    .dataframe tbody tr th {\n",
              "        vertical-align: top;\n",
              "    }\n",
              "\n",
              "    .dataframe thead th {\n",
              "        text-align: right;\n",
              "    }\n",
              "</style>\n",
              "<table border=\"1\" class=\"dataframe\">\n",
              "  <thead>\n",
              "    <tr style=\"text-align: right;\">\n",
              "      <th></th>\n",
              "      <th>cloudcover_BER</th>\n",
              "    </tr>\n",
              "    <tr>\n",
              "      <th>month</th>\n",
              "      <th></th>\n",
              "    </tr>\n",
              "  </thead>\n",
              "  <tbody>\n",
              "    <tr>\n",
              "      <th>1</th>\n",
              "      <td>9.117363</td>\n",
              "    </tr>\n",
              "    <tr>\n",
              "      <th>2</th>\n",
              "      <td>21.608781</td>\n",
              "    </tr>\n",
              "    <tr>\n",
              "      <th>3</th>\n",
              "      <td>23.468757</td>\n",
              "    </tr>\n",
              "    <tr>\n",
              "      <th>4</th>\n",
              "      <td>38.115562</td>\n",
              "    </tr>\n",
              "    <tr>\n",
              "      <th>5</th>\n",
              "      <td>29.580641</td>\n",
              "    </tr>\n",
              "    <tr>\n",
              "      <th>6</th>\n",
              "      <td>31.551669</td>\n",
              "    </tr>\n",
              "    <tr>\n",
              "      <th>7</th>\n",
              "      <td>27.343063</td>\n",
              "    </tr>\n",
              "    <tr>\n",
              "      <th>8</th>\n",
              "      <td>30.011303</td>\n",
              "    </tr>\n",
              "    <tr>\n",
              "      <th>9</th>\n",
              "      <td>29.347888</td>\n",
              "    </tr>\n",
              "    <tr>\n",
              "      <th>10</th>\n",
              "      <td>16.261943</td>\n",
              "    </tr>\n",
              "    <tr>\n",
              "      <th>11</th>\n",
              "      <td>9.770659</td>\n",
              "    </tr>\n",
              "    <tr>\n",
              "      <th>12</th>\n",
              "      <td>8.053865</td>\n",
              "    </tr>\n",
              "  </tbody>\n",
              "</table>\n",
              "</div>\n",
              "      <button class=\"colab-df-convert\" onclick=\"convertToInteractive('df-dc6a800b-99cc-4d52-a53e-e5bd74665cc4')\"\n",
              "              title=\"Convert this dataframe to an interactive table.\"\n",
              "              style=\"display:none;\">\n",
              "        \n",
              "  <svg xmlns=\"http://www.w3.org/2000/svg\" height=\"24px\"viewBox=\"0 0 24 24\"\n",
              "       width=\"24px\">\n",
              "    <path d=\"M0 0h24v24H0V0z\" fill=\"none\"/>\n",
              "    <path d=\"M18.56 5.44l.94 2.06.94-2.06 2.06-.94-2.06-.94-.94-2.06-.94 2.06-2.06.94zm-11 1L8.5 8.5l.94-2.06 2.06-.94-2.06-.94L8.5 2.5l-.94 2.06-2.06.94zm10 10l.94 2.06.94-2.06 2.06-.94-2.06-.94-.94-2.06-.94 2.06-2.06.94z\"/><path d=\"M17.41 7.96l-1.37-1.37c-.4-.4-.92-.59-1.43-.59-.52 0-1.04.2-1.43.59L10.3 9.45l-7.72 7.72c-.78.78-.78 2.05 0 2.83L4 21.41c.39.39.9.59 1.41.59.51 0 1.02-.2 1.41-.59l7.78-7.78 2.81-2.81c.8-.78.8-2.07 0-2.86zM5.41 20L4 18.59l7.72-7.72 1.47 1.35L5.41 20z\"/>\n",
              "  </svg>\n",
              "      </button>\n",
              "      \n",
              "  <style>\n",
              "    .colab-df-container {\n",
              "      display:flex;\n",
              "      flex-wrap:wrap;\n",
              "      gap: 12px;\n",
              "    }\n",
              "\n",
              "    .colab-df-convert {\n",
              "      background-color: #E8F0FE;\n",
              "      border: none;\n",
              "      border-radius: 50%;\n",
              "      cursor: pointer;\n",
              "      display: none;\n",
              "      fill: #1967D2;\n",
              "      height: 32px;\n",
              "      padding: 0 0 0 0;\n",
              "      width: 32px;\n",
              "    }\n",
              "\n",
              "    .colab-df-convert:hover {\n",
              "      background-color: #E2EBFA;\n",
              "      box-shadow: 0px 1px 2px rgba(60, 64, 67, 0.3), 0px 1px 3px 1px rgba(60, 64, 67, 0.15);\n",
              "      fill: #174EA6;\n",
              "    }\n",
              "\n",
              "    [theme=dark] .colab-df-convert {\n",
              "      background-color: #3B4455;\n",
              "      fill: #D2E3FC;\n",
              "    }\n",
              "\n",
              "    [theme=dark] .colab-df-convert:hover {\n",
              "      background-color: #434B5C;\n",
              "      box-shadow: 0px 1px 3px 1px rgba(0, 0, 0, 0.15);\n",
              "      filter: drop-shadow(0px 1px 2px rgba(0, 0, 0, 0.3));\n",
              "      fill: #FFFFFF;\n",
              "    }\n",
              "  </style>\n",
              "\n",
              "      <script>\n",
              "        const buttonEl =\n",
              "          document.querySelector('#df-dc6a800b-99cc-4d52-a53e-e5bd74665cc4 button.colab-df-convert');\n",
              "        buttonEl.style.display =\n",
              "          google.colab.kernel.accessAllowed ? 'block' : 'none';\n",
              "\n",
              "        async function convertToInteractive(key) {\n",
              "          const element = document.querySelector('#df-dc6a800b-99cc-4d52-a53e-e5bd74665cc4');\n",
              "          const dataTable =\n",
              "            await google.colab.kernel.invokeFunction('convertToInteractive',\n",
              "                                                     [key], {});\n",
              "          if (!dataTable) return;\n",
              "\n",
              "          const docLinkHtml = 'Like what you see? Visit the ' +\n",
              "            '<a target=\"_blank\" href=https://colab.research.google.com/notebooks/data_table.ipynb>data table notebook</a>'\n",
              "            + ' to learn more about interactive tables.';\n",
              "          element.innerHTML = '';\n",
              "          dataTable['output_type'] = 'display_data';\n",
              "          await google.colab.output.renderOutput(dataTable, element);\n",
              "          const docLink = document.createElement('div');\n",
              "          docLink.innerHTML = docLinkHtml;\n",
              "          element.appendChild(docLink);\n",
              "        }\n",
              "      </script>\n",
              "    </div>\n",
              "  </div>\n",
              "  "
            ]
          },
          "metadata": {},
          "execution_count": 61
        }
      ]
    },
    {
      "cell_type": "code",
      "source": [
        "# define a figure and axes abject\n",
        "fig2, ax2 = plt.subplots()\n",
        "\n",
        "# plt.xlim([-1,4])\n",
        "\n",
        "# define list from 1 to 12\n",
        "x_pos = list(range(1, 13))\n",
        "# define list of month names\n",
        "months = [\"Jan\", \"Feb\", \"Mar\", \"Apr\", \"May\", \"June\", \"July\", \"Aug\", \"Sept\", \"Oct\", \"Nov\", \"Dec\"]\n",
        "# define x_ticks and assign the month names as labels\n",
        "ax2.set_xticks(x_pos)\n",
        "ax2.set_xticklabels(months)\n",
        "\n",
        "plt.plot(x_pos, sun_percent_BER, label='Sun %')\n",
        "plt.plot(x_pos, sundur_percent_BER, label='Min Sun')\n",
        "\n",
        "plt.legend()"
      ],
      "metadata": {
        "colab": {
          "base_uri": "https://localhost:8080/",
          "height": 283
        },
        "id": "CiS1NKBHvAbs",
        "outputId": "26c855f9-51a7-4b59-b755-3d553d617ff8"
      },
      "execution_count": 62,
      "outputs": [
        {
          "output_type": "execute_result",
          "data": {
            "text/plain": [
              "<matplotlib.legend.Legend at 0x7fecb03c0fd0>"
            ]
          },
          "metadata": {},
          "execution_count": 62
        },
        {
          "output_type": "display_data",
          "data": {
            "text/plain": [
              "<Figure size 432x288 with 1 Axes>"
            ],
            "image/png": "[encoded data removed]"
          },
          "metadata": {
            "needs_background": "light"
          }
        }
      ]
    },
    {
      "cell_type": "code",
      "source": [
        "# define a figure and axes abject\n",
        "fig3, ax3 = plt.subplots()\n",
        "\n",
        "# plt.xlim([-1,4])\n",
        "\n",
        "# define list from 1 to 12\n",
        "x_pos = list(range(1, 13))\n",
        "# define list of month names\n",
        "months = [\"Jan\", \"Feb\", \"Mar\", \"Apr\", \"May\", \"June\", \"July\", \"Aug\", \"Sept\", \"Oct\", \"Nov\", \"Dec\"]\n",
        "# define x_ticks and assign the month names as labels\n",
        "ax3.set_xticks(x_pos)\n",
        "ax3.set_xticklabels(months)\n",
        "\n",
        "plt.plot(x_pos, sun_percent_DC, label='Sun %')\n",
        "plt.plot(x_pos, sundur_percent_DC, label='Min Sun')\n",
        "\n",
        "plt.legend()"
      ],
      "metadata": {
        "colab": {
          "base_uri": "https://localhost:8080/",
          "height": 283
        },
        "id": "1RQNdcwyvvVa",
        "outputId": "1606ccd9-e423-42db-f1cd-a14d867dcd67"
      },
      "execution_count": 69,
      "outputs": [
        {
          "output_type": "execute_result",
          "data": {
            "text/plain": [
              "<matplotlib.legend.Legend at 0x7fecb0111be0>"
            ]
          },
          "metadata": {},
          "execution_count": 69
        },
        {
          "output_type": "display_data",
          "data": {
            "text/plain": [
              "<Figure size 432x288 with 1 Axes>"
            ],
            "image/png": "[encoded data removed]"
          },
          "metadata": {
            "needs_background": "light"
          }
        }
      ]
    },
    {
      "cell_type": "code",
      "source": [
        "test_clouds_BER = df[['cloudcover_BER']][df['sunup_BER'] == 1]\n",
        "test_clouds_month_BER = test_clouds_BER.groupby([test_clouds_BER.index.year, test_clouds_BER.index.month]).agg({'cloudcover_BER': np.mean})\n",
        "test_clouds_month_BER.index.names = ['year', 'month']\n",
        "# print(test_clouds_month_BER)\n",
        "test_clouds_DC = df[['cloudcover_DC']][df['sunup_DC'] == 1]\n",
        "test_clouds_month_DC = test_clouds_DC.groupby([test_clouds_DC.index.year, test_clouds_DC.index.month]).agg({'cloudcover_DC': np.mean})\n",
        "test_clouds_month_DC.index.names = ['year', 'month']\n",
        "# print(clouds_month_DC)\n",
        "\n",
        "test_clouds_month_BER.index = test_clouds_month_BER.index.get_level_values('month')\n",
        "test_clouds_month_DC.index = test_clouds_month_DC.index.get_level_values('month')\n",
        "\n",
        "print(\"Berlin\")\n",
        "for i in range(1, 13):\n",
        "  print(months[i - 1])\n",
        "  print(test_clouds_month_BER.loc[i])\n",
        "\n",
        "print(\" \")\n",
        "print(\"DC\")\n",
        "for i in range(1, 13):\n",
        "  print(months[i - 1])\n",
        "  print(test_clouds_month_DC.loc[i])"
      ],
      "metadata": {
        "colab": {
          "base_uri": "https://localhost:8080/"
        },
        "id": "anFS_EtT4el1",
        "outputId": "f9908fcc-aa34-453f-9c7c-3e826fef9411"
      },
      "execution_count": 83,
      "outputs": [
        {
          "output_type": "stream",
          "name": "stdout",
          "text": [
            "Berlin\n",
            "Jan\n",
            "       cloudcover_BER\n",
            "month                \n",
            "1           89.982578\n",
            "1           87.309028\n",
            "1           95.162602\n",
            "1           89.396051\n",
            "1           88.826945\n",
            "1           94.618056\n",
            "Feb\n",
            "       cloudcover_BER\n",
            "month                \n",
            "2           85.925926\n",
            "2           85.756071\n",
            "2           66.021259\n",
            "2           70.407166\n",
            "2           87.830579\n",
            "2           76.109272\n",
            "Mar\n",
            "       cloudcover_BER\n",
            "month                \n",
            "3           80.988224\n",
            "3           74.483809\n",
            "3           76.507937\n",
            "3           84.016555\n",
            "3           74.568879\n",
            "3           68.658824\n",
            "Apr\n",
            "       cloudcover_BER\n",
            "month                \n",
            "4           67.957571\n",
            "4           75.186412\n",
            "4           54.523574\n",
            "4           50.978870\n",
            "4           51.737655\n",
            "4           69.660622\n",
            "May\n",
            "       cloudcover_BER\n",
            "month                \n",
            "5           67.132380\n",
            "5           73.740688\n",
            "5           58.983740\n",
            "5           77.667997\n",
            "5           72.363614\n",
            "5           72.884615\n",
            "June\n",
            "       cloudcover_BER\n",
            "month                \n",
            "6           70.968647\n",
            "6           73.675084\n",
            "6           73.375569\n",
            "6           60.211514\n",
            "6           72.000000\n",
            "6           64.546296\n",
            "July\n",
            "       cloudcover_BER\n",
            "month                \n",
            "7           75.452552\n",
            "7           74.961759\n",
            "7           65.196682\n",
            "7           76.029607\n",
            "7           72.199504\n",
            "7           72.519011\n",
            "Aug\n",
            "       cloudcover_BER\n",
            "month                \n",
            "8           73.746177\n",
            "8           72.178019\n",
            "8           64.727601\n",
            "8           70.602369\n",
            "8           65.706371\n",
            "8           73.634436\n",
            "Sept\n",
            "       cloudcover_BER\n",
            "month                \n",
            "9           58.210007\n",
            "9           79.814859\n",
            "9           68.666864\n",
            "9           75.388878\n",
            "9           63.942772\n",
            "9           78.092320\n",
            "Oct\n",
            "       cloudcover_BER\n",
            "month                \n",
            "10          92.051937\n",
            "10          87.808641\n",
            "10          75.429062\n",
            "10          80.141837\n",
            "10          89.470791\n",
            "10          75.907521\n",
            "Nov\n",
            "       cloudcover_BER\n",
            "month                \n",
            "11          87.209040\n",
            "11          91.288136\n",
            "11          89.662005\n",
            "11          93.231982\n",
            "11          86.655367\n",
            "11          93.302031\n",
            "Dec\n",
            "       cloudcover_BER\n",
            "month                \n",
            "12          89.449405\n",
            "12          94.112466\n",
            "12          97.156463\n",
            "12          89.980315\n",
            "12          88.143791\n",
            "12          92.803922\n",
            " \n",
            "DC\n",
            "Jan\n",
            "       cloudcover_DC\n",
            "month               \n",
            "1          63.994970\n",
            "1          71.768935\n",
            "1          65.236686\n",
            "1          63.984320\n",
            "1          63.379290\n",
            "1          69.699704\n",
            "Feb\n",
            "       cloudcover_DC\n",
            "month               \n",
            "2          76.440994\n",
            "2          59.841615\n",
            "2          78.546273\n",
            "2          66.065839\n",
            "2          63.468323\n",
            "2          78.879193\n",
            "Mar\n",
            "       cloudcover_DC\n",
            "month               \n",
            "3          73.143489\n",
            "3          60.334975\n",
            "3          65.087685\n",
            "3          62.155172\n",
            "3          65.212776\n",
            "3          55.950493\n",
            "Apr\n",
            "       cloudcover_DC\n",
            "month               \n",
            "4          65.085036\n",
            "4          63.840238\n",
            "4          72.729048\n",
            "4          62.019524\n",
            "4          62.575059\n",
            "4          64.605952\n",
            "May\n",
            "       cloudcover_DC\n",
            "month               \n",
            "5          83.208025\n",
            "5          64.608454\n",
            "5          72.467423\n",
            "5          62.243299\n",
            "5          64.074486\n",
            "5          67.075464\n",
            "June\n",
            "       cloudcover_DC\n",
            "month               \n",
            "6          70.320625\n",
            "6          52.413125\n",
            "6          78.599167\n",
            "6          57.875000\n",
            "6          55.278333\n",
            "6          65.761667\n",
            "July\n",
            "       cloudcover_DC\n",
            "month               \n",
            "7          70.672934\n",
            "7          56.871959\n",
            "7          62.945979\n",
            "7          48.269691\n",
            "7          48.582025\n",
            "7          64.234021\n",
            "Aug\n",
            "       cloudcover_DC\n",
            "month               \n",
            "8          64.354444\n",
            "8          56.034590\n",
            "8          66.409534\n",
            "8          54.124169\n",
            "8          56.673111\n",
            "8          67.212195\n",
            "Sept\n",
            "       cloudcover_DC\n",
            "month               \n",
            "9          71.186553\n",
            "9          57.544282\n",
            "9          80.491241\n",
            "9          58.224818\n",
            "9          54.231296\n",
            "9          57.572749\n",
            "Oct\n",
            "       cloudcover_DC\n",
            "month               \n",
            "10         62.765054\n",
            "10         53.679839\n",
            "10         69.540860\n",
            "10         57.761559\n",
            "10         65.111022\n",
            "10         71.745430\n",
            "Nov\n",
            "       cloudcover_DC\n",
            "month               \n",
            "11         56.566970\n",
            "11         58.481024\n",
            "11         70.717470\n",
            "11         56.522892\n",
            "11         55.112424\n",
            "11         56.428313\n",
            "Dec\n",
            "       cloudcover_DC\n",
            "month               \n",
            "12         69.153871\n",
            "12         64.054839\n",
            "12         74.018710\n",
            "12         66.820323\n",
            "12         70.857742\n",
            "12         70.378710\n"
          ]
        }
      ]
    }
  ],
  "metadata": {
    "colab": {
      "provenance": [],
      "include_colab_link": true
    },
    "kernelspec": {
      "display_name": "Python 3",
      "language": "python",
      "name": "python3"
    },
    "language_info": {
      "codemirror_mode": {
        "name": "ipython",
        "version": 3
      },
      "file_extension": ".py",
      "mimetype": "text/x-python",
      "name": "python",
      "nbconvert_exporter": "python",
      "pygments_lexer": "ipython3",
      "version": "3.5.2"
    }
  },
  "nbformat": 4,
  "nbformat_minor": 0
}