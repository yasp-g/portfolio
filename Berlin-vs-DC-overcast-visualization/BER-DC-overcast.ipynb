{
  "cells": [
    {
      "cell_type": "markdown",
      "metadata": {
        "id": "view-in-github",
        "colab_type": "text"
      },
      "source": [
        "<a href=\"https://colab.research.google.com/github/yasp-g/portfolio/blob/main/Berlin-vs-DC-overcast-visualization/BER-DC-overcast.ipynb\" target=\"_parent\"><img src=\"https://colab.research.google.com/assets/colab-badge.svg\" alt=\"Open In Colab\"/></a>"
      ]
    },
    {
      "cell_type": "markdown",
      "metadata": {
        "id": "LcxHF7F_ATv-"
      },
      "source": [
        "# Becoming an Independent Data Scientist"
      ]
    },
    {
      "cell_type": "markdown",
      "metadata": {
        "id": "GBvEogI7BH5J"
      },
      "source": [
        "## Region and Domain\n",
        "\n",
        "The region and domain of interest for the project are: **South Lyon, Michigan, United States** and **religious events or traditions**."
      ]
    },
    {
      "cell_type": "markdown",
      "metadata": {
        "id": "8ko4r3kzBgdV"
      },
      "source": [
        "## Research Question\n",
        "\n",
        "How does the "
      ]
    },
    {
      "cell_type": "code",
      "execution_count": 181,
      "metadata": {
        "id": "w2UIK3VLC1hJ"
      },
      "outputs": [],
      "source": []
    },
    {
      "cell_type": "markdown",
      "metadata": {
        "id": "taHSMBpbBwit"
      },
      "source": [
        "## Data Sources\n",
        "\n",
        "### Germany data:\n",
        "#### main Page:\n",
        "https://www.dwd.de/DE/klimaumwelt/cdc/cdc_node.html\n",
        "\n",
        "#### Berlin Alexanderplatz sun (from 2015 to present):\n",
        "https://opendata.dwd.de/climate_environment/CDC/observations_germany/climate_urban/hourly/sun/recent/\n",
        "\n",
        "#### Berlin Alexanderplatz sun (from 2015 to present):\n",
        "https://opendata.dwd.de/climate_environment/CDC/observations_germany/climate_urban/hourly/air_temperature/recent/\n",
        "\n",
        "### Washington, DC data:\n",
        "#### Main page:\n",
        "https://www.ncei.noaa.gov/cdo-web/datasets#LCD\n",
        "\n",
        "\n",
        "#### Search page:\n",
        "https://www.ncei.noaa.gov/cdo-web/datatools/lcd\n",
        "\n",
        "\n"
      ]
    },
    {
      "cell_type": "markdown",
      "metadata": {
        "id": "IHrTv9Fyf6Zf"
      },
      "source": [
        "### Sketchy link US climatology data with average sunshine\n",
        "https://www2.census.gov/library/publications/2010/compendia/statab/130ed/tables/11s0394.xls"
      ]
    },
    {
      "cell_type": "markdown",
      "metadata": {
        "id": "oLyoqAAcB4X-"
      },
      "source": [
        "## Image"
      ]
    },
    {
      "cell_type": "markdown",
      "metadata": {
        "id": "am8E6AreB6Ud"
      },
      "source": [
        "## Discussion"
      ]
    },
    {
      "cell_type": "markdown",
      "metadata": {
        "id": "Xsxtnoa3WuMr"
      },
      "source": [
        "# Method"
      ]
    },
    {
      "cell_type": "markdown",
      "metadata": {
        "id": "e2HiL4WrW9KE"
      },
      "source": [
        "## Notebook Setup\n",
        "\n",
        "### Mount google drive"
      ]
    },
    {
      "cell_type": "code",
      "execution_count": 182,
      "metadata": {
        "colab": {
          "base_uri": "https://localhost:8080/"
        },
        "id": "pYcEcC4sRmK3",
        "outputId": "89b40779-76ce-4ddd-8e28-86ff6651f10e"
      },
      "outputs": [
        {
          "output_type": "stream",
          "name": "stdout",
          "text": [
            "Drive already mounted at /content/drive; to attempt to forcibly remount, call drive.mount(\"/content/drive\", force_remount=True).\n"
          ]
        }
      ],
      "source": [
        "from google.colab import drive\n",
        "drive.mount('/content/drive')"
      ]
    },
    {
      "cell_type": "markdown",
      "metadata": {
        "id": "zHg1tMOCXKm_"
      },
      "source": [
        "### Download and import necessary libraries"
      ]
    },
    {
      "cell_type": "code",
      "execution_count": 183,
      "metadata": {
        "id": "9FY-Z3RA5Y8S"
      },
      "outputs": [],
      "source": [
        "%%capture\n",
        "!pip install remotezip"
      ]
    },
    {
      "cell_type": "code",
      "execution_count": 184,
      "metadata": {
        "id": "eNiwaS1OrpQJ"
      },
      "outputs": [],
      "source": [
        "import pandas as pd\n",
        "import numpy as np\n",
        "import datetime \n",
        "from remotezip import RemoteZip\n",
        "from itertools import groupby\n",
        "from operator import itemgetter"
      ]
    },
    {
      "cell_type": "markdown",
      "metadata": {
        "id": "56-AaiYlXPkX"
      },
      "source": [
        "## Load data"
      ]
    },
    {
      "cell_type": "markdown",
      "metadata": {
        "id": "iFRKBd2xXTr8"
      },
      "source": [
        "### Berlin Data\n",
        "\n",
        "The Berlin data was found from Germany's Deutsche Wetterdienst [Climate Data Center](https://www.dwd.de/DE/klimaumwelt/cdc/cdc_node.html). The CDC offers open access to a wide range of weather data all across Germany. One of the available weather stations is station ID 0399, in Berlin Alexanderplatz. This data is available in a remote directory, from which, sunshine duration (minutes) during each hour as far back as November 20th, 2015 is loaded below.\n",
        "\n",
        "This data will be loaded as `df_ber`.\n",
        "\n",
        "Sunrise and sunset data will also be needed. This was found on https://sunrise.maplogs.com.\n",
        "\n",
        "This data will be loaded as `df_bersun`.\n"
      ]
    },
    {
      "cell_type": "code",
      "execution_count": 185,
      "metadata": {
        "id": "WunmBCKF4Mfb"
      },
      "outputs": [],
      "source": [
        "# define url of zipfile\n",
        "zip_name = \"https://opendata.dwd.de/climate_environment/CDC/observations_germany/climate_urban/hourly/sun/recent/stundenwerte_sun_399_akt.zip\"\n",
        "\n",
        "# use REmoteZip to unpack and load .txt datafile from remote directory\n",
        "with RemoteZip(zip_name) as ziploc:\n",
        "    for zip_info in ziploc.infolist():\n",
        "        # print(zip_info.filename)\n",
        "        pass\n",
        "    ziploc.extract('produkt_sun_399_akt.txt')"
      ]
    },
    {
      "cell_type": "code",
      "execution_count": 186,
      "metadata": {
        "id": "pG36nogtsCUg"
      },
      "outputs": [],
      "source": [
        "# read data from file\n",
        "df_ber = pd.read_csv('produkt_sun_399_akt.txt', sep=';')\n",
        "\n",
        "# strip whitespace from columns and drop 'eor' column\n",
        "df_ber.rename(columns=lambda x: x.strip(), inplace=True)\n",
        "df_ber.drop('eor', axis=1, inplace=True)\n",
        "# df_ber.info()"
      ]
    },
    {
      "cell_type": "code",
      "source": [
        "# load data for df_bersun\n",
        "df_bersun = pd.read_csv('/content/drive/MyDrive/Colab Notebooks/Coursera Courses/Applied Data Science with Python Specialization - U Michigan/2. Applied Plotting, Charting & Data Representation in Python/Assignments/Assignment 4/Data/Berlin data/Sunshine/Sunrise&set_maplogsdotcom.csv')\n",
        "# df_bersun"
      ],
      "metadata": {
        "id": "F-KCjWEmNGia"
      },
      "execution_count": 187,
      "outputs": []
    },
    {
      "cell_type": "markdown",
      "metadata": {
        "id": "8P95jwRBcnY0"
      },
      "source": [
        "### DC Data\n",
        "\n",
        "DC climatological data was found using Visual Crossing's [Weather Data database](https://www.visualcrossing.com/weather-data). From this database, climatological data near Washington, DC for the years 2015 to 2021 was queired and loaded below. In this queiered data is \"cloudcover\" as a percent, for every hour of every day. Information on the exact weather station location is not provided.\n",
        "\n",
        "This data will be loaded as `df_dc`.\n",
        "\n",
        "Because cloudcover accounts for clouds during the night, sunrise and sunset data will also be needed. This was found using the National Oceanic and Atmospheric Administration's [Local Climatological Data tool](https://www.ncdc.noaa.gov/cdo-web/datatools/lcd). This data was recorded by the weather station at Washington Reagan National Airport.\n",
        "\n",
        "This data will be loaded as `df_dcsun`."
      ]
    },
    {
      "cell_type": "code",
      "execution_count": 188,
      "metadata": {
        "id": "PqTtY_hvf5aB"
      },
      "outputs": [],
      "source": [
        "# define file path and names\n",
        "drive_path = '/content/drive/MyDrive/Colab Notebooks/Coursera Courses/Applied Data Science with Python Specialization - U Michigan/2. Applied Plotting, Charting & Data Representation in Python/Assignments/Assignment 4/Data/DC data/'\n",
        "dc1_file = 'washington_dc climatological 2015 to 2017.csv'\n",
        "dc2_file = 'washington_dc climatological 2018 to 2021.csv'\n",
        "\n",
        "# read files\n",
        "df_dc1 = pd.read_csv(drive_path + dc1_file)\n",
        "df_dc2 = pd.read_csv(drive_path + dc2_file)\n"
      ]
    },
    {
      "cell_type": "code",
      "execution_count": 189,
      "metadata": {
        "id": "zcxMz5g7WQI6"
      },
      "outputs": [],
      "source": [
        "# concatenate the two dc dataframes\n",
        "df_dc = pd.concat([df_dc1, df_dc2], ignore_index=True)\n",
        "# df_dc.info()"
      ]
    },
    {
      "cell_type": "code",
      "source": [
        "# load data for df_dcsun\n",
        "dc3_file = 'NOAA LCD washington daily data.csv'\n",
        "df_dcsun = pd.read_csv(drive_path + dc3_file)"
      ],
      "metadata": {
        "colab": {
          "base_uri": "https://localhost:8080/"
        },
        "id": "wgjte4L1N6qP",
        "outputId": "509ab38b-c69d-4a7b-f150-689f128abe63"
      },
      "execution_count": 190,
      "outputs": [
        {
          "output_type": "stream",
          "name": "stderr",
          "text": [
            "/usr/local/lib/python3.8/dist-packages/IPython/core/interactiveshell.py:3326: DtypeWarning: Columns (35,36,42,43,44,50,52,74,76,77,90) have mixed types.Specify dtype option on import or set low_memory=False.\n",
            "  exec(code_obj, self.user_global_ns, self.user_ns)\n"
          ]
        }
      ]
    },
    {
      "cell_type": "markdown",
      "metadata": {
        "id": "ilNPleHKfPnT"
      },
      "source": [
        "### Filter dataframe columns and rename"
      ]
    },
    {
      "cell_type": "code",
      "execution_count": 191,
      "metadata": {
        "id": "A-f6GwkmejoU"
      },
      "outputs": [],
      "source": [
        "df_ber = df_ber[['MESS_DATUM', 'SONNENSCHEINDAUER']]\n",
        "df_ber = df_ber.rename(columns={'MESS_DATUM': 'datetime', 'SONNENSCHEINDAUER': 'sunduration'})\n",
        "df_dc = df_dc[['datetime', 'cloudcover']]\n",
        "\n",
        "df_bersun = df_bersun.rename(columns={'Date': 'datetime', 'Sunrise': 'sunrise_BER', 'Sunset': 'sunset_BER', 'Daylength': 'daylength_BER'})\n",
        "df_dcsun = df_dcsun[['DATE', 'Sunrise', 'Sunset']].dropna().reset_index(drop=True)\n",
        "df_dcsun = df_dcsun.rename(columns={'DATE': 'datetime', 'Sunrise': 'sunrise_DC', 'Sunset': 'sunset_DC'})"
      ]
    },
    {
      "cell_type": "code",
      "execution_count": 192,
      "metadata": {
        "id": "-cHMW2y4fB8R"
      },
      "outputs": [],
      "source": [
        "# df_ber, df_dc"
      ]
    },
    {
      "cell_type": "markdown",
      "metadata": {
        "id": "Nn4U2Bt1gR09"
      },
      "source": [
        "## Data Cleaning\n",
        "\n",
        "The dataframes are different lengths, and neither length equals the number of hours in the intended range (begining of 2016 to end of 2021) which is 52560."
      ]
    },
    {
      "cell_type": "markdown",
      "metadata": {
        "id": "_dOhRrB2hhkR"
      },
      "source": [
        "### Standardize datetime columns"
      ]
    },
    {
      "cell_type": "code",
      "execution_count": 193,
      "metadata": {
        "id": "cySIW9_Rhgo3"
      },
      "outputs": [],
      "source": [
        "# convert to datetime and sort df by datetime\n",
        "df_ber['datetime'] = pd.to_datetime(df_ber['datetime'], format='%Y%m%d%H')\n",
        "df_ber.sort_values('datetime', inplace=True)\n",
        "# df_ber['datetime'].head(30)"
      ]
    },
    {
      "cell_type": "code",
      "execution_count": 194,
      "metadata": {
        "id": "9bGCk-A3kbXW"
      },
      "outputs": [],
      "source": [
        "# convert to datetime and sort df by datetime\n",
        "df_dc['datetime'] = pd.to_datetime(df_dc['datetime'])\n",
        "df_dc.sort_values('datetime', inplace=True)"
      ]
    },
    {
      "cell_type": "code",
      "source": [
        "# convert to datetime\n",
        "df_bersun['datetime'] = pd.to_datetime(df_bersun['datetime'])"
      ],
      "metadata": {
        "id": "GvWoqWA-PBP6"
      },
      "execution_count": 195,
      "outputs": []
    },
    {
      "cell_type": "code",
      "execution_count": 196,
      "metadata": {
        "id": "0o8k5aliO4nc"
      },
      "outputs": [],
      "source": [
        "# remove the time information and keep date information\n",
        "df_dcsun['datetime'] = df_dcsun['datetime'].str.split('T').str[0]\n",
        "# convert to datetime\n",
        "df_dcsun['datetime'] = pd.to_datetime(df_dcsun['datetime'])"
      ]
    },
    {
      "cell_type": "markdown",
      "metadata": {
        "id": "Bxq6qdjdlSzg"
      },
      "source": [
        "### Filter date range and add year, month, day, hour columns"
      ]
    },
    {
      "cell_type": "code",
      "execution_count": 197,
      "metadata": {
        "colab": {
          "base_uri": "https://localhost:8080/"
        },
        "id": "5rdPVFCClV7Z",
        "outputId": "a75f36f4-721b-46d2-a228-ba9846186149"
      },
      "outputs": [
        {
          "output_type": "execute_result",
          "data": {
            "text/plain": [
              "(50269, 52608, 2192, 2192)"
            ]
          },
          "metadata": {},
          "execution_count": 197
        }
      ],
      "source": [
        "startdate = pd.to_datetime('1/1/2016')\n",
        "enddate = pd.to_datetime('1/1/2022')\n",
        "df_ber = df_ber[(df_ber['datetime'] >= startdate) & (df_ber['datetime'] < enddate)].reset_index(drop=True)\n",
        "# df_ber['year'] = df_ber['datetime'].dt.year\n",
        "# df_ber['month'] = df_ber['datetime'].dt.month\n",
        "# df_ber['day'] = df_ber['datetime'].dt.day\n",
        "# df_ber['hour'] = df_ber['datetime'].dt.hour\n",
        "# df_ber\n",
        "\n",
        "df_dc = df_dc[(df_dc['datetime'] >= startdate) & (df_dc['datetime'] < enddate)].reset_index(drop=True)\n",
        "# df_dc['year'] = df_dc['datetime'].dt.year\n",
        "# df_dc['month'] = df_dc['datetime'].dt.month\n",
        "# df_dc['day'] = df_dc['datetime'].dt.day\n",
        "# df_dc['hour'] = df_dc['datetime'].dt.hour\n",
        "# df_dc\n",
        "\n",
        "# df_dcsun['year'] = df_dcsun['datetime'].dt.year\n",
        "# df_dcsun['month'] = df_dcsun['datetime'].dt.month\n",
        "# df_dcsun['day'] = df_dcsun['datetime'].dt.day\n",
        "# df_dcsun\n",
        "\n",
        "len(df_ber), len(df_dc), len(df_bersun), len(df_dcsun)"
      ]
    },
    {
      "cell_type": "markdown",
      "metadata": {
        "id": "4empgnKM3gqN"
      },
      "source": [
        "### Remove Febuary 29th from data"
      ]
    },
    {
      "cell_type": "code",
      "execution_count": 198,
      "metadata": {
        "colab": {
          "base_uri": "https://localhost:8080/"
        },
        "id": "zLaay_bk443Y",
        "outputId": "d18d7658-fcfe-40f4-b8ea-5f291d02e698"
      },
      "outputs": [
        {
          "output_type": "execute_result",
          "data": {
            "text/plain": [
              "(50221, 52560, 2190, 2190)"
            ]
          },
          "metadata": {},
          "execution_count": 198
        }
      ],
      "source": [
        "df_ber = df_ber.drop(df_ber[(df_ber['datetime'].dt.month == 2) & \n",
        "                   (df_ber['datetime'].dt.day == 29)].index).reset_index(drop=True)\n",
        "df_dc = df_dc.drop(df_dc[(df_dc['datetime'].dt.month == 2) & \n",
        "                 (df_dc['datetime'].dt.day == 29)].index).reset_index(drop=True)\n",
        "df_bersun = df_bersun.drop(df_bersun[(df_bersun['datetime'].dt.month == 2) & \n",
        "                        (df_bersun['datetime'].dt.day == 29)].index).reset_index(drop=True)\n",
        "df_dcsun = df_dcsun.drop(df_dcsun[(df_dcsun['datetime'].dt.month == 2) & \n",
        "                       (df_dcsun['datetime'].dt.day == 29)].index).reset_index(drop=True)\n",
        "\n",
        "len(df_ber), len(df_dc), len(df_bersun), len(df_dcsun)"
      ]
    },
    {
      "cell_type": "code",
      "execution_count": 199,
      "metadata": {
        "id": "aYP4pRig3mEB"
      },
      "outputs": [],
      "source": [
        "# old method for removing lead day data:\n",
        "\n",
        "# df_ber = df_ber[~((df_ber['month'] == 2) & (df_ber['day'] == 29))].reset_index(drop=True)\n",
        "# df_dc = df_dc[~((df_dc['month'] == 2) & (df_dc['day'] == 29))].reset_index(drop=True)\n",
        "# df_dcsun = df_dcsun[~((df_dcsun['month'] == 2) & (df_dcsun['day'] == 29))].reset_index(drop=True)\n",
        "# len(df_ber), len(df_dc), len(df_dcsun)"
      ]
    },
    {
      "cell_type": "markdown",
      "metadata": {
        "id": "Ai4ryKBmIs3m"
      },
      "source": [
        "### Duplicate Rows found in `dc_df`\n",
        "\n",
        "During the following \"Dealing with missing rows\" section, `dc_df` was found to have dupplicate datetime instances. This needs to be fixed first."
      ]
    },
    {
      "cell_type": "code",
      "execution_count": 200,
      "metadata": {
        "colab": {
          "base_uri": "https://localhost:8080/"
        },
        "id": "I_lU3kqVIJCo",
        "outputId": "fbd890cb-ff5b-4662-e128-046471f2c109"
      },
      "outputs": [
        {
          "output_type": "stream",
          "name": "stdout",
          "text": [
            "2019-11-03 01:00:00    2\n",
            "2020-11-01 01:00:00    2\n",
            "2016-11-06 01:00:00    2\n",
            "2018-11-04 01:00:00    2\n",
            "2017-11-05 01:00:00    2\n",
            "2021-11-07 01:00:00    2\n",
            "Name: datetime, dtype: int64\n"
          ]
        }
      ],
      "source": [
        "dc_datevc = df_dc['datetime'].value_counts()\n",
        "print(dc_datevc[dc_datevc > 1])"
      ]
    },
    {
      "cell_type": "code",
      "execution_count": 201,
      "metadata": {
        "colab": {
          "base_uri": "https://localhost:8080/"
        },
        "id": "TePuScalITZ4",
        "outputId": "bf061a2e-c09c-4d28-9dd9-0c9e5813c473"
      },
      "outputs": [
        {
          "output_type": "stream",
          "name": "stdout",
          "text": [
            "                 datetime  cloudcover\n",
            "33624 2019-11-03 01:00:00         0.0\n",
            "33625 2019-11-03 01:00:00         0.0\n",
            "                 datetime  cloudcover\n",
            "24888 2018-11-04 01:00:00         0.0\n",
            "24889 2018-11-04 01:00:00         0.0\n",
            "                datetime  cloudcover\n",
            "7416 2016-11-06 01:00:00         0.0\n",
            "7417 2016-11-06 01:00:00         0.0\n",
            "                 datetime  cloudcover\n",
            "24888 2018-11-04 01:00:00         0.0\n",
            "24889 2018-11-04 01:00:00         0.0\n",
            "                 datetime  cloudcover\n",
            "16152 2017-11-05 01:00:00       100.0\n",
            "16153 2017-11-05 01:00:00       100.0\n",
            "                 datetime  cloudcover\n",
            "51240 2021-11-07 01:00:00        79.3\n",
            "51241 2021-11-07 01:00:00        90.1\n"
          ]
        }
      ],
      "source": [
        "print(df_dc[df_dc['datetime'] == '2019-11-03 01:00:00'])\n",
        "print(df_dc[df_dc['datetime'] == '2018-11-04 01:00:00'])\n",
        "print(df_dc[df_dc['datetime'] == '2016-11-06 01:00:00'])\n",
        "print(df_dc[df_dc['datetime'] == '2018-11-04 01:00:00'])\n",
        "print(df_dc[df_dc['datetime'] == '2017-11-05 01:00:00'])\n",
        "print(df_dc[df_dc['datetime'] == '2021-11-07 01:00:00'])"
      ]
    },
    {
      "cell_type": "markdown",
      "metadata": {
        "id": "F9cjbYL1JJRN"
      },
      "source": [
        "During an earlier check, it was confirmed that each year had the appropriate number of values... (there are 8760 hours in a year)\n",
        "\n",
        "Shown again:"
      ]
    },
    {
      "cell_type": "code",
      "execution_count": 202,
      "metadata": {
        "colab": {
          "base_uri": "https://localhost:8080/"
        },
        "id": "61t2KCSMIsTN",
        "outputId": "fdb25240-6d15-4a67-f1be-5870e38b1377"
      },
      "outputs": [
        {
          "output_type": "stream",
          "name": "stdout",
          "text": [
            "year: 2016\n",
            "rows: 8760\n",
            "year: 2017\n",
            "rows: 8760\n",
            "year: 2018\n",
            "rows: 8760\n",
            "year: 2019\n",
            "rows: 8760\n",
            "year: 2020\n",
            "rows: 8760\n",
            "year: 2021\n",
            "rows: 8760\n"
          ]
        }
      ],
      "source": [
        "for year in range(2016, 2022):\n",
        "  print(\"year:\", year)\n",
        "  print(\"rows:\", len(df_dc[df_dc['datetime'].dt.year == year]))\n"
      ]
    },
    {
      "cell_type": "markdown",
      "metadata": {
        "id": "dU5BMP-R8KqM"
      },
      "source": [
        "So, each year has the appropriate number of timestamps, yet every year has a duplicate time stamp in November.\n",
        "\n",
        "After some investigation, each year was found to be missing a timestamp in march:"
      ]
    },
    {
      "cell_type": "code",
      "execution_count": 203,
      "metadata": {
        "colab": {
          "base_uri": "https://localhost:8080/"
        },
        "id": "kfQnDbObNP35",
        "outputId": "1d9bb4a5-d3b5-414b-8f9a-38448986d8d1"
      },
      "outputs": [
        {
          "output_type": "execute_result",
          "data": {
            "text/plain": [
              "DatetimeIndex(['2016-03-13 02:00:00', '2017-03-12 02:00:00',\n",
              "               '2018-03-11 02:00:00', '2019-03-10 02:00:00',\n",
              "               '2020-03-08 02:00:00', '2021-03-14 02:00:00'],\n",
              "              dtype='datetime64[ns]', freq=None)"
            ]
          },
          "metadata": {},
          "execution_count": 203
        }
      ],
      "source": [
        "# create a date range with all hours in the target range and lead days removed\n",
        "daterange = pd.date_range(start='2016-01-01', end='2022-01-01', freq='H', closed='left')\n",
        "leap=[]\n",
        "for stamp in daterange:\n",
        "    if stamp.month==2 and stamp.day ==29:\n",
        "        leap.append(stamp)\n",
        "daterange = daterange.drop(leap)\n",
        "\n",
        "# check the difference between the date range and df_dc range\n",
        "# this will show any missing values\n",
        "daterange.difference(df_dc['datetime'])"
      ]
    },
    {
      "cell_type": "code",
      "execution_count": 204,
      "metadata": {
        "id": "ooy1hBG0LEPt"
      },
      "outputs": [],
      "source": [
        "# df_dc[(df_dc['year'] == 2016) & (df_dc['month'] == 3)]\n",
        "\n",
        "# df_dc[(df_dc['year'] == 2016) & (df_dc['month'] == 11)]"
      ]
    },
    {
      "cell_type": "markdown",
      "metadata": {
        "id": "ZCzYDqgaChDq"
      },
      "source": [
        "At this point, the proper step would be to contact the data provider to gain some context as to what may be causing this issue and determine a path forward together. \n",
        "\n",
        "For the sake of this project, it will be interpreted that all time stamps between the missing timestamp in March and the duplicate timestamp in November are one hour \"late\". All timestamps in this range will be shifted forwards one hour (only the first instance of a duplicated timestamp will be shifted)."
      ]
    },
    {
      "cell_type": "markdown",
      "metadata": {
        "id": "7CTdkYvADV3m"
      },
      "source": [
        "#### Shifting offset timestamps"
      ]
    },
    {
      "cell_type": "code",
      "execution_count": 205,
      "metadata": {
        "id": "r2v1E9L9J3DS"
      },
      "outputs": [],
      "source": [
        "# get missing times from march and duplicate times from november in lists\n",
        "miss_times = daterange.difference(df_dc['datetime']).sort_values()\n",
        "dc_datevc = df_dc['datetime'].value_counts()\n",
        "dup_times = dc_datevc[dc_datevc > 1].index.sort_values()\n",
        "\n",
        "# iterate over zip of missing and duplicate times and shift timestamps inbetween by 1 hour\n",
        "for year in zip(miss_times, dup_times):\n",
        "  # print(f'Missing March hour: {year[0]}')\n",
        "  # print(f'Duplicate Nov hour: {year[1]}')\n",
        "  df_dc.datetime = df_dc.datetime.map(lambda x: x - pd.Timedelta(1, 'h') if \n",
        "                                      (year[0] < x) & (x < year[1]) else x)\n",
        "# print('')\n",
        "\n",
        "# shift the first occurance of each duplicate timestamp forward one hour\n",
        "for duplicate in dup_times:\n",
        "  if dup_times.empty:\n",
        "    break\n",
        "  # print(df_dc[df_dc['datetime'] == duplicate])\n",
        "  index = df_dc.index[df_dc['datetime'] == duplicate][0]\n",
        "  # print(f\"Index: {index}\")\n",
        "  # print(f\"Value before: {df_dc['datetime'].iloc[index]}\")\n",
        "  df_dc.loc[index, 'datetime'] -=  pd.Timedelta(1, 'h')\n",
        "  # print(f\"Value after: {df_dc['datetime'].iloc[index]}\")"
      ]
    },
    {
      "cell_type": "code",
      "execution_count": 206,
      "metadata": {
        "colab": {
          "base_uri": "https://localhost:8080/"
        },
        "id": "u6zZEeTXStr5",
        "outputId": "b11a5590-5ba2-45c7-f037-ac79ee6b42cd"
      },
      "outputs": [
        {
          "output_type": "execute_result",
          "data": {
            "text/plain": [
              "DatetimeIndex([], dtype='datetime64[ns]', freq=None)"
            ]
          },
          "metadata": {},
          "execution_count": 206
        }
      ],
      "source": [
        "daterange.difference(df_dc['datetime']).sort_values()"
      ]
    },
    {
      "cell_type": "code",
      "execution_count": 207,
      "metadata": {
        "colab": {
          "base_uri": "https://localhost:8080/"
        },
        "id": "g-Ss7yOcU5Ra",
        "outputId": "62526e2e-9d1b-4ef6-b53e-0d3cffe46c53"
      },
      "outputs": [
        {
          "output_type": "execute_result",
          "data": {
            "text/plain": [
              "2016-01-01 00:00:00    1\n",
              "2020-01-01 05:00:00    1\n",
              "2019-12-31 19:00:00    1\n",
              "2019-12-31 20:00:00    1\n",
              "2019-12-31 21:00:00    1\n",
              "                      ..\n",
              "2018-01-01 01:00:00    1\n",
              "2018-01-01 02:00:00    1\n",
              "2018-01-01 03:00:00    1\n",
              "2018-01-01 04:00:00    1\n",
              "2021-12-31 23:00:00    1\n",
              "Name: datetime, Length: 52560, dtype: int64"
            ]
          },
          "metadata": {},
          "execution_count": 207
        }
      ],
      "source": [
        "df_dc['datetime'].value_counts()"
      ]
    },
    {
      "cell_type": "markdown",
      "metadata": {
        "id": "TkRSoIE-8lpt"
      },
      "source": [
        "### Dealing with missing rows in `df_ber` and creating `df`\n",
        "\n",
        "`df_ber` only has 50221 rows. To make investigating this a little easier, the datetime series with all hours in the target date range created earlier will be used as the foundation of a dataframe into which, both `df_ber` and `df_dc` will be left merged. This dataframe will be called `df`."
      ]
    },
    {
      "cell_type": "code",
      "execution_count": 208,
      "metadata": {
        "id": "YiEm804m02rA"
      },
      "outputs": [],
      "source": [
        "df = pd.DataFrame(daterange, columns=['datetime'])\n",
        "df = pd.merge(df, df_ber[['datetime', 'sunduration']], how='left', on='datetime')\n",
        "df = pd.merge(df, df_dc[['datetime', 'cloudcover']], how='left', on='datetime')\n",
        "df = df.rename(columns={'sunduration': 'sunduration_BER', 'cloudcover': 'cloudcover_DC'})\n",
        "# df"
      ]
    },
    {
      "cell_type": "code",
      "source": [
        "df"
      ],
      "metadata": {
        "colab": {
          "base_uri": "https://localhost:8080/",
          "height": 424
        },
        "id": "__sDzcjFzIXe",
        "outputId": "2dafe394-6a41-4540-9022-bf78b82c365d"
      },
      "execution_count": 209,
      "outputs": [
        {
          "output_type": "execute_result",
          "data": {
            "text/plain": [
              "                 datetime  sunduration_BER  cloudcover_DC\n",
              "0     2016-01-01 00:00:00              0.0           99.8\n",
              "1     2016-01-01 01:00:00              0.0          100.0\n",
              "2     2016-01-01 02:00:00              0.0           88.9\n",
              "3     2016-01-01 03:00:00              0.0           79.3\n",
              "4     2016-01-01 04:00:00              0.0           79.3\n",
              "...                   ...              ...            ...\n",
              "52555 2021-12-31 19:00:00              0.0           81.7\n",
              "52556 2021-12-31 20:00:00              0.0           98.3\n",
              "52557 2021-12-31 21:00:00              0.0           99.6\n",
              "52558 2021-12-31 22:00:00              0.0           99.6\n",
              "52559 2021-12-31 23:00:00              0.0           99.6\n",
              "\n",
              "[52560 rows x 3 columns]"
            ],
            "text/html": [
              "\n",
              "  <div id=\"df-7519db18-6438-4224-9db4-8313f1450054\">\n",
              "    <div class=\"colab-df-container\">\n",
              "      <div>\n",
              "<style scoped>\n",
              "    .dataframe tbody tr th:only-of-type {\n",
              "        vertical-align: middle;\n",
              "    }\n",
              "\n",
              "    .dataframe tbody tr th {\n",
              "        vertical-align: top;\n",
              "    }\n",
              "\n",
              "    .dataframe thead th {\n",
              "        text-align: right;\n",
              "    }\n",
              "</style>\n",
              "<table border=\"1\" class=\"dataframe\">\n",
              "  <thead>\n",
              "    <tr style=\"text-align: right;\">\n",
              "      <th></th>\n",
              "      <th>datetime</th>\n",
              "      <th>sunduration_BER</th>\n",
              "      <th>cloudcover_DC</th>\n",
              "    </tr>\n",
              "  </thead>\n",
              "  <tbody>\n",
              "    <tr>\n",
              "      <th>0</th>\n",
              "      <td>2016-01-01 00:00:00</td>\n",
              "      <td>0.0</td>\n",
              "      <td>99.8</td>\n",
              "    </tr>\n",
              "    <tr>\n",
              "      <th>1</th>\n",
              "      <td>2016-01-01 01:00:00</td>\n",
              "      <td>0.0</td>\n",
              "      <td>100.0</td>\n",
              "    </tr>\n",
              "    <tr>\n",
              "      <th>2</th>\n",
              "      <td>2016-01-01 02:00:00</td>\n",
              "      <td>0.0</td>\n",
              "      <td>88.9</td>\n",
              "    </tr>\n",
              "    <tr>\n",
              "      <th>3</th>\n",
              "      <td>2016-01-01 03:00:00</td>\n",
              "      <td>0.0</td>\n",
              "      <td>79.3</td>\n",
              "    </tr>\n",
              "    <tr>\n",
              "      <th>4</th>\n",
              "      <td>2016-01-01 04:00:00</td>\n",
              "      <td>0.0</td>\n",
              "      <td>79.3</td>\n",
              "    </tr>\n",
              "    <tr>\n",
              "      <th>...</th>\n",
              "      <td>...</td>\n",
              "      <td>...</td>\n",
              "      <td>...</td>\n",
              "    </tr>\n",
              "    <tr>\n",
              "      <th>52555</th>\n",
              "      <td>2021-12-31 19:00:00</td>\n",
              "      <td>0.0</td>\n",
              "      <td>81.7</td>\n",
              "    </tr>\n",
              "    <tr>\n",
              "      <th>52556</th>\n",
              "      <td>2021-12-31 20:00:00</td>\n",
              "      <td>0.0</td>\n",
              "      <td>98.3</td>\n",
              "    </tr>\n",
              "    <tr>\n",
              "      <th>52557</th>\n",
              "      <td>2021-12-31 21:00:00</td>\n",
              "      <td>0.0</td>\n",
              "      <td>99.6</td>\n",
              "    </tr>\n",
              "    <tr>\n",
              "      <th>52558</th>\n",
              "      <td>2021-12-31 22:00:00</td>\n",
              "      <td>0.0</td>\n",
              "      <td>99.6</td>\n",
              "    </tr>\n",
              "    <tr>\n",
              "      <th>52559</th>\n",
              "      <td>2021-12-31 23:00:00</td>\n",
              "      <td>0.0</td>\n",
              "      <td>99.6</td>\n",
              "    </tr>\n",
              "  </tbody>\n",
              "</table>\n",
              "<p>52560 rows × 3 columns</p>\n",
              "</div>\n",
              "      <button class=\"colab-df-convert\" onclick=\"convertToInteractive('df-7519db18-6438-4224-9db4-8313f1450054')\"\n",
              "              title=\"Convert this dataframe to an interactive table.\"\n",
              "              style=\"display:none;\">\n",
              "        \n",
              "  <svg xmlns=\"http://www.w3.org/2000/svg\" height=\"24px\"viewBox=\"0 0 24 24\"\n",
              "       width=\"24px\">\n",
              "    <path d=\"M0 0h24v24H0V0z\" fill=\"none\"/>\n",
              "    <path d=\"M18.56 5.44l.94 2.06.94-2.06 2.06-.94-2.06-.94-.94-2.06-.94 2.06-2.06.94zm-11 1L8.5 8.5l.94-2.06 2.06-.94-2.06-.94L8.5 2.5l-.94 2.06-2.06.94zm10 10l.94 2.06.94-2.06 2.06-.94-2.06-.94-.94-2.06-.94 2.06-2.06.94z\"/><path d=\"M17.41 7.96l-1.37-1.37c-.4-.4-.92-.59-1.43-.59-.52 0-1.04.2-1.43.59L10.3 9.45l-7.72 7.72c-.78.78-.78 2.05 0 2.83L4 21.41c.39.39.9.59 1.41.59.51 0 1.02-.2 1.41-.59l7.78-7.78 2.81-2.81c.8-.78.8-2.07 0-2.86zM5.41 20L4 18.59l7.72-7.72 1.47 1.35L5.41 20z\"/>\n",
              "  </svg>\n",
              "      </button>\n",
              "      \n",
              "  <style>\n",
              "    .colab-df-container {\n",
              "      display:flex;\n",
              "      flex-wrap:wrap;\n",
              "      gap: 12px;\n",
              "    }\n",
              "\n",
              "    .colab-df-convert {\n",
              "      background-color: #E8F0FE;\n",
              "      border: none;\n",
              "      border-radius: 50%;\n",
              "      cursor: pointer;\n",
              "      display: none;\n",
              "      fill: #1967D2;\n",
              "      height: 32px;\n",
              "      padding: 0 0 0 0;\n",
              "      width: 32px;\n",
              "    }\n",
              "\n",
              "    .colab-df-convert:hover {\n",
              "      background-color: #E2EBFA;\n",
              "      box-shadow: 0px 1px 2px rgba(60, 64, 67, 0.3), 0px 1px 3px 1px rgba(60, 64, 67, 0.15);\n",
              "      fill: #174EA6;\n",
              "    }\n",
              "\n",
              "    [theme=dark] .colab-df-convert {\n",
              "      background-color: #3B4455;\n",
              "      fill: #D2E3FC;\n",
              "    }\n",
              "\n",
              "    [theme=dark] .colab-df-convert:hover {\n",
              "      background-color: #434B5C;\n",
              "      box-shadow: 0px 1px 3px 1px rgba(0, 0, 0, 0.15);\n",
              "      filter: drop-shadow(0px 1px 2px rgba(0, 0, 0, 0.3));\n",
              "      fill: #FFFFFF;\n",
              "    }\n",
              "  </style>\n",
              "\n",
              "      <script>\n",
              "        const buttonEl =\n",
              "          document.querySelector('#df-7519db18-6438-4224-9db4-8313f1450054 button.colab-df-convert');\n",
              "        buttonEl.style.display =\n",
              "          google.colab.kernel.accessAllowed ? 'block' : 'none';\n",
              "\n",
              "        async function convertToInteractive(key) {\n",
              "          const element = document.querySelector('#df-7519db18-6438-4224-9db4-8313f1450054');\n",
              "          const dataTable =\n",
              "            await google.colab.kernel.invokeFunction('convertToInteractive',\n",
              "                                                     [key], {});\n",
              "          if (!dataTable) return;\n",
              "\n",
              "          const docLinkHtml = 'Like what you see? Visit the ' +\n",
              "            '<a target=\"_blank\" href=https://colab.research.google.com/notebooks/data_table.ipynb>data table notebook</a>'\n",
              "            + ' to learn more about interactive tables.';\n",
              "          element.innerHTML = '';\n",
              "          dataTable['output_type'] = 'display_data';\n",
              "          await google.colab.output.renderOutput(dataTable, element);\n",
              "          const docLink = document.createElement('div');\n",
              "          docLink.innerHTML = docLinkHtml;\n",
              "          element.appendChild(docLink);\n",
              "        }\n",
              "      </script>\n",
              "    </div>\n",
              "  </div>\n",
              "  "
            ]
          },
          "metadata": {},
          "execution_count": 209
        }
      ]
    },
    {
      "cell_type": "markdown",
      "metadata": {
        "id": "IRKFAwSI_Jlr"
      },
      "source": [
        "Most of the missing data is in the form of consecutive missing hours. For example, starting on May 25th, 2020, more than an entire month straight is missing (923 consecutive hours). "
      ]
    },
    {
      "cell_type": "code",
      "execution_count": 210,
      "metadata": {
        "colab": {
          "base_uri": "https://localhost:8080/"
        },
        "id": "_y4y8klZFM_h",
        "outputId": "b887c80e-dc8f-47da-9059-1a8934ba52e9"
      },
      "outputs": [
        {
          "output_type": "stream",
          "name": "stdout",
          "text": [
            "2339\n"
          ]
        }
      ],
      "source": [
        "# get the rows where sunduration is nan\n",
        "no_sun_ind = df[df.isnull().any(axis=1)].index\n",
        "print(len(no_sun_ind))"
      ]
    },
    {
      "cell_type": "code",
      "execution_count": 280,
      "metadata": {
        "colab": {
          "base_uri": "https://localhost:8080/"
        },
        "id": "4gCKzwG4Fepy",
        "outputId": "8a2fc011-6a43-4140-ccae-e71694b4ae71"
      },
      "outputs": [
        {
          "output_type": "stream",
          "name": "stdout",
          "text": [
            "(1, [2577])\n",
            "(23, [3017, 3018, 3019, 3020, 3021, 3022, 3023, 3024, 3025, 3026, 3027, 3028, 3029, 3030, 3031, 3032, 3033, 3034, 3035, 3036, 3037, 3038, 3039])\n",
            "(1, [3401])\n",
            "(1, [3648])\n",
            "(2, [3712, 3713])\n",
            "(1, [3790])\n",
            "(2, [4169, 4170])\n",
            "(4, [4191, 4192, 4193, 4194])\n",
            "(1, [4215])\n",
            "(14, [4303, 4304, 4305, 4306, 4307, 4308, 4309, 4310, 4311, 4312, 4313, 4314, 4315, 4316])\n"
          ]
        }
      ],
      "source": [
        "# create a series of tuples\n",
        "no_sun_segments = []\n",
        "for k, g in groupby(enumerate(no_sun_ind), lambda ix : ix[0] - ix[1]):\n",
        "  # print(\"Values:\")\n",
        "  series = list(map(itemgetter(1), g))\n",
        "  # print(series)\n",
        "  # print(f\"Number of values: {len(list(map(itemgetter(1), g)))}\")\n",
        "  no_sun_segments.append((len(series), series))\n",
        "\n",
        "print(*no_sun_segments[:10], sep='\\n')"
      ]
    },
    {
      "cell_type": "markdown",
      "metadata": {
        "id": "0829a8-qHzpO"
      },
      "source": [
        "The goal of this project is to compare monthy averages between Berlin and Washington, DC. So it's not very necesary to fill these large segments of missing data. As shown below, all months have atleast 80% of total possible data available. \n",
        "\n",
        "Smaller segments of missing data (1 or 2 consecutive hours) will be replaced by averaging the preceding and following readings. This accounts for 5.86% of the missing data."
      ]
    },
    {
      "cell_type": "code",
      "execution_count": 212,
      "metadata": {
        "colab": {
          "base_uri": "https://localhost:8080/"
        },
        "id": "NOARVSvv47Oc",
        "outputId": "853a6609-e485-448d-b9ce-439d0f7cb514"
      },
      "outputs": [
        {
          "output_type": "stream",
          "name": "stdout",
          "text": [
            "month: 1\n",
            "Num of values: 4460\n",
            "% of data available: 99.9\n",
            "\n",
            "month: 2\n",
            "Num of values: 3864\n",
            "% of data available: 95.8\n",
            "\n",
            "month: 3\n",
            "Num of values: 4453\n",
            "% of data available: 99.8\n",
            "\n",
            "month: 4\n",
            "Num of values: 4223\n",
            "% of data available: 97.8\n",
            "\n",
            "month: 5\n",
            "Num of values: 4147\n",
            "% of data available: 92.9\n",
            "\n",
            "month: 6\n",
            "Num of values: 3456\n",
            "% of data available: 80.0\n",
            "\n",
            "month: 7\n",
            "Num of values: 4183\n",
            "% of data available: 93.7\n",
            "\n",
            "month: 8\n",
            "Num of values: 4187\n",
            "% of data available: 93.8\n",
            "\n",
            "month: 9\n",
            "Num of values: 4273\n",
            "% of data available: 98.9\n",
            "\n",
            "month: 10\n",
            "Num of values: 4268\n",
            "% of data available: 95.6\n",
            "\n",
            "month: 11\n",
            "Num of values: 4304\n",
            "% of data available: 99.6\n",
            "\n",
            "month: 12\n",
            "Num of values: 4403\n",
            "% of data available: 98.6\n",
            "\n"
          ]
        }
      ],
      "source": [
        "# dict of months with their total hours as values\n",
        "month_hours = {1: 4464, 2: 4032, 3: 4464, 4: 4320, 5: 4464, 6: 4320, 7: 4464, 8: 4464, 9: 4320, 10: 4464, 11: 4320, 12:4464}\n",
        "\n",
        "for month in range(1, 13):\n",
        "  print(\"month:\", month)\n",
        "  vals_count = len(df[df['datetime'].dt.month == month].dropna())\n",
        "  print(\"Num of values:\", vals_count)\n",
        "  print(\"% of data available:\", round((vals_count / month_hours[month] * 100), 1))\n",
        "  print(\"\")"
      ]
    },
    {
      "cell_type": "code",
      "execution_count": 213,
      "metadata": {
        "colab": {
          "base_uri": "https://localhost:8080/"
        },
        "id": "ORrcGMjznFAs",
        "outputId": "01c2c74e-b763-41b7-b891-24f3c8c8e838"
      },
      "outputs": [
        {
          "output_type": "stream",
          "name": "stdout",
          "text": [
            "Total rows from single or double missing segments: 137\n",
            "Percent of missing rows made up of single or double segments: 5.86\n"
          ]
        }
      ],
      "source": [
        "ones_and_twos_count = 0\n",
        "for segment in no_sun_segments:\n",
        "  if segment[0] == 1:\n",
        "    ones_and_twos_count += 1\n",
        "  elif segment[0] == 2:\n",
        "    ones_and_twos_count += 2\n",
        "print(\"Total rows from single or double missing segments:\", ones_and_twos_count)\n",
        "print(\"Percent of missing rows made up of single or double segments:\", \n",
        "      round((ones_and_twos_count / len(no_sun_ind) * 100), 2))"
      ]
    },
    {
      "cell_type": "markdown",
      "metadata": {
        "id": "6kVcjSCLZTBx"
      },
      "source": [
        "#### Filling single and double missing segments in `sunduration`\n",
        "\n",
        "Occurances of just one or two consecutive missing readings will be filled with the average of the preceading and following readings."
      ]
    },
    {
      "cell_type": "code",
      "execution_count": 214,
      "metadata": {
        "id": "952rpmeVaGjN"
      },
      "outputs": [],
      "source": [
        "for segment in no_sun_segments:\n",
        "  if segment[0] == 1:\n",
        "    preceding = df.loc[segment[1][0] - 1, 'sunduration_BER']\n",
        "    following = df.loc[segment[1][0] + 1, 'sunduration_BER']\n",
        "    df.loc[segment[1], 'sunduration_BER'] = (preceding + following) * 0.5\n",
        "  elif segment[0] == 2:\n",
        "    preceding = df.loc[segment[1][0] - 1, 'sunduration_BER']\n",
        "    following = df.loc[segment[1][1] + 1, 'sunduration_BER']\n",
        "    df.loc[segment[1][0], 'sunduration_BER'] = (preceding + following) * 0.5\n",
        "    df.loc[segment[1][1], 'sunduration_BER'] = (preceding + following) * 0.5"
      ]
    },
    {
      "cell_type": "markdown",
      "source": [
        "### Prepping `df_dcsun` and `df_bersun`\n",
        "\n",
        "These two dataframes need to be standardized in order to be used. "
      ],
      "metadata": {
        "id": "exhMeTGNV-Ct"
      }
    },
    {
      "cell_type": "code",
      "source": [
        "df_bersun.head(), df_dcsun.head()"
      ],
      "metadata": {
        "colab": {
          "base_uri": "https://localhost:8080/"
        },
        "id": "fpBkSkaGW-Sz",
        "outputId": "3632a571-e786-45b0-e14a-16b8ca91e8e2"
      },
      "execution_count": 215,
      "outputs": [
        {
          "output_type": "execute_result",
          "data": {
            "text/plain": [
              "(    datetime sunrise_BER  sunset_BER daylength_BER\n",
              " 0 2016-01-01  8:16:40 AM  4:02:43 PM     7h 46m 3s\n",
              " 1 2016-01-02  8:16:31 AM  4:03:49 PM    7h 47m 18s\n",
              " 2 2016-01-03  8:16:18 AM  4:04:57 PM    7h 48m 39s\n",
              " 3 2016-01-04  8:16:01 AM  4:06:08 PM     7h 50m 7s\n",
              " 4 2016-01-05  8:15:41 AM  4:07:22 PM    7h 51m 41s,\n",
              "     datetime  sunrise_DC  sunset_DC\n",
              " 0 2016-01-01       727.0     1657.0\n",
              " 1 2016-01-02       727.0     1658.0\n",
              " 2 2016-01-03       727.0     1659.0\n",
              " 3 2016-01-04       727.0     1700.0\n",
              " 4 2016-01-05       727.0     1700.0)"
            ]
          },
          "metadata": {},
          "execution_count": 215
        }
      ]
    },
    {
      "cell_type": "code",
      "source": [
        "df_bersun['sunrise_BER'] = pd.to_datetime(df_bersun['sunrise_BER'], format='%I:%M:%S %p').dt.time\n",
        "df_bersun['sunset_BER'] = pd.to_datetime(df_bersun['sunset_BER'], format='%I:%M:%S %p').dt.time\n",
        "\n",
        "df_dcsun['sunrise_DC'] = pd.to_datetime(df_dcsun['sunrise_DC'], format='%H%M').dt.time\n",
        "df_dcsun['sunset_DC'] = pd.to_datetime(df_dcsun['sunset_DC'], format='%H%M').dt.time"
      ],
      "metadata": {
        "id": "JNO-Vh7jdqht"
      },
      "execution_count": 216,
      "outputs": []
    },
    {
      "cell_type": "code",
      "source": [
        "df_bersun.head(), df_dcsun.head()"
      ],
      "metadata": {
        "colab": {
          "base_uri": "https://localhost:8080/"
        },
        "id": "97pwPT7ai2WY",
        "outputId": "b0ee58b5-0992-45d4-bae7-ae1aa3d6d742"
      },
      "execution_count": 217,
      "outputs": [
        {
          "output_type": "execute_result",
          "data": {
            "text/plain": [
              "(    datetime sunrise_BER sunset_BER daylength_BER\n",
              " 0 2016-01-01    08:16:40   16:02:43     7h 46m 3s\n",
              " 1 2016-01-02    08:16:31   16:03:49    7h 47m 18s\n",
              " 2 2016-01-03    08:16:18   16:04:57    7h 48m 39s\n",
              " 3 2016-01-04    08:16:01   16:06:08     7h 50m 7s\n",
              " 4 2016-01-05    08:15:41   16:07:22    7h 51m 41s,\n",
              "     datetime sunrise_DC sunset_DC\n",
              " 0 2016-01-01   07:27:00  16:57:00\n",
              " 1 2016-01-02   07:27:00  16:58:00\n",
              " 2 2016-01-03   07:27:00  16:59:00\n",
              " 3 2016-01-04   07:27:00  17:00:00\n",
              " 4 2016-01-05   07:27:00  17:00:00)"
            ]
          },
          "metadata": {},
          "execution_count": 217
        }
      ]
    },
    {
      "cell_type": "markdown",
      "metadata": {
        "id": "ksFLqOrZorpu"
      },
      "source": [
        "### Filtering `cloudcover_DC` while DC sun is down\n",
        "\n",
        "The goal of this project is to compare overcast between the two cities, therefore, `cloudcover_dc` will need to be manipulated to account for when the sun was actually shinning. This will make comparing `sunduration_BER` and `cloudcover_DC` possible. The following changes will be made:\n",
        "\n",
        "-  sunrise and sunset data will be use to set `cloudcover` to 0 when the sun is down\n",
        "- during hours where the sun rose and set, `cloudcover_dc` will be multiplied by ratio of minutes that the sun was up to the total minutes in an hour\n",
        "  - for example:\n",
        "    - on 2016-01-01, the sun rose at 7:27 and set at 16:57 in DC\n",
        "    - during 2016-01-01 07:00:00, `cloudcover_DC` is 96.6% and during 2016-01-01 16:00:00 it is 89.1%\n",
        "    - these 96.6% and 89.1% `cloudcover_dc` values will become 53.13% and 84.645%\n",
        "  - this "
      ]
    },
    {
      "cell_type": "code",
      "execution_count": 218,
      "metadata": {
        "colab": {
          "base_uri": "https://localhost:8080/",
          "height": 655
        },
        "id": "Zx-rZg5srFCq",
        "outputId": "77dcf6b4-4332-48f4-de21-47a4eca237cf"
      },
      "outputs": [
        {
          "output_type": "execute_result",
          "data": {
            "text/plain": [
              "                 datetime  sunduration_BER  cloudcover_DC\n",
              "0     2016-01-01 00:00:00              0.0           99.8\n",
              "1     2016-01-01 01:00:00              0.0          100.0\n",
              "2     2016-01-01 02:00:00              0.0           88.9\n",
              "3     2016-01-01 03:00:00              0.0           79.3\n",
              "4     2016-01-01 04:00:00              0.0           79.3\n",
              "...                   ...              ...            ...\n",
              "44539 2021-01-31 19:00:00              0.0          100.0\n",
              "44540 2021-01-31 20:00:00              0.0          100.0\n",
              "44541 2021-01-31 21:00:00              0.0          100.0\n",
              "44542 2021-01-31 22:00:00              0.0          100.0\n",
              "44543 2021-01-31 23:00:00              0.0          100.0\n",
              "\n",
              "[4464 rows x 3 columns]"
            ],
            "text/html": [
              "\n",
              "  <div id=\"df-8a6500ed-0397-444f-a69b-4cbb69ab36dc\">\n",
              "    <div class=\"colab-df-container\">\n",
              "      <div>\n",
              "<style scoped>\n",
              "    .dataframe tbody tr th:only-of-type {\n",
              "        vertical-align: middle;\n",
              "    }\n",
              "\n",
              "    .dataframe tbody tr th {\n",
              "        vertical-align: top;\n",
              "    }\n",
              "\n",
              "    .dataframe thead th {\n",
              "        text-align: right;\n",
              "    }\n",
              "</style>\n",
              "<table border=\"1\" class=\"dataframe\">\n",
              "  <thead>\n",
              "    <tr style=\"text-align: right;\">\n",
              "      <th></th>\n",
              "      <th>datetime</th>\n",
              "      <th>sunduration_BER</th>\n",
              "      <th>cloudcover_DC</th>\n",
              "    </tr>\n",
              "  </thead>\n",
              "  <tbody>\n",
              "    <tr>\n",
              "      <th>0</th>\n",
              "      <td>2016-01-01 00:00:00</td>\n",
              "      <td>0.0</td>\n",
              "      <td>99.8</td>\n",
              "    </tr>\n",
              "    <tr>\n",
              "      <th>1</th>\n",
              "      <td>2016-01-01 01:00:00</td>\n",
              "      <td>0.0</td>\n",
              "      <td>100.0</td>\n",
              "    </tr>\n",
              "    <tr>\n",
              "      <th>2</th>\n",
              "      <td>2016-01-01 02:00:00</td>\n",
              "      <td>0.0</td>\n",
              "      <td>88.9</td>\n",
              "    </tr>\n",
              "    <tr>\n",
              "      <th>3</th>\n",
              "      <td>2016-01-01 03:00:00</td>\n",
              "      <td>0.0</td>\n",
              "      <td>79.3</td>\n",
              "    </tr>\n",
              "    <tr>\n",
              "      <th>4</th>\n",
              "      <td>2016-01-01 04:00:00</td>\n",
              "      <td>0.0</td>\n",
              "      <td>79.3</td>\n",
              "    </tr>\n",
              "    <tr>\n",
              "      <th>...</th>\n",
              "      <td>...</td>\n",
              "      <td>...</td>\n",
              "      <td>...</td>\n",
              "    </tr>\n",
              "    <tr>\n",
              "      <th>44539</th>\n",
              "      <td>2021-01-31 19:00:00</td>\n",
              "      <td>0.0</td>\n",
              "      <td>100.0</td>\n",
              "    </tr>\n",
              "    <tr>\n",
              "      <th>44540</th>\n",
              "      <td>2021-01-31 20:00:00</td>\n",
              "      <td>0.0</td>\n",
              "      <td>100.0</td>\n",
              "    </tr>\n",
              "    <tr>\n",
              "      <th>44541</th>\n",
              "      <td>2021-01-31 21:00:00</td>\n",
              "      <td>0.0</td>\n",
              "      <td>100.0</td>\n",
              "    </tr>\n",
              "    <tr>\n",
              "      <th>44542</th>\n",
              "      <td>2021-01-31 22:00:00</td>\n",
              "      <td>0.0</td>\n",
              "      <td>100.0</td>\n",
              "    </tr>\n",
              "    <tr>\n",
              "      <th>44543</th>\n",
              "      <td>2021-01-31 23:00:00</td>\n",
              "      <td>0.0</td>\n",
              "      <td>100.0</td>\n",
              "    </tr>\n",
              "  </tbody>\n",
              "</table>\n",
              "<p>4464 rows × 3 columns</p>\n",
              "</div>\n",
              "      <button class=\"colab-df-convert\" onclick=\"convertToInteractive('df-8a6500ed-0397-444f-a69b-4cbb69ab36dc')\"\n",
              "              title=\"Convert this dataframe to an interactive table.\"\n",
              "              style=\"display:none;\">\n",
              "        \n",
              "  <svg xmlns=\"http://www.w3.org/2000/svg\" height=\"24px\"viewBox=\"0 0 24 24\"\n",
              "       width=\"24px\">\n",
              "    <path d=\"M0 0h24v24H0V0z\" fill=\"none\"/>\n",
              "    <path d=\"M18.56 5.44l.94 2.06.94-2.06 2.06-.94-2.06-.94-.94-2.06-.94 2.06-2.06.94zm-11 1L8.5 8.5l.94-2.06 2.06-.94-2.06-.94L8.5 2.5l-.94 2.06-2.06.94zm10 10l.94 2.06.94-2.06 2.06-.94-2.06-.94-.94-2.06-.94 2.06-2.06.94z\"/><path d=\"M17.41 7.96l-1.37-1.37c-.4-.4-.92-.59-1.43-.59-.52 0-1.04.2-1.43.59L10.3 9.45l-7.72 7.72c-.78.78-.78 2.05 0 2.83L4 21.41c.39.39.9.59 1.41.59.51 0 1.02-.2 1.41-.59l7.78-7.78 2.81-2.81c.8-.78.8-2.07 0-2.86zM5.41 20L4 18.59l7.72-7.72 1.47 1.35L5.41 20z\"/>\n",
              "  </svg>\n",
              "      </button>\n",
              "      \n",
              "  <style>\n",
              "    .colab-df-container {\n",
              "      display:flex;\n",
              "      flex-wrap:wrap;\n",
              "      gap: 12px;\n",
              "    }\n",
              "\n",
              "    .colab-df-convert {\n",
              "      background-color: #E8F0FE;\n",
              "      border: none;\n",
              "      border-radius: 50%;\n",
              "      cursor: pointer;\n",
              "      display: none;\n",
              "      fill: #1967D2;\n",
              "      height: 32px;\n",
              "      padding: 0 0 0 0;\n",
              "      width: 32px;\n",
              "    }\n",
              "\n",
              "    .colab-df-convert:hover {\n",
              "      background-color: #E2EBFA;\n",
              "      box-shadow: 0px 1px 2px rgba(60, 64, 67, 0.3), 0px 1px 3px 1px rgba(60, 64, 67, 0.15);\n",
              "      fill: #174EA6;\n",
              "    }\n",
              "\n",
              "    [theme=dark] .colab-df-convert {\n",
              "      background-color: #3B4455;\n",
              "      fill: #D2E3FC;\n",
              "    }\n",
              "\n",
              "    [theme=dark] .colab-df-convert:hover {\n",
              "      background-color: #434B5C;\n",
              "      box-shadow: 0px 1px 3px 1px rgba(0, 0, 0, 0.15);\n",
              "      filter: drop-shadow(0px 1px 2px rgba(0, 0, 0, 0.3));\n",
              "      fill: #FFFFFF;\n",
              "    }\n",
              "  </style>\n",
              "\n",
              "      <script>\n",
              "        const buttonEl =\n",
              "          document.querySelector('#df-8a6500ed-0397-444f-a69b-4cbb69ab36dc button.colab-df-convert');\n",
              "        buttonEl.style.display =\n",
              "          google.colab.kernel.accessAllowed ? 'block' : 'none';\n",
              "\n",
              "        async function convertToInteractive(key) {\n",
              "          const element = document.querySelector('#df-8a6500ed-0397-444f-a69b-4cbb69ab36dc');\n",
              "          const dataTable =\n",
              "            await google.colab.kernel.invokeFunction('convertToInteractive',\n",
              "                                                     [key], {});\n",
              "          if (!dataTable) return;\n",
              "\n",
              "          const docLinkHtml = 'Like what you see? Visit the ' +\n",
              "            '<a target=\"_blank\" href=https://colab.research.google.com/notebooks/data_table.ipynb>data table notebook</a>'\n",
              "            + ' to learn more about interactive tables.';\n",
              "          element.innerHTML = '';\n",
              "          dataTable['output_type'] = 'display_data';\n",
              "          await google.colab.output.renderOutput(dataTable, element);\n",
              "          const docLink = document.createElement('div');\n",
              "          docLink.innerHTML = docLinkHtml;\n",
              "          element.appendChild(docLink);\n",
              "        }\n",
              "      </script>\n",
              "    </div>\n",
              "  </div>\n",
              "  "
            ]
          },
          "metadata": {},
          "execution_count": 218
        }
      ],
      "source": [
        "df[df['datetime'].dt.month == 1]"
      ]
    },
    {
      "cell_type": "code",
      "source": [
        "def sun_up_check(row, city):\n",
        "  if city == 'DC':\n",
        "    # print(row)\n",
        "    # print(row['datetime'].date())\n",
        "    # print('')\n",
        "    # print(row['datetime'].time())\n",
        "    # print(f\"hour: {row['datetime'].hour}\")\n",
        "    sunrise = df_dcsun.loc[df_dcsun['datetime'] == str(row['datetime'].date()), 'sunrise_DC'].values[0]\n",
        "    sunset = df_dcsun.loc[df_dcsun['datetime'] == str(row['datetime'].date()), 'sunset_DC'].values[0]\n",
        "    # print(f\"sunrise: {sunrise}\")\n",
        "    # print(f\"sunset: {sunset}\")\n",
        "    # print(f\"sunrise hour: {sunrise.hour}\")\n",
        "    # print(f\"sunset hour: {sunset.hour}\")\n",
        "    # print(f\"cloudcover: {row['cloudcover_DC']}\")\n",
        "    if row['datetime'].hour == sunrise.hour:\n",
        "      # print(\"Sun is coming up.\")\n",
        "      min_sun = 60 - sunrise.minute\n",
        "      # print(f\" new cloudcover: {row['cloudcover_DC'] * (min_sun / 60.0)}\")\n",
        "      return row['cloudcover_DC'] * (min_sun / 60.0)\n",
        "    elif row['datetime'].hour == sunset.hour:\n",
        "      # print(\"Sun is coming down.\")\n",
        "      min_sun = sunset.minute\n",
        "      # print(f\"new cloudcover: {row['cloudcover_DC'] * (min_sun / 60.0)}\")\n",
        "      return row['cloudcover_DC'] * (min_sun / 60.0)\n",
        "    elif (row['datetime'].hour < sunrise.hour + 1) or (row['datetime'].hour > sunset.hour - 1):\n",
        "      # print(\"Sun is down.\")\n",
        "      return 0\n",
        "    else:\n",
        "      # print(\"sun is up.\")\n",
        "      # print(f\"new cloudcover: {row['cloudcover_DC']}\")\n",
        "      return row['cloudcover_DC']\n",
        "\n",
        "  \n",
        "  # elif city == 'BER':\n",
        "  #   # print(row)\n",
        "  #   # print(row['datetime'].date())\n",
        "  #   # print('')\n",
        "  #   # print(row['datetime'].time())\n",
        "  #   print(f\"hour: {row['datetime'].hour}\")\n",
        "  #   sunrise = df_bersun.loc[df_bersun['datetime'] == str(row['datetime'].date()), 'sunrise_BER'].values[0]\n",
        "  #   sunset = df_bersun.loc[df_bersun['datetime'] == str(row['datetime'].date()), 'sunset_BER'].values[0]\n",
        "  #   print(f\"sunrise: {sunrise}\")\n",
        "  #   print(f\"sunset: {sunset}\")\n",
        "  #   print(f\"sunrise hour: {sunrise.hour}\")\n",
        "  #   print(f\"sunset hour: {sunset.hour}\")\n",
        "  #   if (sunrise.hour < row['datetime'].hour) or (row['datetime'].hour > sunset.hour):\n",
        "  #     return 0\n",
        "  #   else:\n",
        "  #     return row['sunduration_BER']\n",
        "  else:\n",
        "    raise Exception(\"city argument is invlaid.\")\n",
        "\n",
        "# for i in range(0,24):\n",
        "#   print(sun_up_check(df.loc[i], 'DC'))"
      ],
      "metadata": {
        "id": "Oh53kIG9JZ84"
      },
      "execution_count": 273,
      "outputs": []
    },
    {
      "cell_type": "code",
      "source": [
        "df['cloudcover_DC'] = df.apply(sun_up_check, args = ['DC'], axis=1)"
      ],
      "metadata": {
        "id": "a8YgAffdHnzu"
      },
      "execution_count": 277,
      "outputs": []
    },
    {
      "cell_type": "code",
      "source": [
        "df"
      ],
      "metadata": {
        "colab": {
          "base_uri": "https://localhost:8080/",
          "height": 708
        },
        "id": "A6O00L7rT_p9",
        "outputId": "e6e23f8e-149b-4113-ba66-8b4ba7835060"
      },
      "execution_count": 278,
      "outputs": [
        {
          "output_type": "execute_result",
          "data": {
            "text/plain": [
              "                 datetime  sunduration_BER  cloudcover_DC\n",
              "0     2016-01-01 00:00:00              0.0            0.0\n",
              "1     2016-01-01 01:00:00              0.0            0.0\n",
              "2     2016-01-01 02:00:00              0.0            0.0\n",
              "3     2016-01-01 03:00:00              0.0            0.0\n",
              "4     2016-01-01 04:00:00              0.0            0.0\n",
              "...                   ...              ...            ...\n",
              "52555 2021-12-31 19:00:00              0.0            0.0\n",
              "52556 2021-12-31 20:00:00              0.0            0.0\n",
              "52557 2021-12-31 21:00:00              0.0            0.0\n",
              "52558 2021-12-31 22:00:00              0.0            0.0\n",
              "52559 2021-12-31 23:00:00              0.0            0.0\n",
              "\n",
              "[52560 rows x 3 columns]"
            ],
            "text/html": [
              "\n",
              "  <div id=\"df-92e5ad02-1010-4934-a6e6-f6a5e0277142\">\n",
              "    <div class=\"colab-df-container\">\n",
              "      <div>\n",
              "<style scoped>\n",
              "    .dataframe tbody tr th:only-of-type {\n",
              "        vertical-align: middle;\n",
              "    }\n",
              "\n",
              "    .dataframe tbody tr th {\n",
              "        vertical-align: top;\n",
              "    }\n",
              "\n",
              "    .dataframe thead th {\n",
              "        text-align: right;\n",
              "    }\n",
              "</style>\n",
              "<table border=\"1\" class=\"dataframe\">\n",
              "  <thead>\n",
              "    <tr style=\"text-align: right;\">\n",
              "      <th></th>\n",
              "      <th>datetime</th>\n",
              "      <th>sunduration_BER</th>\n",
              "      <th>cloudcover_DC</th>\n",
              "    </tr>\n",
              "  </thead>\n",
              "  <tbody>\n",
              "    <tr>\n",
              "      <th>0</th>\n",
              "      <td>2016-01-01 00:00:00</td>\n",
              "      <td>0.0</td>\n",
              "      <td>0.0</td>\n",
              "    </tr>\n",
              "    <tr>\n",
              "      <th>1</th>\n",
              "      <td>2016-01-01 01:00:00</td>\n",
              "      <td>0.0</td>\n",
              "      <td>0.0</td>\n",
              "    </tr>\n",
              "    <tr>\n",
              "      <th>2</th>\n",
              "      <td>2016-01-01 02:00:00</td>\n",
              "      <td>0.0</td>\n",
              "      <td>0.0</td>\n",
              "    </tr>\n",
              "    <tr>\n",
              "      <th>3</th>\n",
              "      <td>2016-01-01 03:00:00</td>\n",
              "      <td>0.0</td>\n",
              "      <td>0.0</td>\n",
              "    </tr>\n",
              "    <tr>\n",
              "      <th>4</th>\n",
              "      <td>2016-01-01 04:00:00</td>\n",
              "      <td>0.0</td>\n",
              "      <td>0.0</td>\n",
              "    </tr>\n",
              "    <tr>\n",
              "      <th>...</th>\n",
              "      <td>...</td>\n",
              "      <td>...</td>\n",
              "      <td>...</td>\n",
              "    </tr>\n",
              "    <tr>\n",
              "      <th>52555</th>\n",
              "      <td>2021-12-31 19:00:00</td>\n",
              "      <td>0.0</td>\n",
              "      <td>0.0</td>\n",
              "    </tr>\n",
              "    <tr>\n",
              "      <th>52556</th>\n",
              "      <td>2021-12-31 20:00:00</td>\n",
              "      <td>0.0</td>\n",
              "      <td>0.0</td>\n",
              "    </tr>\n",
              "    <tr>\n",
              "      <th>52557</th>\n",
              "      <td>2021-12-31 21:00:00</td>\n",
              "      <td>0.0</td>\n",
              "      <td>0.0</td>\n",
              "    </tr>\n",
              "    <tr>\n",
              "      <th>52558</th>\n",
              "      <td>2021-12-31 22:00:00</td>\n",
              "      <td>0.0</td>\n",
              "      <td>0.0</td>\n",
              "    </tr>\n",
              "    <tr>\n",
              "      <th>52559</th>\n",
              "      <td>2021-12-31 23:00:00</td>\n",
              "      <td>0.0</td>\n",
              "      <td>0.0</td>\n",
              "    </tr>\n",
              "  </tbody>\n",
              "</table>\n",
              "<p>52560 rows × 3 columns</p>\n",
              "</div>\n",
              "      <button class=\"colab-df-convert\" onclick=\"convertToInteractive('df-92e5ad02-1010-4934-a6e6-f6a5e0277142')\"\n",
              "              title=\"Convert this dataframe to an interactive table.\"\n",
              "              style=\"display:none;\">\n",
              "        \n",
              "  <svg xmlns=\"http://www.w3.org/2000/svg\" height=\"24px\"viewBox=\"0 0 24 24\"\n",
              "       width=\"24px\">\n",
              "    <path d=\"M0 0h24v24H0V0z\" fill=\"none\"/>\n",
              "    <path d=\"M18.56 5.44l.94 2.06.94-2.06 2.06-.94-2.06-.94-.94-2.06-.94 2.06-2.06.94zm-11 1L8.5 8.5l.94-2.06 2.06-.94-2.06-.94L8.5 2.5l-.94 2.06-2.06.94zm10 10l.94 2.06.94-2.06 2.06-.94-2.06-.94-.94-2.06-.94 2.06-2.06.94z\"/><path d=\"M17.41 7.96l-1.37-1.37c-.4-.4-.92-.59-1.43-.59-.52 0-1.04.2-1.43.59L10.3 9.45l-7.72 7.72c-.78.78-.78 2.05 0 2.83L4 21.41c.39.39.9.59 1.41.59.51 0 1.02-.2 1.41-.59l7.78-7.78 2.81-2.81c.8-.78.8-2.07 0-2.86zM5.41 20L4 18.59l7.72-7.72 1.47 1.35L5.41 20z\"/>\n",
              "  </svg>\n",
              "      </button>\n",
              "      \n",
              "  <style>\n",
              "    .colab-df-container {\n",
              "      display:flex;\n",
              "      flex-wrap:wrap;\n",
              "      gap: 12px;\n",
              "    }\n",
              "\n",
              "    .colab-df-convert {\n",
              "      background-color: #E8F0FE;\n",
              "      border: none;\n",
              "      border-radius: 50%;\n",
              "      cursor: pointer;\n",
              "      display: none;\n",
              "      fill: #1967D2;\n",
              "      height: 32px;\n",
              "      padding: 0 0 0 0;\n",
              "      width: 32px;\n",
              "    }\n",
              "\n",
              "    .colab-df-convert:hover {\n",
              "      background-color: #E2EBFA;\n",
              "      box-shadow: 0px 1px 2px rgba(60, 64, 67, 0.3), 0px 1px 3px 1px rgba(60, 64, 67, 0.15);\n",
              "      fill: #174EA6;\n",
              "    }\n",
              "\n",
              "    [theme=dark] .colab-df-convert {\n",
              "      background-color: #3B4455;\n",
              "      fill: #D2E3FC;\n",
              "    }\n",
              "\n",
              "    [theme=dark] .colab-df-convert:hover {\n",
              "      background-color: #434B5C;\n",
              "      box-shadow: 0px 1px 3px 1px rgba(0, 0, 0, 0.15);\n",
              "      filter: drop-shadow(0px 1px 2px rgba(0, 0, 0, 0.3));\n",
              "      fill: #FFFFFF;\n",
              "    }\n",
              "  </style>\n",
              "\n",
              "      <script>\n",
              "        const buttonEl =\n",
              "          document.querySelector('#df-92e5ad02-1010-4934-a6e6-f6a5e0277142 button.colab-df-convert');\n",
              "        buttonEl.style.display =\n",
              "          google.colab.kernel.accessAllowed ? 'block' : 'none';\n",
              "\n",
              "        async function convertToInteractive(key) {\n",
              "          const element = document.querySelector('#df-92e5ad02-1010-4934-a6e6-f6a5e0277142');\n",
              "          const dataTable =\n",
              "            await google.colab.kernel.invokeFunction('convertToInteractive',\n",
              "                                                     [key], {});\n",
              "          if (!dataTable) return;\n",
              "\n",
              "          const docLinkHtml = 'Like what you see? Visit the ' +\n",
              "            '<a target=\"_blank\" href=https://colab.research.google.com/notebooks/data_table.ipynb>data table notebook</a>'\n",
              "            + ' to learn more about interactive tables.';\n",
              "          element.innerHTML = '';\n",
              "          dataTable['output_type'] = 'display_data';\n",
              "          await google.colab.output.renderOutput(dataTable, element);\n",
              "          const docLink = document.createElement('div');\n",
              "          docLink.innerHTML = docLinkHtml;\n",
              "          element.appendChild(docLink);\n",
              "        }\n",
              "      </script>\n",
              "    </div>\n",
              "  </div>\n",
              "  "
            ]
          },
          "metadata": {},
          "execution_count": 278
        },
        {
          "output_type": "stream",
          "name": "stdout",
          "text": [
            "Warning: total number of rows (52560) exceeds max_rows (20000). Limiting to first (20000) rows.\n",
            "Warning: total number of rows (52560) exceeds max_rows (20000). Limiting to first (20000) rows.\n"
          ]
        }
      ]
    },
    {
      "cell_type": "code",
      "source": [
        "df"
      ],
      "metadata": {
        "colab": {
          "base_uri": "https://localhost:8080/",
          "height": 424
        },
        "id": "F45-D_B5PAdb",
        "outputId": "42b08240-27f0-4212-a8f3-3f1eb07c1dd2"
      },
      "execution_count": 271,
      "outputs": [
        {
          "output_type": "execute_result",
          "data": {
            "text/plain": [
              "                 datetime  sunduration_BER  cloudcover_DC\n",
              "0     2016-01-01 00:00:00              0.0           99.8\n",
              "1     2016-01-01 01:00:00              0.0          100.0\n",
              "2     2016-01-01 02:00:00              0.0           88.9\n",
              "3     2016-01-01 03:00:00              0.0           79.3\n",
              "4     2016-01-01 04:00:00              0.0           79.3\n",
              "...                   ...              ...            ...\n",
              "52555 2021-12-31 19:00:00              0.0           81.7\n",
              "52556 2021-12-31 20:00:00              0.0           98.3\n",
              "52557 2021-12-31 21:00:00              0.0           99.6\n",
              "52558 2021-12-31 22:00:00              0.0           99.6\n",
              "52559 2021-12-31 23:00:00              0.0           99.6\n",
              "\n",
              "[52560 rows x 3 columns]"
            ],
            "text/html": [
              "\n",
              "  <div id=\"df-1218a11d-faed-4a4c-83de-9b930956f2e5\">\n",
              "    <div class=\"colab-df-container\">\n",
              "      <div>\n",
              "<style scoped>\n",
              "    .dataframe tbody tr th:only-of-type {\n",
              "        vertical-align: middle;\n",
              "    }\n",
              "\n",
              "    .dataframe tbody tr th {\n",
              "        vertical-align: top;\n",
              "    }\n",
              "\n",
              "    .dataframe thead th {\n",
              "        text-align: right;\n",
              "    }\n",
              "</style>\n",
              "<table border=\"1\" class=\"dataframe\">\n",
              "  <thead>\n",
              "    <tr style=\"text-align: right;\">\n",
              "      <th></th>\n",
              "      <th>datetime</th>\n",
              "      <th>sunduration_BER</th>\n",
              "      <th>cloudcover_DC</th>\n",
              "    </tr>\n",
              "  </thead>\n",
              "  <tbody>\n",
              "    <tr>\n",
              "      <th>0</th>\n",
              "      <td>2016-01-01 00:00:00</td>\n",
              "      <td>0.0</td>\n",
              "      <td>99.8</td>\n",
              "    </tr>\n",
              "    <tr>\n",
              "      <th>1</th>\n",
              "      <td>2016-01-01 01:00:00</td>\n",
              "      <td>0.0</td>\n",
              "      <td>100.0</td>\n",
              "    </tr>\n",
              "    <tr>\n",
              "      <th>2</th>\n",
              "      <td>2016-01-01 02:00:00</td>\n",
              "      <td>0.0</td>\n",
              "      <td>88.9</td>\n",
              "    </tr>\n",
              "    <tr>\n",
              "      <th>3</th>\n",
              "      <td>2016-01-01 03:00:00</td>\n",
              "      <td>0.0</td>\n",
              "      <td>79.3</td>\n",
              "    </tr>\n",
              "    <tr>\n",
              "      <th>4</th>\n",
              "      <td>2016-01-01 04:00:00</td>\n",
              "      <td>0.0</td>\n",
              "      <td>79.3</td>\n",
              "    </tr>\n",
              "    <tr>\n",
              "      <th>...</th>\n",
              "      <td>...</td>\n",
              "      <td>...</td>\n",
              "      <td>...</td>\n",
              "    </tr>\n",
              "    <tr>\n",
              "      <th>52555</th>\n",
              "      <td>2021-12-31 19:00:00</td>\n",
              "      <td>0.0</td>\n",
              "      <td>81.7</td>\n",
              "    </tr>\n",
              "    <tr>\n",
              "      <th>52556</th>\n",
              "      <td>2021-12-31 20:00:00</td>\n",
              "      <td>0.0</td>\n",
              "      <td>98.3</td>\n",
              "    </tr>\n",
              "    <tr>\n",
              "      <th>52557</th>\n",
              "      <td>2021-12-31 21:00:00</td>\n",
              "      <td>0.0</td>\n",
              "      <td>99.6</td>\n",
              "    </tr>\n",
              "    <tr>\n",
              "      <th>52558</th>\n",
              "      <td>2021-12-31 22:00:00</td>\n",
              "      <td>0.0</td>\n",
              "      <td>99.6</td>\n",
              "    </tr>\n",
              "    <tr>\n",
              "      <th>52559</th>\n",
              "      <td>2021-12-31 23:00:00</td>\n",
              "      <td>0.0</td>\n",
              "      <td>99.6</td>\n",
              "    </tr>\n",
              "  </tbody>\n",
              "</table>\n",
              "<p>52560 rows × 3 columns</p>\n",
              "</div>\n",
              "      <button class=\"colab-df-convert\" onclick=\"convertToInteractive('df-1218a11d-faed-4a4c-83de-9b930956f2e5')\"\n",
              "              title=\"Convert this dataframe to an interactive table.\"\n",
              "              style=\"display:none;\">\n",
              "        \n",
              "  <svg xmlns=\"http://www.w3.org/2000/svg\" height=\"24px\"viewBox=\"0 0 24 24\"\n",
              "       width=\"24px\">\n",
              "    <path d=\"M0 0h24v24H0V0z\" fill=\"none\"/>\n",
              "    <path d=\"M18.56 5.44l.94 2.06.94-2.06 2.06-.94-2.06-.94-.94-2.06-.94 2.06-2.06.94zm-11 1L8.5 8.5l.94-2.06 2.06-.94-2.06-.94L8.5 2.5l-.94 2.06-2.06.94zm10 10l.94 2.06.94-2.06 2.06-.94-2.06-.94-.94-2.06-.94 2.06-2.06.94z\"/><path d=\"M17.41 7.96l-1.37-1.37c-.4-.4-.92-.59-1.43-.59-.52 0-1.04.2-1.43.59L10.3 9.45l-7.72 7.72c-.78.78-.78 2.05 0 2.83L4 21.41c.39.39.9.59 1.41.59.51 0 1.02-.2 1.41-.59l7.78-7.78 2.81-2.81c.8-.78.8-2.07 0-2.86zM5.41 20L4 18.59l7.72-7.72 1.47 1.35L5.41 20z\"/>\n",
              "  </svg>\n",
              "      </button>\n",
              "      \n",
              "  <style>\n",
              "    .colab-df-container {\n",
              "      display:flex;\n",
              "      flex-wrap:wrap;\n",
              "      gap: 12px;\n",
              "    }\n",
              "\n",
              "    .colab-df-convert {\n",
              "      background-color: #E8F0FE;\n",
              "      border: none;\n",
              "      border-radius: 50%;\n",
              "      cursor: pointer;\n",
              "      display: none;\n",
              "      fill: #1967D2;\n",
              "      height: 32px;\n",
              "      padding: 0 0 0 0;\n",
              "      width: 32px;\n",
              "    }\n",
              "\n",
              "    .colab-df-convert:hover {\n",
              "      background-color: #E2EBFA;\n",
              "      box-shadow: 0px 1px 2px rgba(60, 64, 67, 0.3), 0px 1px 3px 1px rgba(60, 64, 67, 0.15);\n",
              "      fill: #174EA6;\n",
              "    }\n",
              "\n",
              "    [theme=dark] .colab-df-convert {\n",
              "      background-color: #3B4455;\n",
              "      fill: #D2E3FC;\n",
              "    }\n",
              "\n",
              "    [theme=dark] .colab-df-convert:hover {\n",
              "      background-color: #434B5C;\n",
              "      box-shadow: 0px 1px 3px 1px rgba(0, 0, 0, 0.15);\n",
              "      filter: drop-shadow(0px 1px 2px rgba(0, 0, 0, 0.3));\n",
              "      fill: #FFFFFF;\n",
              "    }\n",
              "  </style>\n",
              "\n",
              "      <script>\n",
              "        const buttonEl =\n",
              "          document.querySelector('#df-1218a11d-faed-4a4c-83de-9b930956f2e5 button.colab-df-convert');\n",
              "        buttonEl.style.display =\n",
              "          google.colab.kernel.accessAllowed ? 'block' : 'none';\n",
              "\n",
              "        async function convertToInteractive(key) {\n",
              "          const element = document.querySelector('#df-1218a11d-faed-4a4c-83de-9b930956f2e5');\n",
              "          const dataTable =\n",
              "            await google.colab.kernel.invokeFunction('convertToInteractive',\n",
              "                                                     [key], {});\n",
              "          if (!dataTable) return;\n",
              "\n",
              "          const docLinkHtml = 'Like what you see? Visit the ' +\n",
              "            '<a target=\"_blank\" href=https://colab.research.google.com/notebooks/data_table.ipynb>data table notebook</a>'\n",
              "            + ' to learn more about interactive tables.';\n",
              "          element.innerHTML = '';\n",
              "          dataTable['output_type'] = 'display_data';\n",
              "          await google.colab.output.renderOutput(dataTable, element);\n",
              "          const docLink = document.createElement('div');\n",
              "          docLink.innerHTML = docLinkHtml;\n",
              "          element.appendChild(docLink);\n",
              "        }\n",
              "      </script>\n",
              "    </div>\n",
              "  </div>\n",
              "  "
            ]
          },
          "metadata": {},
          "execution_count": 271
        }
      ]
    },
    {
      "cell_type": "code",
      "source": [
        " date = df.loc[0, 'datetime'].date()\n",
        " print(date)\n",
        "\n",
        "#  print(df.loc[1, 'datetime'].hour)"
      ],
      "metadata": {
        "colab": {
          "base_uri": "https://localhost:8080/"
        },
        "id": "utQ-Ub22LyJV",
        "outputId": "3101a570-663d-4500-f0a1-fea4378abeb3"
      },
      "execution_count": 243,
      "outputs": [
        {
          "output_type": "stream",
          "name": "stdout",
          "text": [
            "2016-01-01\n",
            "1\n"
          ]
        }
      ]
    },
    {
      "cell_type": "code",
      "source": [
        "df_dcsun.loc[0, 'sunrise_DC']"
      ],
      "metadata": {
        "colab": {
          "base_uri": "https://localhost:8080/"
        },
        "id": "ph7Enmx5ALxk",
        "outputId": "45486d40-e060-44ab-aeb7-1be10ac104d1"
      },
      "execution_count": 248,
      "outputs": [
        {
          "output_type": "execute_result",
          "data": {
            "text/plain": [
              "datetime.time(7, 27)"
            ]
          },
          "metadata": {},
          "execution_count": 248
        }
      ]
    },
    {
      "cell_type": "code",
      "source": [
        "df_bersun.loc[df_bersun['datetime'] == '2016-01-01', 'sunrise_BER'].values[0].hour"
      ],
      "metadata": {
        "colab": {
          "base_uri": "https://localhost:8080/"
        },
        "id": "Rys0QPgoRImO",
        "outputId": "6898f22d-961c-47a2-89ec-cf4f3ee4a1f5"
      },
      "execution_count": 221,
      "outputs": [
        {
          "output_type": "execute_result",
          "data": {
            "text/plain": [
              "8"
            ]
          },
          "metadata": {},
          "execution_count": 221
        }
      ]
    },
    {
      "cell_type": "code",
      "source": [
        "df.loc[8, 'datetime'].hour"
      ],
      "metadata": {
        "colab": {
          "base_uri": "https://localhost:8080/"
        },
        "id": "DhcmPgn1uaSC",
        "outputId": "d93a20fc-b48a-4b03-8892-64d19f779051"
      },
      "execution_count": 222,
      "outputs": [
        {
          "output_type": "execute_result",
          "data": {
            "text/plain": [
              "8"
            ]
          },
          "metadata": {},
          "execution_count": 222
        }
      ]
    },
    {
      "cell_type": "code",
      "source": [
        "df_bersun"
      ],
      "metadata": {
        "colab": {
          "base_uri": "https://localhost:8080/",
          "height": 424
        },
        "id": "-S4-U3SXMMu5",
        "outputId": "6a962b49-d915-4337-941a-4f0b9859f7d0"
      },
      "execution_count": 223,
      "outputs": [
        {
          "output_type": "execute_result",
          "data": {
            "text/plain": [
              "       datetime sunrise_BER sunset_BER daylength_BER\n",
              "0    2016-01-01    08:16:40   16:02:43     7h 46m 3s\n",
              "1    2016-01-02    08:16:31   16:03:49    7h 47m 18s\n",
              "2    2016-01-03    08:16:18   16:04:57    7h 48m 39s\n",
              "3    2016-01-04    08:16:01   16:06:08     7h 50m 7s\n",
              "4    2016-01-05    08:15:41   16:07:22    7h 51m 41s\n",
              "...         ...         ...        ...           ...\n",
              "2185 2021-12-27    08:16:59   15:58:30    7h 41m 31s\n",
              "2186 2021-12-28    08:17:05   15:59:22    7h 42m 17s\n",
              "2187 2021-12-29    08:17:08   16:00:17     7h 43m 9s\n",
              "2188 2021-12-30    08:17:07   16:01:16     7h 44m 9s\n",
              "2189 2021-12-31    08:17:02   16:02:17    7h 45m 15s\n",
              "\n",
              "[2190 rows x 4 columns]"
            ],
            "text/html": [
              "\n",
              "  <div id=\"df-23e67283-8ae3-4100-b142-257ce5914700\">\n",
              "    <div class=\"colab-df-container\">\n",
              "      <div>\n",
              "<style scoped>\n",
              "    .dataframe tbody tr th:only-of-type {\n",
              "        vertical-align: middle;\n",
              "    }\n",
              "\n",
              "    .dataframe tbody tr th {\n",
              "        vertical-align: top;\n",
              "    }\n",
              "\n",
              "    .dataframe thead th {\n",
              "        text-align: right;\n",
              "    }\n",
              "</style>\n",
              "<table border=\"1\" class=\"dataframe\">\n",
              "  <thead>\n",
              "    <tr style=\"text-align: right;\">\n",
              "      <th></th>\n",
              "      <th>datetime</th>\n",
              "      <th>sunrise_BER</th>\n",
              "      <th>sunset_BER</th>\n",
              "      <th>daylength_BER</th>\n",
              "    </tr>\n",
              "  </thead>\n",
              "  <tbody>\n",
              "    <tr>\n",
              "      <th>0</th>\n",
              "      <td>2016-01-01</td>\n",
              "      <td>08:16:40</td>\n",
              "      <td>16:02:43</td>\n",
              "      <td>7h 46m 3s</td>\n",
              "    </tr>\n",
              "    <tr>\n",
              "      <th>1</th>\n",
              "      <td>2016-01-02</td>\n",
              "      <td>08:16:31</td>\n",
              "      <td>16:03:49</td>\n",
              "      <td>7h 47m 18s</td>\n",
              "    </tr>\n",
              "    <tr>\n",
              "      <th>2</th>\n",
              "      <td>2016-01-03</td>\n",
              "      <td>08:16:18</td>\n",
              "      <td>16:04:57</td>\n",
              "      <td>7h 48m 39s</td>\n",
              "    </tr>\n",
              "    <tr>\n",
              "      <th>3</th>\n",
              "      <td>2016-01-04</td>\n",
              "      <td>08:16:01</td>\n",
              "      <td>16:06:08</td>\n",
              "      <td>7h 50m 7s</td>\n",
              "    </tr>\n",
              "    <tr>\n",
              "      <th>4</th>\n",
              "      <td>2016-01-05</td>\n",
              "      <td>08:15:41</td>\n",
              "      <td>16:07:22</td>\n",
              "      <td>7h 51m 41s</td>\n",
              "    </tr>\n",
              "    <tr>\n",
              "      <th>...</th>\n",
              "      <td>...</td>\n",
              "      <td>...</td>\n",
              "      <td>...</td>\n",
              "      <td>...</td>\n",
              "    </tr>\n",
              "    <tr>\n",
              "      <th>2185</th>\n",
              "      <td>2021-12-27</td>\n",
              "      <td>08:16:59</td>\n",
              "      <td>15:58:30</td>\n",
              "      <td>7h 41m 31s</td>\n",
              "    </tr>\n",
              "    <tr>\n",
              "      <th>2186</th>\n",
              "      <td>2021-12-28</td>\n",
              "      <td>08:17:05</td>\n",
              "      <td>15:59:22</td>\n",
              "      <td>7h 42m 17s</td>\n",
              "    </tr>\n",
              "    <tr>\n",
              "      <th>2187</th>\n",
              "      <td>2021-12-29</td>\n",
              "      <td>08:17:08</td>\n",
              "      <td>16:00:17</td>\n",
              "      <td>7h 43m 9s</td>\n",
              "    </tr>\n",
              "    <tr>\n",
              "      <th>2188</th>\n",
              "      <td>2021-12-30</td>\n",
              "      <td>08:17:07</td>\n",
              "      <td>16:01:16</td>\n",
              "      <td>7h 44m 9s</td>\n",
              "    </tr>\n",
              "    <tr>\n",
              "      <th>2189</th>\n",
              "      <td>2021-12-31</td>\n",
              "      <td>08:17:02</td>\n",
              "      <td>16:02:17</td>\n",
              "      <td>7h 45m 15s</td>\n",
              "    </tr>\n",
              "  </tbody>\n",
              "</table>\n",
              "<p>2190 rows × 4 columns</p>\n",
              "</div>\n",
              "      <button class=\"colab-df-convert\" onclick=\"convertToInteractive('df-23e67283-8ae3-4100-b142-257ce5914700')\"\n",
              "              title=\"Convert this dataframe to an interactive table.\"\n",
              "              style=\"display:none;\">\n",
              "        \n",
              "  <svg xmlns=\"http://www.w3.org/2000/svg\" height=\"24px\"viewBox=\"0 0 24 24\"\n",
              "       width=\"24px\">\n",
              "    <path d=\"M0 0h24v24H0V0z\" fill=\"none\"/>\n",
              "    <path d=\"M18.56 5.44l.94 2.06.94-2.06 2.06-.94-2.06-.94-.94-2.06-.94 2.06-2.06.94zm-11 1L8.5 8.5l.94-2.06 2.06-.94-2.06-.94L8.5 2.5l-.94 2.06-2.06.94zm10 10l.94 2.06.94-2.06 2.06-.94-2.06-.94-.94-2.06-.94 2.06-2.06.94z\"/><path d=\"M17.41 7.96l-1.37-1.37c-.4-.4-.92-.59-1.43-.59-.52 0-1.04.2-1.43.59L10.3 9.45l-7.72 7.72c-.78.78-.78 2.05 0 2.83L4 21.41c.39.39.9.59 1.41.59.51 0 1.02-.2 1.41-.59l7.78-7.78 2.81-2.81c.8-.78.8-2.07 0-2.86zM5.41 20L4 18.59l7.72-7.72 1.47 1.35L5.41 20z\"/>\n",
              "  </svg>\n",
              "      </button>\n",
              "      \n",
              "  <style>\n",
              "    .colab-df-container {\n",
              "      display:flex;\n",
              "      flex-wrap:wrap;\n",
              "      gap: 12px;\n",
              "    }\n",
              "\n",
              "    .colab-df-convert {\n",
              "      background-color: #E8F0FE;\n",
              "      border: none;\n",
              "      border-radius: 50%;\n",
              "      cursor: pointer;\n",
              "      display: none;\n",
              "      fill: #1967D2;\n",
              "      height: 32px;\n",
              "      padding: 0 0 0 0;\n",
              "      width: 32px;\n",
              "    }\n",
              "\n",
              "    .colab-df-convert:hover {\n",
              "      background-color: #E2EBFA;\n",
              "      box-shadow: 0px 1px 2px rgba(60, 64, 67, 0.3), 0px 1px 3px 1px rgba(60, 64, 67, 0.15);\n",
              "      fill: #174EA6;\n",
              "    }\n",
              "\n",
              "    [theme=dark] .colab-df-convert {\n",
              "      background-color: #3B4455;\n",
              "      fill: #D2E3FC;\n",
              "    }\n",
              "\n",
              "    [theme=dark] .colab-df-convert:hover {\n",
              "      background-color: #434B5C;\n",
              "      box-shadow: 0px 1px 3px 1px rgba(0, 0, 0, 0.15);\n",
              "      filter: drop-shadow(0px 1px 2px rgba(0, 0, 0, 0.3));\n",
              "      fill: #FFFFFF;\n",
              "    }\n",
              "  </style>\n",
              "\n",
              "      <script>\n",
              "        const buttonEl =\n",
              "          document.querySelector('#df-23e67283-8ae3-4100-b142-257ce5914700 button.colab-df-convert');\n",
              "        buttonEl.style.display =\n",
              "          google.colab.kernel.accessAllowed ? 'block' : 'none';\n",
              "\n",
              "        async function convertToInteractive(key) {\n",
              "          const element = document.querySelector('#df-23e67283-8ae3-4100-b142-257ce5914700');\n",
              "          const dataTable =\n",
              "            await google.colab.kernel.invokeFunction('convertToInteractive',\n",
              "                                                     [key], {});\n",
              "          if (!dataTable) return;\n",
              "\n",
              "          const docLinkHtml = 'Like what you see? Visit the ' +\n",
              "            '<a target=\"_blank\" href=https://colab.research.google.com/notebooks/data_table.ipynb>data table notebook</a>'\n",
              "            + ' to learn more about interactive tables.';\n",
              "          element.innerHTML = '';\n",
              "          dataTable['output_type'] = 'display_data';\n",
              "          await google.colab.output.renderOutput(dataTable, element);\n",
              "          const docLink = document.createElement('div');\n",
              "          docLink.innerHTML = docLinkHtml;\n",
              "          element.appendChild(docLink);\n",
              "        }\n",
              "      </script>\n",
              "    </div>\n",
              "  </div>\n",
              "  "
            ]
          },
          "metadata": {},
          "execution_count": 223
        }
      ]
    },
    {
      "cell_type": "markdown",
      "source": [
        "## Data Analysis\n",
        "\n",
        "The data in `df` isn't ready to be compared yet, as `sunduration_BER` represents minutes of sunshine during each hour and `cloudcover_DC` represents a percentage of overcast for each hour. To prepare the data for visual comparison, a `sunduration` and `cloudcover` column will be created for both cities. \n",
        "\n",
        "`cloudcover_BER` will be created by dividing `sunduration_BER` values by the minutes during the hour where the sun was up. This will be an approximation of the percentage of sunshine in an hour. Note that during the house where the rose and set, this factor will not be 60.\n",
        "\n",
        "`sunduratino_DC` will be calculated from `cloudcover_DC` using the opposite transformation: multiplying the percentages by minutes in the hour where the sun was up. This will be an approximation of the minutes during each hour that the sun was shining. Values will not be rounded."
      ],
      "metadata": {
        "id": "YbSz7-MBsedF"
      }
    },
    {
      "cell_type": "code",
      "source": [
        "# df = df.rename(columns={'sunduration': 'BER_sunduration', 'cloudcover': 'DC_cloudcover'})\n",
        "\n",
        "# df['cloudcover_BER'] = df['sunduration_BER'] / 60 * 100\n",
        "# df['sunduration_DC'] = df['cloudcover_DC'] / 100 * 60\n",
        "# df"
      ],
      "metadata": {
        "id": "ZOqGZeZUt8jB"
      },
      "execution_count": 224,
      "outputs": []
    }
  ],
  "metadata": {
    "colab": {
      "provenance": [],
      "toc_visible": true,
      "include_colab_link": true
    },
    "kernelspec": {
      "display_name": "Python 3",
      "language": "python",
      "name": "python3"
    },
    "language_info": {
      "codemirror_mode": {
        "name": "ipython",
        "version": 3
      },
      "file_extension": ".py",
      "mimetype": "text/x-python",
      "name": "python",
      "nbconvert_exporter": "python",
      "pygments_lexer": "ipython3",
      "version": "3.5.2"
    }
  },
  "nbformat": 4,
  "nbformat_minor": 0
}