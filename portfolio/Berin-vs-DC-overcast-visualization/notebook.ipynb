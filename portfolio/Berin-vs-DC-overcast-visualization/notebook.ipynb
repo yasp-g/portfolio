{
  "cells": [
    {
      "cell_type": "markdown",
      "metadata": {
        "id": "view-in-github",
        "colab_type": "text"
      },
      "source": [
        "<a href=\"https://colab.research.google.com/github/yasp-g/portfolio/blob/main/portfolio/Berin-vs-DC-overcast-visualization/notebook.ipynb\" target=\"_parent\"><img src=\"https://colab.research.google.com/assets/colab-badge.svg\" alt=\"Open In Colab\"/></a>"
      ]
    },
    {
      "cell_type": "markdown",
      "metadata": {
        "id": "LcxHF7F_ATv-"
      },
      "source": [
        "# Becoming an Independent Data Scientist"
      ]
    },
    {
      "cell_type": "markdown",
      "metadata": {
        "id": "GBvEogI7BH5J"
      },
      "source": [
        "## Region and Domain\n",
        "\n",
        "The region and domain of interest for the project are: **South Lyon, Michigan, United States** and **religious events or traditions**."
      ]
    },
    {
      "cell_type": "markdown",
      "metadata": {
        "id": "8ko4r3kzBgdV"
      },
      "source": [
        "## Research Question\n",
        "\n",
        "How does the "
      ]
    },
    {
      "cell_type": "code",
      "execution_count": 181,
      "metadata": {
        "id": "w2UIK3VLC1hJ"
      },
      "outputs": [],
      "source": []
    },
    {
      "cell_type": "markdown",
      "metadata": {
        "id": "taHSMBpbBwit"
      },
      "source": [
        "## Data Sources\n",
        "\n",
        "### Germany data:\n",
        "#### main Page:\n",
        "https://www.dwd.de/DE/klimaumwelt/cdc/cdc_node.html\n",
        "\n",
        "#### Berlin Alexanderplatz sun (from 2015 to present):\n",
        "https://opendata.dwd.de/climate_environment/CDC/observations_germany/climate_urban/hourly/sun/recent/\n",
        "\n",
        "#### Berlin Alexanderplatz sun (from 2015 to present):\n",
        "https://opendata.dwd.de/climate_environment/CDC/observations_germany/climate_urban/hourly/air_temperature/recent/\n",
        "\n",
        "### Washington, DC data:\n",
        "#### Main page:\n",
        "https://www.ncei.noaa.gov/cdo-web/datasets#LCD\n",
        "\n",
        "\n",
        "#### Search page:\n",
        "https://www.ncei.noaa.gov/cdo-web/datatools/lcd\n",
        "\n",
        "\n"
      ]
    },
    {
      "cell_type": "markdown",
      "metadata": {
        "id": "IHrTv9Fyf6Zf"
      },
      "source": [
        "### Sketchy link US climatology data with average sunshine\n",
        "https://www2.census.gov/library/publications/2010/compendia/statab/130ed/tables/11s0394.xls"
      ]
    },
    {
      "cell_type": "markdown",
      "metadata": {
        "id": "oLyoqAAcB4X-"
      },
      "source": [
        "## Image"
      ]
    },
    {
      "cell_type": "markdown",
      "metadata": {
        "id": "am8E6AreB6Ud"
      },
      "source": [
        "## Discussion"
      ]
    },
    {
      "cell_type": "markdown",
      "metadata": {
        "id": "Xsxtnoa3WuMr"
      },
      "source": [
        "# Method"
      ]
    },
    {
      "cell_type": "markdown",
      "metadata": {
        "id": "e2HiL4WrW9KE"
      },
      "source": [
        "## Notebook Setup\n",
        "\n",
        "### Mount google drive"
      ]
    },
    {
      "cell_type": "code",
      "execution_count": 182,
      "metadata": {
        "colab": {
          "base_uri": "https://localhost:8080/"
        },
        "id": "pYcEcC4sRmK3",
        "outputId": "89b40779-76ce-4ddd-8e28-86ff6651f10e"
      },
      "outputs": [
        {
          "output_type": "stream",
          "name": "stdout",
          "text": [
            "Drive already mounted at /content/drive; to attempt to forcibly remount, call drive.mount(\"/content/drive\", force_remount=True).\n"
          ]
        }
      ],
      "source": [
        "from google.colab import drive\n",
        "drive.mount('/content/drive')"
      ]
    },
    {
      "cell_type": "markdown",
      "metadata": {
        "id": "zHg1tMOCXKm_"
      },
      "source": [
        "### Download and import necessary libraries"
      ]
    },
    {
      "cell_type": "code",
      "execution_count": 183,
      "metadata": {
        "id": "9FY-Z3RA5Y8S"
      },
      "outputs": [],
      "source": [
        "%%capture\n",
        "!pip install remotezip"
      ]
    },
    {
      "cell_type": "code",
      "execution_count": 184,
      "metadata": {
        "id": "eNiwaS1OrpQJ"
      },
      "outputs": [],
      "source": [
        "import pandas as pd\n",
        "import numpy as np\n",
        "import datetime \n",
        "from remotezip import RemoteZip\n",
        "from itertools import groupby\n",
        "from operator import itemgetter"
      ]
    },
    {
      "cell_type": "markdown",
      "metadata": {
        "id": "56-AaiYlXPkX"
      },
      "source": [
        "## Load data"
      ]
    },
    {
      "cell_type": "markdown",
      "metadata": {
        "id": "iFRKBd2xXTr8"
      },
      "source": [
        "### Berlin Data\n",
        "\n",
        "The Berlin data was found from Germany's Deutsche Wetterdienst [Climate Data Center](https://www.dwd.de/DE/klimaumwelt/cdc/cdc_node.html). The CDC offers open access to a wide range of weather data all across Germany. One of the available weather stations is station ID 0399, in Berlin Alexanderplatz. This data is available in a remote directory, from which, sunshine duration (minutes) during each hour as far back as November 20th, 2015 is loaded below.\n",
        "\n",
        "This data will be loaded as `df_ber`.\n",
        "\n",
        "Sunrise and sunset data will also be needed. This was found on https://sunrise.maplogs.com.\n",
        "\n",
        "This data will be loaded as `df_bersun`.\n"
      ]
    },
    {
      "cell_type": "code",
      "execution_count": 185,
      "metadata": {
        "id": "WunmBCKF4Mfb"
      },
      "outputs": [],
      "source": [
        "# define url of zipfile\n",
        "zip_name = \"https://opendata.dwd.de/climate_environment/CDC/observations_germany/climate_urban/hourly/sun/recent/stundenwerte_sun_399_akt.zip\"\n",
        "\n",
        "# use REmoteZip to unpack and load .txt datafile from remote directory\n",
        "with RemoteZip(zip_name) as ziploc:\n",
        "    for zip_info in ziploc.infolist():\n",
        "        # print(zip_info.filename)\n",
        "        pass\n",
        "    ziploc.extract('produkt_sun_399_akt.txt')"
      ]
    },
    {
      "cell_type": "code",
      "execution_count": 186,
      "metadata": {
        "id": "pG36nogtsCUg"
      },
      "outputs": [],
      "source": [
        "# read data from file\n",
        "df_ber = pd.read_csv('produkt_sun_399_akt.txt', sep=';')\n",
        "\n",
        "# strip whitespace from columns and drop 'eor' column\n",
        "df_ber.rename(columns=lambda x: x.strip(), inplace=True)\n",
        "df_ber.drop('eor', axis=1, inplace=True)\n",
        "# df_ber.info()"
      ]
    },
    {
      "cell_type": "code",
      "source": [
        "# load data for df_bersun\n",
        "df_bersun = pd.read_csv('/content/drive/MyDrive/Colab Notebooks/Coursera Courses/Applied Data Science with Python Specialization - U Michigan/2. Applied Plotting, Charting & Data Representation in Python/Assignments/Assignment 4/Data/Berlin data/Sunshine/Sunrise&set_maplogsdotcom.csv')\n",
        "# df_bersun"
      ],
      "metadata": {
        "id": "F-KCjWEmNGia"
      },
      "execution_count": 187,
      "outputs": []
    },
    {
      "cell_type": "markdown",
      "metadata": {
        "id": "8P95jwRBcnY0"
      },
      "source": [
        "### DC Data\n",
        "\n",
        "DC climatological data was found using Visual Crossing's [Weather Data database](https://www.visualcrossing.com/weather-data). From this database, climatological data near Washington, DC for the years 2015 to 2021 was queired and loaded below. In this queiered data is \"cloudcover\" as a percent, for every hour of every day. Information on the exact weather station location is not provided.\n",
        "\n",
        "This data will be loaded as `df_dc`.\n",
        "\n",
        "Because cloudcover accounts for clouds during the night, sunrise and sunset data will also be needed. This was found using the National Oceanic and Atmospheric Administration's [Local Climatological Data tool](https://www.ncdc.noaa.gov/cdo-web/datatools/lcd). This data was recorded by the weather station at Washington Reagan National Airport.\n",
        "\n",
        "This data will be loaded as `df_dcsun`."
      ]
    },
    {
      "cell_type": "code",
      "execution_count": 188,
      "metadata": {
        "id": "PqTtY_hvf5aB"
      },
      "outputs": [],
      "source": [
        "# define file path and names\n",
        "drive_path = '/content/drive/MyDrive/Colab Notebooks/Coursera Courses/Applied Data Science with Python Specialization - U Michigan/2. Applied Plotting, Charting & Data Representation in Python/Assignments/Assignment 4/Data/DC data/'\n",
        "dc1_file = 'washington_dc climatological 2015 to 2017.csv'\n",
        "dc2_file = 'washington_dc climatological 2018 to 2021.csv'\n",
        "\n",
        "# read files\n",
        "df_dc1 = pd.read_csv(drive_path + dc1_file)\n",
        "df_dc2 = pd.read_csv(drive_path + dc2_file)\n"
      ]
    },
    {
      "cell_type": "code",
      "execution_count": 189,
      "metadata": {
        "id": "zcxMz5g7WQI6"
      },
      "outputs": [],
      "source": [
        "# concatenate the two dc dataframes\n",
        "df_dc = pd.concat([df_dc1, df_dc2], ignore_index=True)\n",
        "# df_dc.info()"
      ]
    },
    {
      "cell_type": "code",
      "source": [
        "# load data for df_dcsun\n",
        "dc3_file = 'NOAA LCD washington daily data.csv'\n",
        "df_dcsun = pd.read_csv(drive_path + dc3_file)"
      ],
      "metadata": {
        "colab": {
          "base_uri": "https://localhost:8080/"
        },
        "id": "wgjte4L1N6qP",
        "outputId": "509ab38b-c69d-4a7b-f150-689f128abe63"
      },
      "execution_count": 190,
      "outputs": [
        {
          "output_type": "stream",
          "name": "stderr",
          "text": [
            "/usr/local/lib/python3.8/dist-packages/IPython/core/interactiveshell.py:3326: DtypeWarning: Columns (35,36,42,43,44,50,52,74,76,77,90) have mixed types.Specify dtype option on import or set low_memory=False.\n",
            "  exec(code_obj, self.user_global_ns, self.user_ns)\n"
          ]
        }
      ]
    },
    {
      "cell_type": "markdown",
      "metadata": {
        "id": "ilNPleHKfPnT"
      },
      "source": [
        "### Filter dataframe columns and rename"
      ]
    },
    {
      "cell_type": "code",
      "execution_count": 191,
      "metadata": {
        "id": "A-f6GwkmejoU"
      },
      "outputs": [],
      "source": [
        "df_ber = df_ber[['MESS_DATUM', 'SONNENSCHEINDAUER']]\n",
        "df_ber = df_ber.rename(columns={'MESS_DATUM': 'datetime', 'SONNENSCHEINDAUER': 'sunduration'})\n",
        "df_dc = df_dc[['datetime', 'cloudcover']]\n",
        "\n",
        "df_bersun = df_bersun.rename(columns={'Date': 'datetime', 'Sunrise': 'sunrise_BER', 'Sunset': 'sunset_BER', 'Daylength': 'daylength_BER'})\n",
        "df_dcsun = df_dcsun[['DATE', 'Sunrise', 'Sunset']].dropna().reset_index(drop=True)\n",
        "df_dcsun = df_dcsun.rename(columns={'DATE': 'datetime', 'Sunrise': 'sunrise_DC', 'Sunset': 'sunset_DC'})"
      ]
    },
    {
      "cell_type": "code",
      "execution_count": 192,
      "metadata": {
        "id": "-cHMW2y4fB8R"
      },
      "outputs": [],
      "source": [
        "# df_ber, df_dc"
      ]
    },
    {
      "cell_type": "markdown",
      "metadata": {
        "id": "Nn4U2Bt1gR09"
      },
      "source": [
        "## Data Cleaning\n",
        "\n",
        "The dataframes are different lengths, and neither length equals the number of hours in the intended range (begining of 2016 to end of 2021) which is 52560."
      ]
    },
    {
      "cell_type": "markdown",
      "metadata": {
        "id": "_dOhRrB2hhkR"
      },
      "source": [
        "### Standardize datetime columns"
      ]
    },
    {
      "cell_type": "code",
      "execution_count": 193,
      "metadata": {
        "id": "cySIW9_Rhgo3"
      },
      "outputs": [],
      "source": [
        "# convert to datetime and sort df by datetime\n",
        "df_ber['datetime'] = pd.to_datetime(df_ber['datetime'], format='%Y%m%d%H')\n",
        "df_ber.sort_values('datetime', inplace=True)\n",
        "# df_ber['datetime'].head(30)"
      ]
    },
    {
      "cell_type": "code",
      "execution_count": 194,
      "metadata": {
        "id": "9bGCk-A3kbXW"
      },
      "outputs": [],
      "source": [
        "# convert to datetime and sort df by datetime\n",
        "df_dc['datetime'] = pd.to_datetime(df_dc['datetime'])\n",
        "df_dc.sort_values('datetime', inplace=True)"
      ]
    },
    {
      "cell_type": "code",
      "source": [
        "# convert to datetime\n",
        "df_bersun['datetime'] = pd.to_datetime(df_bersun['datetime'])"
      ],
      "metadata": {
        "id": "GvWoqWA-PBP6"
      },
      "execution_count": 195,
      "outputs": []
    },
    {
      "cell_type": "code",
      "execution_count": 196,
      "metadata": {
        "id": "0o8k5aliO4nc"
      },
      "outputs": [],
      "source": [
        "# remove the time information and keep date information\n",
        "df_dcsun['datetime'] = df_dcsun['datetime'].str.split('T').str[0]\n",
        "# convert to datetime\n",
        "df_dcsun['datetime'] = pd.to_datetime(df_dcsun['datetime'])"
      ]
    },
    {
      "cell_type": "markdown",
      "metadata": {
        "id": "Bxq6qdjdlSzg"
      },
      "source": [
        "### Filter date range and add year, month, day, hour columns"
      ]
    },
    {
      "cell_type": "code",
      "execution_count": 197,
      "metadata": {
        "colab": {
          "base_uri": "https://localhost:8080/"
        },
        "id": "5rdPVFCClV7Z",
        "outputId": "a75f36f4-721b-46d2-a228-ba9846186149"
      },
      "outputs": [
        {
          "output_type": "execute_result",
          "data": {
            "text/plain": [
              "(50269, 52608, 2192, 2192)"
            ]
          },
          "metadata": {},
          "execution_count": 197
        }
      ],
      "source": [
        "startdate = pd.to_datetime('1/1/2016')\n",
        "enddate = pd.to_datetime('1/1/2022')\n",
        "df_ber = df_ber[(df_ber['datetime'] >= startdate) & (df_ber['datetime'] < enddate)].reset_index(drop=True)\n",
        "# df_ber['year'] = df_ber['datetime'].dt.year\n",
        "# df_ber['month'] = df_ber['datetime'].dt.month\n",
        "# df_ber['day'] = df_ber['datetime'].dt.day\n",
        "# df_ber['hour'] = df_ber['datetime'].dt.hour\n",
        "# df_ber\n",
        "\n",
        "df_dc = df_dc[(df_dc['datetime'] >= startdate) & (df_dc['datetime'] < enddate)].reset_index(drop=True)\n",
        "# df_dc['year'] = df_dc['datetime'].dt.year\n",
        "# df_dc['month'] = df_dc['datetime'].dt.month\n",
        "# df_dc['day'] = df_dc['datetime'].dt.day\n",
        "# df_dc['hour'] = df_dc['datetime'].dt.hour\n",
        "# df_dc\n",
        "\n",
        "# df_dcsun['year'] = df_dcsun['datetime'].dt.year\n",
        "# df_dcsun['month'] = df_dcsun['datetime'].dt.month\n",
        "# df_dcsun['day'] = df_dcsun['datetime'].dt.day\n",
        "# df_dcsun\n",
        "\n",
        "len(df_ber), len(df_dc), len(df_bersun), len(df_dcsun)"
      ]
    },
    {
      "cell_type": "markdown",
      "metadata": {
        "id": "4empgnKM3gqN"
      },
      "source": [
        "### Remove Febuary 29th from data"
      ]
    },
    {
      "cell_type": "code",
      "execution_count": 198,
      "metadata": {
        "colab": {
          "base_uri": "https://localhost:8080/"
        },
        "id": "zLaay_bk443Y",
        "outputId": "d18d7658-fcfe-40f4-b8ea-5f291d02e698"
      },
      "outputs": [
        {
          "output_type": "execute_result",
          "data": {
            "text/plain": [
              "(50221, 52560, 2190, 2190)"
            ]
          },
          "metadata": {},
          "execution_count": 198
        }
      ],
      "source": [
        "df_ber = df_ber.drop(df_ber[(df_ber['datetime'].dt.month == 2) & \n",
        "                   (df_ber['datetime'].dt.day == 29)].index).reset_index(drop=True)\n",
        "df_dc = df_dc.drop(df_dc[(df_dc['datetime'].dt.month == 2) & \n",
        "                 (df_dc['datetime'].dt.day == 29)].index).reset_index(drop=True)\n",
        "df_bersun = df_bersun.drop(df_bersun[(df_bersun['datetime'].dt.month == 2) & \n",
        "                        (df_bersun['datetime'].dt.day == 29)].index).reset_index(drop=True)\n",
        "df_dcsun = df_dcsun.drop(df_dcsun[(df_dcsun['datetime'].dt.month == 2) & \n",
        "                       (df_dcsun['datetime'].dt.day == 29)].index).reset_index(drop=True)\n",
        "\n",
        "len(df_ber), len(df_dc), len(df_bersun), len(df_dcsun)"
      ]
    },
    {
      "cell_type": "code",
      "execution_count": 199,
      "metadata": {
        "id": "aYP4pRig3mEB"
      },
      "outputs": [],
      "source": [
        "# old method for removing lead day data:\n",
        "\n",
        "# df_ber = df_ber[~((df_ber['month'] == 2) & (df_ber['day'] == 29))].reset_index(drop=True)\n",
        "# df_dc = df_dc[~((df_dc['month'] == 2) & (df_dc['day'] == 29))].reset_index(drop=True)\n",
        "# df_dcsun = df_dcsun[~((df_dcsun['month'] == 2) & (df_dcsun['day'] == 29))].reset_index(drop=True)\n",
        "# len(df_ber), len(df_dc), len(df_dcsun)"
      ]
    },
    {
      "cell_type": "markdown",
      "metadata": {
        "id": "Ai4ryKBmIs3m"
      },
      "source": [
        "### Duplicate Rows found in `dc_df`\n",
        "\n",
        "During the following \"Dealing with missing rows\" section, `dc_df` was found to have dupplicate datetime instances. This needs to be fixed first."
      ]
    },
    {
      "cell_type": "code",
      "execution_count": 200,
      "metadata": {
        "colab": {
          "base_uri": "https://localhost:8080/"
        },
        "id": "I_lU3kqVIJCo",
        "outputId": "fbd890cb-ff5b-4662-e128-046471f2c109"
      },
      "outputs": [
        {
          "output_type": "stream",
          "name": "stdout",
          "text": [
            "2019-11-03 01:00:00    2\n",
            "2020-11-01 01:00:00    2\n",
            "2016-11-06 01:00:00    2\n",
            "2018-11-04 01:00:00    2\n",
            "2017-11-05 01:00:00    2\n",
            "2021-11-07 01:00:00    2\n",
            "Name: datetime, dtype: int64\n"
          ]
        }
      ],
      "source": [
        "dc_datevc = df_dc['datetime'].value_counts()\n",
        "print(dc_datevc[dc_datevc > 1])"
      ]
    },
    {
      "cell_type": "code",
      "execution_count": 201,
      "metadata": {
        "colab": {
          "base_uri": "https://localhost:8080/"
        },
        "id": "TePuScalITZ4",
        "outputId": "bf061a2e-c09c-4d28-9dd9-0c9e5813c473"
      },
      "outputs": [
        {
          "output_type": "stream",
          "name": "stdout",
          "text": [
            "                 datetime  cloudcover\n",
            "33624 2019-11-03 01:00:00         0.0\n",
            "33625 2019-11-03 01:00:00         0.0\n",
            "                 datetime  cloudcover\n",
            "24888 2018-11-04 01:00:00         0.0\n",
            "24889 2018-11-04 01:00:00         0.0\n",
            "                datetime  cloudcover\n",
            "7416 2016-11-06 01:00:00         0.0\n",
            "7417 2016-11-06 01:00:00         0.0\n",
            "                 datetime  cloudcover\n",
            "24888 2018-11-04 01:00:00         0.0\n",
            "24889 2018-11-04 01:00:00         0.0\n",
            "                 datetime  cloudcover\n",
            "16152 2017-11-05 01:00:00       100.0\n",
            "16153 2017-11-05 01:00:00       100.0\n",
            "                 datetime  cloudcover\n",
            "51240 2021-11-07 01:00:00        79.3\n",
            "51241 2021-11-07 01:00:00        90.1\n"
          ]
        }
      ],
      "source": [
        "print(df_dc[df_dc['datetime'] == '2019-11-03 01:00:00'])\n",
        "print(df_dc[df_dc['datetime'] == '2018-11-04 01:00:00'])\n",
        "print(df_dc[df_dc['datetime'] == '2016-11-06 01:00:00'])\n",
        "print(df_dc[df_dc['datetime'] == '2018-11-04 01:00:00'])\n",
        "print(df_dc[df_dc['datetime'] == '2017-11-05 01:00:00'])\n",
        "print(df_dc[df_dc['datetime'] == '2021-11-07 01:00:00'])"
      ]
    },
    {
      "cell_type": "markdown",
      "metadata": {
        "id": "F9cjbYL1JJRN"
      },
      "source": [
        "During an earlier check, it was confirmed that each year had the appropriate number of values... (there are 8760 hours in a year)\n",
        "\n",
        "Shown again:"
      ]
    },
    {
      "cell_type": "code",
      "execution_count": 202,
      "metadata": {
        "colab": {
          "base_uri": "https://localhost:8080/"
        },
        "id": "61t2KCSMIsTN",
        "outputId": "fdb25240-6d15-4a67-f1be-5870e38b1377"
      },
      "outputs": [
        {
          "output_type": "stream",
          "name": "stdout",
          "text": [
            "year: 2016\n",
            "rows: 8760\n",
            "year: 2017\n",
            "rows: 8760\n",
            "year: 2018\n",
            "rows: 8760\n",
            "year: 2019\n",
            "rows: 8760\n",
            "year: 2020\n",
            "rows: 8760\n",
            "year: 2021\n",
            "rows: 8760\n"
          ]
        }
      ],
      "source": [
        "for year in range(2016, 2022):\n",
        "  print(\"year:\", year)\n",
        "  print(\"rows:\", len(df_dc[df_dc['datetime'].dt.year == year]))\n"
      ]
    },
    {
      "cell_type": "markdown",
      "metadata": {
        "id": "dU5BMP-R8KqM"
      },
      "source": [
        "So, each year has the appropriate number of timestamps, yet every year has a duplicate time stamp in November.\n",
        "\n",
        "After some investigation, each year was found to be missing a timestamp in march:"
      ]
    },
    {
      "cell_type": "code",
      "execution_count": 203,
      "metadata": {
        "colab": {
          "base_uri": "https://localhost:8080/"
        },
        "id": "kfQnDbObNP35",
        "outputId": "1d9bb4a5-d3b5-414b-8f9a-38448986d8d1"
      },
      "outputs": [
        {
          "output_type": "execute_result",
          "data": {
            "text/plain": [
              "DatetimeIndex(['2016-03-13 02:00:00', '2017-03-12 02:00:00',\n",
              "               '2018-03-11 02:00:00', '2019-03-10 02:00:00',\n",
              "               '2020-03-08 02:00:00', '2021-03-14 02:00:00'],\n",
              "              dtype='datetime64[ns]', freq=None)"
            ]
          },
          "metadata": {},
          "execution_count": 203
        }
      ],
      "source": [
        "# create a date range with all hours in the target range and lead days removed\n",
        "daterange = pd.date_range(start='2016-01-01', end='2022-01-01', freq='H', closed='left')\n",
        "leap=[]\n",
        "for stamp in daterange:\n",
        "    if stamp.month==2 and stamp.day ==29:\n",
        "        leap.append(stamp)\n",
        "daterange = daterange.drop(leap)\n",
        "\n",
        "# check the difference between the date range and df_dc range\n",
        "# this will show any missing values\n",
        "daterange.difference(df_dc['datetime'])"
      ]
    },
    {
      "cell_type": "code",
      "execution_count": 204,
      "metadata": {
        "id": "ooy1hBG0LEPt"
      },
      "outputs": [],
      "source": [
        "# df_dc[(df_dc['year'] == 2016) & (df_dc['month'] == 3)]\n",
        "\n",
        "# df_dc[(df_dc['year'] == 2016) & (df_dc['month'] == 11)]"
      ]
    },
    {
      "cell_type": "markdown",
      "metadata": {
        "id": "ZCzYDqgaChDq"
      },
      "source": [
        "At this point, the proper step would be to contact the data provider to gain some context as to what may be causing this issue and determine a path forward together. \n",
        "\n",
        "For the sake of this project, it will be interpreted that all time stamps between the missing timestamp in March and the duplicate timestamp in November are one hour \"late\". All timestamps in this range will be shifted forwards one hour (only the first instance of a duplicated timestamp will be shifted)."
      ]
    },
    {
      "cell_type": "markdown",
      "metadata": {
        "id": "7CTdkYvADV3m"
      },
      "source": [
        "#### Shifting offset timestamps"
      ]
    },
    {
      "cell_type": "code",
      "execution_count": 205,
      "metadata": {
        "id": "r2v1E9L9J3DS"
      },
      "outputs": [],
      "source": [
        "# get missing times from march and duplicate times from november in lists\n",
        "miss_times = daterange.difference(df_dc['datetime']).sort_values()\n",
        "dc_datevc = df_dc['datetime'].value_counts()\n",
        "dup_times = dc_datevc[dc_datevc > 1].index.sort_values()\n",
        "\n",
        "# iterate over zip of missing and duplicate times and shift timestamps inbetween by 1 hour\n",
        "for year in zip(miss_times, dup_times):\n",
        "  # print(f'Missing March hour: {year[0]}')\n",
        "  # print(f'Duplicate Nov hour: {year[1]}')\n",
        "  df_dc.datetime = df_dc.datetime.map(lambda x: x - pd.Timedelta(1, 'h') if \n",
        "                                      (year[0] < x) & (x < year[1]) else x)\n",
        "# print('')\n",
        "\n",
        "# shift the first occurance of each duplicate timestamp forward one hour\n",
        "for duplicate in dup_times:\n",
        "  if dup_times.empty:\n",
        "    break\n",
        "  # print(df_dc[df_dc['datetime'] == duplicate])\n",
        "  index = df_dc.index[df_dc['datetime'] == duplicate][0]\n",
        "  # print(f\"Index: {index}\")\n",
        "  # print(f\"Value before: {df_dc['datetime'].iloc[index]}\")\n",
        "  df_dc.loc[index, 'datetime'] -=  pd.Timedelta(1, 'h')\n",
        "  # print(f\"Value after: {df_dc['datetime'].iloc[index]}\")"
      ]
    },
    {
      "cell_type": "code",
      "execution_count": 206,
      "metadata": {
        "colab": {
          "base_uri": "https://localhost:8080/"
        },
        "id": "u6zZEeTXStr5",
        "outputId": "b11a5590-5ba2-45c7-f037-ac79ee6b42cd"
      },
      "outputs": [
        {
          "output_type": "execute_result",
          "data": {
            "text/plain": [
              "DatetimeIndex([], dtype='datetime64[ns]', freq=None)"
            ]
          },
          "metadata": {},
          "execution_count": 206
        }
      ],
      "source": [
        "daterange.difference(df_dc['datetime']).sort_values()"
      ]
    },
    {
      "cell_type": "code",
      "execution_count": 207,
      "metadata": {
        "colab": {
          "base_uri": "https://localhost:8080/"
        },
        "id": "g-Ss7yOcU5Ra",
        "outputId": "62526e2e-9d1b-4ef6-b53e-0d3cffe46c53"
      },
      "outputs": [
        {
          "output_type": "execute_result",
          "data": {
            "text/plain": [
              "2016-01-01 00:00:00    1\n",
              "2020-01-01 05:00:00    1\n",
              "2019-12-31 19:00:00    1\n",
              "2019-12-31 20:00:00    1\n",
              "2019-12-31 21:00:00    1\n",
              "                      ..\n",
              "2018-01-01 01:00:00    1\n",
              "2018-01-01 02:00:00    1\n",
              "2018-01-01 03:00:00    1\n",
              "2018-01-01 04:00:00    1\n",
              "2021-12-31 23:00:00    1\n",
              "Name: datetime, Length: 52560, dtype: int64"
            ]
          },
          "metadata": {},
          "execution_count": 207
        }
      ],
      "source": [
        "df_dc['datetime'].value_counts()"
      ]
    },
    {
      "cell_type": "markdown",
      "metadata": {
        "id": "TkRSoIE-8lpt"
      },
      "source": [
        "### Dealing with missing rows in `df_ber` and creating `df`\n",
        "\n",
        "`df_ber` only has 50221 rows. To make investigating this a little easier, the datetime series with all hours in the target date range created earlier will be used as the foundation of a dataframe into which, both `df_ber` and `df_dc` will be left merged. This dataframe will be called `df`."
      ]
    },
    {
      "cell_type": "code",
      "execution_count": 208,
      "metadata": {
        "id": "YiEm804m02rA"
      },
      "outputs": [],
      "source": [
        "df = pd.DataFrame(daterange, columns=['datetime'])\n",
        "df = pd.merge(df, df_ber[['datetime', 'sunduration']], how='left', on='datetime')\n",
        "df = pd.merge(df, df_dc[['datetime', 'cloudcover']], how='left', on='datetime')\n",
        "df = df.rename(columns={'sunduration': 'sunduration_BER', 'cloudcover': 'cloudcover_DC'})\n",
        "# df"
      ]
    },
    {
      "cell_type": "code",
      "source": [
        "df"
      ],
      "metadata": {
        "colab": {
          "base_uri": "https://localhost:8080/",
          "height": 424
        },
        "id": "__sDzcjFzIXe",
        "outputId": "2dafe394-6a41-4540-9022-bf78b82c365d"
      },
      "execution_count": 209,
      "outputs": [
        {
          "output_type": "execute_result",
          "data": {
            "text/plain": [
              "                 datetime  sunduration_BER  cloudcover_DC\n",
              "0     2016-01-01 00:00:00              0.0           99.8\n",
              "1     2016-01-01 01:00:00              0.0          100.0\n",
              "2     2016-01-01 02:00:00              0.0           88.9\n",
              "3     2016-01-01 03:00:00              0.0           79.3\n",
              "4     2016-01-01 04:00:00              0.0           79.3\n",
              "...                   ...              ...            ...\n",
              "52555 2021-12-31 19:00:00              0.0           81.7\n",
              "52556 2021-12-31 20:00:00              0.0           98.3\n",
              "52557 2021-12-31 21:00:00              0.0           99.6\n",
              "52558 2021-12-31 22:00:00              0.0           99.6\n",
              "52559 2021-12-31 23:00:00              0.0           99.6\n",
              "\n",
              "[52560 rows x 3 columns]"
            ],
            "text/html": [
              "\n",
              "  <div id=\"df-7519db18-6438-4224-9db4-8313f1450054\">\n",
              "    <div class=\"colab-df-container\">\n",
              "      <div>\n",
              "<style scoped>\n",
              "    .dataframe tbody tr th:only-of-type {\n",
              "        vertical-align: middle;\n",
              "    }\n",
              "\n",
              "    .dataframe tbody tr th {\n",
              "        vertical-align: top;\n",
              "    }\n",
              "\n",
              "    .dataframe thead th {\n",
              "        text-align: right;\n",
              "    }\n",
              "</style>\n",
              "<table border=\"1\" class=\"dataframe\">\n",
              "  <thead>\n",
              "    <tr style=\"text-align: right;\">\n",
              "      <th></th>\n",
              "      <th>datetime</th>\n",
              "      <th>sunduration_BER</th>\n",
              "      <th>cloudcover_DC</th>\n",
              "    </tr>\n",
              "  </thead>\n",
              "  <tbody>\n",
              "    <tr>\n",
              "      <th>0</th>\n",
              "      <td>2016-01-01 00:00:00</td>\n",
              "      <td>0.0</td>\n",
              "      <td>99.8</td>\n",
              "    </tr>\n",
              "    <tr>\n",
              "      <th>1</th>\n",
              "      <td>2016-01-01 01:00:00</td>\n",
              "      <td>0.0</td>\n",
              "      <td>100.0</td>\n",
              "    </tr>\n",
              "    <tr>\n",
              "      <th>2</th>\n",
              "      <td>2016-01-01 02:00:00</td>\n",
              "      <td>0.0</td>\n",
              "      <td>88.9</td>\n",
              "    </tr>\n",
              "    <tr>\n",
              "      <th>3</th>\n",
              "      <td>2016-01-01 03:00:00</td>\n",
              "      <td>0.0</td>\n",
              "      <td>79.3</td>\n",
              "    </tr>\n",
              "    <tr>\n",
              "      <th>4</th>\n",
              "      <td>2016-01-01 04:00:00</td>\n",
              "      <td>0.0</td>\n",
              "      <td>79.3</td>\n",
              "    </tr>\n",
              "    <tr>\n",
              "      <th>...</th>\n",
              "      <td>...</td>\n",
              "      <td>...</td>\n",
              "      <td>...</td>\n",
              "    </tr>\n",
              "    <tr>\n",
              "      <th>52555</th>\n",
              "      <td>2021-12-31 19:00:00</td>\n",
              "      <td>0.0</td>\n",
              "      <td>81.7</td>\n",
              "    </tr>\n",
              "    <tr>\n",
              "      <th>52556</th>\n",
              "      <td>2021-12-31 20:00:00</td>\n",
              "      <td>0.0</td>\n",
              "      <td>98.3</td>\n",
              "    </tr>\n",
              "    <tr>\n",
              "      <th>52557</th>\n",
              "      <td>2021-12-31 21:00:00</td>\n",
              "      <td>0.0</td>\n",
              "      <td>99.6</td>\n",
              "    </tr>\n",
              "    <tr>\n",
              "      <th>52558</th>\n",
              "      <td>2021-12-31 22:00:00</td>\n",
              "      <td>0.0</td>\n",
              "      <td>99.6</td>\n",
              "    </tr>\n",
              "    <tr>\n",
              "      <th>52559</th>\n",
              "      <td>2021-12-31 23:00:00</td>\n",
              "      <td>0.0</td>\n",
              "      <td>99.6</td>\n",
              "    </tr>\n",
              "  </tbody>\n",
              "</table>\n",
              "<p>52560 rows × 3 columns</p>\n",
              "</div>\n",
              "      <button class=\"colab-df-convert\" onclick=\"convertToInteractive('df-7519db18-6438-4224-9db4-8313f1450054')\"\n",
              "              title=\"Convert this dataframe to an interactive table.\"\n",
              "              style=\"display:none;\">\n",
              "        \n",
              "  <svg xmlns=\"http://www.w3.org/2000/svg\" height=\"24px\"viewBox=\"0 0 24 24\"\n",
              "       width=\"24px\">\n",
              "    <path d=\"M0 0h24v24H0V0z\" fill=\"none\"/>\n",
              "    <path d=\"M18.56 5.44l.94 2.06.94-2.06 2.06-.94-2.06-.94-.94-2.06-.94 2.06-2.06.94zm-11 1L8.5 8.5l.94-2.06 2.06-.94-2.06-.94L8.5 2.5l-.94 2.06-2.06.94zm10 10l.94 2.06.94-2.06 2.06-.94-2.06-.94-.94-2.06-.94 2.06-2.06.94z\"/><path d=\"M17.41 7.96l-1.37-1.37c-.4-.4-.92-.59-1.43-.59-.52 0-1.04.2-1.43.59L10.3 9.45l-7.72 7.72c-.78.78-.78 2.05 0 2.83L4 21.41c.39.39.9.59 1.41.59.51 0 1.02-.2 1.41-.59l7.78-7.78 2.81-2.81c.8-.78.8-2.07 0-2.86zM5.41 20L4 18.59l7.72-7.72 1.47 1.35L5.41 20z\"/>\n",
              "  </svg>\n",
              "      </button>\n",
              "      \n",
              "  <style>\n",
              "    .colab-df-container {\n",
              "      display:flex;\n",
              "      flex-wrap:wrap;\n",
              "      gap: 12px;\n",
              "    }\n",
              "\n",
              "    .colab-df-convert {\n",
              "      background-color: #E8F0FE;\n",
              "      border: none;\n",
              "      border-radius: 50%;\n",
              "      cursor: pointer;\n",
              "      display: none;\n",
              "      fill: #1967D2;\n",
              "      height: 32px;\n",
              "      padding: 0 0 0 0;\n",
              "      width: 32px;\n",
              "    }\n",
              "\n",
              "    .colab-df-convert:hover {\n",
              "      background-color: #E2EBFA;\n",
              "      box-shadow: 0px 1px 2px rgba(60, 64, 67, 0.3), 0px 1px 3px 1px rgba(60, 64, 67, 0.15);\n",
              "      fill: #174EA6;\n",
              "    }\n",
              "\n",
              "    [theme=dark] .colab-df-convert {\n",
              "      background-color: #3B4455;\n",
              "      fill: #D2E3FC;\n",
              "    }\n",
              "\n",
              "    [theme=dark] .colab-df-convert:hover {\n",
              "      background-color: #434B5C;\n",
              "      box-shadow: 0px 1px 3px 1px rgba(0, 0, 0, 0.15);\n",
              "      filter: drop-shadow(0px 1px 2px rgba(0, 0, 0, 0.3));\n",
              "      fill: #FFFFFF;\n",
              "    }\n",
              "  </style>\n",
              "\n",
              "      <script>\n",
              "        const buttonEl =\n",
              "          document.querySelector('#df-7519db18-6438-4224-9db4-8313f1450054 button.colab-df-convert');\n",
              "        buttonEl.style.display =\n",
              "          google.colab.kernel.accessAllowed ? 'block' : 'none';\n",
              "\n",
              "        async function convertToInteractive(key) {\n",
              "          const element = document.querySelector('#df-7519db18-6438-4224-9db4-8313f1450054');\n",
              "          const dataTable =\n",
              "            await google.colab.kernel.invokeFunction('convertToInteractive',\n",
              "                                                     [key], {});\n",
              "          if (!dataTable) return;\n",
              "\n",
              "          const docLinkHtml = 'Like what you see? Visit the ' +\n",
              "            '<a target=\"_blank\" href=https://colab.research.google.com/notebooks/data_table.ipynb>data table notebook</a>'\n",
              "            + ' to learn more about interactive tables.';\n",
              "          element.innerHTML = '';\n",
              "          dataTable['output_type'] = 'display_data';\n",
              "          await google.colab.output.renderOutput(dataTable, element);\n",
              "          const docLink = document.createElement('div');\n",
              "          docLink.innerHTML = docLinkHtml;\n",
              "          element.appendChild(docLink);\n",
              "        }\n",
              "      </script>\n",
              "    </div>\n",
              "  </div>\n",
              "  "
            ]
          },
          "metadata": {},
          "execution_count": 209
        }
      ]
    },
    {
      "cell_type": "markdown",
      "metadata": {
        "id": "IRKFAwSI_Jlr"
      },
      "source": [
        "Most of the missing data is in the form of consecutive missing hours. For example, starting on May 25th, 2020, more than an entire month straight is missing (923 consecutive hours). "
      ]
    },
    {
      "cell_type": "code",
      "execution_count": 210,
      "metadata": {
        "colab": {
          "base_uri": "https://localhost:8080/"
        },
        "id": "_y4y8klZFM_h",
        "outputId": "b887c80e-dc8f-47da-9059-1a8934ba52e9"
      },
      "outputs": [
        {
          "output_type": "stream",
          "name": "stdout",
          "text": [
            "2339\n"
          ]
        }
      ],
      "source": [
        "# get the rows where sunduration is nan\n",
        "no_sun_ind = df[df.isnull().any(axis=1)].index\n",
        "print(len(no_sun_ind))"
      ]
    },
    {
      "cell_type": "code",
      "execution_count": 211,
      "metadata": {
        "colab": {
          "base_uri": "https://localhost:8080/"
        },
        "id": "4gCKzwG4Fepy",
        "outputId": "85f860ef-3e9a-4a04-8e30-8b52e1483fe7"
      },
      "outputs": [
        {
          "output_type": "stream",
          "name": "stdout",
          "text": [
            "(1, [2577])\n",
            "(23, [3017, 3018, 3019, 3020, 3021, 3022, 3023, 3024, 3025, 3026, 3027, 3028, 3029, 3030, 3031, 3032, 3033, 3034, 3035, 3036, 3037, 3038, 3039])\n",
            "(1, [3401])\n",
            "(1, [3648])\n",
            "(2, [3712, 3713])\n",
            "(1, [3790])\n",
            "(2, [4169, 4170])\n",
            "(4, [4191, 4192, 4193, 4194])\n",
            "(1, [4215])\n",
            "(14, [4303, 4304, 4305, 4306, 4307, 4308, 4309, 4310, 4311, 4312, 4313, 4314, 4315, 4316])\n",
            "(17, [4324, 4325, 4326, 4327, 4328, 4329, 4330, 4331, 4332, 4333, 4334, 4335, 4336, 4337, 4338, 4339, 4340])\n",
            "(17, [4348, 4349, 4350, 4351, 4352, 4353, 4354, 4355, 4356, 4357, 4358, 4359, 4360, 4361, 4362, 4363, 4364])\n",
            "(17, [4372, 4373, 4374, 4375, 4376, 4377, 4378, 4379, 4380, 4381, 4382, 4383, 4384, 4385, 4386, 4387, 4388])\n",
            "(17, [4396, 4397, 4398, 4399, 4400, 4401, 4402, 4403, 4404, 4405, 4406, 4407, 4408, 4409, 4410, 4411, 4412])\n",
            "(17, [4660, 4661, 4662, 4663, 4664, 4665, 4666, 4667, 4668, 4669, 4670, 4671, 4672, 4673, 4674, 4675, 4676])\n",
            "(17, [4684, 4685, 4686, 4687, 4688, 4689, 4690, 4691, 4692, 4693, 4694, 4695, 4696, 4697, 4698, 4699, 4700])\n",
            "(17, [4708, 4709, 4710, 4711, 4712, 4713, 4714, 4715, 4716, 4717, 4718, 4719, 4720, 4721, 4722, 4723, 4724])\n",
            "(17, [4732, 4733, 4734, 4735, 4736, 4737, 4738, 4739, 4740, 4741, 4742, 4743, 4744, 4745, 4746, 4747, 4748])\n",
            "(6, [4756, 4757, 4758, 4759, 4760, 4761])\n",
            "(1, [4979])\n",
            "(21, [5706, 5707, 5708, 5709, 5710, 5711, 5712, 5713, 5714, 5715, 5716, 5717, 5718, 5719, 5720, 5721, 5722, 5723, 5724, 5725, 5726])\n",
            "(3, [6417, 6418, 6419])\n",
            "(1, [6421])\n",
            "(3, [6465, 6466, 6467])\n",
            "(2, [6493, 6494])\n",
            "(2, [6542, 6543])\n",
            "(1, [6559])\n",
            "(1, [6612])\n",
            "(3, [6730, 6731, 6732])\n",
            "(2, [6878, 6879])\n",
            "(5, [8141, 8142, 8143, 8144, 8145])\n",
            "(4, [8171, 8172, 8173, 8174])\n",
            "(3, [8189, 8190, 8191])\n",
            "(1, [8482])\n",
            "(9, [8647, 8648, 8649, 8650, 8651, 8652, 8653, 8654, 8655])\n",
            "(11, [8671, 8672, 8673, 8674, 8675, 8676, 8677, 8678, 8679, 8680, 8681])\n",
            "(4, [9846, 9847, 9848, 9849])\n",
            "(3, [9851, 9852, 9853])\n",
            "(2, [11322, 11323])\n",
            "(3, [11333, 11334, 11335])\n",
            "(14, [12268, 12269, 12270, 12271, 12272, 12273, 12274, 12275, 12276, 12277, 12278, 12279, 12280, 12281])\n",
            "(4, [12401, 12402, 12403, 12404])\n",
            "(10, [12411, 12412, 12413, 12414, 12415, 12416, 12417, 12418, 12419, 12420])\n",
            "(3, [12443, 12444, 12445])\n",
            "(2, [12489, 12490])\n",
            "(14, [12516, 12517, 12518, 12519, 12520, 12521, 12522, 12523, 12524, 12525, 12526, 12527, 12528, 12529])\n",
            "(3, [12536, 12537, 12538])\n",
            "(3, [12541, 12542, 12543])\n",
            "(3, [12546, 12547, 12548])\n",
            "(7, [12555, 12556, 12557, 12558, 12559, 12560, 12561])\n",
            "(2, [12740, 12741])\n",
            "(1, [12852])\n",
            "(4, [12893, 12894, 12895, 12896])\n",
            "(1, [13190])\n",
            "(3, [13192, 13193, 13194])\n",
            "(5, [13204, 13205, 13206, 13207, 13208])\n",
            "(2, [13219, 13220])\n",
            "(4, [13228, 13229, 13230, 13231])\n",
            "(2, [13233, 13234])\n",
            "(3, [13236, 13237, 13238])\n",
            "(2, [13241, 13242])\n",
            "(1, [13311])\n",
            "(1, [13313])\n",
            "(2, [13406, 13407])\n",
            "(1, [13435])\n",
            "(1, [13504])\n",
            "(1, [13522])\n",
            "(7, [13933, 13934, 13935, 13936, 13937, 13938, 13939])\n",
            "(16, [13948, 13949, 13950, 13951, 13952, 13953, 13954, 13955, 13956, 13957, 13958, 13959, 13960, 13961, 13962, 13963])\n",
            "(6, [14170, 14171, 14172, 14173, 14174, 14175])\n",
            "(3, [14382, 14383, 14384])\n",
            "(1, [14392])\n",
            "(3, [14513, 14514, 14515])\n",
            "(6, [14557, 14558, 14559, 14560, 14561, 14562])\n",
            "(1, [14820])\n",
            "(10, [14981, 14982, 14983, 14984, 14985, 14986, 14987, 14988, 14989, 14990])\n",
            "(1, [15037])\n",
            "(1, [15104])\n",
            "(2, [15209, 15210])\n",
            "(1, [15467])\n",
            "(6, [15659, 15660, 15661, 15662, 15663, 15664])\n",
            "(1, [15733])\n",
            "(2, [15755, 15756])\n",
            "(1, [15779])\n",
            "(1, [15923])\n",
            "(5, [16039, 16040, 16041, 16042, 16043])\n",
            "(2, [16690, 16691])\n",
            "(3, [16859, 16860, 16861])\n",
            "(1, [16881])\n",
            "(2, [16932, 16933])\n",
            "(3, [17002, 17003, 17004])\n",
            "(2, [17292, 17293])\n",
            "(1, [17387])\n",
            "(3, [17434, 17435, 17436])\n",
            "(12, [18824, 18825, 18826, 18827, 18828, 18829, 18830, 18831, 18832, 18833, 18834, 18835])\n",
            "(4, [18969, 18970, 18971, 18972])\n",
            "(1, [18979])\n",
            "(1, [18982])\n",
            "(3, [20415, 20416, 20417])\n",
            "(21, [21028, 21029, 21030, 21031, 21032, 21033, 21034, 21035, 21036, 21037, 21038, 21039, 21040, 21041, 21042, 21043, 21044, 21045, 21046, 21047, 21048])\n",
            "(13, [21094, 21095, 21096, 21097, 21098, 21099, 21100, 21101, 21102, 21103, 21104, 21105, 21106])\n",
            "(8, [21217, 21218, 21219, 21220, 21221, 21222, 21223, 21224])\n",
            "(6, [21267, 21268, 21269, 21270, 21271, 21272])\n",
            "(3, [21512, 21513, 21514])\n",
            "(7, [21602, 21603, 21604, 21605, 21606, 21607, 21608])\n",
            "(4, [21629, 21630, 21631, 21632])\n",
            "(6, [21843, 21844, 21845, 21846, 21847, 21848])\n",
            "(1, [21950])\n",
            "(2, [22087, 22088])\n",
            "(2, [22099, 22100])\n",
            "(34, [22345, 22346, 22347, 22348, 22349, 22350, 22351, 22352, 22353, 22354, 22355, 22356, 22357, 22358, 22359, 22360, 22361, 22362, 22363, 22364, 22365, 22366, 22367, 22368, 22369, 22370, 22371, 22372, 22373, 22374, 22375, 22376, 22377, 22378])\n",
            "(11, [22447, 22448, 22449, 22450, 22451, 22452, 22453, 22454, 22455, 22456, 22457])\n",
            "(4, [22470, 22471, 22472, 22473])\n",
            "(2, [22545, 22546])\n",
            "(1, [22552])\n",
            "(2, [22555, 22556])\n",
            "(2, [22614, 22615])\n",
            "(2, [22660, 22661])\n",
            "(6, [22664, 22665, 22666, 22667, 22668, 22669])\n",
            "(3, [22688, 22689, 22690])\n",
            "(3, [22714, 22715, 22716])\n",
            "(8, [22900, 22901, 22902, 22903, 22904, 22905, 22906, 22907])\n",
            "(3, [23021, 23022, 23023])\n",
            "(1, [23128])\n",
            "(4, [23168, 23169, 23170, 23171])\n",
            "(5, [23243, 23244, 23245, 23246, 23247])\n",
            "(2, [23298, 23299])\n",
            "(1, [23530])\n",
            "(10, [24967, 24968, 24969, 24970, 24971, 24972, 24973, 24974, 24975, 24976])\n",
            "(1, [25140])\n",
            "(2, [25424, 25425])\n",
            "(1, [25451])\n",
            "(3, [25639, 25640, 25641])\n",
            "(2, [25833, 25834])\n",
            "(8, [25880, 25881, 25882, 25883, 25884, 25885, 25886, 25887])\n",
            "(4, [26306, 26307, 26308, 26309])\n",
            "(38, [28488, 28489, 28490, 28491, 28492, 28493, 28494, 28495, 28496, 28497, 28498, 28499, 28500, 28501, 28502, 28503, 28504, 28505, 28506, 28507, 28508, 28509, 28510, 28511, 28512, 28513, 28514, 28515, 28516, 28517, 28518, 28519, 28520, 28521, 28522, 28523, 28524, 28525])\n",
            "(36, [28963, 28964, 28965, 28966, 28967, 28968, 28969, 28970, 28971, 28972, 28973, 28974, 28975, 28976, 28977, 28978, 28979, 28980, 28981, 28982, 28983, 28984, 28985, 28986, 28987, 28988, 28989, 28990, 28991, 28992, 28993, 28994, 28995, 28996, 28997, 28998])\n",
            "(1, [29074])\n",
            "(12, [29077, 29078, 29079, 29080, 29081, 29082, 29083, 29084, 29085, 29086, 29087, 29088])\n",
            "(4, [29141, 29142, 29143, 29144])\n",
            "(4, [29172, 29173, 29174, 29175])\n",
            "(9, [29290, 29291, 29292, 29293, 29294, 29295, 29296, 29297, 29298])\n",
            "(3, [29550, 29551, 29552])\n",
            "(3, [29718, 29719, 29720])\n",
            "(2, [29897, 29898])\n",
            "(2, [29985, 29986])\n",
            "(13, [30103, 30104, 30105, 30106, 30107, 30108, 30109, 30110, 30111, 30112, 30113, 30114, 30115])\n",
            "(2, [30210, 30211])\n",
            "(1, [30296])\n",
            "(2, [30307, 30308])\n",
            "(3, [30342, 30343, 30344])\n",
            "(1, [30392])\n",
            "(1, [30706])\n",
            "(3, [30732, 30733, 30734])\n",
            "(5, [30799, 30800, 30801, 30802, 30803])\n",
            "(2, [30829, 30830])\n",
            "(2, [31000, 31001])\n",
            "(7, [31018, 31019, 31020, 31021, 31022, 31023, 31024])\n",
            "(4, [31060, 31061, 31062, 31063])\n",
            "(12, [31133, 31134, 31135, 31136, 31137, 31138, 31139, 31140, 31141, 31142, 31143, 31144])\n",
            "(10, [31180, 31181, 31182, 31183, 31184, 31185, 31186, 31187, 31188, 31189])\n",
            "(2, [31235, 31236])\n",
            "(4, [31469, 31470, 31471, 31472])\n",
            "(2, [31497, 31498])\n",
            "(5, [31551, 31552, 31553, 31554, 31555])\n",
            "(5, [31616, 31617, 31618, 31619, 31620])\n",
            "(2, [31663, 31664])\n",
            "(2, [31714, 31715])\n",
            "(3, [31877, 31878, 31879])\n",
            "(14, [31925, 31926, 31927, 31928, 31929, 31930, 31931, 31932, 31933, 31934, 31935, 31936, 31937, 31938])\n",
            "(1, [31950])\n",
            "(1, [32360])\n",
            "(2, [32368, 32369])\n",
            "(4, [32430, 32431, 32432, 32433])\n",
            "(9, [32626, 32627, 32628, 32629, 32630, 32631, 32632, 32633, 32634])\n",
            "(4, [32818, 32819, 32820, 32821])\n",
            "(12, [32887, 32888, 32889, 32890, 32891, 32892, 32893, 32894, 32895, 32896, 32897, 32898])\n",
            "(2, [32911, 32912])\n",
            "(5, [32990, 32991, 32992, 32993, 32994])\n",
            "(4, [33031, 33032, 33033, 33034])\n",
            "(5, [33038, 33039, 33040, 33041, 33042])\n",
            "(4, [33055, 33056, 33057, 33058])\n",
            "(2, [33109, 33110])\n",
            "(3, [33152, 33153, 33154])\n",
            "(8, [33299, 33300, 33301, 33302, 33303, 33304, 33305, 33306])\n",
            "(3, [33319, 33320, 33321])\n",
            "(5, [33326, 33327, 33328, 33329, 33330])\n",
            "(2, [33514, 33515])\n",
            "(3, [33535, 33536, 33537])\n",
            "(2, [33542, 33543])\n",
            "(141, [36254, 36255, 36256, 36257, 36258, 36259, 36260, 36261, 36262, 36263, 36264, 36265, 36266, 36267, 36268, 36269, 36270, 36271, 36272, 36273, 36274, 36275, 36276, 36277, 36278, 36279, 36280, 36281, 36282, 36283, 36284, 36285, 36286, 36287, 36288, 36289, 36290, 36291, 36292, 36293, 36294, 36295, 36296, 36297, 36298, 36299, 36300, 36301, 36302, 36303, 36304, 36305, 36306, 36307, 36308, 36309, 36310, 36311, 36312, 36313, 36314, 36315, 36316, 36317, 36318, 36319, 36320, 36321, 36322, 36323, 36324, 36325, 36326, 36327, 36328, 36329, 36330, 36331, 36332, 36333, 36334, 36335, 36336, 36337, 36338, 36339, 36340, 36341, 36342, 36343, 36344, 36345, 36346, 36347, 36348, 36349, 36350, 36351, 36352, 36353, 36354, 36355, 36356, 36357, 36358, 36359, 36360, 36361, 36362, 36363, 36364, 36365, 36366, 36367, 36368, 36369, 36370, 36371, 36372, 36373, 36374, 36375, 36376, 36377, 36378, 36379, 36380, 36381, 36382, 36383, 36384, 36385, 36386, 36387, 36388, 36389, 36390, 36391, 36392, 36393, 36394])\n",
            "(1, [36759])\n",
            "(3, [38193, 38194, 38195])\n",
            "(1, [38197])\n",
            "(2, [38340, 38341])\n",
            "(923, [38449, 38450, 38451, 38452, 38453, 38454, 38455, 38456, 38457, 38458, 38459, 38460, 38461, 38462, 38463, 38464, 38465, 38466, 38467, 38468, 38469, 38470, 38471, 38472, 38473, 38474, 38475, 38476, 38477, 38478, 38479, 38480, 38481, 38482, 38483, 38484, 38485, 38486, 38487, 38488, 38489, 38490, 38491, 38492, 38493, 38494, 38495, 38496, 38497, 38498, 38499, 38500, 38501, 38502, 38503, 38504, 38505, 38506, 38507, 38508, 38509, 38510, 38511, 38512, 38513, 38514, 38515, 38516, 38517, 38518, 38519, 38520, 38521, 38522, 38523, 38524, 38525, 38526, 38527, 38528, 38529, 38530, 38531, 38532, 38533, 38534, 38535, 38536, 38537, 38538, 38539, 38540, 38541, 38542, 38543, 38544, 38545, 38546, 38547, 38548, 38549, 38550, 38551, 38552, 38553, 38554, 38555, 38556, 38557, 38558, 38559, 38560, 38561, 38562, 38563, 38564, 38565, 38566, 38567, 38568, 38569, 38570, 38571, 38572, 38573, 38574, 38575, 38576, 38577, 38578, 38579, 38580, 38581, 38582, 38583, 38584, 38585, 38586, 38587, 38588, 38589, 38590, 38591, 38592, 38593, 38594, 38595, 38596, 38597, 38598, 38599, 38600, 38601, 38602, 38603, 38604, 38605, 38606, 38607, 38608, 38609, 38610, 38611, 38612, 38613, 38614, 38615, 38616, 38617, 38618, 38619, 38620, 38621, 38622, 38623, 38624, 38625, 38626, 38627, 38628, 38629, 38630, 38631, 38632, 38633, 38634, 38635, 38636, 38637, 38638, 38639, 38640, 38641, 38642, 38643, 38644, 38645, 38646, 38647, 38648, 38649, 38650, 38651, 38652, 38653, 38654, 38655, 38656, 38657, 38658, 38659, 38660, 38661, 38662, 38663, 38664, 38665, 38666, 38667, 38668, 38669, 38670, 38671, 38672, 38673, 38674, 38675, 38676, 38677, 38678, 38679, 38680, 38681, 38682, 38683, 38684, 38685, 38686, 38687, 38688, 38689, 38690, 38691, 38692, 38693, 38694, 38695, 38696, 38697, 38698, 38699, 38700, 38701, 38702, 38703, 38704, 38705, 38706, 38707, 38708, 38709, 38710, 38711, 38712, 38713, 38714, 38715, 38716, 38717, 38718, 38719, 38720, 38721, 38722, 38723, 38724, 38725, 38726, 38727, 38728, 38729, 38730, 38731, 38732, 38733, 38734, 38735, 38736, 38737, 38738, 38739, 38740, 38741, 38742, 38743, 38744, 38745, 38746, 38747, 38748, 38749, 38750, 38751, 38752, 38753, 38754, 38755, 38756, 38757, 38758, 38759, 38760, 38761, 38762, 38763, 38764, 38765, 38766, 38767, 38768, 38769, 38770, 38771, 38772, 38773, 38774, 38775, 38776, 38777, 38778, 38779, 38780, 38781, 38782, 38783, 38784, 38785, 38786, 38787, 38788, 38789, 38790, 38791, 38792, 38793, 38794, 38795, 38796, 38797, 38798, 38799, 38800, 38801, 38802, 38803, 38804, 38805, 38806, 38807, 38808, 38809, 38810, 38811, 38812, 38813, 38814, 38815, 38816, 38817, 38818, 38819, 38820, 38821, 38822, 38823, 38824, 38825, 38826, 38827, 38828, 38829, 38830, 38831, 38832, 38833, 38834, 38835, 38836, 38837, 38838, 38839, 38840, 38841, 38842, 38843, 38844, 38845, 38846, 38847, 38848, 38849, 38850, 38851, 38852, 38853, 38854, 38855, 38856, 38857, 38858, 38859, 38860, 38861, 38862, 38863, 38864, 38865, 38866, 38867, 38868, 38869, 38870, 38871, 38872, 38873, 38874, 38875, 38876, 38877, 38878, 38879, 38880, 38881, 38882, 38883, 38884, 38885, 38886, 38887, 38888, 38889, 38890, 38891, 38892, 38893, 38894, 38895, 38896, 38897, 38898, 38899, 38900, 38901, 38902, 38903, 38904, 38905, 38906, 38907, 38908, 38909, 38910, 38911, 38912, 38913, 38914, 38915, 38916, 38917, 38918, 38919, 38920, 38921, 38922, 38923, 38924, 38925, 38926, 38927, 38928, 38929, 38930, 38931, 38932, 38933, 38934, 38935, 38936, 38937, 38938, 38939, 38940, 38941, 38942, 38943, 38944, 38945, 38946, 38947, 38948, 38949, 38950, 38951, 38952, 38953, 38954, 38955, 38956, 38957, 38958, 38959, 38960, 38961, 38962, 38963, 38964, 38965, 38966, 38967, 38968, 38969, 38970, 38971, 38972, 38973, 38974, 38975, 38976, 38977, 38978, 38979, 38980, 38981, 38982, 38983, 38984, 38985, 38986, 38987, 38988, 38989, 38990, 38991, 38992, 38993, 38994, 38995, 38996, 38997, 38998, 38999, 39000, 39001, 39002, 39003, 39004, 39005, 39006, 39007, 39008, 39009, 39010, 39011, 39012, 39013, 39014, 39015, 39016, 39017, 39018, 39019, 39020, 39021, 39022, 39023, 39024, 39025, 39026, 39027, 39028, 39029, 39030, 39031, 39032, 39033, 39034, 39035, 39036, 39037, 39038, 39039, 39040, 39041, 39042, 39043, 39044, 39045, 39046, 39047, 39048, 39049, 39050, 39051, 39052, 39053, 39054, 39055, 39056, 39057, 39058, 39059, 39060, 39061, 39062, 39063, 39064, 39065, 39066, 39067, 39068, 39069, 39070, 39071, 39072, 39073, 39074, 39075, 39076, 39077, 39078, 39079, 39080, 39081, 39082, 39083, 39084, 39085, 39086, 39087, 39088, 39089, 39090, 39091, 39092, 39093, 39094, 39095, 39096, 39097, 39098, 39099, 39100, 39101, 39102, 39103, 39104, 39105, 39106, 39107, 39108, 39109, 39110, 39111, 39112, 39113, 39114, 39115, 39116, 39117, 39118, 39119, 39120, 39121, 39122, 39123, 39124, 39125, 39126, 39127, 39128, 39129, 39130, 39131, 39132, 39133, 39134, 39135, 39136, 39137, 39138, 39139, 39140, 39141, 39142, 39143, 39144, 39145, 39146, 39147, 39148, 39149, 39150, 39151, 39152, 39153, 39154, 39155, 39156, 39157, 39158, 39159, 39160, 39161, 39162, 39163, 39164, 39165, 39166, 39167, 39168, 39169, 39170, 39171, 39172, 39173, 39174, 39175, 39176, 39177, 39178, 39179, 39180, 39181, 39182, 39183, 39184, 39185, 39186, 39187, 39188, 39189, 39190, 39191, 39192, 39193, 39194, 39195, 39196, 39197, 39198, 39199, 39200, 39201, 39202, 39203, 39204, 39205, 39206, 39207, 39208, 39209, 39210, 39211, 39212, 39213, 39214, 39215, 39216, 39217, 39218, 39219, 39220, 39221, 39222, 39223, 39224, 39225, 39226, 39227, 39228, 39229, 39230, 39231, 39232, 39233, 39234, 39235, 39236, 39237, 39238, 39239, 39240, 39241, 39242, 39243, 39244, 39245, 39246, 39247, 39248, 39249, 39250, 39251, 39252, 39253, 39254, 39255, 39256, 39257, 39258, 39259, 39260, 39261, 39262, 39263, 39264, 39265, 39266, 39267, 39268, 39269, 39270, 39271, 39272, 39273, 39274, 39275, 39276, 39277, 39278, 39279, 39280, 39281, 39282, 39283, 39284, 39285, 39286, 39287, 39288, 39289, 39290, 39291, 39292, 39293, 39294, 39295, 39296, 39297, 39298, 39299, 39300, 39301, 39302, 39303, 39304, 39305, 39306, 39307, 39308, 39309, 39310, 39311, 39312, 39313, 39314, 39315, 39316, 39317, 39318, 39319, 39320, 39321, 39322, 39323, 39324, 39325, 39326, 39327, 39328, 39329, 39330, 39331, 39332, 39333, 39334, 39335, 39336, 39337, 39338, 39339, 39340, 39341, 39342, 39343, 39344, 39345, 39346, 39347, 39348, 39349, 39350, 39351, 39352, 39353, 39354, 39355, 39356, 39357, 39358, 39359, 39360, 39361, 39362, 39363, 39364, 39365, 39366, 39367, 39368, 39369, 39370, 39371])\n",
            "(6, [44792, 44793, 44794, 44795, 44796, 44797])\n",
            "(2, [44829, 44830])\n",
            "(2, [45612, 45613])\n",
            "(2, [45635, 45636])\n",
            "(19, [48495, 48496, 48497, 48498, 48499, 48500, 48501, 48502, 48503, 48504, 48505, 48506, 48507, 48508, 48509, 48510, 48511, 48512, 48513])\n",
            "(137, [49304, 49305, 49306, 49307, 49308, 49309, 49310, 49311, 49312, 49313, 49314, 49315, 49316, 49317, 49318, 49319, 49320, 49321, 49322, 49323, 49324, 49325, 49326, 49327, 49328, 49329, 49330, 49331, 49332, 49333, 49334, 49335, 49336, 49337, 49338, 49339, 49340, 49341, 49342, 49343, 49344, 49345, 49346, 49347, 49348, 49349, 49350, 49351, 49352, 49353, 49354, 49355, 49356, 49357, 49358, 49359, 49360, 49361, 49362, 49363, 49364, 49365, 49366, 49367, 49368, 49369, 49370, 49371, 49372, 49373, 49374, 49375, 49376, 49377, 49378, 49379, 49380, 49381, 49382, 49383, 49384, 49385, 49386, 49387, 49388, 49389, 49390, 49391, 49392, 49393, 49394, 49395, 49396, 49397, 49398, 49399, 49400, 49401, 49402, 49403, 49404, 49405, 49406, 49407, 49408, 49409, 49410, 49411, 49412, 49413, 49414, 49415, 49416, 49417, 49418, 49419, 49420, 49421, 49422, 49423, 49424, 49425, 49426, 49427, 49428, 49429, 49430, 49431, 49432, 49433, 49434, 49435, 49436, 49437, 49438, 49439, 49440])\n",
            "(5, [50550, 50551, 50552, 50553, 50554])\n",
            "(5, [50574, 50575, 50576, 50577, 50578])\n",
            "(2, [50584, 50585])\n",
            "(5, [50598, 50599, 50600, 50601, 50602])\n",
            "(4, [50606, 50607, 50608, 50609])\n",
            "(5, [50622, 50623, 50624, 50625, 50626])\n",
            "(2, [50632, 50633])\n",
            "(5, [50646, 50647, 50648, 50649, 50650])\n",
            "(3, [50655, 50656, 50657])\n",
            "(76, [50862, 50863, 50864, 50865, 50866, 50867, 50868, 50869, 50870, 50871, 50872, 50873, 50874, 50875, 50876, 50877, 50878, 50879, 50880, 50881, 50882, 50883, 50884, 50885, 50886, 50887, 50888, 50889, 50890, 50891, 50892, 50893, 50894, 50895, 50896, 50897, 50898, 50899, 50900, 50901, 50902, 50903, 50904, 50905, 50906, 50907, 50908, 50909, 50910, 50911, 50912, 50913, 50914, 50915, 50916, 50917, 50918, 50919, 50920, 50921, 50922, 50923, 50924, 50925, 50926, 50927, 50928, 50929, 50930, 50931, 50932, 50933, 50934, 50935, 50936, 50937])\n"
          ]
        }
      ],
      "source": [
        "# create a series of tuples\n",
        "no_sun_segments = []\n",
        "for k, g in groupby(enumerate(no_sun_ind), lambda ix : ix[0] - ix[1]):\n",
        "  # print(\"Values:\")\n",
        "  series = list(map(itemgetter(1), g))\n",
        "  # print(series)\n",
        "  # print(f\"Number of values: {len(list(map(itemgetter(1), g)))}\")\n",
        "  no_sun_segments.append((len(series), series))\n",
        "\n",
        "print(*no_sun_segments, sep='\\n')"
      ]
    },
    {
      "cell_type": "markdown",
      "metadata": {
        "id": "0829a8-qHzpO"
      },
      "source": [
        "The goal of this project is to compare monthy averages between Berlin and Washington, DC. So it's not very necesary to fill these large segments of missing data. As shown below, all months have atleast 80% of total possible data available. \n",
        "\n",
        "Smaller segments of missing data (1 or 2 consecutive hours) will be replaced by averaging the preceding and following readings. This accounts for 5.86% of the missing data."
      ]
    },
    {
      "cell_type": "code",
      "execution_count": 212,
      "metadata": {
        "colab": {
          "base_uri": "https://localhost:8080/"
        },
        "id": "NOARVSvv47Oc",
        "outputId": "853a6609-e485-448d-b9ce-439d0f7cb514"
      },
      "outputs": [
        {
          "output_type": "stream",
          "name": "stdout",
          "text": [
            "month: 1\n",
            "Num of values: 4460\n",
            "% of data available: 99.9\n",
            "\n",
            "month: 2\n",
            "Num of values: 3864\n",
            "% of data available: 95.8\n",
            "\n",
            "month: 3\n",
            "Num of values: 4453\n",
            "% of data available: 99.8\n",
            "\n",
            "month: 4\n",
            "Num of values: 4223\n",
            "% of data available: 97.8\n",
            "\n",
            "month: 5\n",
            "Num of values: 4147\n",
            "% of data available: 92.9\n",
            "\n",
            "month: 6\n",
            "Num of values: 3456\n",
            "% of data available: 80.0\n",
            "\n",
            "month: 7\n",
            "Num of values: 4183\n",
            "% of data available: 93.7\n",
            "\n",
            "month: 8\n",
            "Num of values: 4187\n",
            "% of data available: 93.8\n",
            "\n",
            "month: 9\n",
            "Num of values: 4273\n",
            "% of data available: 98.9\n",
            "\n",
            "month: 10\n",
            "Num of values: 4268\n",
            "% of data available: 95.6\n",
            "\n",
            "month: 11\n",
            "Num of values: 4304\n",
            "% of data available: 99.6\n",
            "\n",
            "month: 12\n",
            "Num of values: 4403\n",
            "% of data available: 98.6\n",
            "\n"
          ]
        }
      ],
      "source": [
        "# dict of months with their total hours as values\n",
        "month_hours = {1: 4464, 2: 4032, 3: 4464, 4: 4320, 5: 4464, 6: 4320, 7: 4464, 8: 4464, 9: 4320, 10: 4464, 11: 4320, 12:4464}\n",
        "\n",
        "for month in range(1, 13):\n",
        "  print(\"month:\", month)\n",
        "  vals_count = len(df[df['datetime'].dt.month == month].dropna())\n",
        "  print(\"Num of values:\", vals_count)\n",
        "  print(\"% of data available:\", round((vals_count / month_hours[month] * 100), 1))\n",
        "  print(\"\")"
      ]
    },
    {
      "cell_type": "code",
      "execution_count": 213,
      "metadata": {
        "colab": {
          "base_uri": "https://localhost:8080/"
        },
        "id": "ORrcGMjznFAs",
        "outputId": "01c2c74e-b763-41b7-b891-24f3c8c8e838"
      },
      "outputs": [
        {
          "output_type": "stream",
          "name": "stdout",
          "text": [
            "Total rows from single or double missing segments: 137\n",
            "Percent of missing rows made up of single or double segments: 5.86\n"
          ]
        }
      ],
      "source": [
        "ones_and_twos_count = 0\n",
        "for segment in no_sun_segments:\n",
        "  if segment[0] == 1:\n",
        "    ones_and_twos_count += 1\n",
        "  elif segment[0] == 2:\n",
        "    ones_and_twos_count += 2\n",
        "print(\"Total rows from single or double missing segments:\", ones_and_twos_count)\n",
        "print(\"Percent of missing rows made up of single or double segments:\", \n",
        "      round((ones_and_twos_count / len(no_sun_ind) * 100), 2))"
      ]
    },
    {
      "cell_type": "markdown",
      "metadata": {
        "id": "6kVcjSCLZTBx"
      },
      "source": [
        "#### Filling single and double missing segments in `sunduration`\n",
        "\n",
        "Occurances of just one or two consecutive missing readings will be filled with the average of the preceading and following readings."
      ]
    },
    {
      "cell_type": "code",
      "execution_count": 214,
      "metadata": {
        "id": "952rpmeVaGjN"
      },
      "outputs": [],
      "source": [
        "for segment in no_sun_segments:\n",
        "  if segment[0] == 1:\n",
        "    preceding = df.loc[segment[1][0] - 1, 'sunduration_BER']\n",
        "    following = df.loc[segment[1][0] + 1, 'sunduration_BER']\n",
        "    df.loc[segment[1], 'sunduration_BER'] = (preceding + following) * 0.5\n",
        "  elif segment[0] == 2:\n",
        "    preceding = df.loc[segment[1][0] - 1, 'sunduration_BER']\n",
        "    following = df.loc[segment[1][1] + 1, 'sunduration_BER']\n",
        "    df.loc[segment[1][0], 'sunduration_BER'] = (preceding + following) * 0.5\n",
        "    df.loc[segment[1][1], 'sunduration_BER'] = (preceding + following) * 0.5"
      ]
    },
    {
      "cell_type": "markdown",
      "source": [
        "### Prepping `df_dcsun` and `df_bersun`\n",
        "\n",
        "These two dataframes need to be standardized in order to be used. "
      ],
      "metadata": {
        "id": "exhMeTGNV-Ct"
      }
    },
    {
      "cell_type": "code",
      "source": [
        "df_bersun.head(), df_dcsun.head()"
      ],
      "metadata": {
        "colab": {
          "base_uri": "https://localhost:8080/"
        },
        "id": "fpBkSkaGW-Sz",
        "outputId": "3632a571-e786-45b0-e14a-16b8ca91e8e2"
      },
      "execution_count": 215,
      "outputs": [
        {
          "output_type": "execute_result",
          "data": {
            "text/plain": [
              "(    datetime sunrise_BER  sunset_BER daylength_BER\n",
              " 0 2016-01-01  8:16:40 AM  4:02:43 PM     7h 46m 3s\n",
              " 1 2016-01-02  8:16:31 AM  4:03:49 PM    7h 47m 18s\n",
              " 2 2016-01-03  8:16:18 AM  4:04:57 PM    7h 48m 39s\n",
              " 3 2016-01-04  8:16:01 AM  4:06:08 PM     7h 50m 7s\n",
              " 4 2016-01-05  8:15:41 AM  4:07:22 PM    7h 51m 41s,\n",
              "     datetime  sunrise_DC  sunset_DC\n",
              " 0 2016-01-01       727.0     1657.0\n",
              " 1 2016-01-02       727.0     1658.0\n",
              " 2 2016-01-03       727.0     1659.0\n",
              " 3 2016-01-04       727.0     1700.0\n",
              " 4 2016-01-05       727.0     1700.0)"
            ]
          },
          "metadata": {},
          "execution_count": 215
        }
      ]
    },
    {
      "cell_type": "code",
      "source": [
        "df_bersun['sunrise_BER'] = pd.to_datetime(df_bersun['sunrise_BER'], format='%I:%M:%S %p').dt.time\n",
        "df_bersun['sunset_BER'] = pd.to_datetime(df_bersun['sunset_BER'], format='%I:%M:%S %p').dt.time\n",
        "\n",
        "df_dcsun['sunrise_DC'] = pd.to_datetime(df_dcsun['sunrise_DC'], format='%H%M').dt.time\n",
        "df_dcsun['sunset_DC'] = pd.to_datetime(df_dcsun['sunset_DC'], format='%H%M').dt.time"
      ],
      "metadata": {
        "id": "JNO-Vh7jdqht"
      },
      "execution_count": 216,
      "outputs": []
    },
    {
      "cell_type": "code",
      "source": [
        "df_bersun.head(), df_dcsun.head()"
      ],
      "metadata": {
        "colab": {
          "base_uri": "https://localhost:8080/"
        },
        "id": "97pwPT7ai2WY",
        "outputId": "b0ee58b5-0992-45d4-bae7-ae1aa3d6d742"
      },
      "execution_count": 217,
      "outputs": [
        {
          "output_type": "execute_result",
          "data": {
            "text/plain": [
              "(    datetime sunrise_BER sunset_BER daylength_BER\n",
              " 0 2016-01-01    08:16:40   16:02:43     7h 46m 3s\n",
              " 1 2016-01-02    08:16:31   16:03:49    7h 47m 18s\n",
              " 2 2016-01-03    08:16:18   16:04:57    7h 48m 39s\n",
              " 3 2016-01-04    08:16:01   16:06:08     7h 50m 7s\n",
              " 4 2016-01-05    08:15:41   16:07:22    7h 51m 41s,\n",
              "     datetime sunrise_DC sunset_DC\n",
              " 0 2016-01-01   07:27:00  16:57:00\n",
              " 1 2016-01-02   07:27:00  16:58:00\n",
              " 2 2016-01-03   07:27:00  16:59:00\n",
              " 3 2016-01-04   07:27:00  17:00:00\n",
              " 4 2016-01-05   07:27:00  17:00:00)"
            ]
          },
          "metadata": {},
          "execution_count": 217
        }
      ]
    },
    {
      "cell_type": "markdown",
      "metadata": {
        "id": "ksFLqOrZorpu"
      },
      "source": [
        "### Filtering `cloudcover_DC` while DC sun is down\n",
        "\n",
        "The goal of this project is to compare overcast between the two cities, therefore, `cloudcover_dc` will need to be manipulated to account for when the sun was actually shinning. This will make comparing `sunduration_BER` and `cloudcover_DC` possible. The following changes will be made:\n",
        "\n",
        "-  sunrise and sunset data will be use to set `cloudcover` to 0 when the sun is down\n",
        "- during hours where the sun rose and set, `cloudcover_dc` will be multiplied by ratio of minutes that the sun was up to the total minutes in an hour\n",
        "  - for example:\n",
        "    - on 2016-01-01, the sun rose at 7:27 and set at 16:57 in DC\n",
        "    - during 2016-01-01 07:00:00, `cloudcover_DC` is 96.6% and during 2016-01-01 16:00:00 it is 89.1%\n",
        "    - these 96.6% and 89.1% `cloudcover_dc` values will become 53.13% and 84.645%\n",
        "  - this "
      ]
    },
    {
      "cell_type": "code",
      "execution_count": 218,
      "metadata": {
        "colab": {
          "base_uri": "https://localhost:8080/",
          "height": 655
        },
        "id": "Zx-rZg5srFCq",
        "outputId": "77dcf6b4-4332-48f4-de21-47a4eca237cf"
      },
      "outputs": [
        {
          "output_type": "execute_result",
          "data": {
            "text/plain": [
              "                 datetime  sunduration_BER  cloudcover_DC\n",
              "0     2016-01-01 00:00:00              0.0           99.8\n",
              "1     2016-01-01 01:00:00              0.0          100.0\n",
              "2     2016-01-01 02:00:00              0.0           88.9\n",
              "3     2016-01-01 03:00:00              0.0           79.3\n",
              "4     2016-01-01 04:00:00              0.0           79.3\n",
              "...                   ...              ...            ...\n",
              "44539 2021-01-31 19:00:00              0.0          100.0\n",
              "44540 2021-01-31 20:00:00              0.0          100.0\n",
              "44541 2021-01-31 21:00:00              0.0          100.0\n",
              "44542 2021-01-31 22:00:00              0.0          100.0\n",
              "44543 2021-01-31 23:00:00              0.0          100.0\n",
              "\n",
              "[4464 rows x 3 columns]"
            ],
            "text/html": [
              "\n",
              "  <div id=\"df-8a6500ed-0397-444f-a69b-4cbb69ab36dc\">\n",
              "    <div class=\"colab-df-container\">\n",
              "      <div>\n",
              "<style scoped>\n",
              "    .dataframe tbody tr th:only-of-type {\n",
              "        vertical-align: middle;\n",
              "    }\n",
              "\n",
              "    .dataframe tbody tr th {\n",
              "        vertical-align: top;\n",
              "    }\n",
              "\n",
              "    .dataframe thead th {\n",
              "        text-align: right;\n",
              "    }\n",
              "</style>\n",
              "<table border=\"1\" class=\"dataframe\">\n",
              "  <thead>\n",
              "    <tr style=\"text-align: right;\">\n",
              "      <th></th>\n",
              "      <th>datetime</th>\n",
              "      <th>sunduration_BER</th>\n",
              "      <th>cloudcover_DC</th>\n",
              "    </tr>\n",
              "  </thead>\n",
              "  <tbody>\n",
              "    <tr>\n",
              "      <th>0</th>\n",
              "      <td>2016-01-01 00:00:00</td>\n",
              "      <td>0.0</td>\n",
              "      <td>99.8</td>\n",
              "    </tr>\n",
              "    <tr>\n",
              "      <th>1</th>\n",
              "      <td>2016-01-01 01:00:00</td>\n",
              "      <td>0.0</td>\n",
              "      <td>100.0</td>\n",
              "    </tr>\n",
              "    <tr>\n",
              "      <th>2</th>\n",
              "      <td>2016-01-01 02:00:00</td>\n",
              "      <td>0.0</td>\n",
              "      <td>88.9</td>\n",
              "    </tr>\n",
              "    <tr>\n",
              "      <th>3</th>\n",
              "      <td>2016-01-01 03:00:00</td>\n",
              "      <td>0.0</td>\n",
              "      <td>79.3</td>\n",
              "    </tr>\n",
              "    <tr>\n",
              "      <th>4</th>\n",
              "      <td>2016-01-01 04:00:00</td>\n",
              "      <td>0.0</td>\n",
              "      <td>79.3</td>\n",
              "    </tr>\n",
              "    <tr>\n",
              "      <th>...</th>\n",
              "      <td>...</td>\n",
              "      <td>...</td>\n",
              "      <td>...</td>\n",
              "    </tr>\n",
              "    <tr>\n",
              "      <th>44539</th>\n",
              "      <td>2021-01-31 19:00:00</td>\n",
              "      <td>0.0</td>\n",
              "      <td>100.0</td>\n",
              "    </tr>\n",
              "    <tr>\n",
              "      <th>44540</th>\n",
              "      <td>2021-01-31 20:00:00</td>\n",
              "      <td>0.0</td>\n",
              "      <td>100.0</td>\n",
              "    </tr>\n",
              "    <tr>\n",
              "      <th>44541</th>\n",
              "      <td>2021-01-31 21:00:00</td>\n",
              "      <td>0.0</td>\n",
              "      <td>100.0</td>\n",
              "    </tr>\n",
              "    <tr>\n",
              "      <th>44542</th>\n",
              "      <td>2021-01-31 22:00:00</td>\n",
              "      <td>0.0</td>\n",
              "      <td>100.0</td>\n",
              "    </tr>\n",
              "    <tr>\n",
              "      <th>44543</th>\n",
              "      <td>2021-01-31 23:00:00</td>\n",
              "      <td>0.0</td>\n",
              "      <td>100.0</td>\n",
              "    </tr>\n",
              "  </tbody>\n",
              "</table>\n",
              "<p>4464 rows × 3 columns</p>\n",
              "</div>\n",
              "      <button class=\"colab-df-convert\" onclick=\"convertToInteractive('df-8a6500ed-0397-444f-a69b-4cbb69ab36dc')\"\n",
              "              title=\"Convert this dataframe to an interactive table.\"\n",
              "              style=\"display:none;\">\n",
              "        \n",
              "  <svg xmlns=\"http://www.w3.org/2000/svg\" height=\"24px\"viewBox=\"0 0 24 24\"\n",
              "       width=\"24px\">\n",
              "    <path d=\"M0 0h24v24H0V0z\" fill=\"none\"/>\n",
              "    <path d=\"M18.56 5.44l.94 2.06.94-2.06 2.06-.94-2.06-.94-.94-2.06-.94 2.06-2.06.94zm-11 1L8.5 8.5l.94-2.06 2.06-.94-2.06-.94L8.5 2.5l-.94 2.06-2.06.94zm10 10l.94 2.06.94-2.06 2.06-.94-2.06-.94-.94-2.06-.94 2.06-2.06.94z\"/><path d=\"M17.41 7.96l-1.37-1.37c-.4-.4-.92-.59-1.43-.59-.52 0-1.04.2-1.43.59L10.3 9.45l-7.72 7.72c-.78.78-.78 2.05 0 2.83L4 21.41c.39.39.9.59 1.41.59.51 0 1.02-.2 1.41-.59l7.78-7.78 2.81-2.81c.8-.78.8-2.07 0-2.86zM5.41 20L4 18.59l7.72-7.72 1.47 1.35L5.41 20z\"/>\n",
              "  </svg>\n",
              "      </button>\n",
              "      \n",
              "  <style>\n",
              "    .colab-df-container {\n",
              "      display:flex;\n",
              "      flex-wrap:wrap;\n",
              "      gap: 12px;\n",
              "    }\n",
              "\n",
              "    .colab-df-convert {\n",
              "      background-color: #E8F0FE;\n",
              "      border: none;\n",
              "      border-radius: 50%;\n",
              "      cursor: pointer;\n",
              "      display: none;\n",
              "      fill: #1967D2;\n",
              "      height: 32px;\n",
              "      padding: 0 0 0 0;\n",
              "      width: 32px;\n",
              "    }\n",
              "\n",
              "    .colab-df-convert:hover {\n",
              "      background-color: #E2EBFA;\n",
              "      box-shadow: 0px 1px 2px rgba(60, 64, 67, 0.3), 0px 1px 3px 1px rgba(60, 64, 67, 0.15);\n",
              "      fill: #174EA6;\n",
              "    }\n",
              "\n",
              "    [theme=dark] .colab-df-convert {\n",
              "      background-color: #3B4455;\n",
              "      fill: #D2E3FC;\n",
              "    }\n",
              "\n",
              "    [theme=dark] .colab-df-convert:hover {\n",
              "      background-color: #434B5C;\n",
              "      box-shadow: 0px 1px 3px 1px rgba(0, 0, 0, 0.15);\n",
              "      filter: drop-shadow(0px 1px 2px rgba(0, 0, 0, 0.3));\n",
              "      fill: #FFFFFF;\n",
              "    }\n",
              "  </style>\n",
              "\n",
              "      <script>\n",
              "        const buttonEl =\n",
              "          document.querySelector('#df-8a6500ed-0397-444f-a69b-4cbb69ab36dc button.colab-df-convert');\n",
              "        buttonEl.style.display =\n",
              "          google.colab.kernel.accessAllowed ? 'block' : 'none';\n",
              "\n",
              "        async function convertToInteractive(key) {\n",
              "          const element = document.querySelector('#df-8a6500ed-0397-444f-a69b-4cbb69ab36dc');\n",
              "          const dataTable =\n",
              "            await google.colab.kernel.invokeFunction('convertToInteractive',\n",
              "                                                     [key], {});\n",
              "          if (!dataTable) return;\n",
              "\n",
              "          const docLinkHtml = 'Like what you see? Visit the ' +\n",
              "            '<a target=\"_blank\" href=https://colab.research.google.com/notebooks/data_table.ipynb>data table notebook</a>'\n",
              "            + ' to learn more about interactive tables.';\n",
              "          element.innerHTML = '';\n",
              "          dataTable['output_type'] = 'display_data';\n",
              "          await google.colab.output.renderOutput(dataTable, element);\n",
              "          const docLink = document.createElement('div');\n",
              "          docLink.innerHTML = docLinkHtml;\n",
              "          element.appendChild(docLink);\n",
              "        }\n",
              "      </script>\n",
              "    </div>\n",
              "  </div>\n",
              "  "
            ]
          },
          "metadata": {},
          "execution_count": 218
        }
      ],
      "source": [
        "df[df['datetime'].dt.month == 1]"
      ]
    },
    {
      "cell_type": "code",
      "source": [
        "def sun_up_check(row, city):\n",
        "  if city == 'DC':\n",
        "    # print(row)\n",
        "    # print(row['datetime'].date())\n",
        "    # print('')\n",
        "    # print(row['datetime'].time())\n",
        "    # print(f\"hour: {row['datetime'].hour}\")\n",
        "    sunrise = df_dcsun.loc[df_dcsun['datetime'] == str(row['datetime'].date()), 'sunrise_DC'].values[0]\n",
        "    sunset = df_dcsun.loc[df_dcsun['datetime'] == str(row['datetime'].date()), 'sunset_DC'].values[0]\n",
        "    # print(f\"sunrise: {sunrise}\")\n",
        "    # print(f\"sunset: {sunset}\")\n",
        "    # print(f\"sunrise hour: {sunrise.hour}\")\n",
        "    # print(f\"sunset hour: {sunset.hour}\")\n",
        "    # print(f\"cloudcover: {row['cloudcover_DC']}\")\n",
        "    if row['datetime'].hour == sunrise.hour:\n",
        "      # print(\"Sun is coming up.\")\n",
        "      min_sun = 60 - sunrise.minute\n",
        "      # print(f\" new cloudcover: {row['cloudcover_DC'] * (min_sun / 60.0)}\")\n",
        "      return row['cloudcover_DC'] * (min_sun / 60.0)\n",
        "    elif row['datetime'].hour == sunset.hour:\n",
        "      # print(\"Sun is coming down.\")\n",
        "      min_sun = sunset.minute\n",
        "      # print(f\"new cloudcover: {row['cloudcover_DC'] * (min_sun / 60.0)}\")\n",
        "      return row['cloudcover_DC'] * (min_sun / 60.0)\n",
        "    elif (row['datetime'].hour < sunrise.hour + 1) or (row['datetime'].hour > sunset.hour - 1):\n",
        "      # print(\"Sun is down.\")\n",
        "      return 0\n",
        "    else:\n",
        "      # print(\"sun is up.\")\n",
        "      # print(f\"new cloudcover: {row['cloudcover_DC']}\")\n",
        "      return row['cloudcover_DC']\n",
        "\n",
        "  \n",
        "  # elif city == 'BER':\n",
        "  #   # print(row)\n",
        "  #   # print(row['datetime'].date())\n",
        "  #   # print('')\n",
        "  #   # print(row['datetime'].time())\n",
        "  #   print(f\"hour: {row['datetime'].hour}\")\n",
        "  #   sunrise = df_bersun.loc[df_bersun['datetime'] == str(row['datetime'].date()), 'sunrise_BER'].values[0]\n",
        "  #   sunset = df_bersun.loc[df_bersun['datetime'] == str(row['datetime'].date()), 'sunset_BER'].values[0]\n",
        "  #   print(f\"sunrise: {sunrise}\")\n",
        "  #   print(f\"sunset: {sunset}\")\n",
        "  #   print(f\"sunrise hour: {sunrise.hour}\")\n",
        "  #   print(f\"sunset hour: {sunset.hour}\")\n",
        "  #   if (sunrise.hour < row['datetime'].hour) or (row['datetime'].hour > sunset.hour):\n",
        "  #     return 0\n",
        "  #   else:\n",
        "  #     return row['sunduration_BER']\n",
        "  else:\n",
        "    raise Exception(\"city argument is invlaid.\")\n",
        "\n",
        "# for i in range(0,24):\n",
        "#   print(sun_up_check(df.loc[i], 'DC'))"
      ],
      "metadata": {
        "id": "Oh53kIG9JZ84"
      },
      "execution_count": 273,
      "outputs": []
    },
    {
      "cell_type": "code",
      "source": [
        "df['cloudcover_DC'] = df.apply(sun_up_check, args = ['DC'], axis=1)"
      ],
      "metadata": {
        "id": "a8YgAffdHnzu"
      },
      "execution_count": 277,
      "outputs": []
    },
    {
      "cell_type": "code",
      "source": [
        "df"
      ],
      "metadata": {
        "colab": {
          "base_uri": "https://localhost:8080/",
          "height": 708
        },
        "id": "A6O00L7rT_p9",
        "outputId": "e6e23f8e-149b-4113-ba66-8b4ba7835060"
      },
      "execution_count": 278,
      "outputs": [
        {
          "output_type": "execute_result",
          "data": {
            "text/plain": [
              "                 datetime  sunduration_BER  cloudcover_DC\n",
              "0     2016-01-01 00:00:00              0.0            0.0\n",
              "1     2016-01-01 01:00:00              0.0            0.0\n",
              "2     2016-01-01 02:00:00              0.0            0.0\n",
              "3     2016-01-01 03:00:00              0.0            0.0\n",
              "4     2016-01-01 04:00:00              0.0            0.0\n",
              "...                   ...              ...            ...\n",
              "52555 2021-12-31 19:00:00              0.0            0.0\n",
              "52556 2021-12-31 20:00:00              0.0            0.0\n",
              "52557 2021-12-31 21:00:00              0.0            0.0\n",
              "52558 2021-12-31 22:00:00              0.0            0.0\n",
              "52559 2021-12-31 23:00:00              0.0            0.0\n",
              "\n",
              "[52560 rows x 3 columns]"
            ],
            "text/html": [
              "\n",
              "  <div id=\"df-92e5ad02-1010-4934-a6e6-f6a5e0277142\">\n",
              "    <div class=\"colab-df-container\">\n",
              "      <div>\n",
              "<style scoped>\n",
              "    .dataframe tbody tr th:only-of-type {\n",
              "        vertical-align: middle;\n",
              "    }\n",
              "\n",
              "    .dataframe tbody tr th {\n",
              "        vertical-align: top;\n",
              "    }\n",
              "\n",
              "    .dataframe thead th {\n",
              "        text-align: right;\n",
              "    }\n",
              "</style>\n",
              "<table border=\"1\" class=\"dataframe\">\n",
              "  <thead>\n",
              "    <tr style=\"text-align: right;\">\n",
              "      <th></th>\n",
              "      <th>datetime</th>\n",
              "      <th>sunduration_BER</th>\n",
              "      <th>cloudcover_DC</th>\n",
              "    </tr>\n",
              "  </thead>\n",
              "  <tbody>\n",
              "    <tr>\n",
              "      <th>0</th>\n",
              "      <td>2016-01-01 00:00:00</td>\n",
              "      <td>0.0</td>\n",
              "      <td>0.0</td>\n",
              "    </tr>\n",
              "    <tr>\n",
              "      <th>1</th>\n",
              "      <td>2016-01-01 01:00:00</td>\n",
              "      <td>0.0</td>\n",
              "      <td>0.0</td>\n",
              "    </tr>\n",
              "    <tr>\n",
              "      <th>2</th>\n",
              "      <td>2016-01-01 02:00:00</td>\n",
              "      <td>0.0</td>\n",
              "      <td>0.0</td>\n",
              "    </tr>\n",
              "    <tr>\n",
              "      <th>3</th>\n",
              "      <td>2016-01-01 03:00:00</td>\n",
              "      <td>0.0</td>\n",
              "      <td>0.0</td>\n",
              "    </tr>\n",
              "    <tr>\n",
              "      <th>4</th>\n",
              "      <td>2016-01-01 04:00:00</td>\n",
              "      <td>0.0</td>\n",
              "      <td>0.0</td>\n",
              "    </tr>\n",
              "    <tr>\n",
              "      <th>...</th>\n",
              "      <td>...</td>\n",
              "      <td>...</td>\n",
              "      <td>...</td>\n",
              "    </tr>\n",
              "    <tr>\n",
              "      <th>52555</th>\n",
              "      <td>2021-12-31 19:00:00</td>\n",
              "      <td>0.0</td>\n",
              "      <td>0.0</td>\n",
              "    </tr>\n",
              "    <tr>\n",
              "      <th>52556</th>\n",
              "      <td>2021-12-31 20:00:00</td>\n",
              "      <td>0.0</td>\n",
              "      <td>0.0</td>\n",
              "    </tr>\n",
              "    <tr>\n",
              "      <th>52557</th>\n",
              "      <td>2021-12-31 21:00:00</td>\n",
              "      <td>0.0</td>\n",
              "      <td>0.0</td>\n",
              "    </tr>\n",
              "    <tr>\n",
              "      <th>52558</th>\n",
              "      <td>2021-12-31 22:00:00</td>\n",
              "      <td>0.0</td>\n",
              "      <td>0.0</td>\n",
              "    </tr>\n",
              "    <tr>\n",
              "      <th>52559</th>\n",
              "      <td>2021-12-31 23:00:00</td>\n",
              "      <td>0.0</td>\n",
              "      <td>0.0</td>\n",
              "    </tr>\n",
              "  </tbody>\n",
              "</table>\n",
              "<p>52560 rows × 3 columns</p>\n",
              "</div>\n",
              "      <button class=\"colab-df-convert\" onclick=\"convertToInteractive('df-92e5ad02-1010-4934-a6e6-f6a5e0277142')\"\n",
              "              title=\"Convert this dataframe to an interactive table.\"\n",
              "              style=\"display:none;\">\n",
              "        \n",
              "  <svg xmlns=\"http://www.w3.org/2000/svg\" height=\"24px\"viewBox=\"0 0 24 24\"\n",
              "       width=\"24px\">\n",
              "    <path d=\"M0 0h24v24H0V0z\" fill=\"none\"/>\n",
              "    <path d=\"M18.56 5.44l.94 2.06.94-2.06 2.06-.94-2.06-.94-.94-2.06-.94 2.06-2.06.94zm-11 1L8.5 8.5l.94-2.06 2.06-.94-2.06-.94L8.5 2.5l-.94 2.06-2.06.94zm10 10l.94 2.06.94-2.06 2.06-.94-2.06-.94-.94-2.06-.94 2.06-2.06.94z\"/><path d=\"M17.41 7.96l-1.37-1.37c-.4-.4-.92-.59-1.43-.59-.52 0-1.04.2-1.43.59L10.3 9.45l-7.72 7.72c-.78.78-.78 2.05 0 2.83L4 21.41c.39.39.9.59 1.41.59.51 0 1.02-.2 1.41-.59l7.78-7.78 2.81-2.81c.8-.78.8-2.07 0-2.86zM5.41 20L4 18.59l7.72-7.72 1.47 1.35L5.41 20z\"/>\n",
              "  </svg>\n",
              "      </button>\n",
              "      \n",
              "  <style>\n",
              "    .colab-df-container {\n",
              "      display:flex;\n",
              "      flex-wrap:wrap;\n",
              "      gap: 12px;\n",
              "    }\n",
              "\n",
              "    .colab-df-convert {\n",
              "      background-color: #E8F0FE;\n",
              "      border: none;\n",
              "      border-radius: 50%;\n",
              "      cursor: pointer;\n",
              "      display: none;\n",
              "      fill: #1967D2;\n",
              "      height: 32px;\n",
              "      padding: 0 0 0 0;\n",
              "      width: 32px;\n",
              "    }\n",
              "\n",
              "    .colab-df-convert:hover {\n",
              "      background-color: #E2EBFA;\n",
              "      box-shadow: 0px 1px 2px rgba(60, 64, 67, 0.3), 0px 1px 3px 1px rgba(60, 64, 67, 0.15);\n",
              "      fill: #174EA6;\n",
              "    }\n",
              "\n",
              "    [theme=dark] .colab-df-convert {\n",
              "      background-color: #3B4455;\n",
              "      fill: #D2E3FC;\n",
              "    }\n",
              "\n",
              "    [theme=dark] .colab-df-convert:hover {\n",
              "      background-color: #434B5C;\n",
              "      box-shadow: 0px 1px 3px 1px rgba(0, 0, 0, 0.15);\n",
              "      filter: drop-shadow(0px 1px 2px rgba(0, 0, 0, 0.3));\n",
              "      fill: #FFFFFF;\n",
              "    }\n",
              "  </style>\n",
              "\n",
              "      <script>\n",
              "        const buttonEl =\n",
              "          document.querySelector('#df-92e5ad02-1010-4934-a6e6-f6a5e0277142 button.colab-df-convert');\n",
              "        buttonEl.style.display =\n",
              "          google.colab.kernel.accessAllowed ? 'block' : 'none';\n",
              "\n",
              "        async function convertToInteractive(key) {\n",
              "          const element = document.querySelector('#df-92e5ad02-1010-4934-a6e6-f6a5e0277142');\n",
              "          const dataTable =\n",
              "            await google.colab.kernel.invokeFunction('convertToInteractive',\n",
              "                                                     [key], {});\n",
              "          if (!dataTable) return;\n",
              "\n",
              "          const docLinkHtml = 'Like what you see? Visit the ' +\n",
              "            '<a target=\"_blank\" href=https://colab.research.google.com/notebooks/data_table.ipynb>data table notebook</a>'\n",
              "            + ' to learn more about interactive tables.';\n",
              "          element.innerHTML = '';\n",
              "          dataTable['output_type'] = 'display_data';\n",
              "          await google.colab.output.renderOutput(dataTable, element);\n",
              "          const docLink = document.createElement('div');\n",
              "          docLink.innerHTML = docLinkHtml;\n",
              "          element.appendChild(docLink);\n",
              "        }\n",
              "      </script>\n",
              "    </div>\n",
              "  </div>\n",
              "  "
            ]
          },
          "metadata": {},
          "execution_count": 278
        },
        {
          "output_type": "stream",
          "name": "stdout",
          "text": [
            "Warning: total number of rows (52560) exceeds max_rows (20000). Limiting to first (20000) rows.\n",
            "Warning: total number of rows (52560) exceeds max_rows (20000). Limiting to first (20000) rows.\n"
          ]
        }
      ]
    },
    {
      "cell_type": "code",
      "source": [
        "df"
      ],
      "metadata": {
        "colab": {
          "base_uri": "https://localhost:8080/",
          "height": 424
        },
        "id": "F45-D_B5PAdb",
        "outputId": "42b08240-27f0-4212-a8f3-3f1eb07c1dd2"
      },
      "execution_count": 271,
      "outputs": [
        {
          "output_type": "execute_result",
          "data": {
            "text/plain": [
              "                 datetime  sunduration_BER  cloudcover_DC\n",
              "0     2016-01-01 00:00:00              0.0           99.8\n",
              "1     2016-01-01 01:00:00              0.0          100.0\n",
              "2     2016-01-01 02:00:00              0.0           88.9\n",
              "3     2016-01-01 03:00:00              0.0           79.3\n",
              "4     2016-01-01 04:00:00              0.0           79.3\n",
              "...                   ...              ...            ...\n",
              "52555 2021-12-31 19:00:00              0.0           81.7\n",
              "52556 2021-12-31 20:00:00              0.0           98.3\n",
              "52557 2021-12-31 21:00:00              0.0           99.6\n",
              "52558 2021-12-31 22:00:00              0.0           99.6\n",
              "52559 2021-12-31 23:00:00              0.0           99.6\n",
              "\n",
              "[52560 rows x 3 columns]"
            ],
            "text/html": [
              "\n",
              "  <div id=\"df-1218a11d-faed-4a4c-83de-9b930956f2e5\">\n",
              "    <div class=\"colab-df-container\">\n",
              "      <div>\n",
              "<style scoped>\n",
              "    .dataframe tbody tr th:only-of-type {\n",
              "        vertical-align: middle;\n",
              "    }\n",
              "\n",
              "    .dataframe tbody tr th {\n",
              "        vertical-align: top;\n",
              "    }\n",
              "\n",
              "    .dataframe thead th {\n",
              "        text-align: right;\n",
              "    }\n",
              "</style>\n",
              "<table border=\"1\" class=\"dataframe\">\n",
              "  <thead>\n",
              "    <tr style=\"text-align: right;\">\n",
              "      <th></th>\n",
              "      <th>datetime</th>\n",
              "      <th>sunduration_BER</th>\n",
              "      <th>cloudcover_DC</th>\n",
              "    </tr>\n",
              "  </thead>\n",
              "  <tbody>\n",
              "    <tr>\n",
              "      <th>0</th>\n",
              "      <td>2016-01-01 00:00:00</td>\n",
              "      <td>0.0</td>\n",
              "      <td>99.8</td>\n",
              "    </tr>\n",
              "    <tr>\n",
              "      <th>1</th>\n",
              "      <td>2016-01-01 01:00:00</td>\n",
              "      <td>0.0</td>\n",
              "      <td>100.0</td>\n",
              "    </tr>\n",
              "    <tr>\n",
              "      <th>2</th>\n",
              "      <td>2016-01-01 02:00:00</td>\n",
              "      <td>0.0</td>\n",
              "      <td>88.9</td>\n",
              "    </tr>\n",
              "    <tr>\n",
              "      <th>3</th>\n",
              "      <td>2016-01-01 03:00:00</td>\n",
              "      <td>0.0</td>\n",
              "      <td>79.3</td>\n",
              "    </tr>\n",
              "    <tr>\n",
              "      <th>4</th>\n",
              "      <td>2016-01-01 04:00:00</td>\n",
              "      <td>0.0</td>\n",
              "      <td>79.3</td>\n",
              "    </tr>\n",
              "    <tr>\n",
              "      <th>...</th>\n",
              "      <td>...</td>\n",
              "      <td>...</td>\n",
              "      <td>...</td>\n",
              "    </tr>\n",
              "    <tr>\n",
              "      <th>52555</th>\n",
              "      <td>2021-12-31 19:00:00</td>\n",
              "      <td>0.0</td>\n",
              "      <td>81.7</td>\n",
              "    </tr>\n",
              "    <tr>\n",
              "      <th>52556</th>\n",
              "      <td>2021-12-31 20:00:00</td>\n",
              "      <td>0.0</td>\n",
              "      <td>98.3</td>\n",
              "    </tr>\n",
              "    <tr>\n",
              "      <th>52557</th>\n",
              "      <td>2021-12-31 21:00:00</td>\n",
              "      <td>0.0</td>\n",
              "      <td>99.6</td>\n",
              "    </tr>\n",
              "    <tr>\n",
              "      <th>52558</th>\n",
              "      <td>2021-12-31 22:00:00</td>\n",
              "      <td>0.0</td>\n",
              "      <td>99.6</td>\n",
              "    </tr>\n",
              "    <tr>\n",
              "      <th>52559</th>\n",
              "      <td>2021-12-31 23:00:00</td>\n",
              "      <td>0.0</td>\n",
              "      <td>99.6</td>\n",
              "    </tr>\n",
              "  </tbody>\n",
              "</table>\n",
              "<p>52560 rows × 3 columns</p>\n",
              "</div>\n",
              "      <button class=\"colab-df-convert\" onclick=\"convertToInteractive('df-1218a11d-faed-4a4c-83de-9b930956f2e5')\"\n",
              "              title=\"Convert this dataframe to an interactive table.\"\n",
              "              style=\"display:none;\">\n",
              "        \n",
              "  <svg xmlns=\"http://www.w3.org/2000/svg\" height=\"24px\"viewBox=\"0 0 24 24\"\n",
              "       width=\"24px\">\n",
              "    <path d=\"M0 0h24v24H0V0z\" fill=\"none\"/>\n",
              "    <path d=\"M18.56 5.44l.94 2.06.94-2.06 2.06-.94-2.06-.94-.94-2.06-.94 2.06-2.06.94zm-11 1L8.5 8.5l.94-2.06 2.06-.94-2.06-.94L8.5 2.5l-.94 2.06-2.06.94zm10 10l.94 2.06.94-2.06 2.06-.94-2.06-.94-.94-2.06-.94 2.06-2.06.94z\"/><path d=\"M17.41 7.96l-1.37-1.37c-.4-.4-.92-.59-1.43-.59-.52 0-1.04.2-1.43.59L10.3 9.45l-7.72 7.72c-.78.78-.78 2.05 0 2.83L4 21.41c.39.39.9.59 1.41.59.51 0 1.02-.2 1.41-.59l7.78-7.78 2.81-2.81c.8-.78.8-2.07 0-2.86zM5.41 20L4 18.59l7.72-7.72 1.47 1.35L5.41 20z\"/>\n",
              "  </svg>\n",
              "      </button>\n",
              "      \n",
              "  <style>\n",
              "    .colab-df-container {\n",
              "      display:flex;\n",
              "      flex-wrap:wrap;\n",
              "      gap: 12px;\n",
              "    }\n",
              "\n",
              "    .colab-df-convert {\n",
              "      background-color: #E8F0FE;\n",
              "      border: none;\n",
              "      border-radius: 50%;\n",
              "      cursor: pointer;\n",
              "      display: none;\n",
              "      fill: #1967D2;\n",
              "      height: 32px;\n",
              "      padding: 0 0 0 0;\n",
              "      width: 32px;\n",
              "    }\n",
              "\n",
              "    .colab-df-convert:hover {\n",
              "      background-color: #E2EBFA;\n",
              "      box-shadow: 0px 1px 2px rgba(60, 64, 67, 0.3), 0px 1px 3px 1px rgba(60, 64, 67, 0.15);\n",
              "      fill: #174EA6;\n",
              "    }\n",
              "\n",
              "    [theme=dark] .colab-df-convert {\n",
              "      background-color: #3B4455;\n",
              "      fill: #D2E3FC;\n",
              "    }\n",
              "\n",
              "    [theme=dark] .colab-df-convert:hover {\n",
              "      background-color: #434B5C;\n",
              "      box-shadow: 0px 1px 3px 1px rgba(0, 0, 0, 0.15);\n",
              "      filter: drop-shadow(0px 1px 2px rgba(0, 0, 0, 0.3));\n",
              "      fill: #FFFFFF;\n",
              "    }\n",
              "  </style>\n",
              "\n",
              "      <script>\n",
              "        const buttonEl =\n",
              "          document.querySelector('#df-1218a11d-faed-4a4c-83de-9b930956f2e5 button.colab-df-convert');\n",
              "        buttonEl.style.display =\n",
              "          google.colab.kernel.accessAllowed ? 'block' : 'none';\n",
              "\n",
              "        async function convertToInteractive(key) {\n",
              "          const element = document.querySelector('#df-1218a11d-faed-4a4c-83de-9b930956f2e5');\n",
              "          const dataTable =\n",
              "            await google.colab.kernel.invokeFunction('convertToInteractive',\n",
              "                                                     [key], {});\n",
              "          if (!dataTable) return;\n",
              "\n",
              "          const docLinkHtml = 'Like what you see? Visit the ' +\n",
              "            '<a target=\"_blank\" href=https://colab.research.google.com/notebooks/data_table.ipynb>data table notebook</a>'\n",
              "            + ' to learn more about interactive tables.';\n",
              "          element.innerHTML = '';\n",
              "          dataTable['output_type'] = 'display_data';\n",
              "          await google.colab.output.renderOutput(dataTable, element);\n",
              "          const docLink = document.createElement('div');\n",
              "          docLink.innerHTML = docLinkHtml;\n",
              "          element.appendChild(docLink);\n",
              "        }\n",
              "      </script>\n",
              "    </div>\n",
              "  </div>\n",
              "  "
            ]
          },
          "metadata": {},
          "execution_count": 271
        }
      ]
    },
    {
      "cell_type": "code",
      "source": [
        " date = df.loc[0, 'datetime'].date()\n",
        " print(date)\n",
        "\n",
        "#  print(df.loc[1, 'datetime'].hour)"
      ],
      "metadata": {
        "colab": {
          "base_uri": "https://localhost:8080/"
        },
        "id": "utQ-Ub22LyJV",
        "outputId": "3101a570-663d-4500-f0a1-fea4378abeb3"
      },
      "execution_count": 243,
      "outputs": [
        {
          "output_type": "stream",
          "name": "stdout",
          "text": [
            "2016-01-01\n",
            "1\n"
          ]
        }
      ]
    },
    {
      "cell_type": "code",
      "source": [
        "df_dcsun.loc[0, 'sunrise_DC']"
      ],
      "metadata": {
        "colab": {
          "base_uri": "https://localhost:8080/"
        },
        "id": "ph7Enmx5ALxk",
        "outputId": "45486d40-e060-44ab-aeb7-1be10ac104d1"
      },
      "execution_count": 248,
      "outputs": [
        {
          "output_type": "execute_result",
          "data": {
            "text/plain": [
              "datetime.time(7, 27)"
            ]
          },
          "metadata": {},
          "execution_count": 248
        }
      ]
    },
    {
      "cell_type": "code",
      "source": [
        "df_bersun.loc[df_bersun['datetime'] == '2016-01-01', 'sunrise_BER'].values[0].hour"
      ],
      "metadata": {
        "colab": {
          "base_uri": "https://localhost:8080/"
        },
        "id": "Rys0QPgoRImO",
        "outputId": "6898f22d-961c-47a2-89ec-cf4f3ee4a1f5"
      },
      "execution_count": 221,
      "outputs": [
        {
          "output_type": "execute_result",
          "data": {
            "text/plain": [
              "8"
            ]
          },
          "metadata": {},
          "execution_count": 221
        }
      ]
    },
    {
      "cell_type": "code",
      "source": [
        "df.loc[8, 'datetime'].hour"
      ],
      "metadata": {
        "colab": {
          "base_uri": "https://localhost:8080/"
        },
        "id": "DhcmPgn1uaSC",
        "outputId": "d93a20fc-b48a-4b03-8892-64d19f779051"
      },
      "execution_count": 222,
      "outputs": [
        {
          "output_type": "execute_result",
          "data": {
            "text/plain": [
              "8"
            ]
          },
          "metadata": {},
          "execution_count": 222
        }
      ]
    },
    {
      "cell_type": "code",
      "source": [
        "df_bersun"
      ],
      "metadata": {
        "colab": {
          "base_uri": "https://localhost:8080/",
          "height": 424
        },
        "id": "-S4-U3SXMMu5",
        "outputId": "6a962b49-d915-4337-941a-4f0b9859f7d0"
      },
      "execution_count": 223,
      "outputs": [
        {
          "output_type": "execute_result",
          "data": {
            "text/plain": [
              "       datetime sunrise_BER sunset_BER daylength_BER\n",
              "0    2016-01-01    08:16:40   16:02:43     7h 46m 3s\n",
              "1    2016-01-02    08:16:31   16:03:49    7h 47m 18s\n",
              "2    2016-01-03    08:16:18   16:04:57    7h 48m 39s\n",
              "3    2016-01-04    08:16:01   16:06:08     7h 50m 7s\n",
              "4    2016-01-05    08:15:41   16:07:22    7h 51m 41s\n",
              "...         ...         ...        ...           ...\n",
              "2185 2021-12-27    08:16:59   15:58:30    7h 41m 31s\n",
              "2186 2021-12-28    08:17:05   15:59:22    7h 42m 17s\n",
              "2187 2021-12-29    08:17:08   16:00:17     7h 43m 9s\n",
              "2188 2021-12-30    08:17:07   16:01:16     7h 44m 9s\n",
              "2189 2021-12-31    08:17:02   16:02:17    7h 45m 15s\n",
              "\n",
              "[2190 rows x 4 columns]"
            ],
            "text/html": [
              "\n",
              "  <div id=\"df-23e67283-8ae3-4100-b142-257ce5914700\">\n",
              "    <div class=\"colab-df-container\">\n",
              "      <div>\n",
              "<style scoped>\n",
              "    .dataframe tbody tr th:only-of-type {\n",
              "        vertical-align: middle;\n",
              "    }\n",
              "\n",
              "    .dataframe tbody tr th {\n",
              "        vertical-align: top;\n",
              "    }\n",
              "\n",
              "    .dataframe thead th {\n",
              "        text-align: right;\n",
              "    }\n",
              "</style>\n",
              "<table border=\"1\" class=\"dataframe\">\n",
              "  <thead>\n",
              "    <tr style=\"text-align: right;\">\n",
              "      <th></th>\n",
              "      <th>datetime</th>\n",
              "      <th>sunrise_BER</th>\n",
              "      <th>sunset_BER</th>\n",
              "      <th>daylength_BER</th>\n",
              "    </tr>\n",
              "  </thead>\n",
              "  <tbody>\n",
              "    <tr>\n",
              "      <th>0</th>\n",
              "      <td>2016-01-01</td>\n",
              "      <td>08:16:40</td>\n",
              "      <td>16:02:43</td>\n",
              "      <td>7h 46m 3s</td>\n",
              "    </tr>\n",
              "    <tr>\n",
              "      <th>1</th>\n",
              "      <td>2016-01-02</td>\n",
              "      <td>08:16:31</td>\n",
              "      <td>16:03:49</td>\n",
              "      <td>7h 47m 18s</td>\n",
              "    </tr>\n",
              "    <tr>\n",
              "      <th>2</th>\n",
              "      <td>2016-01-03</td>\n",
              "      <td>08:16:18</td>\n",
              "      <td>16:04:57</td>\n",
              "      <td>7h 48m 39s</td>\n",
              "    </tr>\n",
              "    <tr>\n",
              "      <th>3</th>\n",
              "      <td>2016-01-04</td>\n",
              "      <td>08:16:01</td>\n",
              "      <td>16:06:08</td>\n",
              "      <td>7h 50m 7s</td>\n",
              "    </tr>\n",
              "    <tr>\n",
              "      <th>4</th>\n",
              "      <td>2016-01-05</td>\n",
              "      <td>08:15:41</td>\n",
              "      <td>16:07:22</td>\n",
              "      <td>7h 51m 41s</td>\n",
              "    </tr>\n",
              "    <tr>\n",
              "      <th>...</th>\n",
              "      <td>...</td>\n",
              "      <td>...</td>\n",
              "      <td>...</td>\n",
              "      <td>...</td>\n",
              "    </tr>\n",
              "    <tr>\n",
              "      <th>2185</th>\n",
              "      <td>2021-12-27</td>\n",
              "      <td>08:16:59</td>\n",
              "      <td>15:58:30</td>\n",
              "      <td>7h 41m 31s</td>\n",
              "    </tr>\n",
              "    <tr>\n",
              "      <th>2186</th>\n",
              "      <td>2021-12-28</td>\n",
              "      <td>08:17:05</td>\n",
              "      <td>15:59:22</td>\n",
              "      <td>7h 42m 17s</td>\n",
              "    </tr>\n",
              "    <tr>\n",
              "      <th>2187</th>\n",
              "      <td>2021-12-29</td>\n",
              "      <td>08:17:08</td>\n",
              "      <td>16:00:17</td>\n",
              "      <td>7h 43m 9s</td>\n",
              "    </tr>\n",
              "    <tr>\n",
              "      <th>2188</th>\n",
              "      <td>2021-12-30</td>\n",
              "      <td>08:17:07</td>\n",
              "      <td>16:01:16</td>\n",
              "      <td>7h 44m 9s</td>\n",
              "    </tr>\n",
              "    <tr>\n",
              "      <th>2189</th>\n",
              "      <td>2021-12-31</td>\n",
              "      <td>08:17:02</td>\n",
              "      <td>16:02:17</td>\n",
              "      <td>7h 45m 15s</td>\n",
              "    </tr>\n",
              "  </tbody>\n",
              "</table>\n",
              "<p>2190 rows × 4 columns</p>\n",
              "</div>\n",
              "      <button class=\"colab-df-convert\" onclick=\"convertToInteractive('df-23e67283-8ae3-4100-b142-257ce5914700')\"\n",
              "              title=\"Convert this dataframe to an interactive table.\"\n",
              "              style=\"display:none;\">\n",
              "        \n",
              "  <svg xmlns=\"http://www.w3.org/2000/svg\" height=\"24px\"viewBox=\"0 0 24 24\"\n",
              "       width=\"24px\">\n",
              "    <path d=\"M0 0h24v24H0V0z\" fill=\"none\"/>\n",
              "    <path d=\"M18.56 5.44l.94 2.06.94-2.06 2.06-.94-2.06-.94-.94-2.06-.94 2.06-2.06.94zm-11 1L8.5 8.5l.94-2.06 2.06-.94-2.06-.94L8.5 2.5l-.94 2.06-2.06.94zm10 10l.94 2.06.94-2.06 2.06-.94-2.06-.94-.94-2.06-.94 2.06-2.06.94z\"/><path d=\"M17.41 7.96l-1.37-1.37c-.4-.4-.92-.59-1.43-.59-.52 0-1.04.2-1.43.59L10.3 9.45l-7.72 7.72c-.78.78-.78 2.05 0 2.83L4 21.41c.39.39.9.59 1.41.59.51 0 1.02-.2 1.41-.59l7.78-7.78 2.81-2.81c.8-.78.8-2.07 0-2.86zM5.41 20L4 18.59l7.72-7.72 1.47 1.35L5.41 20z\"/>\n",
              "  </svg>\n",
              "      </button>\n",
              "      \n",
              "  <style>\n",
              "    .colab-df-container {\n",
              "      display:flex;\n",
              "      flex-wrap:wrap;\n",
              "      gap: 12px;\n",
              "    }\n",
              "\n",
              "    .colab-df-convert {\n",
              "      background-color: #E8F0FE;\n",
              "      border: none;\n",
              "      border-radius: 50%;\n",
              "      cursor: pointer;\n",
              "      display: none;\n",
              "      fill: #1967D2;\n",
              "      height: 32px;\n",
              "      padding: 0 0 0 0;\n",
              "      width: 32px;\n",
              "    }\n",
              "\n",
              "    .colab-df-convert:hover {\n",
              "      background-color: #E2EBFA;\n",
              "      box-shadow: 0px 1px 2px rgba(60, 64, 67, 0.3), 0px 1px 3px 1px rgba(60, 64, 67, 0.15);\n",
              "      fill: #174EA6;\n",
              "    }\n",
              "\n",
              "    [theme=dark] .colab-df-convert {\n",
              "      background-color: #3B4455;\n",
              "      fill: #D2E3FC;\n",
              "    }\n",
              "\n",
              "    [theme=dark] .colab-df-convert:hover {\n",
              "      background-color: #434B5C;\n",
              "      box-shadow: 0px 1px 3px 1px rgba(0, 0, 0, 0.15);\n",
              "      filter: drop-shadow(0px 1px 2px rgba(0, 0, 0, 0.3));\n",
              "      fill: #FFFFFF;\n",
              "    }\n",
              "  </style>\n",
              "\n",
              "      <script>\n",
              "        const buttonEl =\n",
              "          document.querySelector('#df-23e67283-8ae3-4100-b142-257ce5914700 button.colab-df-convert');\n",
              "        buttonEl.style.display =\n",
              "          google.colab.kernel.accessAllowed ? 'block' : 'none';\n",
              "\n",
              "        async function convertToInteractive(key) {\n",
              "          const element = document.querySelector('#df-23e67283-8ae3-4100-b142-257ce5914700');\n",
              "          const dataTable =\n",
              "            await google.colab.kernel.invokeFunction('convertToInteractive',\n",
              "                                                     [key], {});\n",
              "          if (!dataTable) return;\n",
              "\n",
              "          const docLinkHtml = 'Like what you see? Visit the ' +\n",
              "            '<a target=\"_blank\" href=https://colab.research.google.com/notebooks/data_table.ipynb>data table notebook</a>'\n",
              "            + ' to learn more about interactive tables.';\n",
              "          element.innerHTML = '';\n",
              "          dataTable['output_type'] = 'display_data';\n",
              "          await google.colab.output.renderOutput(dataTable, element);\n",
              "          const docLink = document.createElement('div');\n",
              "          docLink.innerHTML = docLinkHtml;\n",
              "          element.appendChild(docLink);\n",
              "        }\n",
              "      </script>\n",
              "    </div>\n",
              "  </div>\n",
              "  "
            ]
          },
          "metadata": {},
          "execution_count": 223
        }
      ]
    },
    {
      "cell_type": "markdown",
      "source": [
        "## Data Analysis\n",
        "\n",
        "The data in `df` isn't ready to be compared yet, as `sunduration` (Berlin) represents minutes of sunshine during each hour and `cloudcover` (DC) represents a percentage of overcast for each hour. To prepare the data for visual comparison, a `sunduration` and `cloudcover` column will be created for both cities. \n",
        "\n",
        "To do this, Berlin's `sunduration` will be converted to percentages by dividing all values by the minutes in an hour. This will be an approximation of the percentage of sunshine in an hour. The opposite transformation will be performed on DC's `cloudcover`, multiplying the percentages by 60. This will be an approximation of the minutes during each hour that the sun was shining. Values will not be rounded."
      ],
      "metadata": {
        "id": "YbSz7-MBsedF"
      }
    },
    {
      "cell_type": "code",
      "source": [
        "# df = df.rename(columns={'sunduration': 'BER_sunduration', 'cloudcover': 'DC_cloudcover'})\n",
        "\n",
        "# df['cloudcover_BER'] = df['sunduration_BER'] / 60 * 100\n",
        "# df['sunduration_DC'] = df['cloudcover_DC'] / 100 * 60\n",
        "# df"
      ],
      "metadata": {
        "id": "ZOqGZeZUt8jB"
      },
      "execution_count": 224,
      "outputs": []
    }
  ],
  "metadata": {
    "colab": {
      "provenance": [],
      "include_colab_link": true
    },
    "kernelspec": {
      "display_name": "Python 3",
      "language": "python",
      "name": "python3"
    },
    "language_info": {
      "codemirror_mode": {
        "name": "ipython",
        "version": 3
      },
      "file_extension": ".py",
      "mimetype": "text/x-python",
      "name": "python",
      "nbconvert_exporter": "python",
      "pygments_lexer": "ipython3",
      "version": "3.5.2"
    }
  },
  "nbformat": 4,
  "nbformat_minor": 0
}